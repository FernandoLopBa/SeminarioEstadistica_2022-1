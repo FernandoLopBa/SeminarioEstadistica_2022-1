{
  "cells": [
    {
      "cell_type": "code",
      "execution_count": 8,
      "metadata": {
        "id": "jeHnHW9jzSs8",
        "colab": {
          "base_uri": "https://localhost:8080/"
        },
        "outputId": "b828967f-d4e9-42f0-a2f5-86ba8728e9e4"
      },
      "outputs": [
        {
          "output_type": "stream",
          "name": "stdout",
          "text": [
            "Requirement already satisfied: pydotplus in /usr/local/lib/python3.7/dist-packages (2.0.2)\n",
            "Requirement already satisfied: pyparsing>=2.0.1 in /usr/local/lib/python3.7/dist-packages (from pydotplus) (3.0.6)\n"
          ]
        }
      ],
      "source": [
        "pip install pydotplus"
      ]
    },
    {
      "cell_type": "markdown",
      "source": [
        "**2.- Hacer un árbol de clasificación con la misma tabla que el problema 1. No olviden que tienen que hacer el ajuste de hiperparámetros.**"
      ],
      "metadata": {
        "id": "R61ayzQA2K99"
      }
    },
    {
      "cell_type": "code",
      "execution_count": 9,
      "metadata": {
        "id": "UrbyGvXuzSs-"
      },
      "outputs": [],
      "source": [
        "import pandas as pd\n",
        "from sklearn.model_selection import train_test_split\n",
        "from sklearn.impute import SimpleImputer\n",
        "from sklearn.preprocessing import OneHotEncoder\n",
        "from sklearn.compose import ColumnTransformer\n",
        "from sklearn.pipeline import Pipeline\n",
        "from sklearn.tree import DecisionTreeClassifier, export_graphviz\n",
        "from sklearn import metrics\n",
        "from pylab import*\n",
        "import seaborn as sns\n",
        "import numpy as np"
      ]
    },
    {
      "cell_type": "code",
      "execution_count": 10,
      "metadata": {
        "id": "4hAsXvlDzSs_"
      },
      "outputs": [],
      "source": [
        "from sklearn.model_selection import (GridSearchCV, cross_val_score,\n",
        "                                                 RandomizedSearchCV,\n",
        "                                                 cross_validate,\n",
        "                                                 StratifiedKFold)"
      ]
    },
    {
      "cell_type": "code",
      "execution_count": 11,
      "metadata": {
        "id": "xi4gMM1nzStA"
      },
      "outputs": [],
      "source": [
        "#from chapter_8_utils import performance_evaluation_report"
      ]
    },
    {
      "cell_type": "code",
      "execution_count": 12,
      "metadata": {
        "id": "ecDu_wwnzStA"
      },
      "outputs": [],
      "source": [
        "def performance_evaluation_report(model, X_test, y_test, show_plot=False, labels=None, show_pr_curve=False):\n",
        "    '''\n",
        "    Function for creating a performance report of a classification model.\n",
        "    \n",
        "    Parameters\n",
        "    ----------\n",
        "    model : scikit-learn estimator\n",
        "        A fitted estimator for classification problems.\n",
        "    X_test : pd.DataFrame\n",
        "        DataFrame with features matching y_test\n",
        "    y_test : array/pd.Series\n",
        "        Target of a classification problem.\n",
        "    show_plot : bool\n",
        "        Flag whether to show the plot\n",
        "    labels : list\n",
        "        List with the class names.\n",
        "    show_pr_curve : bool\n",
        "        Flag whether to also show the PR-curve. For this to take effect, \n",
        "        show_plot must be True.\n",
        "        \n",
        "    Return\n",
        "    ------\n",
        "    stats : pd.Series\n",
        "        A series with the most important evaluation metrics\n",
        "    '''\n",
        "\n",
        "    y_pred = model.predict(X_test)\n",
        "    y_pred_prob = model.predict_proba(X_test)[:, 1]\n",
        "\n",
        "    cm = metrics.confusion_matrix(y_test, y_pred)\n",
        "    tn, fp, fn, tp = cm.ravel()\n",
        "\n",
        "    fpr, tpr, threshold = metrics.roc_curve(y_test, y_pred_prob)\n",
        "    roc_auc = metrics.auc(fpr, tpr)\n",
        "\n",
        "    precision, recall, thresholds = metrics.precision_recall_curve(\n",
        "        y_test, y_pred_prob)\n",
        "    pr_auc = metrics.auc(recall, precision)\n",
        "\n",
        "    if show_plot:\n",
        "\n",
        "        if labels is None:\n",
        "            labels = ['Negative', 'Positive']\n",
        "\n",
        "        N_SUBPLOTS = 3 if show_pr_curve else 2\n",
        "        PLOT_WIDTH = 15 if show_pr_curve else 12\n",
        "        PLOT_HEIGHT = 5 if show_pr_curve else 6\n",
        "\n",
        "        fig, ax = plt.subplots(\n",
        "            1, N_SUBPLOTS, figsize=(PLOT_WIDTH, PLOT_HEIGHT))\n",
        "        fig.suptitle('Performance Evaluation', fontsize=16)\n",
        "\n",
        "        sns.heatmap(cm, annot=True, fmt=\"d\", linewidths=.5, cmap='BuGn_r', square=True, cbar=False, ax=ax[0],\n",
        "                    annot_kws={\"ha\": 'center', \"va\": 'center'})\n",
        "        ax[0].set(xlabel='Predicted label',\n",
        "                  ylabel='Actual label', title='Confusion Matrix')\n",
        "        ax[0].xaxis.set_ticklabels(labels)\n",
        "        ax[0].yaxis.set_ticklabels(labels)\n",
        "\n",
        "        ax[1].plot(fpr, tpr, 'b-', label=f'ROC-AUC = {roc_auc:.2f}')\n",
        "        ax[1].set(xlabel='False Positive Rate',\n",
        "                  ylabel='True Positive Rate', title='ROC Curve')\n",
        "        ax[1].plot(fp/(fp+tn), tp/(tp+fn), 'ro',\n",
        "                   markersize=8, label='Decision Point')\n",
        "        ax[1].plot([0, 1], [0, 1], 'r--')\n",
        "        ax[1].legend(loc='lower right')\n",
        "\n",
        "        if show_pr_curve:\n",
        "\n",
        "            ax[2].plot(recall, precision, label=f'PR-AUC = {pr_auc:.2f}')\n",
        "            ax[2].set(xlabel='Recall', ylabel='Precision',\n",
        "                      title='Precision-Recall Curve')\n",
        "            ax[2].legend()\n",
        "\n",
        "#         print('#######################')\n",
        "#         print('Evaluation metrics ####')\n",
        "#         print('#######################')\n",
        "#         print(f'Accuracy: {metrics.accuracy_score(y_test, y_pred):.4f}')\n",
        "#         print(f'Precision: {metrics.precision_score(y_test, y_pred):.4f}')\n",
        "#         print(f'Recall (Sensitivity): {metrics.recall_score(y_test, y_pred):.4f}')\n",
        "#         print(f'Specificity: {(tn / (tn + fp)):.4f}')\n",
        "#         print(f'F1-Score: {metrics.f1_score(y_test, y_pred):.4f}')\n",
        "#         print(f\"Cohen's Kappa: {metrics.cohen_kappa_score(y_test, y_pred):.4f}\")\n",
        "\n",
        "    stats = {'accuracy': metrics.accuracy_score(y_test, y_pred),\n",
        "             'precision': metrics.precision_score(y_test, y_pred),\n",
        "             'recall': metrics.recall_score(y_test, y_pred),\n",
        "             'specificity': (tn / (tn + fp)),\n",
        "             'f1_score': metrics.f1_score(y_test, y_pred),\n",
        "             'cohens_kappa': metrics.cohen_kappa_score(y_test, y_pred),\n",
        "             'roc_auc': roc_auc,\n",
        "             'pr_auc': pr_auc}\n",
        "\n",
        "    return stats"
      ]
    },
    {
      "cell_type": "markdown",
      "metadata": {
        "id": "RbQcGKK8zStB"
      },
      "source": [
        "Tomaremos como base, la base final del ejercicio 1"
      ]
    },
    {
      "cell_type": "code",
      "execution_count": 13,
      "metadata": {
        "id": "UN5Pt_kIzStC",
        "outputId": "35691763-6b32-4d82-8c5e-6c48f827b89d",
        "colab": {
          "base_uri": "https://localhost:8080/"
        }
      },
      "outputs": [
        {
          "output_type": "stream",
          "name": "stdout",
          "text": [
            "<class 'pandas.core.frame.DataFrame'>\n",
            "Float64Index: 35131 entries, 0.0 to 1013.1712259999999\n",
            "Data columns (total 9 columns):\n",
            " #   Column         Non-Null Count  Dtype  \n",
            "---  ------         --------------  -----  \n",
            " 0   comp_interno2  35131 non-null  object \n",
            " 1   comp_interno4  35131 non-null  int64  \n",
            " 2   categoria1     35131 non-null  int64  \n",
            " 3   categoria3     35131 non-null  int64  \n",
            " 4   comp_mixto1    35131 non-null  float64\n",
            " 5   comp_externo1  35131 non-null  float64\n",
            " 6   comp_externo2  35131 non-null  float64\n",
            " 7   comp_externo3  35131 non-null  int64  \n",
            " 8   Comp_final     35131 non-null  int64  \n",
            "dtypes: float64(3), int64(5), object(1)\n",
            "memory usage: 2.7+ MB\n"
          ]
        }
      ],
      "source": [
        "df = pd.read_csv('/content/ini_final2 (3) (1).csv', index_col=0,na_values='')\n",
        "df.info()"
      ]
    },
    {
      "cell_type": "code",
      "execution_count": 14,
      "metadata": {
        "id": "HqmHF09AzStD",
        "colab": {
          "base_uri": "https://localhost:8080/",
          "height": 302
        },
        "outputId": "89dab78e-efb0-48bb-ef67-252fd97201a2"
      },
      "outputs": [
        {
          "output_type": "execute_result",
          "data": {
            "text/html": [
              "\n",
              "  <div id=\"df-5070d635-7f06-48db-bd46-6eb4b76be6bf\">\n",
              "    <div class=\"colab-df-container\">\n",
              "      <div>\n",
              "<style scoped>\n",
              "    .dataframe tbody tr th:only-of-type {\n",
              "        vertical-align: middle;\n",
              "    }\n",
              "\n",
              "    .dataframe tbody tr th {\n",
              "        vertical-align: top;\n",
              "    }\n",
              "\n",
              "    .dataframe thead th {\n",
              "        text-align: right;\n",
              "    }\n",
              "</style>\n",
              "<table border=\"1\" class=\"dataframe\">\n",
              "  <thead>\n",
              "    <tr style=\"text-align: right;\">\n",
              "      <th></th>\n",
              "      <th>comp_interno2</th>\n",
              "      <th>comp_interno4</th>\n",
              "      <th>categoria1</th>\n",
              "      <th>categoria3</th>\n",
              "      <th>comp_mixto1</th>\n",
              "      <th>comp_externo1</th>\n",
              "      <th>comp_externo2</th>\n",
              "      <th>comp_externo3</th>\n",
              "      <th>Comp_final</th>\n",
              "    </tr>\n",
              "    <tr>\n",
              "      <th>comp_interno1</th>\n",
              "      <th></th>\n",
              "      <th></th>\n",
              "      <th></th>\n",
              "      <th></th>\n",
              "      <th></th>\n",
              "      <th></th>\n",
              "      <th></th>\n",
              "      <th></th>\n",
              "      <th></th>\n",
              "    </tr>\n",
              "  </thead>\n",
              "  <tbody>\n",
              "    <tr>\n",
              "      <th>0.000000</th>\n",
              "      <td>b'1'</td>\n",
              "      <td>45</td>\n",
              "      <td>1</td>\n",
              "      <td>173</td>\n",
              "      <td>0.33334</td>\n",
              "      <td>40.579710</td>\n",
              "      <td>2.872738</td>\n",
              "      <td>62</td>\n",
              "      <td>1</td>\n",
              "    </tr>\n",
              "    <tr>\n",
              "      <th>0.000000</th>\n",
              "      <td>b'1'</td>\n",
              "      <td>45</td>\n",
              "      <td>1</td>\n",
              "      <td>170</td>\n",
              "      <td>0.29186</td>\n",
              "      <td>-10.000000</td>\n",
              "      <td>-10.000000</td>\n",
              "      <td>119</td>\n",
              "      <td>1</td>\n",
              "    </tr>\n",
              "    <tr>\n",
              "      <th>0.000000</th>\n",
              "      <td>b'1'</td>\n",
              "      <td>59</td>\n",
              "      <td>3</td>\n",
              "      <td>159</td>\n",
              "      <td>0.29112</td>\n",
              "      <td>349.275362</td>\n",
              "      <td>34.616490</td>\n",
              "      <td>94</td>\n",
              "      <td>1</td>\n",
              "    </tr>\n",
              "    <tr>\n",
              "      <th>2026.342452</th>\n",
              "      <td>b'1'</td>\n",
              "      <td>67</td>\n",
              "      <td>2</td>\n",
              "      <td>146</td>\n",
              "      <td>0.27318</td>\n",
              "      <td>276.811594</td>\n",
              "      <td>27.434645</td>\n",
              "      <td>125</td>\n",
              "      <td>1</td>\n",
              "    </tr>\n",
              "    <tr>\n",
              "      <th>3546.099291</th>\n",
              "      <td>b'1'</td>\n",
              "      <td>70</td>\n",
              "      <td>1</td>\n",
              "      <td>160</td>\n",
              "      <td>0.32988</td>\n",
              "      <td>640.579710</td>\n",
              "      <td>63.487504</td>\n",
              "      <td>81</td>\n",
              "      <td>1</td>\n",
              "    </tr>\n",
              "  </tbody>\n",
              "</table>\n",
              "</div>\n",
              "      <button class=\"colab-df-convert\" onclick=\"convertToInteractive('df-5070d635-7f06-48db-bd46-6eb4b76be6bf')\"\n",
              "              title=\"Convert this dataframe to an interactive table.\"\n",
              "              style=\"display:none;\">\n",
              "        \n",
              "  <svg xmlns=\"http://www.w3.org/2000/svg\" height=\"24px\"viewBox=\"0 0 24 24\"\n",
              "       width=\"24px\">\n",
              "    <path d=\"M0 0h24v24H0V0z\" fill=\"none\"/>\n",
              "    <path d=\"M18.56 5.44l.94 2.06.94-2.06 2.06-.94-2.06-.94-.94-2.06-.94 2.06-2.06.94zm-11 1L8.5 8.5l.94-2.06 2.06-.94-2.06-.94L8.5 2.5l-.94 2.06-2.06.94zm10 10l.94 2.06.94-2.06 2.06-.94-2.06-.94-.94-2.06-.94 2.06-2.06.94z\"/><path d=\"M17.41 7.96l-1.37-1.37c-.4-.4-.92-.59-1.43-.59-.52 0-1.04.2-1.43.59L10.3 9.45l-7.72 7.72c-.78.78-.78 2.05 0 2.83L4 21.41c.39.39.9.59 1.41.59.51 0 1.02-.2 1.41-.59l7.78-7.78 2.81-2.81c.8-.78.8-2.07 0-2.86zM5.41 20L4 18.59l7.72-7.72 1.47 1.35L5.41 20z\"/>\n",
              "  </svg>\n",
              "      </button>\n",
              "      \n",
              "  <style>\n",
              "    .colab-df-container {\n",
              "      display:flex;\n",
              "      flex-wrap:wrap;\n",
              "      gap: 12px;\n",
              "    }\n",
              "\n",
              "    .colab-df-convert {\n",
              "      background-color: #E8F0FE;\n",
              "      border: none;\n",
              "      border-radius: 50%;\n",
              "      cursor: pointer;\n",
              "      display: none;\n",
              "      fill: #1967D2;\n",
              "      height: 32px;\n",
              "      padding: 0 0 0 0;\n",
              "      width: 32px;\n",
              "    }\n",
              "\n",
              "    .colab-df-convert:hover {\n",
              "      background-color: #E2EBFA;\n",
              "      box-shadow: 0px 1px 2px rgba(60, 64, 67, 0.3), 0px 1px 3px 1px rgba(60, 64, 67, 0.15);\n",
              "      fill: #174EA6;\n",
              "    }\n",
              "\n",
              "    [theme=dark] .colab-df-convert {\n",
              "      background-color: #3B4455;\n",
              "      fill: #D2E3FC;\n",
              "    }\n",
              "\n",
              "    [theme=dark] .colab-df-convert:hover {\n",
              "      background-color: #434B5C;\n",
              "      box-shadow: 0px 1px 3px 1px rgba(0, 0, 0, 0.15);\n",
              "      filter: drop-shadow(0px 1px 2px rgba(0, 0, 0, 0.3));\n",
              "      fill: #FFFFFF;\n",
              "    }\n",
              "  </style>\n",
              "\n",
              "      <script>\n",
              "        const buttonEl =\n",
              "          document.querySelector('#df-5070d635-7f06-48db-bd46-6eb4b76be6bf button.colab-df-convert');\n",
              "        buttonEl.style.display =\n",
              "          google.colab.kernel.accessAllowed ? 'block' : 'none';\n",
              "\n",
              "        async function convertToInteractive(key) {\n",
              "          const element = document.querySelector('#df-5070d635-7f06-48db-bd46-6eb4b76be6bf');\n",
              "          const dataTable =\n",
              "            await google.colab.kernel.invokeFunction('convertToInteractive',\n",
              "                                                     [key], {});\n",
              "          if (!dataTable) return;\n",
              "\n",
              "          const docLinkHtml = 'Like what you see? Visit the ' +\n",
              "            '<a target=\"_blank\" href=https://colab.research.google.com/notebooks/data_table.ipynb>data table notebook</a>'\n",
              "            + ' to learn more about interactive tables.';\n",
              "          element.innerHTML = '';\n",
              "          dataTable['output_type'] = 'display_data';\n",
              "          await google.colab.output.renderOutput(dataTable, element);\n",
              "          const docLink = document.createElement('div');\n",
              "          docLink.innerHTML = docLinkHtml;\n",
              "          element.appendChild(docLink);\n",
              "        }\n",
              "      </script>\n",
              "    </div>\n",
              "  </div>\n",
              "  "
            ],
            "text/plain": [
              "              comp_interno2  comp_interno4  ...  comp_externo3  Comp_final\n",
              "comp_interno1                               ...                           \n",
              "0.000000               b'1'             45  ...             62           1\n",
              "0.000000               b'1'             45  ...            119           1\n",
              "0.000000               b'1'             59  ...             94           1\n",
              "2026.342452            b'1'             67  ...            125           1\n",
              "3546.099291            b'1'             70  ...             81           1\n",
              "\n",
              "[5 rows x 9 columns]"
            ]
          },
          "metadata": {},
          "execution_count": 14
        }
      ],
      "source": [
        "df.head()"
      ]
    },
    {
      "cell_type": "markdown",
      "source": [
        "Después de una serie de intentos, optamos por escoger los siguientes componentes, pues nos dieron el modelo más óptimo y además fueron las que a nuestro criterio, resultaban mejor para la base.\n"
      ],
      "metadata": {
        "id": "dEp5Fo4B2rKK"
      }
    },
    {
      "cell_type": "code",
      "execution_count": 15,
      "metadata": {
        "id": "6EM7_dznzStE"
      },
      "outputs": [],
      "source": [
        "X = df[['comp_interno2','categoria3','comp_interno4','categoria1','comp_mixto1','comp_externo2','comp_externo3','Comp_final']]\n",
        "y = X.pop('Comp_final')"
      ]
    },
    {
      "cell_type": "code",
      "execution_count": 16,
      "metadata": {
        "id": "NnsXy73-zStE"
      },
      "outputs": [],
      "source": [
        "X_train, X_test, y_train, y_test = train_test_split(X, y,test_size=.30,stratify=y)"
      ]
    },
    {
      "cell_type": "code",
      "source": [
        "X_train"
      ],
      "metadata": {
        "id": "0cvfcSsc5FEJ",
        "colab": {
          "base_uri": "https://localhost:8080/",
          "height": 455
        },
        "outputId": "c1ad4647-4754-4451-f21b-58b56db8242a"
      },
      "execution_count": 17,
      "outputs": [
        {
          "output_type": "execute_result",
          "data": {
            "text/html": [
              "\n",
              "  <div id=\"df-7db988b1-5d83-4ab2-97ee-de5f261a2e1d\">\n",
              "    <div class=\"colab-df-container\">\n",
              "      <div>\n",
              "<style scoped>\n",
              "    .dataframe tbody tr th:only-of-type {\n",
              "        vertical-align: middle;\n",
              "    }\n",
              "\n",
              "    .dataframe tbody tr th {\n",
              "        vertical-align: top;\n",
              "    }\n",
              "\n",
              "    .dataframe thead th {\n",
              "        text-align: right;\n",
              "    }\n",
              "</style>\n",
              "<table border=\"1\" class=\"dataframe\">\n",
              "  <thead>\n",
              "    <tr style=\"text-align: right;\">\n",
              "      <th></th>\n",
              "      <th>comp_interno2</th>\n",
              "      <th>categoria3</th>\n",
              "      <th>comp_interno4</th>\n",
              "      <th>categoria1</th>\n",
              "      <th>comp_mixto1</th>\n",
              "      <th>comp_externo2</th>\n",
              "      <th>comp_externo3</th>\n",
              "    </tr>\n",
              "    <tr>\n",
              "      <th>comp_interno1</th>\n",
              "      <th></th>\n",
              "      <th></th>\n",
              "      <th></th>\n",
              "      <th></th>\n",
              "      <th></th>\n",
              "      <th></th>\n",
              "      <th></th>\n",
              "    </tr>\n",
              "  </thead>\n",
              "  <tbody>\n",
              "    <tr>\n",
              "      <th>0.000000</th>\n",
              "      <td>b'0'</td>\n",
              "      <td>176</td>\n",
              "      <td>50</td>\n",
              "      <td>1</td>\n",
              "      <td>0.35924</td>\n",
              "      <td>41.855789</td>\n",
              "      <td>118</td>\n",
              "    </tr>\n",
              "    <tr>\n",
              "      <th>0.000000</th>\n",
              "      <td>b'0'</td>\n",
              "      <td>159</td>\n",
              "      <td>48</td>\n",
              "      <td>3</td>\n",
              "      <td>0.36000</td>\n",
              "      <td>11.634588</td>\n",
              "      <td>13</td>\n",
              "    </tr>\n",
              "    <tr>\n",
              "      <th>0.000000</th>\n",
              "      <td>b'1'</td>\n",
              "      <td>146</td>\n",
              "      <td>52</td>\n",
              "      <td>3</td>\n",
              "      <td>0.36814</td>\n",
              "      <td>7.497845</td>\n",
              "      <td>117</td>\n",
              "    </tr>\n",
              "    <tr>\n",
              "      <th>0.000000</th>\n",
              "      <td>b'1'</td>\n",
              "      <td>160</td>\n",
              "      <td>59</td>\n",
              "      <td>1</td>\n",
              "      <td>0.33300</td>\n",
              "      <td>3.332376</td>\n",
              "      <td>72</td>\n",
              "    </tr>\n",
              "    <tr>\n",
              "      <th>1215.805471</th>\n",
              "      <td>b'0'</td>\n",
              "      <td>167</td>\n",
              "      <td>49</td>\n",
              "      <td>2</td>\n",
              "      <td>0.37000</td>\n",
              "      <td>22.120080</td>\n",
              "      <td>63</td>\n",
              "    </tr>\n",
              "    <tr>\n",
              "      <th>...</th>\n",
              "      <td>...</td>\n",
              "      <td>...</td>\n",
              "      <td>...</td>\n",
              "      <td>...</td>\n",
              "      <td>...</td>\n",
              "      <td>...</td>\n",
              "      <td>...</td>\n",
              "    </tr>\n",
              "    <tr>\n",
              "      <th>0.000000</th>\n",
              "      <td>b'1'</td>\n",
              "      <td>147</td>\n",
              "      <td>38</td>\n",
              "      <td>2</td>\n",
              "      <td>0.38000</td>\n",
              "      <td>-10.000000</td>\n",
              "      <td>92</td>\n",
              "    </tr>\n",
              "    <tr>\n",
              "      <th>1418.439716</th>\n",
              "      <td>b'1'</td>\n",
              "      <td>156</td>\n",
              "      <td>67</td>\n",
              "      <td>2</td>\n",
              "      <td>0.32642</td>\n",
              "      <td>3.447285</td>\n",
              "      <td>128</td>\n",
              "    </tr>\n",
              "    <tr>\n",
              "      <th>0.000000</th>\n",
              "      <td>b'1'</td>\n",
              "      <td>169</td>\n",
              "      <td>41</td>\n",
              "      <td>1</td>\n",
              "      <td>0.34444</td>\n",
              "      <td>3.016375</td>\n",
              "      <td>51</td>\n",
              "    </tr>\n",
              "    <tr>\n",
              "      <th>0.000000</th>\n",
              "      <td>b'1'</td>\n",
              "      <td>146</td>\n",
              "      <td>47</td>\n",
              "      <td>1</td>\n",
              "      <td>0.36494</td>\n",
              "      <td>-10.000000</td>\n",
              "      <td>-608</td>\n",
              "    </tr>\n",
              "    <tr>\n",
              "      <th>4964.539007</th>\n",
              "      <td>b'1'</td>\n",
              "      <td>157</td>\n",
              "      <td>66</td>\n",
              "      <td>1</td>\n",
              "      <td>0.34000</td>\n",
              "      <td>74.691181</td>\n",
              "      <td>67</td>\n",
              "    </tr>\n",
              "  </tbody>\n",
              "</table>\n",
              "<p>24591 rows × 7 columns</p>\n",
              "</div>\n",
              "      <button class=\"colab-df-convert\" onclick=\"convertToInteractive('df-7db988b1-5d83-4ab2-97ee-de5f261a2e1d')\"\n",
              "              title=\"Convert this dataframe to an interactive table.\"\n",
              "              style=\"display:none;\">\n",
              "        \n",
              "  <svg xmlns=\"http://www.w3.org/2000/svg\" height=\"24px\"viewBox=\"0 0 24 24\"\n",
              "       width=\"24px\">\n",
              "    <path d=\"M0 0h24v24H0V0z\" fill=\"none\"/>\n",
              "    <path d=\"M18.56 5.44l.94 2.06.94-2.06 2.06-.94-2.06-.94-.94-2.06-.94 2.06-2.06.94zm-11 1L8.5 8.5l.94-2.06 2.06-.94-2.06-.94L8.5 2.5l-.94 2.06-2.06.94zm10 10l.94 2.06.94-2.06 2.06-.94-2.06-.94-.94-2.06-.94 2.06-2.06.94z\"/><path d=\"M17.41 7.96l-1.37-1.37c-.4-.4-.92-.59-1.43-.59-.52 0-1.04.2-1.43.59L10.3 9.45l-7.72 7.72c-.78.78-.78 2.05 0 2.83L4 21.41c.39.39.9.59 1.41.59.51 0 1.02-.2 1.41-.59l7.78-7.78 2.81-2.81c.8-.78.8-2.07 0-2.86zM5.41 20L4 18.59l7.72-7.72 1.47 1.35L5.41 20z\"/>\n",
              "  </svg>\n",
              "      </button>\n",
              "      \n",
              "  <style>\n",
              "    .colab-df-container {\n",
              "      display:flex;\n",
              "      flex-wrap:wrap;\n",
              "      gap: 12px;\n",
              "    }\n",
              "\n",
              "    .colab-df-convert {\n",
              "      background-color: #E8F0FE;\n",
              "      border: none;\n",
              "      border-radius: 50%;\n",
              "      cursor: pointer;\n",
              "      display: none;\n",
              "      fill: #1967D2;\n",
              "      height: 32px;\n",
              "      padding: 0 0 0 0;\n",
              "      width: 32px;\n",
              "    }\n",
              "\n",
              "    .colab-df-convert:hover {\n",
              "      background-color: #E2EBFA;\n",
              "      box-shadow: 0px 1px 2px rgba(60, 64, 67, 0.3), 0px 1px 3px 1px rgba(60, 64, 67, 0.15);\n",
              "      fill: #174EA6;\n",
              "    }\n",
              "\n",
              "    [theme=dark] .colab-df-convert {\n",
              "      background-color: #3B4455;\n",
              "      fill: #D2E3FC;\n",
              "    }\n",
              "\n",
              "    [theme=dark] .colab-df-convert:hover {\n",
              "      background-color: #434B5C;\n",
              "      box-shadow: 0px 1px 3px 1px rgba(0, 0, 0, 0.15);\n",
              "      filter: drop-shadow(0px 1px 2px rgba(0, 0, 0, 0.3));\n",
              "      fill: #FFFFFF;\n",
              "    }\n",
              "  </style>\n",
              "\n",
              "      <script>\n",
              "        const buttonEl =\n",
              "          document.querySelector('#df-7db988b1-5d83-4ab2-97ee-de5f261a2e1d button.colab-df-convert');\n",
              "        buttonEl.style.display =\n",
              "          google.colab.kernel.accessAllowed ? 'block' : 'none';\n",
              "\n",
              "        async function convertToInteractive(key) {\n",
              "          const element = document.querySelector('#df-7db988b1-5d83-4ab2-97ee-de5f261a2e1d');\n",
              "          const dataTable =\n",
              "            await google.colab.kernel.invokeFunction('convertToInteractive',\n",
              "                                                     [key], {});\n",
              "          if (!dataTable) return;\n",
              "\n",
              "          const docLinkHtml = 'Like what you see? Visit the ' +\n",
              "            '<a target=\"_blank\" href=https://colab.research.google.com/notebooks/data_table.ipynb>data table notebook</a>'\n",
              "            + ' to learn more about interactive tables.';\n",
              "          element.innerHTML = '';\n",
              "          dataTable['output_type'] = 'display_data';\n",
              "          await google.colab.output.renderOutput(dataTable, element);\n",
              "          const docLink = document.createElement('div');\n",
              "          docLink.innerHTML = docLinkHtml;\n",
              "          element.appendChild(docLink);\n",
              "        }\n",
              "      </script>\n",
              "    </div>\n",
              "  </div>\n",
              "  "
            ],
            "text/plain": [
              "              comp_interno2  categoria3  ...  comp_externo2  comp_externo3\n",
              "comp_interno1                            ...                              \n",
              "0.000000               b'0'         176  ...      41.855789            118\n",
              "0.000000               b'0'         159  ...      11.634588             13\n",
              "0.000000               b'1'         146  ...       7.497845            117\n",
              "0.000000               b'1'         160  ...       3.332376             72\n",
              "1215.805471            b'0'         167  ...      22.120080             63\n",
              "...                     ...         ...  ...            ...            ...\n",
              "0.000000               b'1'         147  ...     -10.000000             92\n",
              "1418.439716            b'1'         156  ...       3.447285            128\n",
              "0.000000               b'1'         169  ...       3.016375             51\n",
              "0.000000               b'1'         146  ...     -10.000000           -608\n",
              "4964.539007            b'1'         157  ...      74.691181             67\n",
              "\n",
              "[24591 rows x 7 columns]"
            ]
          },
          "metadata": {},
          "execution_count": 17
        }
      ]
    },
    {
      "cell_type": "code",
      "execution_count": 18,
      "metadata": {
        "id": "6bc1rGBOzStF"
      },
      "outputs": [],
      "source": [
        "num_features = X_train.select_dtypes(include='number').columns.to_list()"
      ]
    },
    {
      "cell_type": "code",
      "execution_count": 19,
      "metadata": {
        "id": "N_N6cDrAzStF",
        "colab": {
          "base_uri": "https://localhost:8080/"
        },
        "outputId": "b3101fd7-dfc5-480b-ebd8-f1b333b3917a"
      },
      "outputs": [
        {
          "output_type": "execute_result",
          "data": {
            "text/plain": [
              "['categoria3',\n",
              " 'comp_interno4',\n",
              " 'categoria1',\n",
              " 'comp_mixto1',\n",
              " 'comp_externo2',\n",
              " 'comp_externo3']"
            ]
          },
          "metadata": {},
          "execution_count": 19
        }
      ],
      "source": [
        "num_features"
      ]
    },
    {
      "cell_type": "code",
      "execution_count": 20,
      "metadata": {
        "id": "AfFIfLi2zStG"
      },
      "outputs": [],
      "source": [
        "cat_features = X_train.select_dtypes(include='object').columns.to_list()"
      ]
    },
    {
      "cell_type": "code",
      "execution_count": 21,
      "metadata": {
        "id": "ZGwoRt9szStG",
        "colab": {
          "base_uri": "https://localhost:8080/"
        },
        "outputId": "8ba2454f-359c-419a-e147-40773c05e083"
      },
      "outputs": [
        {
          "output_type": "execute_result",
          "data": {
            "text/plain": [
              "['comp_interno2']"
            ]
          },
          "metadata": {},
          "execution_count": 21
        }
      ],
      "source": [
        "cat_features"
      ]
    },
    {
      "cell_type": "raw",
      "metadata": {
        "id": "kSJjaQnPzStG"
      },
      "source": [
        "**Definimos**, cuál será el tratamiento para los missing de las variables numéricas"
      ]
    },
    {
      "cell_type": "code",
      "execution_count": 22,
      "metadata": {
        "id": "yZm9G4JezStH"
      },
      "outputs": [],
      "source": [
        "num_pipeline = Pipeline(steps=[('imputer', SimpleImputer(strategy='median'))])"
      ]
    },
    {
      "cell_type": "raw",
      "metadata": {
        "id": "OHei5TmmzStH"
      },
      "source": [
        "Definimos, cuál será el tratamiento paro los missings de las variables tipo object"
      ]
    },
    {
      "cell_type": "code",
      "execution_count": 23,
      "metadata": {
        "id": "ZMQhDrovzStH"
      },
      "outputs": [],
      "source": [
        "cat_list = [list(X_train[col].dropna().unique()) for col in cat_features]"
      ]
    },
    {
      "cell_type": "code",
      "execution_count": 24,
      "metadata": {
        "id": "gZg2xdaizStH"
      },
      "outputs": [],
      "source": [
        "cat_pipeline = Pipeline(steps=[('imputer', SimpleImputer(strategy='most_frequent')),\n",
        "                               ('onehot', OneHotEncoder(categories=cat_list, sparse=False,\n",
        "                                        handle_unknown='error', drop='first'))])"
      ]
    },
    {
      "cell_type": "code",
      "execution_count": 25,
      "metadata": {
        "id": "jU7lmyfMzStH"
      },
      "outputs": [],
      "source": [
        "preprocessor = ColumnTransformer(transformers=[\n",
        "               ('numerical', num_pipeline, num_features),\n",
        "               ('categorical', cat_pipeline, cat_features)],\n",
        "               remainder='drop')\n",
        "#El remainder=drop es para eliminar la columna que no se le aplicó ninguna transformación"
      ]
    },
    {
      "cell_type": "raw",
      "metadata": {
        "id": "HLEns2-FzStI"
      },
      "source": [
        "Definimos, el segundo paso, que sería aplicar el árbol de decisión\n",
        "\n"
      ]
    },
    {
      "cell_type": "code",
      "execution_count": 26,
      "metadata": {
        "id": "Zh6SVOuSzStI"
      },
      "outputs": [],
      "source": [
        "dec_tree = DecisionTreeClassifier(random_state=42)"
      ]
    },
    {
      "cell_type": "code",
      "execution_count": 27,
      "metadata": {
        "id": "XMYemganzStI"
      },
      "outputs": [],
      "source": [
        "tree_pipeline = Pipeline(steps=[('preprocessor', preprocessor),('classifier', dec_tree)])"
      ]
    },
    {
      "cell_type": "raw",
      "metadata": {
        "id": "B4_nI6E4zStI"
      },
      "source": [
        "**Apliquemos** las transformaciones y el modelo de clasificación"
      ]
    },
    {
      "cell_type": "code",
      "execution_count": 28,
      "metadata": {
        "id": "YPCsNhdkzStI",
        "colab": {
          "base_uri": "https://localhost:8080/"
        },
        "outputId": "c1c4f57f-76ef-4553-c7c6-5546987f2796"
      },
      "outputs": [
        {
          "output_type": "execute_result",
          "data": {
            "text/plain": [
              "Pipeline(steps=[('preprocessor',\n",
              "                 ColumnTransformer(transformers=[('numerical',\n",
              "                                                  Pipeline(steps=[('imputer',\n",
              "                                                                   SimpleImputer(strategy='median'))]),\n",
              "                                                  ['categoria3',\n",
              "                                                   'comp_interno4',\n",
              "                                                   'categoria1', 'comp_mixto1',\n",
              "                                                   'comp_externo2',\n",
              "                                                   'comp_externo3']),\n",
              "                                                 ('categorical',\n",
              "                                                  Pipeline(steps=[('imputer',\n",
              "                                                                   SimpleImputer(strategy='most_frequent')),\n",
              "                                                                  ('onehot',\n",
              "                                                                   OneHotEncoder(categories=[[\"b'0'\",\n",
              "                                                                                              \"b'1'\"]],\n",
              "                                                                                 drop='first',\n",
              "                                                                                 sparse=False))]),\n",
              "                                                  ['comp_interno2'])])),\n",
              "                ('classifier', DecisionTreeClassifier(random_state=42))])"
            ]
          },
          "metadata": {},
          "execution_count": 28
        }
      ],
      "source": [
        "tree_pipeline.fit(X_train, y_train)"
      ]
    },
    {
      "cell_type": "code",
      "execution_count": 29,
      "metadata": {
        "scrolled": false,
        "id": "2wGMrZrozStI",
        "colab": {
          "base_uri": "https://localhost:8080/",
          "height": 431
        },
        "outputId": "4bb28f7d-9d23-4e24-cd89-82e554a597a0"
      },
      "outputs": [
        {
          "output_type": "display_data",
          "data": {
            "image/png": "[encoded data removed]",
            "text/plain": [
              "<Figure size 864x432 with 2 Axes>"
            ]
          },
          "metadata": {
            "needs_background": "light"
          }
        }
      ],
      "source": [
        "LABELS = ['Bueno', 'Malo']\n",
        "tree_perf = performance_evaluation_report(tree_pipeline, X_test,y_test, labels=LABELS,show_plot=True)"
      ]
    },
    {
      "cell_type": "code",
      "execution_count": 30,
      "metadata": {
        "id": "63Y1WW1TzStJ"
      },
      "outputs": [],
      "source": [
        "from sklearn.base import BaseEstimator, TransformerMixin"
      ]
    },
    {
      "cell_type": "code",
      "execution_count": 31,
      "metadata": {
        "id": "7A36hmZEzStJ"
      },
      "outputs": [],
      "source": [
        "class OutlierRemover(BaseEstimator, TransformerMixin):\n",
        "    def __init__(self, n_std=3):\n",
        "        self.n_std = n_std\n",
        "    \n",
        "    def fit(self, X, y = None):\n",
        "        if np.isnan(X).any(axis=None):\n",
        "            raise ValueError('''There are missing values in the array! \n",
        "                                Please remove them.''')\n",
        "\n",
        "        mean_vec = np.mean(X, axis=0)\n",
        "        std_vec = np.std(X, axis=0)\n",
        "        \n",
        "        self.upper_band_ = mean_vec + self.n_std * std_vec\n",
        "        self.lower_band_ = mean_vec - self.n_std * std_vec\n",
        "        self.n_features_ = len(self.upper_band_)\n",
        "        \n",
        "        return self \n",
        "    \n",
        "    def transform(self, X, y = None):\n",
        "        X_copy = pd.DataFrame(X.copy())\n",
        "        \n",
        "        upper_band = np.repeat(\n",
        "            self.upper_band_.reshape(self.n_features_, -1), \n",
        "            len(X_copy), \n",
        "            axis=1).transpose()\n",
        "        lower_band = np.repeat(\n",
        "            self.lower_band_.reshape(self.n_features_, -1), \n",
        "            len(X_copy), \n",
        "            axis=1).transpose()\n",
        "        \n",
        "        X_copy[X_copy >= upper_band] = upper_band\n",
        "        X_copy[X_copy <= lower_band] = lower_band\n",
        "        \n",
        "        return X_copy.values"
      ]
    },
    {
      "cell_type": "code",
      "execution_count": 32,
      "metadata": {
        "id": "tV1l73rKzStK"
      },
      "outputs": [],
      "source": [
        "num_pipeline = Pipeline(steps=[\n",
        "    ('imputer', SimpleImputer(strategy='median')),\n",
        "    ('outliers', OutlierRemover())])"
      ]
    },
    {
      "cell_type": "code",
      "execution_count": 33,
      "metadata": {
        "id": "GGFPbSKozStK",
        "colab": {
          "base_uri": "https://localhost:8080/",
          "height": 443
        },
        "outputId": "043300f4-78e4-474b-d878-552f8dd6c11b"
      },
      "outputs": [
        {
          "output_type": "display_data",
          "data": {
            "image/png": "[encoded data removed]",
            "text/plain": [
              "<Figure size 864x432 with 2 Axes>"
            ]
          },
          "metadata": {
            "needs_background": "light"
          }
        }
      ],
      "source": [
        "preprocessor = ColumnTransformer(transformers=[('numerical', num_pipeline, num_features),\n",
        "                                               ('categorical', cat_pipeline, cat_features)],\n",
        "                                 remainder='drop')\n",
        "\n",
        "dec_tree = DecisionTreeClassifier(random_state=42)\n",
        "\n",
        "tree_pipeline = Pipeline(steps=[('preprocessor', preprocessor),\n",
        "                                ('classifier', dec_tree)])\n",
        "\n",
        "tree_pipeline.fit(X_train, y_train)\n",
        "\n",
        "tree_perf = performance_evaluation_report(tree_pipeline, X_test, \n",
        "                                          y_test, labels=LABELS, \n",
        "                                          show_plot=True)\n",
        "\n",
        "plt.tight_layout()\n",
        "# plt.savefig('images/ch8_im18.png')\n",
        "plt.show()"
      ]
    },
    {
      "cell_type": "code",
      "execution_count": 34,
      "metadata": {
        "id": "0RbJi1MVzStK"
      },
      "outputs": [],
      "source": [
        "from sklearn.model_selection import (GridSearchCV, cross_val_score,\n",
        "                                                 RandomizedSearchCV,\n",
        "                                                 cross_validate,\n",
        "                                                 StratifiedKFold)\n"
      ]
    },
    {
      "cell_type": "markdown",
      "source": [
        "Haremos la validación cruzada y esto nos ayudará a contestar el inciso 3), es decir, conocer los parámetros que se tomaron para hacer el árbol. "
      ],
      "metadata": {
        "id": "iIFAyRwGqyXG"
      }
    },
    {
      "cell_type": "code",
      "execution_count": 35,
      "metadata": {
        "id": "QJaM1m88zStK"
      },
      "outputs": [],
      "source": [
        "k_fold = StratifiedKFold(5, shuffle=True, random_state=42)"
      ]
    },
    {
      "cell_type": "code",
      "execution_count": 36,
      "metadata": {
        "id": "18CQ0ejezStK",
        "colab": {
          "base_uri": "https://localhost:8080/"
        },
        "outputId": "362851c7-2b65-45a8-f48c-9492e921f452"
      },
      "outputs": [
        {
          "output_type": "execute_result",
          "data": {
            "text/plain": [
              "array([0.98617605, 0.98312322, 0.98169988, 0.98434323, 0.98495323])"
            ]
          },
          "metadata": {},
          "execution_count": 36
        }
      ],
      "source": [
        "cross_val_score(tree_pipeline, X_train, y_train, cv=k_fold)"
      ]
    },
    {
      "cell_type": "code",
      "execution_count": 37,
      "metadata": {
        "id": "tsckr7mPzStK",
        "colab": {
          "base_uri": "https://localhost:8080/"
        },
        "outputId": "719a7572-21ed-4203-f4a0-536fafd31049"
      },
      "outputs": [
        {
          "output_type": "execute_result",
          "data": {
            "text/plain": [
              "{'fit_time': array([0.10382724, 0.10209417, 0.107656  , 0.10201859, 0.10009933]),\n",
              " 'score_time': array([0.03571773, 0.03512836, 0.03557611, 0.0383873 , 0.03472781]),\n",
              " 'test_accuracy': array([0.98617605, 0.98312322, 0.98169988, 0.98434323, 0.98495323]),\n",
              " 'test_precision': array([0.99384994, 0.99362795, 0.99341564, 0.9934332 , 0.9938411 ]),\n",
              " 'test_recall': array([0.99222268, 0.98935735, 0.98812935, 0.99079001, 0.99099284]),\n",
              " 'test_roc_auc': array([0.54156588, 0.51030367, 0.49406467, 0.49539501, 0.54095096])}"
            ]
          },
          "metadata": {},
          "execution_count": 37
        }
      ],
      "source": [
        "cross_validate(tree_pipeline, X_train, y_train, cv=k_fold,\n",
        "                           scoring=['accuracy', 'precision', 'recall','roc_auc'])"
      ]
    },
    {
      "cell_type": "code",
      "execution_count": 38,
      "metadata": {
        "id": "qqT6G0lRzStL"
      },
      "outputs": [],
      "source": [
        "param_grid = {'classifier__criterion': ['entropy', 'gini'],\n",
        "               'classifier__max_depth': range(3, 30),\n",
        "               'classifier__min_samples_leaf': range(2, 30)}\n"
      ]
    },
    {
      "cell_type": "markdown",
      "source": [
        "Buscamos la mejor configuración para el modelo\n",
        "\n",
        "\n"
      ],
      "metadata": {
        "id": "mwwZtuzRrOj7"
      }
    },
    {
      "cell_type": "code",
      "execution_count": 39,
      "metadata": {
        "scrolled": false,
        "id": "1lM6s_2BzStL",
        "colab": {
          "base_uri": "https://localhost:8080/"
        },
        "outputId": "1ba5c9b0-adc5-44dc-a4ef-2511375f59e2"
      },
      "outputs": [
        {
          "output_type": "stream",
          "name": "stdout",
          "text": [
            "Fitting 5 folds for each of 1512 candidates, totalling 7560 fits\n"
          ]
        },
        {
          "output_type": "execute_result",
          "data": {
            "text/plain": [
              "GridSearchCV(cv=StratifiedKFold(n_splits=5, random_state=42, shuffle=True),\n",
              "             estimator=Pipeline(steps=[('preprocessor',\n",
              "                                        ColumnTransformer(transformers=[('numerical',\n",
              "                                                                         Pipeline(steps=[('imputer',\n",
              "                                                                                          SimpleImputer(strategy='median')),\n",
              "                                                                                         ('outliers',\n",
              "                                                                                          OutlierRemover())]),\n",
              "                                                                         ['categoria3',\n",
              "                                                                          'comp_interno4',\n",
              "                                                                          'categoria1',\n",
              "                                                                          'comp_mixto1',\n",
              "                                                                          'comp_externo2',\n",
              "                                                                          'comp_externo3']),\n",
              "                                                                        ('cate...\n",
              "                                                                                          SimpleImputer(strategy='most_frequent')),\n",
              "                                                                                         ('onehot',\n",
              "                                                                                          OneHotEncoder(categories=[[\"b'0'\",\n",
              "                                                                                                                     \"b'1'\"]],\n",
              "                                                                                                        drop='first',\n",
              "                                                                                                        sparse=False))]),\n",
              "                                                                         ['comp_interno2'])])),\n",
              "                                       ('classifier',\n",
              "                                        DecisionTreeClassifier(random_state=42))]),\n",
              "             n_jobs=-1,\n",
              "             param_grid={'classifier__criterion': ['entropy', 'gini'],\n",
              "                         'classifier__max_depth': range(3, 30),\n",
              "                         'classifier__min_samples_leaf': range(2, 30)},\n",
              "             scoring='recall', verbose=1)"
            ]
          },
          "metadata": {},
          "execution_count": 39
        }
      ],
      "source": [
        "classifier_gs = GridSearchCV(tree_pipeline, param_grid,scoring='recall',cv=k_fold, n_jobs=-1, verbose=1)\n",
        "classifier_gs.fit(X_train, y_train)"
      ]
    },
    {
      "cell_type": "code",
      "execution_count": 40,
      "metadata": {
        "id": "3gqy9zvCzStL",
        "colab": {
          "base_uri": "https://localhost:8080/"
        },
        "outputId": "58ea8d5d-ed50-484d-93b1-61c7cafec7c7"
      },
      "outputs": [
        {
          "output_type": "stream",
          "name": "stdout",
          "text": [
            "Best parameters: {'classifier__criterion': 'entropy', 'classifier__max_depth': 3, 'classifier__min_samples_leaf': 2}\n",
            "Recall (Training set): 1.0000\n",
            "Recall (Test set): 1.0000\n"
          ]
        }
      ],
      "source": [
        "print(f'Best parameters: {classifier_gs.best_params_}') \n",
        "print(f'Recall (Training set): {classifier_gs.best_score_:.4f}') \n",
        "print(f'Recall (Test set): {metrics.recall_score(y_test, classifier_gs.predict(X_test)):.4f}')"
      ]
    },
    {
      "cell_type": "code",
      "execution_count": 41,
      "metadata": {
        "id": "jBo71k46zStL",
        "colab": {
          "base_uri": "https://localhost:8080/",
          "height": 443
        },
        "outputId": "fe5fffa3-4a77-4dde-c8ad-a92e8440b5ed"
      },
      "outputs": [
        {
          "output_type": "display_data",
          "data": {
            "image/png": "[encoded data removed]",
            "text/plain": [
              "<Figure size 864x432 with 2 Axes>"
            ]
          },
          "metadata": {
            "needs_background": "light"
          }
        }
      ],
      "source": [
        "LABELS = ['Malo', 'Bueno']\n",
        "tree_gs_perf = performance_evaluation_report(classifier_gs, X_test, \n",
        "                                             y_test, labels=LABELS, \n",
        "                                             show_plot=True)\n",
        "\n",
        "plt.tight_layout()\n",
        "plt.show()"
      ]
    },
    {
      "cell_type": "code",
      "execution_count": 42,
      "metadata": {
        "id": "xDDRUpFWzStL"
      },
      "outputs": [],
      "source": [
        "from sklearn.metrics import roc_auc_score, roc_curve, mean_squared_error, precision_recall_curve,  accuracy_score"
      ]
    },
    {
      "cell_type": "markdown",
      "source": [
        "En este caso cambiamos el criterio a entropy debido a un analisis posterior "
      ],
      "metadata": {
        "id": "dV0Heto7ZZ4h"
      }
    },
    {
      "cell_type": "code",
      "execution_count": 43,
      "metadata": {
        "id": "wYU39fqbzStM",
        "colab": {
          "base_uri": "https://localhost:8080/"
        },
        "outputId": "4c767075-5f33-4f67-b33d-6a42a74e69a0"
      },
      "outputs": [
        {
          "output_type": "stream",
          "name": "stdout",
          "text": [
            "1 2 3 4 5 6 7 8 9 10 11 12 13 14 15 16 17 18 19 20 21 22 23 24 25 26 "
          ]
        }
      ],
      "source": [
        "train_scores, val_scores, leaves = {}, {}, {}\n",
        "for max_depth in range(1, 27):\n",
        "    print(max_depth, end=' ', flush=True)\n",
        "    reg_tree = DecisionTreeClassifier(criterion='entropy',\n",
        "                                          max_depth=max_depth,\n",
        "                                          min_samples_leaf=10,\n",
        "                                          random_state=42)\n",
        "    tree_pipeline = Pipeline(steps=[('preprocessor', preprocessor),('classifier', reg_tree)])\n",
        "    train_scores[max_depth], val_scores[max_depth], leaves[max_depth] = [],[], []\n",
        "    for train_idx, test_idx in k_fold.split(X_train,y_train):\n",
        "        X_t, y_t,  = X_train.iloc[train_idx], y_train.iloc[train_idx]\n",
        "        X_te, y_te = X_train.iloc[test_idx], y_train.iloc[test_idx]\n",
        "        tree_pipeline.fit(X_t, y_t)\n",
        "        train_pred = tree_pipeline.predict_proba(X=X_t)[:, 1]\n",
        "        train_score = roc_auc_score(y_score=train_pred, y_true=y_t)\n",
        "        #print(train_score)\n",
        "        train_scores[max_depth].append(train_score)\n",
        "\n",
        "        test_pred = tree_pipeline.predict_proba(X=X_te)[:, 1]\n",
        "        val_score = roc_auc_score(y_score=test_pred, y_true=y_te)\n",
        "        val_scores[max_depth].append(val_score)  \n",
        "        #print(val_score)\n",
        "        leaves[max_depth].append(max_depth)\n",
        "        #reg_tree.fit(X=X_t, y=y_t)\n",
        "\n",
        "        \n",
        "        #train_scores[max_depth].append(train_score)\n",
        "\n",
        "        #test_pred = reg_tree.predict(X=X_test)\n",
        "        #val_score = np.sqrt(mean_squared_error(\n",
        "        #    y_pred=test_pred, y_true=y_test))\n",
        "        #val_scores[max_depth].append(val_score)\n",
        "        #leaves[max_depth].append(get_leaves_count(reg_tree))"
      ]
    },
    {
      "cell_type": "code",
      "execution_count": 44,
      "metadata": {
        "id": "s1YWioSkzStM"
      },
      "outputs": [],
      "source": [
        "clf_train_scores = pd.DataFrame(train_scores)\n",
        "clf_valid_scores = pd.DataFrame(val_scores)\n",
        "bd_leaves = pd.DataFrame(leaves)"
      ]
    },
    {
      "cell_type": "code",
      "execution_count": 45,
      "metadata": {
        "id": "Q0ZGkkaTzStM",
        "colab": {
          "base_uri": "https://localhost:8080/"
        },
        "outputId": "628277c6-4cbb-4ed5-f0c1-6c6e18f1f701"
      },
      "outputs": [
        {
          "output_type": "execute_result",
          "data": {
            "text/plain": [
              "{1: [1, 1, 1, 1, 1],\n",
              " 2: [2, 2, 2, 2, 2],\n",
              " 3: [3, 3, 3, 3, 3],\n",
              " 4: [4, 4, 4, 4, 4],\n",
              " 5: [5, 5, 5, 5, 5],\n",
              " 6: [6, 6, 6, 6, 6],\n",
              " 7: [7, 7, 7, 7, 7],\n",
              " 8: [8, 8, 8, 8, 8],\n",
              " 9: [9, 9, 9, 9, 9],\n",
              " 10: [10, 10, 10, 10, 10],\n",
              " 11: [11, 11, 11, 11, 11],\n",
              " 12: [12, 12, 12, 12, 12],\n",
              " 13: [13, 13, 13, 13, 13],\n",
              " 14: [14, 14, 14, 14, 14],\n",
              " 15: [15, 15, 15, 15, 15],\n",
              " 16: [16, 16, 16, 16, 16],\n",
              " 17: [17, 17, 17, 17, 17],\n",
              " 18: [18, 18, 18, 18, 18],\n",
              " 19: [19, 19, 19, 19, 19],\n",
              " 20: [20, 20, 20, 20, 20],\n",
              " 21: [21, 21, 21, 21, 21],\n",
              " 22: [22, 22, 22, 22, 22],\n",
              " 23: [23, 23, 23, 23, 23],\n",
              " 24: [24, 24, 24, 24, 24],\n",
              " 25: [25, 25, 25, 25, 25],\n",
              " 26: [26, 26, 26, 26, 26]}"
            ]
          },
          "metadata": {},
          "execution_count": 45
        }
      ],
      "source": [
        "leaves"
      ]
    },
    {
      "cell_type": "code",
      "execution_count": 46,
      "metadata": {
        "id": "2buRz1uYzStM",
        "colab": {
          "base_uri": "https://localhost:8080/",
          "height": 270
        },
        "outputId": "c59caeb1-0892-40c9-ace9-6102329c8957"
      },
      "outputs": [
        {
          "output_type": "execute_result",
          "data": {
            "text/html": [
              "\n",
              "  <div id=\"df-6d9491ec-0876-4b11-b483-ee4bb6eeb819\">\n",
              "    <div class=\"colab-df-container\">\n",
              "      <div>\n",
              "<style scoped>\n",
              "    .dataframe tbody tr th:only-of-type {\n",
              "        vertical-align: middle;\n",
              "    }\n",
              "\n",
              "    .dataframe tbody tr th {\n",
              "        vertical-align: top;\n",
              "    }\n",
              "\n",
              "    .dataframe thead th {\n",
              "        text-align: right;\n",
              "    }\n",
              "</style>\n",
              "<table border=\"1\" class=\"dataframe\">\n",
              "  <thead>\n",
              "    <tr style=\"text-align: right;\">\n",
              "      <th></th>\n",
              "      <th>1</th>\n",
              "      <th>2</th>\n",
              "      <th>3</th>\n",
              "      <th>4</th>\n",
              "      <th>5</th>\n",
              "      <th>6</th>\n",
              "      <th>7</th>\n",
              "      <th>8</th>\n",
              "      <th>9</th>\n",
              "      <th>10</th>\n",
              "      <th>11</th>\n",
              "      <th>12</th>\n",
              "      <th>13</th>\n",
              "      <th>14</th>\n",
              "      <th>15</th>\n",
              "      <th>16</th>\n",
              "      <th>17</th>\n",
              "      <th>18</th>\n",
              "      <th>19</th>\n",
              "      <th>20</th>\n",
              "      <th>21</th>\n",
              "      <th>22</th>\n",
              "      <th>23</th>\n",
              "      <th>24</th>\n",
              "      <th>25</th>\n",
              "      <th>26</th>\n",
              "    </tr>\n",
              "  </thead>\n",
              "  <tbody>\n",
              "    <tr>\n",
              "      <th>0</th>\n",
              "      <td>0.688296</td>\n",
              "      <td>0.767846</td>\n",
              "      <td>0.817692</td>\n",
              "      <td>0.848339</td>\n",
              "      <td>0.887799</td>\n",
              "      <td>0.920935</td>\n",
              "      <td>0.940414</td>\n",
              "      <td>0.958950</td>\n",
              "      <td>0.970379</td>\n",
              "      <td>0.978979</td>\n",
              "      <td>0.982642</td>\n",
              "      <td>0.985169</td>\n",
              "      <td>0.986019</td>\n",
              "      <td>0.986891</td>\n",
              "      <td>0.987518</td>\n",
              "      <td>0.987672</td>\n",
              "      <td>0.987965</td>\n",
              "      <td>0.988412</td>\n",
              "      <td>0.988441</td>\n",
              "      <td>0.988470</td>\n",
              "      <td>0.988470</td>\n",
              "      <td>0.988470</td>\n",
              "      <td>0.988470</td>\n",
              "      <td>0.988470</td>\n",
              "      <td>0.988470</td>\n",
              "      <td>0.988470</td>\n",
              "    </tr>\n",
              "    <tr>\n",
              "      <th>1</th>\n",
              "      <td>0.705387</td>\n",
              "      <td>0.762483</td>\n",
              "      <td>0.813278</td>\n",
              "      <td>0.841055</td>\n",
              "      <td>0.868649</td>\n",
              "      <td>0.892834</td>\n",
              "      <td>0.916930</td>\n",
              "      <td>0.939893</td>\n",
              "      <td>0.962731</td>\n",
              "      <td>0.971262</td>\n",
              "      <td>0.978628</td>\n",
              "      <td>0.983970</td>\n",
              "      <td>0.985502</td>\n",
              "      <td>0.986823</td>\n",
              "      <td>0.987142</td>\n",
              "      <td>0.987398</td>\n",
              "      <td>0.987442</td>\n",
              "      <td>0.987509</td>\n",
              "      <td>0.987509</td>\n",
              "      <td>0.987509</td>\n",
              "      <td>0.987509</td>\n",
              "      <td>0.987509</td>\n",
              "      <td>0.987509</td>\n",
              "      <td>0.987509</td>\n",
              "      <td>0.987509</td>\n",
              "      <td>0.987509</td>\n",
              "    </tr>\n",
              "    <tr>\n",
              "      <th>2</th>\n",
              "      <td>0.711884</td>\n",
              "      <td>0.780805</td>\n",
              "      <td>0.818520</td>\n",
              "      <td>0.848727</td>\n",
              "      <td>0.878069</td>\n",
              "      <td>0.903001</td>\n",
              "      <td>0.937401</td>\n",
              "      <td>0.957637</td>\n",
              "      <td>0.972135</td>\n",
              "      <td>0.980129</td>\n",
              "      <td>0.983396</td>\n",
              "      <td>0.985637</td>\n",
              "      <td>0.987550</td>\n",
              "      <td>0.988305</td>\n",
              "      <td>0.988613</td>\n",
              "      <td>0.988919</td>\n",
              "      <td>0.989108</td>\n",
              "      <td>0.989108</td>\n",
              "      <td>0.989108</td>\n",
              "      <td>0.989108</td>\n",
              "      <td>0.989108</td>\n",
              "      <td>0.989108</td>\n",
              "      <td>0.989108</td>\n",
              "      <td>0.989108</td>\n",
              "      <td>0.989108</td>\n",
              "      <td>0.989108</td>\n",
              "    </tr>\n",
              "    <tr>\n",
              "      <th>3</th>\n",
              "      <td>0.702497</td>\n",
              "      <td>0.770106</td>\n",
              "      <td>0.812523</td>\n",
              "      <td>0.849081</td>\n",
              "      <td>0.880956</td>\n",
              "      <td>0.912682</td>\n",
              "      <td>0.937486</td>\n",
              "      <td>0.955605</td>\n",
              "      <td>0.967243</td>\n",
              "      <td>0.974268</td>\n",
              "      <td>0.978434</td>\n",
              "      <td>0.981738</td>\n",
              "      <td>0.983840</td>\n",
              "      <td>0.985235</td>\n",
              "      <td>0.986939</td>\n",
              "      <td>0.987146</td>\n",
              "      <td>0.987356</td>\n",
              "      <td>0.987745</td>\n",
              "      <td>0.988047</td>\n",
              "      <td>0.988092</td>\n",
              "      <td>0.988175</td>\n",
              "      <td>0.988304</td>\n",
              "      <td>0.988462</td>\n",
              "      <td>0.988512</td>\n",
              "      <td>0.988512</td>\n",
              "      <td>0.988512</td>\n",
              "    </tr>\n",
              "    <tr>\n",
              "      <th>4</th>\n",
              "      <td>0.699237</td>\n",
              "      <td>0.772220</td>\n",
              "      <td>0.820116</td>\n",
              "      <td>0.850197</td>\n",
              "      <td>0.883703</td>\n",
              "      <td>0.917163</td>\n",
              "      <td>0.942860</td>\n",
              "      <td>0.958953</td>\n",
              "      <td>0.969344</td>\n",
              "      <td>0.976263</td>\n",
              "      <td>0.981310</td>\n",
              "      <td>0.984936</td>\n",
              "      <td>0.986461</td>\n",
              "      <td>0.987347</td>\n",
              "      <td>0.987904</td>\n",
              "      <td>0.988244</td>\n",
              "      <td>0.988334</td>\n",
              "      <td>0.988334</td>\n",
              "      <td>0.988334</td>\n",
              "      <td>0.988334</td>\n",
              "      <td>0.988334</td>\n",
              "      <td>0.988334</td>\n",
              "      <td>0.988334</td>\n",
              "      <td>0.988334</td>\n",
              "      <td>0.988334</td>\n",
              "      <td>0.988334</td>\n",
              "    </tr>\n",
              "  </tbody>\n",
              "</table>\n",
              "</div>\n",
              "      <button class=\"colab-df-convert\" onclick=\"convertToInteractive('df-6d9491ec-0876-4b11-b483-ee4bb6eeb819')\"\n",
              "              title=\"Convert this dataframe to an interactive table.\"\n",
              "              style=\"display:none;\">\n",
              "        \n",
              "  <svg xmlns=\"http://www.w3.org/2000/svg\" height=\"24px\"viewBox=\"0 0 24 24\"\n",
              "       width=\"24px\">\n",
              "    <path d=\"M0 0h24v24H0V0z\" fill=\"none\"/>\n",
              "    <path d=\"M18.56 5.44l.94 2.06.94-2.06 2.06-.94-2.06-.94-.94-2.06-.94 2.06-2.06.94zm-11 1L8.5 8.5l.94-2.06 2.06-.94-2.06-.94L8.5 2.5l-.94 2.06-2.06.94zm10 10l.94 2.06.94-2.06 2.06-.94-2.06-.94-.94-2.06-.94 2.06-2.06.94z\"/><path d=\"M17.41 7.96l-1.37-1.37c-.4-.4-.92-.59-1.43-.59-.52 0-1.04.2-1.43.59L10.3 9.45l-7.72 7.72c-.78.78-.78 2.05 0 2.83L4 21.41c.39.39.9.59 1.41.59.51 0 1.02-.2 1.41-.59l7.78-7.78 2.81-2.81c.8-.78.8-2.07 0-2.86zM5.41 20L4 18.59l7.72-7.72 1.47 1.35L5.41 20z\"/>\n",
              "  </svg>\n",
              "      </button>\n",
              "      \n",
              "  <style>\n",
              "    .colab-df-container {\n",
              "      display:flex;\n",
              "      flex-wrap:wrap;\n",
              "      gap: 12px;\n",
              "    }\n",
              "\n",
              "    .colab-df-convert {\n",
              "      background-color: #E8F0FE;\n",
              "      border: none;\n",
              "      border-radius: 50%;\n",
              "      cursor: pointer;\n",
              "      display: none;\n",
              "      fill: #1967D2;\n",
              "      height: 32px;\n",
              "      padding: 0 0 0 0;\n",
              "      width: 32px;\n",
              "    }\n",
              "\n",
              "    .colab-df-convert:hover {\n",
              "      background-color: #E2EBFA;\n",
              "      box-shadow: 0px 1px 2px rgba(60, 64, 67, 0.3), 0px 1px 3px 1px rgba(60, 64, 67, 0.15);\n",
              "      fill: #174EA6;\n",
              "    }\n",
              "\n",
              "    [theme=dark] .colab-df-convert {\n",
              "      background-color: #3B4455;\n",
              "      fill: #D2E3FC;\n",
              "    }\n",
              "\n",
              "    [theme=dark] .colab-df-convert:hover {\n",
              "      background-color: #434B5C;\n",
              "      box-shadow: 0px 1px 3px 1px rgba(0, 0, 0, 0.15);\n",
              "      filter: drop-shadow(0px 1px 2px rgba(0, 0, 0, 0.3));\n",
              "      fill: #FFFFFF;\n",
              "    }\n",
              "  </style>\n",
              "\n",
              "      <script>\n",
              "        const buttonEl =\n",
              "          document.querySelector('#df-6d9491ec-0876-4b11-b483-ee4bb6eeb819 button.colab-df-convert');\n",
              "        buttonEl.style.display =\n",
              "          google.colab.kernel.accessAllowed ? 'block' : 'none';\n",
              "\n",
              "        async function convertToInteractive(key) {\n",
              "          const element = document.querySelector('#df-6d9491ec-0876-4b11-b483-ee4bb6eeb819');\n",
              "          const dataTable =\n",
              "            await google.colab.kernel.invokeFunction('convertToInteractive',\n",
              "                                                     [key], {});\n",
              "          if (!dataTable) return;\n",
              "\n",
              "          const docLinkHtml = 'Like what you see? Visit the ' +\n",
              "            '<a target=\"_blank\" href=https://colab.research.google.com/notebooks/data_table.ipynb>data table notebook</a>'\n",
              "            + ' to learn more about interactive tables.';\n",
              "          element.innerHTML = '';\n",
              "          dataTable['output_type'] = 'display_data';\n",
              "          await google.colab.output.renderOutput(dataTable, element);\n",
              "          const docLink = document.createElement('div');\n",
              "          docLink.innerHTML = docLinkHtml;\n",
              "          element.appendChild(docLink);\n",
              "        }\n",
              "      </script>\n",
              "    </div>\n",
              "  </div>\n",
              "  "
            ],
            "text/plain": [
              "         1         2         3   ...        24        25        26\n",
              "0  0.688296  0.767846  0.817692  ...  0.988470  0.988470  0.988470\n",
              "1  0.705387  0.762483  0.813278  ...  0.987509  0.987509  0.987509\n",
              "2  0.711884  0.780805  0.818520  ...  0.989108  0.989108  0.989108\n",
              "3  0.702497  0.770106  0.812523  ...  0.988512  0.988512  0.988512\n",
              "4  0.699237  0.772220  0.820116  ...  0.988334  0.988334  0.988334\n",
              "\n",
              "[5 rows x 26 columns]"
            ]
          },
          "metadata": {},
          "execution_count": 46
        }
      ],
      "source": [
        "clf_train_scores"
      ]
    },
    {
      "cell_type": "code",
      "execution_count": 47,
      "metadata": {
        "id": "LAiXXD3mzStM",
        "colab": {
          "base_uri": "https://localhost:8080/",
          "height": 270
        },
        "outputId": "c2852d4f-978d-4891-ed7a-26e340532e41"
      },
      "outputs": [
        {
          "output_type": "execute_result",
          "data": {
            "text/html": [
              "\n",
              "  <div id=\"df-d4072105-ba1e-4f6d-b173-8dd92aa2f9db\">\n",
              "    <div class=\"colab-df-container\">\n",
              "      <div>\n",
              "<style scoped>\n",
              "    .dataframe tbody tr th:only-of-type {\n",
              "        vertical-align: middle;\n",
              "    }\n",
              "\n",
              "    .dataframe tbody tr th {\n",
              "        vertical-align: top;\n",
              "    }\n",
              "\n",
              "    .dataframe thead th {\n",
              "        text-align: right;\n",
              "    }\n",
              "</style>\n",
              "<table border=\"1\" class=\"dataframe\">\n",
              "  <thead>\n",
              "    <tr style=\"text-align: right;\">\n",
              "      <th></th>\n",
              "      <th>1</th>\n",
              "      <th>2</th>\n",
              "      <th>3</th>\n",
              "      <th>4</th>\n",
              "      <th>5</th>\n",
              "      <th>6</th>\n",
              "      <th>7</th>\n",
              "      <th>8</th>\n",
              "      <th>9</th>\n",
              "      <th>10</th>\n",
              "      <th>11</th>\n",
              "      <th>12</th>\n",
              "      <th>13</th>\n",
              "      <th>14</th>\n",
              "      <th>15</th>\n",
              "      <th>16</th>\n",
              "      <th>17</th>\n",
              "      <th>18</th>\n",
              "      <th>19</th>\n",
              "      <th>20</th>\n",
              "      <th>21</th>\n",
              "      <th>22</th>\n",
              "      <th>23</th>\n",
              "      <th>24</th>\n",
              "      <th>25</th>\n",
              "      <th>26</th>\n",
              "    </tr>\n",
              "  </thead>\n",
              "  <tbody>\n",
              "    <tr>\n",
              "      <th>0</th>\n",
              "      <td>0.672537</td>\n",
              "      <td>0.742468</td>\n",
              "      <td>0.744130</td>\n",
              "      <td>0.743190</td>\n",
              "      <td>0.708043</td>\n",
              "      <td>0.696498</td>\n",
              "      <td>0.648076</td>\n",
              "      <td>0.614973</td>\n",
              "      <td>0.621873</td>\n",
              "      <td>0.606461</td>\n",
              "      <td>0.610424</td>\n",
              "      <td>0.587197</td>\n",
              "      <td>0.588577</td>\n",
              "      <td>0.575305</td>\n",
              "      <td>0.576871</td>\n",
              "      <td>0.578918</td>\n",
              "      <td>0.580319</td>\n",
              "      <td>0.581293</td>\n",
              "      <td>0.555803</td>\n",
              "      <td>0.556100</td>\n",
              "      <td>0.556100</td>\n",
              "      <td>0.556100</td>\n",
              "      <td>0.556100</td>\n",
              "      <td>0.556100</td>\n",
              "      <td>0.556100</td>\n",
              "      <td>0.556100</td>\n",
              "    </tr>\n",
              "    <tr>\n",
              "      <th>1</th>\n",
              "      <td>0.699633</td>\n",
              "      <td>0.721999</td>\n",
              "      <td>0.751183</td>\n",
              "      <td>0.718030</td>\n",
              "      <td>0.736438</td>\n",
              "      <td>0.731020</td>\n",
              "      <td>0.655524</td>\n",
              "      <td>0.621546</td>\n",
              "      <td>0.546728</td>\n",
              "      <td>0.572794</td>\n",
              "      <td>0.561573</td>\n",
              "      <td>0.515657</td>\n",
              "      <td>0.519680</td>\n",
              "      <td>0.523057</td>\n",
              "      <td>0.524886</td>\n",
              "      <td>0.509728</td>\n",
              "      <td>0.525615</td>\n",
              "      <td>0.525321</td>\n",
              "      <td>0.525321</td>\n",
              "      <td>0.525321</td>\n",
              "      <td>0.525321</td>\n",
              "      <td>0.525321</td>\n",
              "      <td>0.525321</td>\n",
              "      <td>0.525321</td>\n",
              "      <td>0.525321</td>\n",
              "      <td>0.525321</td>\n",
              "    </tr>\n",
              "    <tr>\n",
              "      <th>2</th>\n",
              "      <td>0.638815</td>\n",
              "      <td>0.658418</td>\n",
              "      <td>0.707337</td>\n",
              "      <td>0.738104</td>\n",
              "      <td>0.726543</td>\n",
              "      <td>0.729153</td>\n",
              "      <td>0.682278</td>\n",
              "      <td>0.655821</td>\n",
              "      <td>0.561397</td>\n",
              "      <td>0.547751</td>\n",
              "      <td>0.543389</td>\n",
              "      <td>0.531602</td>\n",
              "      <td>0.553824</td>\n",
              "      <td>0.555423</td>\n",
              "      <td>0.556494</td>\n",
              "      <td>0.556507</td>\n",
              "      <td>0.556875</td>\n",
              "      <td>0.556875</td>\n",
              "      <td>0.556875</td>\n",
              "      <td>0.556875</td>\n",
              "      <td>0.556875</td>\n",
              "      <td>0.556875</td>\n",
              "      <td>0.556875</td>\n",
              "      <td>0.556875</td>\n",
              "      <td>0.556875</td>\n",
              "      <td>0.556875</td>\n",
              "    </tr>\n",
              "    <tr>\n",
              "      <th>3</th>\n",
              "      <td>0.691849</td>\n",
              "      <td>0.679902</td>\n",
              "      <td>0.721219</td>\n",
              "      <td>0.735328</td>\n",
              "      <td>0.653995</td>\n",
              "      <td>0.615905</td>\n",
              "      <td>0.612055</td>\n",
              "      <td>0.542324</td>\n",
              "      <td>0.507531</td>\n",
              "      <td>0.496706</td>\n",
              "      <td>0.499482</td>\n",
              "      <td>0.508785</td>\n",
              "      <td>0.514925</td>\n",
              "      <td>0.515922</td>\n",
              "      <td>0.520921</td>\n",
              "      <td>0.521180</td>\n",
              "      <td>0.520786</td>\n",
              "      <td>0.522293</td>\n",
              "      <td>0.509101</td>\n",
              "      <td>0.494560</td>\n",
              "      <td>0.494992</td>\n",
              "      <td>0.494813</td>\n",
              "      <td>0.495216</td>\n",
              "      <td>0.495315</td>\n",
              "      <td>0.495315</td>\n",
              "      <td>0.495315</td>\n",
              "    </tr>\n",
              "    <tr>\n",
              "      <th>4</th>\n",
              "      <td>0.629828</td>\n",
              "      <td>0.685277</td>\n",
              "      <td>0.723163</td>\n",
              "      <td>0.750926</td>\n",
              "      <td>0.736633</td>\n",
              "      <td>0.748317</td>\n",
              "      <td>0.655916</td>\n",
              "      <td>0.638978</td>\n",
              "      <td>0.606585</td>\n",
              "      <td>0.540752</td>\n",
              "      <td>0.508340</td>\n",
              "      <td>0.515809</td>\n",
              "      <td>0.511212</td>\n",
              "      <td>0.512376</td>\n",
              "      <td>0.500965</td>\n",
              "      <td>0.506299</td>\n",
              "      <td>0.506960</td>\n",
              "      <td>0.506960</td>\n",
              "      <td>0.506960</td>\n",
              "      <td>0.506960</td>\n",
              "      <td>0.506960</td>\n",
              "      <td>0.506960</td>\n",
              "      <td>0.506960</td>\n",
              "      <td>0.506960</td>\n",
              "      <td>0.506960</td>\n",
              "      <td>0.506960</td>\n",
              "    </tr>\n",
              "  </tbody>\n",
              "</table>\n",
              "</div>\n",
              "      <button class=\"colab-df-convert\" onclick=\"convertToInteractive('df-d4072105-ba1e-4f6d-b173-8dd92aa2f9db')\"\n",
              "              title=\"Convert this dataframe to an interactive table.\"\n",
              "              style=\"display:none;\">\n",
              "        \n",
              "  <svg xmlns=\"http://www.w3.org/2000/svg\" height=\"24px\"viewBox=\"0 0 24 24\"\n",
              "       width=\"24px\">\n",
              "    <path d=\"M0 0h24v24H0V0z\" fill=\"none\"/>\n",
              "    <path d=\"M18.56 5.44l.94 2.06.94-2.06 2.06-.94-2.06-.94-.94-2.06-.94 2.06-2.06.94zm-11 1L8.5 8.5l.94-2.06 2.06-.94-2.06-.94L8.5 2.5l-.94 2.06-2.06.94zm10 10l.94 2.06.94-2.06 2.06-.94-2.06-.94-.94-2.06-.94 2.06-2.06.94z\"/><path d=\"M17.41 7.96l-1.37-1.37c-.4-.4-.92-.59-1.43-.59-.52 0-1.04.2-1.43.59L10.3 9.45l-7.72 7.72c-.78.78-.78 2.05 0 2.83L4 21.41c.39.39.9.59 1.41.59.51 0 1.02-.2 1.41-.59l7.78-7.78 2.81-2.81c.8-.78.8-2.07 0-2.86zM5.41 20L4 18.59l7.72-7.72 1.47 1.35L5.41 20z\"/>\n",
              "  </svg>\n",
              "      </button>\n",
              "      \n",
              "  <style>\n",
              "    .colab-df-container {\n",
              "      display:flex;\n",
              "      flex-wrap:wrap;\n",
              "      gap: 12px;\n",
              "    }\n",
              "\n",
              "    .colab-df-convert {\n",
              "      background-color: #E8F0FE;\n",
              "      border: none;\n",
              "      border-radius: 50%;\n",
              "      cursor: pointer;\n",
              "      display: none;\n",
              "      fill: #1967D2;\n",
              "      height: 32px;\n",
              "      padding: 0 0 0 0;\n",
              "      width: 32px;\n",
              "    }\n",
              "\n",
              "    .colab-df-convert:hover {\n",
              "      background-color: #E2EBFA;\n",
              "      box-shadow: 0px 1px 2px rgba(60, 64, 67, 0.3), 0px 1px 3px 1px rgba(60, 64, 67, 0.15);\n",
              "      fill: #174EA6;\n",
              "    }\n",
              "\n",
              "    [theme=dark] .colab-df-convert {\n",
              "      background-color: #3B4455;\n",
              "      fill: #D2E3FC;\n",
              "    }\n",
              "\n",
              "    [theme=dark] .colab-df-convert:hover {\n",
              "      background-color: #434B5C;\n",
              "      box-shadow: 0px 1px 3px 1px rgba(0, 0, 0, 0.15);\n",
              "      filter: drop-shadow(0px 1px 2px rgba(0, 0, 0, 0.3));\n",
              "      fill: #FFFFFF;\n",
              "    }\n",
              "  </style>\n",
              "\n",
              "      <script>\n",
              "        const buttonEl =\n",
              "          document.querySelector('#df-d4072105-ba1e-4f6d-b173-8dd92aa2f9db button.colab-df-convert');\n",
              "        buttonEl.style.display =\n",
              "          google.colab.kernel.accessAllowed ? 'block' : 'none';\n",
              "\n",
              "        async function convertToInteractive(key) {\n",
              "          const element = document.querySelector('#df-d4072105-ba1e-4f6d-b173-8dd92aa2f9db');\n",
              "          const dataTable =\n",
              "            await google.colab.kernel.invokeFunction('convertToInteractive',\n",
              "                                                     [key], {});\n",
              "          if (!dataTable) return;\n",
              "\n",
              "          const docLinkHtml = 'Like what you see? Visit the ' +\n",
              "            '<a target=\"_blank\" href=https://colab.research.google.com/notebooks/data_table.ipynb>data table notebook</a>'\n",
              "            + ' to learn more about interactive tables.';\n",
              "          element.innerHTML = '';\n",
              "          dataTable['output_type'] = 'display_data';\n",
              "          await google.colab.output.renderOutput(dataTable, element);\n",
              "          const docLink = document.createElement('div');\n",
              "          docLink.innerHTML = docLinkHtml;\n",
              "          element.appendChild(docLink);\n",
              "        }\n",
              "      </script>\n",
              "    </div>\n",
              "  </div>\n",
              "  "
            ],
            "text/plain": [
              "         1         2         3   ...        24        25        26\n",
              "0  0.672537  0.742468  0.744130  ...  0.556100  0.556100  0.556100\n",
              "1  0.699633  0.721999  0.751183  ...  0.525321  0.525321  0.525321\n",
              "2  0.638815  0.658418  0.707337  ...  0.556875  0.556875  0.556875\n",
              "3  0.691849  0.679902  0.721219  ...  0.495315  0.495315  0.495315\n",
              "4  0.629828  0.685277  0.723163  ...  0.506960  0.506960  0.506960\n",
              "\n",
              "[5 rows x 26 columns]"
            ]
          },
          "metadata": {},
          "execution_count": 47
        }
      ],
      "source": [
        "clf_valid_scores"
      ]
    },
    {
      "cell_type": "code",
      "execution_count": 48,
      "metadata": {
        "id": "n4RU4rpjzStM"
      },
      "outputs": [],
      "source": [
        "roc_entrenamiento=[]\n",
        "for c in clf_train_scores.columns:\n",
        "    promedio_roc=mean(clf_train_scores[c])\n",
        "    roc_entrenamiento.append(promedio_roc)\n",
        "    \n",
        "roc_validacion=[]\n",
        "for c in clf_valid_scores.columns:\n",
        "    promedio_roc=mean(clf_valid_scores[c])\n",
        "    roc_validacion.append(promedio_roc)\n",
        "\n",
        "prof=[]\n",
        "for c in bd_leaves.columns:\n",
        "    id_=mean(bd_leaves[c])\n",
        "    prof.append(id_)"
      ]
    },
    {
      "cell_type": "code",
      "execution_count": 49,
      "metadata": {
        "id": "yAxQk46PzStN",
        "colab": {
          "base_uri": "https://localhost:8080/"
        },
        "outputId": "7c4d202f-9a99-4230-c0e3-2a0345b2b15d"
      },
      "outputs": [
        {
          "output_type": "execute_result",
          "data": {
            "text/plain": [
              "[0.7014601612208482,\n",
              " 0.7706919560216481,\n",
              " 0.8164257033785756,\n",
              " 0.8474798231346187,\n",
              " 0.8798353893966558,\n",
              " 0.9093230423518474,\n",
              " 0.935018259500195,\n",
              " 0.9542075948624864,\n",
              " 0.9683665581413374,\n",
              " 0.9761804047541844,\n",
              " 0.9808819940079936,\n",
              " 0.9842898856176155,\n",
              " 0.9858744964341509,\n",
              " 0.9869202549542285,\n",
              " 0.9876233264941614,\n",
              " 0.9878756769616489,\n",
              " 0.9880409910554017,\n",
              " 0.9882212427829273,\n",
              " 0.9882876117283572,\n",
              " 0.9883023372952164,\n",
              " 0.9883189082492075,\n",
              " 0.9883447290231222,\n",
              " 0.9883762571327346,\n",
              " 0.9883862548104393,\n",
              " 0.9883862548104393,\n",
              " 0.9883862548104393]"
            ]
          },
          "metadata": {},
          "execution_count": 49
        }
      ],
      "source": [
        "roc_entrenamiento"
      ]
    },
    {
      "cell_type": "code",
      "execution_count": 50,
      "metadata": {
        "id": "ttapyfEpzStN",
        "colab": {
          "base_uri": "https://localhost:8080/"
        },
        "outputId": "916b08d6-df7b-4bf1-b8c6-f16882fb6833"
      },
      "outputs": [
        {
          "output_type": "execute_result",
          "data": {
            "text/plain": [
              "[0.6665324744660883,\n",
              " 0.6976126383047073,\n",
              " 0.7294063031118687,\n",
              " 0.7371156488268429,\n",
              " 0.7123306612334692,\n",
              " 0.7041788080016822,\n",
              " 0.6507698498375473,\n",
              " 0.6147286643465492,\n",
              " 0.5688226237584819,\n",
              " 0.5528929104257255,\n",
              " 0.5446415705110418,\n",
              " 0.5318099329240983,\n",
              " 0.5376436479120746,\n",
              " 0.5364165499361688,\n",
              " 0.5360273329886741,\n",
              " 0.5345263737534195,\n",
              " 0.5381111636930527,\n",
              " 0.5385483086278695,\n",
              " 0.5308119770869176,\n",
              " 0.52796333486238,\n",
              " 0.5280496784972553,\n",
              " 0.528013861878344,\n",
              " 0.5280944492708942,\n",
              " 0.5281142763277915,\n",
              " 0.5281142763277915,\n",
              " 0.5281142763277915]"
            ]
          },
          "metadata": {},
          "execution_count": 50
        }
      ],
      "source": [
        "roc_validacion"
      ]
    },
    {
      "cell_type": "markdown",
      "source": [
        "Vemos la grafica de validación"
      ],
      "metadata": {
        "id": "1LuDzemPg265"
      }
    },
    {
      "cell_type": "code",
      "execution_count": 51,
      "metadata": {
        "scrolled": false,
        "id": "kSlR1uSwzStN",
        "colab": {
          "base_uri": "https://localhost:8080/",
          "height": 347
        },
        "outputId": "35766fb9-f60b-4ec3-f463-c0e418f5e9e4"
      },
      "outputs": [
        {
          "output_type": "display_data",
          "data": {
            "image/png": "[encoded data removed]",
            "text/plain": [
              "<Figure size 720x360 with 1 Axes>"
            ]
          },
          "metadata": {
            "needs_background": "light"
          }
        }
      ],
      "source": [
        "fig, ax = plt.subplots(figsize=(10,5))\n",
        "\n",
        "ax.set_title(\"Entrenamiento Validación Sesgo\",fontsize=20)\n",
        "ax.plot(prof,roc_entrenamiento,color=\"blue\",linewidth=3,label=\"Entrenamiento\")\n",
        "ax.plot(prof,roc_validacion,color=\"red\",linewidth=3,label=\"Validacion\")\n",
        "#gca().yaxis.set_major_formatter(\"{x:,.0%}\")\n",
        "xticks(fontsize=16)\n",
        "yticks(fontsize=16)\n",
        "axvline(4)\n",
        "legend(fontsize=15)\n",
        "show()"
      ]
    },
    {
      "cell_type": "markdown",
      "source": [
        "Obtenemos los valores para hacer la comparación de modelos"
      ],
      "metadata": {
        "id": "71I3VyZfgvl0"
      }
    },
    {
      "cell_type": "markdown",
      "source": [
        "##KS"
      ],
      "metadata": {
        "id": "VPv9UhYOr3Oh"
      }
    },
    {
      "cell_type": "code",
      "source": [
        "from scipy.stats import ks_2samp\n",
        "y_pred = classifier_gs.predict(X_test)\n",
        "Ks=ks_2samp(y_test,y_pred)\n",
        "Ks"
      ],
      "metadata": {
        "id": "2uPfUWL1RrJO",
        "colab": {
          "base_uri": "https://localhost:8080/"
        },
        "outputId": "432d8c2e-fbea-4c5a-c0ef-ba88f6e0a0c4"
      },
      "execution_count": 52,
      "outputs": [
        {
          "output_type": "execute_result",
          "data": {
            "text/plain": [
              "Ks_2sampResult(statistic=0.006546489563567362, pvalue=0.9776182955227385)"
            ]
          },
          "metadata": {},
          "execution_count": 52
        }
      ]
    },
    {
      "cell_type": "markdown",
      "source": [
        "## Gini"
      ],
      "metadata": {
        "id": "B6z4aiUDr4yj"
      }
    },
    {
      "cell_type": "code",
      "source": [
        "gini=2*tree_gs_perf['roc_auc']-1\n",
        "gini"
      ],
      "metadata": {
        "colab": {
          "base_uri": "https://localhost:8080/"
        },
        "id": "l-2iWGO6rsOs",
        "outputId": "19b2c509-1860-4d94-babb-13092ea5f5dd"
      },
      "execution_count": 53,
      "outputs": [
        {
          "output_type": "execute_result",
          "data": {
            "text/plain": [
              "0.5252284086206347"
            ]
          },
          "metadata": {},
          "execution_count": 53
        }
      ]
    },
    {
      "cell_type": "markdown",
      "source": [
        "## Cross validate"
      ],
      "metadata": {
        "id": "PozM6ivyEEde"
      }
    },
    {
      "cell_type": "markdown",
      "source": [
        "Este dato se puede consultar mas arriba para tener mas detalles del mismo y no repetir una linea de ejecución."
      ],
      "metadata": {
        "id": "5p5IeAS53hcb"
      }
    }
  ],
  "metadata": {
    "kernelspec": {
      "display_name": "Python 3",
      "language": "python",
      "name": "python3"
    },
    "language_info": {
      "codemirror_mode": {
        "name": "ipython",
        "version": 3
      },
      "file_extension": ".py",
      "mimetype": "text/x-python",
      "name": "python",
      "nbconvert_exporter": "python",
      "pygments_lexer": "ipython3",
      "version": "3.7.6"
    },
    "colab": {
      "name": " Árbol de clasificación_Final.ipynb",
      "provenance": [],
      "collapsed_sections": []
    }
  },
  "nbformat": 4,
  "nbformat_minor": 0
}