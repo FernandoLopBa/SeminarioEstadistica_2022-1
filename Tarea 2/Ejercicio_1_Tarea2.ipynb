{
 "cells": [
  {
   "cell_type": "code",
   "execution_count": 335,
   "id": "8de4f384",
   "metadata": {},
   "outputs": [],
   "source": [
    "import pandas as pd\n",
    "from sklearn.model_selection import train_test_split \n",
    "from sklearn.linear_model import LogisticRegression\n",
    "from sklearn.metrics import roc_curve, auc\n",
    "from pylab import*\n",
    "import seaborn as sns"
   ]
  },
  {
   "cell_type": "code",
   "execution_count": 336,
   "id": "9a34eec9",
   "metadata": {},
   "outputs": [],
   "source": [
    "ruta=\"C:/Users/DELL/Documentos 2/Seminario Rodrigo/Proyecto/\"\n",
    "base=\"ini_final.csv\"\n",
    "bd=pd.read_csv(ruta+base)\n",
    "bd.Comp_final=bd.Comp_final.replace((0,1),(1,0))"
   ]
  },
  {
   "cell_type": "code",
   "execution_count": 337,
   "id": "e3fa67ba",
   "metadata": {},
   "outputs": [
    {
     "data": {
      "text/html": [
       "<div>\n",
       "<style scoped>\n",
       "    .dataframe tbody tr th:only-of-type {\n",
       "        vertical-align: middle;\n",
       "    }\n",
       "\n",
       "    .dataframe tbody tr th {\n",
       "        vertical-align: top;\n",
       "    }\n",
       "\n",
       "    .dataframe thead th {\n",
       "        text-align: right;\n",
       "    }\n",
       "</style>\n",
       "<table border=\"1\" class=\"dataframe\">\n",
       "  <thead>\n",
       "    <tr style=\"text-align: right;\">\n",
       "      <th></th>\n",
       "      <th>Unnamed: 0</th>\n",
       "      <th>comp_interno1</th>\n",
       "      <th>comp_interno2</th>\n",
       "      <th>comp_interno4</th>\n",
       "      <th>categoria1</th>\n",
       "      <th>categoria3</th>\n",
       "      <th>comp_mixto1</th>\n",
       "      <th>comp_externo1</th>\n",
       "      <th>comp_externo2</th>\n",
       "      <th>comp_externo3</th>\n",
       "      <th>Comp_final</th>\n",
       "    </tr>\n",
       "  </thead>\n",
       "  <tbody>\n",
       "    <tr>\n",
       "      <th>0</th>\n",
       "      <td>1</td>\n",
       "      <td>0.000000</td>\n",
       "      <td>1</td>\n",
       "      <td>45</td>\n",
       "      <td>1</td>\n",
       "      <td>173</td>\n",
       "      <td>0.33334</td>\n",
       "      <td>40.579710</td>\n",
       "      <td>2.872738</td>\n",
       "      <td>62.0</td>\n",
       "      <td>0</td>\n",
       "    </tr>\n",
       "    <tr>\n",
       "      <th>1</th>\n",
       "      <td>2</td>\n",
       "      <td>0.000000</td>\n",
       "      <td>1</td>\n",
       "      <td>45</td>\n",
       "      <td>1</td>\n",
       "      <td>170</td>\n",
       "      <td>0.29186</td>\n",
       "      <td>NaN</td>\n",
       "      <td>NaN</td>\n",
       "      <td>119.0</td>\n",
       "      <td>0</td>\n",
       "    </tr>\n",
       "    <tr>\n",
       "      <th>2</th>\n",
       "      <td>3</td>\n",
       "      <td>0.000000</td>\n",
       "      <td>1</td>\n",
       "      <td>59</td>\n",
       "      <td>3</td>\n",
       "      <td>159</td>\n",
       "      <td>0.29112</td>\n",
       "      <td>349.275362</td>\n",
       "      <td>34.616490</td>\n",
       "      <td>94.0</td>\n",
       "      <td>0</td>\n",
       "    </tr>\n",
       "    <tr>\n",
       "      <th>3</th>\n",
       "      <td>4</td>\n",
       "      <td>2026.342452</td>\n",
       "      <td>1</td>\n",
       "      <td>67</td>\n",
       "      <td>2</td>\n",
       "      <td>146</td>\n",
       "      <td>0.27318</td>\n",
       "      <td>276.811594</td>\n",
       "      <td>27.434645</td>\n",
       "      <td>125.0</td>\n",
       "      <td>0</td>\n",
       "    </tr>\n",
       "    <tr>\n",
       "      <th>4</th>\n",
       "      <td>5</td>\n",
       "      <td>3546.099291</td>\n",
       "      <td>1</td>\n",
       "      <td>70</td>\n",
       "      <td>1</td>\n",
       "      <td>160</td>\n",
       "      <td>0.32988</td>\n",
       "      <td>640.579710</td>\n",
       "      <td>63.487504</td>\n",
       "      <td>81.0</td>\n",
       "      <td>0</td>\n",
       "    </tr>\n",
       "  </tbody>\n",
       "</table>\n",
       "</div>"
      ],
      "text/plain": [
       "   Unnamed: 0  comp_interno1  comp_interno2  comp_interno4  categoria1  \\\n",
       "0           1       0.000000              1             45           1   \n",
       "1           2       0.000000              1             45           1   \n",
       "2           3       0.000000              1             59           3   \n",
       "3           4    2026.342452              1             67           2   \n",
       "4           5    3546.099291              1             70           1   \n",
       "\n",
       "   categoria3  comp_mixto1  comp_externo1  comp_externo2  comp_externo3  \\\n",
       "0         173      0.33334      40.579710       2.872738           62.0   \n",
       "1         170      0.29186            NaN            NaN          119.0   \n",
       "2         159      0.29112     349.275362      34.616490           94.0   \n",
       "3         146      0.27318     276.811594      27.434645          125.0   \n",
       "4         160      0.32988     640.579710      63.487504           81.0   \n",
       "\n",
       "   Comp_final  \n",
       "0           0  \n",
       "1           0  \n",
       "2           0  \n",
       "3           0  \n",
       "4           0  "
      ]
     },
     "execution_count": 337,
     "metadata": {},
     "output_type": "execute_result"
    }
   ],
   "source": [
    "bd.head()"
   ]
  },
  {
   "cell_type": "code",
   "execution_count": 338,
   "id": "38e8a7e8",
   "metadata": {},
   "outputs": [
    {
     "name": "stdout",
     "output_type": "stream",
     "text": [
      "<class 'pandas.core.frame.DataFrame'>\n",
      "RangeIndex: 35131 entries, 0 to 35130\n",
      "Data columns (total 11 columns):\n",
      " #   Column         Non-Null Count  Dtype  \n",
      "---  ------         --------------  -----  \n",
      " 0   Unnamed: 0     35131 non-null  int64  \n",
      " 1   comp_interno1  35131 non-null  float64\n",
      " 2   comp_interno2  35131 non-null  int64  \n",
      " 3   comp_interno4  35131 non-null  int64  \n",
      " 4   categoria1     35131 non-null  int64  \n",
      " 5   categoria3     35131 non-null  int64  \n",
      " 6   comp_mixto1    35131 non-null  float64\n",
      " 7   comp_externo1  33416 non-null  float64\n",
      " 8   comp_externo2  30826 non-null  float64\n",
      " 9   comp_externo3  35127 non-null  float64\n",
      " 10  Comp_final     35131 non-null  int64  \n",
      "dtypes: float64(5), int64(6)\n",
      "memory usage: 2.9 MB\n"
     ]
    }
   ],
   "source": [
    "bd.info()"
   ]
  },
  {
   "cell_type": "code",
   "execution_count": 271,
   "id": "3a011bc9",
   "metadata": {},
   "outputs": [
    {
     "data": {
      "text/plain": [
       "0    0.811079\n",
       "1    0.188921\n",
       "Name: Comp_final, dtype: float64"
      ]
     },
     "execution_count": 271,
     "metadata": {},
     "output_type": "execute_result"
    }
   ],
   "source": [
    "bd['Comp_final'].value_counts(normalize=True)"
   ]
  },
  {
   "cell_type": "code",
   "execution_count": 272,
   "id": "f22ca697",
   "metadata": {},
   "outputs": [
    {
     "data": {
      "text/plain": [
       "1    0.701546\n",
       "0    0.298454\n",
       "Name: comp_interno2, dtype: float64"
      ]
     },
     "execution_count": 272,
     "metadata": {},
     "output_type": "execute_result"
    }
   ],
   "source": [
    "bd['comp_interno2'].value_counts(normalize=True)"
   ]
  },
  {
   "cell_type": "code",
   "execution_count": 273,
   "id": "50cf3fa4",
   "metadata": {},
   "outputs": [
    {
     "data": {
      "text/plain": [
       "75    0.046882\n",
       "48    0.039709\n",
       "51    0.039282\n",
       "50    0.038883\n",
       "47    0.038200\n",
       "49    0.037972\n",
       "52    0.037915\n",
       "53    0.036606\n",
       "46    0.035923\n",
       "54    0.034585\n",
       "55    0.033418\n",
       "45    0.032991\n",
       "56    0.030827\n",
       "57    0.030144\n",
       "58    0.029660\n",
       "44    0.029575\n",
       "59    0.027981\n",
       "60    0.026273\n",
       "62    0.024964\n",
       "43    0.024366\n",
       "61    0.024138\n",
       "64    0.022971\n",
       "63    0.021662\n",
       "74    0.021320\n",
       "71    0.021292\n",
       "65    0.020751\n",
       "66    0.020523\n",
       "67    0.019726\n",
       "73    0.019071\n",
       "72    0.019043\n",
       "70    0.018502\n",
       "42    0.018161\n",
       "68    0.018018\n",
       "69    0.017791\n",
       "41    0.013521\n",
       "40    0.009080\n",
       "39    0.006405\n",
       "38    0.003160\n",
       "37    0.002363\n",
       "36    0.001651\n",
       "76    0.001309\n",
       "35    0.000854\n",
       "34    0.000655\n",
       "33    0.000541\n",
       "32    0.000285\n",
       "77    0.000285\n",
       "30    0.000256\n",
       "31    0.000199\n",
       "27    0.000171\n",
       "78    0.000057\n",
       "29    0.000028\n",
       "79    0.000028\n",
       "28    0.000028\n",
       "Name: comp_interno4, dtype: float64"
      ]
     },
     "execution_count": 273,
     "metadata": {},
     "output_type": "execute_result"
    }
   ],
   "source": [
    "bd['comp_interno4'].value_counts(normalize=True)"
   ]
  },
  {
   "cell_type": "code",
   "execution_count": 274,
   "id": "895d6c92",
   "metadata": {},
   "outputs": [
    {
     "data": {
      "text/plain": [
       "1    0.455410\n",
       "2    0.294839\n",
       "3    0.217472\n",
       "4    0.017506\n",
       "6    0.008938\n",
       "5    0.005835\n",
       "Name: categoria1, dtype: float64"
      ]
     },
     "execution_count": 274,
     "metadata": {},
     "output_type": "execute_result"
    }
   ],
   "source": [
    "bd['categoria1'].value_counts(normalize=True)"
   ]
  },
  {
   "cell_type": "code",
   "execution_count": 275,
   "id": "cc00afeb",
   "metadata": {},
   "outputs": [
    {
     "data": {
      "text/plain": [
       "146    0.145086\n",
       "164    0.137286\n",
       "159    0.102758\n",
       "160    0.076741\n",
       "156    0.043124\n",
       "151    0.036122\n",
       "169    0.035951\n",
       "170    0.035951\n",
       "166    0.033446\n",
       "154    0.033133\n",
       "167    0.031482\n",
       "175    0.030173\n",
       "148    0.025561\n",
       "147    0.025448\n",
       "168    0.025220\n",
       "173    0.021235\n",
       "176    0.019527\n",
       "171    0.019299\n",
       "162    0.017791\n",
       "161    0.015143\n",
       "163    0.011187\n",
       "158    0.010560\n",
       "155    0.010020\n",
       "153    0.009621\n",
       "149    0.008966\n",
       "152    0.008397\n",
       "177    0.008027\n",
       "157    0.007145\n",
       "172    0.005864\n",
       "165    0.005095\n",
       "150    0.003103\n",
       "174    0.001537\n",
       "Name: categoria3, dtype: float64"
      ]
     },
     "execution_count": 275,
     "metadata": {},
     "output_type": "execute_result"
    }
   ],
   "source": [
    "bd['categoria3'].value_counts(normalize=True)"
   ]
  },
  {
   "cell_type": "code",
   "execution_count": 276,
   "id": "d38b5561",
   "metadata": {},
   "outputs": [
    {
     "data": {
      "text/plain": [
       "-609.0    0.026134\n",
       " 132.0    0.024767\n",
       " 128.0    0.020753\n",
       " 129.0    0.019956\n",
       " 131.0    0.019216\n",
       "            ...   \n",
       "-89.0     0.000028\n",
       "-76.0     0.000028\n",
       " 159.0    0.000028\n",
       "-73.0     0.000028\n",
       "-80.0     0.000028\n",
       "Name: comp_externo3, Length: 232, dtype: float64"
      ]
     },
     "execution_count": 276,
     "metadata": {},
     "output_type": "execute_result"
    }
   ],
   "source": [
    "bd['comp_externo3'].value_counts(normalize=True)"
   ]
  },
  {
   "cell_type": "code",
   "execution_count": 277,
   "id": "7f2c8d6a",
   "metadata": {},
   "outputs": [],
   "source": [
    "#Hacemos validación y test\n",
    "X = bd.iloc[:,1:9].values\n",
    "y = bd.iloc[:, 10].values"
   ]
  },
  {
   "cell_type": "code",
   "execution_count": 278,
   "id": "257c63da",
   "metadata": {},
   "outputs": [
    {
     "data": {
      "text/plain": [
       "array([0, 0, 0, ..., 0, 0, 0], dtype=int64)"
      ]
     },
     "execution_count": 278,
     "metadata": {},
     "output_type": "execute_result"
    }
   ],
   "source": [
    "y"
   ]
  },
  {
   "cell_type": "code",
   "execution_count": 279,
   "id": "aca0a938",
   "metadata": {},
   "outputs": [],
   "source": [
    "from optbinning import OptimalBinning"
   ]
  },
  {
   "cell_type": "code",
   "execution_count": 280,
   "id": "ff91ebdc",
   "metadata": {},
   "outputs": [],
   "source": [
    "train, test = train_test_split(bd, test_size = 0.30, random_state = 100) "
   ]
  },
  {
   "cell_type": "code",
   "execution_count": 281,
   "id": "0f1b80b4",
   "metadata": {},
   "outputs": [
    {
     "name": "stdout",
     "output_type": "stream",
     "text": [
      "<class 'pandas.core.frame.DataFrame'>\n",
      "Int64Index: 24591 entries, 29340 to 14147\n",
      "Data columns (total 11 columns):\n",
      " #   Column         Non-Null Count  Dtype  \n",
      "---  ------         --------------  -----  \n",
      " 0   Unnamed: 0     24591 non-null  int64  \n",
      " 1   comp_interno1  24591 non-null  float64\n",
      " 2   comp_interno2  24591 non-null  int64  \n",
      " 3   comp_interno4  24591 non-null  int64  \n",
      " 4   categoria1     24591 non-null  int64  \n",
      " 5   categoria3     24591 non-null  int64  \n",
      " 6   comp_mixto1    24591 non-null  float64\n",
      " 7   comp_externo1  23372 non-null  float64\n",
      " 8   comp_externo2  21593 non-null  float64\n",
      " 9   comp_externo3  24588 non-null  float64\n",
      " 10  Comp_final     24591 non-null  int64  \n",
      "dtypes: float64(5), int64(6)\n",
      "memory usage: 2.3 MB\n"
     ]
    }
   ],
   "source": [
    "train.info()"
   ]
  },
  {
   "cell_type": "code",
   "execution_count": 282,
   "id": "a62a6805",
   "metadata": {},
   "outputs": [
    {
     "name": "stdout",
     "output_type": "stream",
     "text": [
      "<class 'pandas.core.frame.DataFrame'>\n",
      "Int64Index: 10540 entries, 11397 to 33289\n",
      "Data columns (total 11 columns):\n",
      " #   Column         Non-Null Count  Dtype  \n",
      "---  ------         --------------  -----  \n",
      " 0   Unnamed: 0     10540 non-null  int64  \n",
      " 1   comp_interno1  10540 non-null  float64\n",
      " 2   comp_interno2  10540 non-null  int64  \n",
      " 3   comp_interno4  10540 non-null  int64  \n",
      " 4   categoria1     10540 non-null  int64  \n",
      " 5   categoria3     10540 non-null  int64  \n",
      " 6   comp_mixto1    10540 non-null  float64\n",
      " 7   comp_externo1  10044 non-null  float64\n",
      " 8   comp_externo2  9233 non-null   float64\n",
      " 9   comp_externo3  10539 non-null  float64\n",
      " 10  Comp_final     10540 non-null  int64  \n",
      "dtypes: float64(5), int64(6)\n",
      "memory usage: 988.1 KB\n"
     ]
    }
   ],
   "source": [
    "test.info()"
   ]
  },
  {
   "cell_type": "code",
   "execution_count": 283,
   "id": "e5949321",
   "metadata": {},
   "outputs": [],
   "source": [
    "y = train.Comp_final"
   ]
  },
  {
   "cell_type": "code",
   "execution_count": 284,
   "id": "9c49f71b",
   "metadata": {},
   "outputs": [],
   "source": [
    "optb_comp_interno1 = OptimalBinning(name=\"comp_interno1\", dtype=\"numerical\", solver=\"cp\")\n",
    "optb_comp_interno2 = OptimalBinning(name=\"comp_interno2\", dtype=\"categorical\", solver=\"mip\")\n",
    "optb_comp_interno4 = OptimalBinning(name=\"comp_interno4\", dtype=\"categorical\", solver=\"mip\")\n",
    "optb_categoria3 = OptimalBinning(name=\"categoria3\", dtype=\"categorical\", solver=\"mip\")\n",
    "optb_categoria1 = OptimalBinning(name=\"categoria1\", dtype=\"categorical\", solver=\"mip\")\n",
    "optb_comp_mixto1 = OptimalBinning(name=\"comp_mixto1\", dtype=\"numerical\", solver=\"cp\")\n",
    "optb_comp_externo1 = OptimalBinning(name=\"comp_externo1\", dtype=\"numerical\", solver=\"cp\")\n",
    "optb_comp_externo2 = OptimalBinning(name=\"comp_externo2\", dtype=\"numerical\", solver=\"cp\")\n",
    "optb_comp_externo3 = OptimalBinning(name=\"comp_externo3\", dtype=\"numerical\", solver=\"cp\")"
   ]
  },
  {
   "cell_type": "code",
   "execution_count": 285,
   "id": "8a766819",
   "metadata": {},
   "outputs": [
    {
     "data": {
      "text/plain": [
       "OptimalBinning(name='comp_externo3')"
      ]
     },
     "execution_count": 285,
     "metadata": {},
     "output_type": "execute_result"
    }
   ],
   "source": [
    "optb_comp_interno1.fit(train[\"comp_interno1\"].values, y)\n",
    "optb_comp_interno2.fit(train[\"comp_interno2\"].values, y)\n",
    "optb_comp_interno4.fit(train[\"comp_interno4\"].values, y)\n",
    "optb_categoria3.fit(train[\"categoria3\"].values, y)\n",
    "optb_categoria1.fit(train[\"categoria1\"].values, y)\n",
    "optb_comp_mixto1.fit(train[\"comp_mixto1\"].values, y)\n",
    "optb_comp_externo1.fit(train[\"comp_externo1\"].values, y)\n",
    "optb_comp_externo2.fit(train[\"comp_externo2\"].values, y)\n",
    "optb_comp_externo3.fit(train[\"comp_externo3\"].values, y)"
   ]
  },
  {
   "cell_type": "code",
   "execution_count": 286,
   "id": "773b2b06",
   "metadata": {},
   "outputs": [
    {
     "data": {
      "text/plain": [
       "'Binning de comp_interno1:'"
      ]
     },
     "metadata": {},
     "output_type": "display_data"
    },
    {
     "data": {
      "text/plain": [
       "array([4.56000016e-05, 8.13069916e+02, 1.92350555e+03])"
      ]
     },
     "metadata": {},
     "output_type": "display_data"
    }
   ],
   "source": [
    "display(\"Binning de comp_interno1:\",optb_comp_interno1.splits)"
   ]
  },
  {
   "cell_type": "code",
   "execution_count": 287,
   "id": "092d41ed",
   "metadata": {},
   "outputs": [
    {
     "data": {
      "text/plain": [
       "'Binning de comp_interno2:'"
      ]
     },
     "metadata": {},
     "output_type": "display_data"
    },
    {
     "data": {
      "text/plain": [
       "[array([78, 73, 35, 30, 76, 69, 71], dtype=int64),\n",
       " array([74, 27, 32, 49], dtype=int64),\n",
       " array([41, 47], dtype=int64),\n",
       " array([70, 46, 51], dtype=int64),\n",
       " array([75, 48, 45], dtype=int64),\n",
       " array([63, 52, 67, 33], dtype=int64),\n",
       " array([68, 62, 56, 72], dtype=int64),\n",
       " array([42, 55], dtype=int64),\n",
       " array([54, 59, 58], dtype=int64),\n",
       " array([65, 57], dtype=int64),\n",
       " array([43, 61, 64], dtype=int64),\n",
       " array([53, 60], dtype=int64),\n",
       " array([37, 44, 66], dtype=int64),\n",
       " array([50, 36, 40, 39, 77, 34, 38, 31, 29], dtype=int64)]"
      ]
     },
     "metadata": {},
     "output_type": "display_data"
    }
   ],
   "source": [
    "display(\"Binning de comp_interno2:\",optb_comp_interno4.splits)"
   ]
  },
  {
   "cell_type": "code",
   "execution_count": 288,
   "id": "604d9fbf",
   "metadata": {},
   "outputs": [
    {
     "data": {
      "text/plain": [
       "'Binning de comp_interno4:'"
      ]
     },
     "metadata": {},
     "output_type": "display_data"
    },
    {
     "data": {
      "text/plain": [
       "[array([78, 73, 35, 30, 76, 69, 71], dtype=int64),\n",
       " array([74, 27, 32, 49], dtype=int64),\n",
       " array([41, 47], dtype=int64),\n",
       " array([70, 46, 51], dtype=int64),\n",
       " array([75, 48, 45], dtype=int64),\n",
       " array([63, 52, 67, 33], dtype=int64),\n",
       " array([68, 62, 56, 72], dtype=int64),\n",
       " array([42, 55], dtype=int64),\n",
       " array([54, 59, 58], dtype=int64),\n",
       " array([65, 57], dtype=int64),\n",
       " array([43, 61, 64], dtype=int64),\n",
       " array([53, 60], dtype=int64),\n",
       " array([37, 44, 66], dtype=int64),\n",
       " array([50, 36, 40, 39, 77, 34, 38, 31, 29], dtype=int64)]"
      ]
     },
     "metadata": {},
     "output_type": "display_data"
    }
   ],
   "source": [
    "display(\"Binning de comp_interno4:\",optb_comp_interno4.splits)"
   ]
  },
  {
   "cell_type": "code",
   "execution_count": 289,
   "id": "226e0a65",
   "metadata": {},
   "outputs": [
    {
     "data": {
      "text/plain": [
       "'Binning de categoria1:'"
      ]
     },
     "metadata": {},
     "output_type": "display_data"
    },
    {
     "data": {
      "text/plain": [
       "[array([3], dtype=int64),\n",
       " array([2, 4, 5], dtype=int64),\n",
       " array([1, 6], dtype=int64)]"
      ]
     },
     "metadata": {},
     "output_type": "display_data"
    }
   ],
   "source": [
    "display(\"Binning de categoria1:\",optb_categoria1.splits)"
   ]
  },
  {
   "cell_type": "code",
   "execution_count": 290,
   "id": "72780cca",
   "metadata": {},
   "outputs": [
    {
     "data": {
      "text/plain": [
       "'Binning de categoria3:'"
      ]
     },
     "metadata": {},
     "output_type": "display_data"
    },
    {
     "data": {
      "text/plain": [
       "[array([177, 147, 148], dtype=int64),\n",
       " array([161, 164], dtype=int64),\n",
       " array([156, 159], dtype=int64),\n",
       " array([146, 167], dtype=int64),\n",
       " array([163, 170, 176, 171, 153, 165], dtype=int64),\n",
       " array([157, 166, 151, 149, 154], dtype=int64),\n",
       " array([160], dtype=int64),\n",
       " array([169, 173], dtype=int64),\n",
       " array([155, 168, 150, 162], dtype=int64),\n",
       " array([172, 175, 152, 158, 174], dtype=int64)]"
      ]
     },
     "metadata": {},
     "output_type": "display_data"
    }
   ],
   "source": [
    "display(\"Binning de categoria3:\",optb_categoria3.splits)"
   ]
  },
  {
   "cell_type": "code",
   "execution_count": 291,
   "id": "94811e60",
   "metadata": {},
   "outputs": [
    {
     "data": {
      "text/plain": [
       "'Binning de comp_mixto1:'"
      ]
     },
     "metadata": {},
     "output_type": "display_data"
    },
    {
     "data": {
      "text/plain": [
       "array([0.29051   , 0.30624999, 0.33690999, 0.35999   , 0.36657001])"
      ]
     },
     "metadata": {},
     "output_type": "display_data"
    }
   ],
   "source": [
    "display(\"Binning de comp_mixto1:\",optb_comp_mixto1.splits)"
   ]
  },
  {
   "cell_type": "code",
   "execution_count": 292,
   "id": "6eda47de",
   "metadata": {},
   "outputs": [
    {
     "data": {
      "text/plain": [
       "'Binning de comp_externo1:'"
      ]
     },
     "metadata": {},
     "output_type": "display_data"
    },
    {
     "data": {
      "text/plain": [
       "array([  34.347826  ,  127.99275589,  172.0289917 ,  219.49275208,\n",
       "        265.9420166 ,  506.18840027, 1114.63769531])"
      ]
     },
     "metadata": {},
     "output_type": "display_data"
    }
   ],
   "source": [
    "display(\"Binning de comp_externo1:\",optb_comp_externo1.splits)"
   ]
  },
  {
   "cell_type": "code",
   "execution_count": 293,
   "id": "ae59e47a",
   "metadata": {},
   "outputs": [
    {
     "data": {
      "text/plain": [
       "'Binning de comp_externo2:'"
      ]
     },
     "metadata": {},
     "output_type": "display_data"
    },
    {
     "data": {
      "text/plain": [
       "array([ 4.57483482, 12.67854071, 16.65613365, 21.91180706, 27.67882824,\n",
       "       55.83165741])"
      ]
     },
     "metadata": {},
     "output_type": "display_data"
    }
   ],
   "source": [
    "display(\"Binning de comp_externo2:\",optb_comp_externo2.splits)"
   ]
  },
  {
   "cell_type": "code",
   "execution_count": 294,
   "id": "d0683b79",
   "metadata": {},
   "outputs": [
    {
     "data": {
      "text/plain": [
       "'Binning de comp_externo3:'"
      ]
     },
     "metadata": {},
     "output_type": "display_data"
    },
    {
     "data": {
      "text/plain": [
       "array([ 54.5,  63.5,  73.5,  79.5,  98.5, 105.5, 120.5, 124.5, 130.5])"
      ]
     },
     "metadata": {},
     "output_type": "display_data"
    }
   ],
   "source": [
    "display(\"Binning de comp_externo3:\",optb_comp_externo3.splits)"
   ]
  },
  {
   "cell_type": "code",
   "execution_count": 295,
   "id": "25569a0e",
   "metadata": {},
   "outputs": [],
   "source": [
    "comp_interno1_table = optb_comp_interno1.binning_table\n",
    "comp_interno2_table = optb_comp_interno2.binning_table\n",
    "comp_interno4_table = optb_comp_interno4.binning_table\n",
    "categoria1_table = optb_categoria1.binning_table\n",
    "categoria3_table = optb_categoria3.binning_table\n",
    "comp_mixto1_table = optb_comp_mixto1.binning_table\n",
    "comp_externo1_table = optb_comp_externo1.binning_table\n",
    "comp_externo2_table = optb_comp_externo2.binning_table\n",
    "comp_externo3_table = optb_comp_externo3.binning_table"
   ]
  },
  {
   "cell_type": "code",
   "execution_count": 296,
   "id": "b2a23163",
   "metadata": {},
   "outputs": [
    {
     "data": {
      "text/html": [
       "<div>\n",
       "<style scoped>\n",
       "    .dataframe tbody tr th:only-of-type {\n",
       "        vertical-align: middle;\n",
       "    }\n",
       "\n",
       "    .dataframe tbody tr th {\n",
       "        vertical-align: top;\n",
       "    }\n",
       "\n",
       "    .dataframe thead th {\n",
       "        text-align: right;\n",
       "    }\n",
       "</style>\n",
       "<table border=\"1\" class=\"dataframe\">\n",
       "  <thead>\n",
       "    <tr style=\"text-align: right;\">\n",
       "      <th></th>\n",
       "      <th>Bin</th>\n",
       "      <th>Count</th>\n",
       "      <th>Count (%)</th>\n",
       "      <th>Non-event</th>\n",
       "      <th>Event</th>\n",
       "      <th>Event rate</th>\n",
       "      <th>WoE</th>\n",
       "      <th>IV</th>\n",
       "      <th>JS</th>\n",
       "    </tr>\n",
       "  </thead>\n",
       "  <tbody>\n",
       "    <tr>\n",
       "      <th>0</th>\n",
       "      <td>[-inf, 0.00)</td>\n",
       "      <td>15691</td>\n",
       "      <td>0.638079</td>\n",
       "      <td>12719</td>\n",
       "      <td>2972</td>\n",
       "      <td>0.189408</td>\n",
       "      <td>0.003511</td>\n",
       "      <td>0.000008</td>\n",
       "      <td>9.819941e-07</td>\n",
       "    </tr>\n",
       "    <tr>\n",
       "      <th>1</th>\n",
       "      <td>[0.00, 813.07)</td>\n",
       "      <td>2241</td>\n",
       "      <td>0.091131</td>\n",
       "      <td>1775</td>\n",
       "      <td>466</td>\n",
       "      <td>0.207943</td>\n",
       "      <td>-0.112981</td>\n",
       "      <td>0.001204</td>\n",
       "      <td>1.504400e-04</td>\n",
       "    </tr>\n",
       "    <tr>\n",
       "      <th>2</th>\n",
       "      <td>[813.07, 1923.51)</td>\n",
       "      <td>3428</td>\n",
       "      <td>0.139401</td>\n",
       "      <td>2770</td>\n",
       "      <td>658</td>\n",
       "      <td>0.191949</td>\n",
       "      <td>-0.012953</td>\n",
       "      <td>0.000023</td>\n",
       "      <td>2.935493e-06</td>\n",
       "    </tr>\n",
       "    <tr>\n",
       "      <th>3</th>\n",
       "      <td>[1923.51, inf)</td>\n",
       "      <td>3231</td>\n",
       "      <td>0.131390</td>\n",
       "      <td>2656</td>\n",
       "      <td>575</td>\n",
       "      <td>0.177963</td>\n",
       "      <td>0.079855</td>\n",
       "      <td>0.000817</td>\n",
       "      <td>1.021214e-04</td>\n",
       "    </tr>\n",
       "    <tr>\n",
       "      <th>4</th>\n",
       "      <td>Special</td>\n",
       "      <td>0</td>\n",
       "      <td>0.000000</td>\n",
       "      <td>0</td>\n",
       "      <td>0</td>\n",
       "      <td>0.000000</td>\n",
       "      <td>0.0</td>\n",
       "      <td>0.000000</td>\n",
       "      <td>0.000000e+00</td>\n",
       "    </tr>\n",
       "    <tr>\n",
       "      <th>5</th>\n",
       "      <td>Missing</td>\n",
       "      <td>0</td>\n",
       "      <td>0.000000</td>\n",
       "      <td>0</td>\n",
       "      <td>0</td>\n",
       "      <td>0.000000</td>\n",
       "      <td>0.0</td>\n",
       "      <td>0.000000</td>\n",
       "      <td>0.000000e+00</td>\n",
       "    </tr>\n",
       "    <tr>\n",
       "      <th>Totals</th>\n",
       "      <td></td>\n",
       "      <td>24591</td>\n",
       "      <td>1.000000</td>\n",
       "      <td>19920</td>\n",
       "      <td>4671</td>\n",
       "      <td>0.189948</td>\n",
       "      <td></td>\n",
       "      <td>0.002053</td>\n",
       "      <td>2.564790e-04</td>\n",
       "    </tr>\n",
       "  </tbody>\n",
       "</table>\n",
       "</div>"
      ],
      "text/plain": [
       "                      Bin  Count  Count (%)  Non-event  Event  Event rate  \\\n",
       "0            [-inf, 0.00)  15691   0.638079      12719   2972    0.189408   \n",
       "1          [0.00, 813.07)   2241   0.091131       1775    466    0.207943   \n",
       "2       [813.07, 1923.51)   3428   0.139401       2770    658    0.191949   \n",
       "3          [1923.51, inf)   3231   0.131390       2656    575    0.177963   \n",
       "4                 Special      0   0.000000          0      0    0.000000   \n",
       "5                 Missing      0   0.000000          0      0    0.000000   \n",
       "Totals                     24591   1.000000      19920   4671    0.189948   \n",
       "\n",
       "             WoE        IV            JS  \n",
       "0       0.003511  0.000008  9.819941e-07  \n",
       "1      -0.112981  0.001204  1.504400e-04  \n",
       "2      -0.012953  0.000023  2.935493e-06  \n",
       "3       0.079855  0.000817  1.021214e-04  \n",
       "4            0.0  0.000000  0.000000e+00  \n",
       "5            0.0  0.000000  0.000000e+00  \n",
       "Totals            0.002053  2.564790e-04  "
      ]
     },
     "metadata": {},
     "output_type": "display_data"
    }
   ],
   "source": [
    "display(comp_interno1_table.build())"
   ]
  },
  {
   "cell_type": "code",
   "execution_count": 297,
   "id": "0d51b130",
   "metadata": {},
   "outputs": [
    {
     "data": {
      "text/html": [
       "<div>\n",
       "<style scoped>\n",
       "    .dataframe tbody tr th:only-of-type {\n",
       "        vertical-align: middle;\n",
       "    }\n",
       "\n",
       "    .dataframe tbody tr th {\n",
       "        vertical-align: top;\n",
       "    }\n",
       "\n",
       "    .dataframe thead th {\n",
       "        text-align: right;\n",
       "    }\n",
       "</style>\n",
       "<table border=\"1\" class=\"dataframe\">\n",
       "  <thead>\n",
       "    <tr style=\"text-align: right;\">\n",
       "      <th></th>\n",
       "      <th>Bin</th>\n",
       "      <th>Count</th>\n",
       "      <th>Count (%)</th>\n",
       "      <th>Non-event</th>\n",
       "      <th>Event</th>\n",
       "      <th>Event rate</th>\n",
       "      <th>WoE</th>\n",
       "      <th>IV</th>\n",
       "      <th>JS</th>\n",
       "    </tr>\n",
       "  </thead>\n",
       "  <tbody>\n",
       "    <tr>\n",
       "      <th>0</th>\n",
       "      <td>[-inf, 0.00)</td>\n",
       "      <td>15691</td>\n",
       "      <td>0.638079</td>\n",
       "      <td>12719</td>\n",
       "      <td>2972</td>\n",
       "      <td>0.189408</td>\n",
       "      <td>0.003511</td>\n",
       "      <td>0.000008</td>\n",
       "      <td>9.819941e-07</td>\n",
       "    </tr>\n",
       "    <tr>\n",
       "      <th>1</th>\n",
       "      <td>[0.00, 813.07)</td>\n",
       "      <td>2241</td>\n",
       "      <td>0.091131</td>\n",
       "      <td>1775</td>\n",
       "      <td>466</td>\n",
       "      <td>0.207943</td>\n",
       "      <td>-0.112981</td>\n",
       "      <td>0.001204</td>\n",
       "      <td>1.504400e-04</td>\n",
       "    </tr>\n",
       "    <tr>\n",
       "      <th>2</th>\n",
       "      <td>[813.07, 1923.51)</td>\n",
       "      <td>3428</td>\n",
       "      <td>0.139401</td>\n",
       "      <td>2770</td>\n",
       "      <td>658</td>\n",
       "      <td>0.191949</td>\n",
       "      <td>-0.012953</td>\n",
       "      <td>0.000023</td>\n",
       "      <td>2.935493e-06</td>\n",
       "    </tr>\n",
       "    <tr>\n",
       "      <th>3</th>\n",
       "      <td>[1923.51, inf)</td>\n",
       "      <td>3231</td>\n",
       "      <td>0.131390</td>\n",
       "      <td>2656</td>\n",
       "      <td>575</td>\n",
       "      <td>0.177963</td>\n",
       "      <td>0.079855</td>\n",
       "      <td>0.000817</td>\n",
       "      <td>1.021214e-04</td>\n",
       "    </tr>\n",
       "    <tr>\n",
       "      <th>4</th>\n",
       "      <td>Special</td>\n",
       "      <td>0</td>\n",
       "      <td>0.000000</td>\n",
       "      <td>0</td>\n",
       "      <td>0</td>\n",
       "      <td>0.000000</td>\n",
       "      <td>0.0</td>\n",
       "      <td>0.000000</td>\n",
       "      <td>0.000000e+00</td>\n",
       "    </tr>\n",
       "    <tr>\n",
       "      <th>5</th>\n",
       "      <td>Missing</td>\n",
       "      <td>0</td>\n",
       "      <td>0.000000</td>\n",
       "      <td>0</td>\n",
       "      <td>0</td>\n",
       "      <td>0.000000</td>\n",
       "      <td>0.0</td>\n",
       "      <td>0.000000</td>\n",
       "      <td>0.000000e+00</td>\n",
       "    </tr>\n",
       "    <tr>\n",
       "      <th>Totals</th>\n",
       "      <td></td>\n",
       "      <td>24591</td>\n",
       "      <td>1.000000</td>\n",
       "      <td>19920</td>\n",
       "      <td>4671</td>\n",
       "      <td>0.189948</td>\n",
       "      <td></td>\n",
       "      <td>0.002053</td>\n",
       "      <td>2.564790e-04</td>\n",
       "    </tr>\n",
       "  </tbody>\n",
       "</table>\n",
       "</div>"
      ],
      "text/plain": [
       "                      Bin  Count  Count (%)  Non-event  Event  Event rate  \\\n",
       "0            [-inf, 0.00)  15691   0.638079      12719   2972    0.189408   \n",
       "1          [0.00, 813.07)   2241   0.091131       1775    466    0.207943   \n",
       "2       [813.07, 1923.51)   3428   0.139401       2770    658    0.191949   \n",
       "3          [1923.51, inf)   3231   0.131390       2656    575    0.177963   \n",
       "4                 Special      0   0.000000          0      0    0.000000   \n",
       "5                 Missing      0   0.000000          0      0    0.000000   \n",
       "Totals                     24591   1.000000      19920   4671    0.189948   \n",
       "\n",
       "             WoE        IV            JS  \n",
       "0       0.003511  0.000008  9.819941e-07  \n",
       "1      -0.112981  0.001204  1.504400e-04  \n",
       "2      -0.012953  0.000023  2.935493e-06  \n",
       "3       0.079855  0.000817  1.021214e-04  \n",
       "4            0.0  0.000000  0.000000e+00  \n",
       "5            0.0  0.000000  0.000000e+00  \n",
       "Totals            0.002053  2.564790e-04  "
      ]
     },
     "metadata": {},
     "output_type": "display_data"
    },
    {
     "data": {
      "text/html": [
       "<div>\n",
       "<style scoped>\n",
       "    .dataframe tbody tr th:only-of-type {\n",
       "        vertical-align: middle;\n",
       "    }\n",
       "\n",
       "    .dataframe tbody tr th {\n",
       "        vertical-align: top;\n",
       "    }\n",
       "\n",
       "    .dataframe thead th {\n",
       "        text-align: right;\n",
       "    }\n",
       "</style>\n",
       "<table border=\"1\" class=\"dataframe\">\n",
       "  <thead>\n",
       "    <tr style=\"text-align: right;\">\n",
       "      <th></th>\n",
       "      <th>Bin</th>\n",
       "      <th>Count</th>\n",
       "      <th>Count (%)</th>\n",
       "      <th>Non-event</th>\n",
       "      <th>Event</th>\n",
       "      <th>Event rate</th>\n",
       "      <th>WoE</th>\n",
       "      <th>IV</th>\n",
       "      <th>JS</th>\n",
       "    </tr>\n",
       "  </thead>\n",
       "  <tbody>\n",
       "    <tr>\n",
       "      <th>0</th>\n",
       "      <td>[1]</td>\n",
       "      <td>17186</td>\n",
       "      <td>0.698874</td>\n",
       "      <td>13931</td>\n",
       "      <td>3255</td>\n",
       "      <td>0.189398</td>\n",
       "      <td>0.003573</td>\n",
       "      <td>0.000009</td>\n",
       "      <td>0.000001</td>\n",
       "    </tr>\n",
       "    <tr>\n",
       "      <th>1</th>\n",
       "      <td>[0]</td>\n",
       "      <td>7405</td>\n",
       "      <td>0.301126</td>\n",
       "      <td>5989</td>\n",
       "      <td>1416</td>\n",
       "      <td>0.191222</td>\n",
       "      <td>-0.008263</td>\n",
       "      <td>0.000021</td>\n",
       "      <td>0.000003</td>\n",
       "    </tr>\n",
       "    <tr>\n",
       "      <th>2</th>\n",
       "      <td>Special</td>\n",
       "      <td>0</td>\n",
       "      <td>0.000000</td>\n",
       "      <td>0</td>\n",
       "      <td>0</td>\n",
       "      <td>0.000000</td>\n",
       "      <td>0.0</td>\n",
       "      <td>0.000000</td>\n",
       "      <td>0.000000</td>\n",
       "    </tr>\n",
       "    <tr>\n",
       "      <th>3</th>\n",
       "      <td>Missing</td>\n",
       "      <td>0</td>\n",
       "      <td>0.000000</td>\n",
       "      <td>0</td>\n",
       "      <td>0</td>\n",
       "      <td>0.000000</td>\n",
       "      <td>0.0</td>\n",
       "      <td>0.000000</td>\n",
       "      <td>0.000000</td>\n",
       "    </tr>\n",
       "    <tr>\n",
       "      <th>Totals</th>\n",
       "      <td></td>\n",
       "      <td>24591</td>\n",
       "      <td>1.000000</td>\n",
       "      <td>19920</td>\n",
       "      <td>4671</td>\n",
       "      <td>0.189948</td>\n",
       "      <td></td>\n",
       "      <td>0.000030</td>\n",
       "      <td>0.000004</td>\n",
       "    </tr>\n",
       "  </tbody>\n",
       "</table>\n",
       "</div>"
      ],
      "text/plain": [
       "            Bin  Count  Count (%)  Non-event  Event  Event rate       WoE  \\\n",
       "0           [1]  17186   0.698874      13931   3255    0.189398  0.003573   \n",
       "1           [0]   7405   0.301126       5989   1416    0.191222 -0.008263   \n",
       "2       Special      0   0.000000          0      0    0.000000       0.0   \n",
       "3       Missing      0   0.000000          0      0    0.000000       0.0   \n",
       "Totals           24591   1.000000      19920   4671    0.189948             \n",
       "\n",
       "              IV        JS  \n",
       "0       0.000009  0.000001  \n",
       "1       0.000021  0.000003  \n",
       "2       0.000000  0.000000  \n",
       "3       0.000000  0.000000  \n",
       "Totals  0.000030  0.000004  "
      ]
     },
     "metadata": {},
     "output_type": "display_data"
    },
    {
     "data": {
      "text/html": [
       "<div>\n",
       "<style scoped>\n",
       "    .dataframe tbody tr th:only-of-type {\n",
       "        vertical-align: middle;\n",
       "    }\n",
       "\n",
       "    .dataframe tbody tr th {\n",
       "        vertical-align: top;\n",
       "    }\n",
       "\n",
       "    .dataframe thead th {\n",
       "        text-align: right;\n",
       "    }\n",
       "</style>\n",
       "<table border=\"1\" class=\"dataframe\">\n",
       "  <thead>\n",
       "    <tr style=\"text-align: right;\">\n",
       "      <th></th>\n",
       "      <th>Bin</th>\n",
       "      <th>Count</th>\n",
       "      <th>Count (%)</th>\n",
       "      <th>Non-event</th>\n",
       "      <th>Event</th>\n",
       "      <th>Event rate</th>\n",
       "      <th>WoE</th>\n",
       "      <th>IV</th>\n",
       "      <th>JS</th>\n",
       "    </tr>\n",
       "  </thead>\n",
       "  <tbody>\n",
       "    <tr>\n",
       "      <th>0</th>\n",
       "      <td>[78, 73, 35, 30, 76, 69, 71]</td>\n",
       "      <td>1516</td>\n",
       "      <td>0.061649</td>\n",
       "      <td>1295</td>\n",
       "      <td>221</td>\n",
       "      <td>0.145778</td>\n",
       "      <td>0.317752</td>\n",
       "      <td>0.005623</td>\n",
       "      <td>0.000700</td>\n",
       "    </tr>\n",
       "    <tr>\n",
       "      <th>1</th>\n",
       "      <td>[74, 27, 32, 49]</td>\n",
       "      <td>1460</td>\n",
       "      <td>0.059371</td>\n",
       "      <td>1216</td>\n",
       "      <td>244</td>\n",
       "      <td>0.167123</td>\n",
       "      <td>0.155803</td>\n",
       "      <td>0.001372</td>\n",
       "      <td>0.000171</td>\n",
       "    </tr>\n",
       "    <tr>\n",
       "      <th>2</th>\n",
       "      <td>[41, 47]</td>\n",
       "      <td>1262</td>\n",
       "      <td>0.051320</td>\n",
       "      <td>1048</td>\n",
       "      <td>214</td>\n",
       "      <td>0.169572</td>\n",
       "      <td>0.138312</td>\n",
       "      <td>0.000940</td>\n",
       "      <td>0.000117</td>\n",
       "    </tr>\n",
       "    <tr>\n",
       "      <th>3</th>\n",
       "      <td>[70, 46, 51]</td>\n",
       "      <td>2318</td>\n",
       "      <td>0.094262</td>\n",
       "      <td>1912</td>\n",
       "      <td>406</td>\n",
       "      <td>0.175151</td>\n",
       "      <td>0.099201</td>\n",
       "      <td>0.000899</td>\n",
       "      <td>0.000112</td>\n",
       "    </tr>\n",
       "    <tr>\n",
       "      <th>4</th>\n",
       "      <td>[75, 48, 45]</td>\n",
       "      <td>2951</td>\n",
       "      <td>0.120003</td>\n",
       "      <td>2429</td>\n",
       "      <td>522</td>\n",
       "      <td>0.176889</td>\n",
       "      <td>0.087216</td>\n",
       "      <td>0.000888</td>\n",
       "      <td>0.000111</td>\n",
       "    </tr>\n",
       "    <tr>\n",
       "      <th>5</th>\n",
       "      <td>[63, 52, 67, 33]</td>\n",
       "      <td>1944</td>\n",
       "      <td>0.079053</td>\n",
       "      <td>1589</td>\n",
       "      <td>355</td>\n",
       "      <td>0.182613</td>\n",
       "      <td>0.048391</td>\n",
       "      <td>0.000182</td>\n",
       "      <td>0.000023</td>\n",
       "    </tr>\n",
       "    <tr>\n",
       "      <th>6</th>\n",
       "      <td>[68, 62, 56, 72]</td>\n",
       "      <td>2291</td>\n",
       "      <td>0.093164</td>\n",
       "      <td>1852</td>\n",
       "      <td>439</td>\n",
       "      <td>0.191619</td>\n",
       "      <td>-0.010829</td>\n",
       "      <td>0.000011</td>\n",
       "      <td>0.000001</td>\n",
       "    </tr>\n",
       "    <tr>\n",
       "      <th>7</th>\n",
       "      <td>[42, 55]</td>\n",
       "      <td>1271</td>\n",
       "      <td>0.051686</td>\n",
       "      <td>1021</td>\n",
       "      <td>250</td>\n",
       "      <td>0.196696</td>\n",
       "      <td>-0.043274</td>\n",
       "      <td>0.000098</td>\n",
       "      <td>0.000012</td>\n",
       "    </tr>\n",
       "    <tr>\n",
       "      <th>8</th>\n",
       "      <td>[54, 59, 58]</td>\n",
       "      <td>2296</td>\n",
       "      <td>0.093367</td>\n",
       "      <td>1830</td>\n",
       "      <td>466</td>\n",
       "      <td>0.202962</td>\n",
       "      <td>-0.082465</td>\n",
       "      <td>0.000651</td>\n",
       "      <td>0.000081</td>\n",
       "    </tr>\n",
       "    <tr>\n",
       "      <th>9</th>\n",
       "      <td>[65, 57]</td>\n",
       "      <td>1233</td>\n",
       "      <td>0.050140</td>\n",
       "      <td>979</td>\n",
       "      <td>254</td>\n",
       "      <td>0.206002</td>\n",
       "      <td>-0.101154</td>\n",
       "      <td>0.000529</td>\n",
       "      <td>0.000066</td>\n",
       "    </tr>\n",
       "    <tr>\n",
       "      <th>10</th>\n",
       "      <td>[43, 61, 64]</td>\n",
       "      <td>1735</td>\n",
       "      <td>0.070554</td>\n",
       "      <td>1375</td>\n",
       "      <td>360</td>\n",
       "      <td>0.207493</td>\n",
       "      <td>-0.110246</td>\n",
       "      <td>0.000887</td>\n",
       "      <td>0.000111</td>\n",
       "    </tr>\n",
       "    <tr>\n",
       "      <th>11</th>\n",
       "      <td>[53, 60]</td>\n",
       "      <td>1568</td>\n",
       "      <td>0.063763</td>\n",
       "      <td>1239</td>\n",
       "      <td>329</td>\n",
       "      <td>0.209821</td>\n",
       "      <td>-0.124349</td>\n",
       "      <td>0.001024</td>\n",
       "      <td>0.000128</td>\n",
       "    </tr>\n",
       "    <tr>\n",
       "      <th>12</th>\n",
       "      <td>[37, 44, 66]</td>\n",
       "      <td>1272</td>\n",
       "      <td>0.051726</td>\n",
       "      <td>1000</td>\n",
       "      <td>272</td>\n",
       "      <td>0.213836</td>\n",
       "      <td>-0.148398</td>\n",
       "      <td>0.001192</td>\n",
       "      <td>0.000149</td>\n",
       "    </tr>\n",
       "    <tr>\n",
       "      <th>13</th>\n",
       "      <td>[50, 36, 40, 39, 77, 34, 38, 31, 29]</td>\n",
       "      <td>1474</td>\n",
       "      <td>0.059941</td>\n",
       "      <td>1135</td>\n",
       "      <td>339</td>\n",
       "      <td>0.229986</td>\n",
       "      <td>-0.241963</td>\n",
       "      <td>0.003774</td>\n",
       "      <td>0.000471</td>\n",
       "    </tr>\n",
       "    <tr>\n",
       "      <th>14</th>\n",
       "      <td>Special</td>\n",
       "      <td>0</td>\n",
       "      <td>0.000000</td>\n",
       "      <td>0</td>\n",
       "      <td>0</td>\n",
       "      <td>0.000000</td>\n",
       "      <td>0.0</td>\n",
       "      <td>0.000000</td>\n",
       "      <td>0.000000</td>\n",
       "    </tr>\n",
       "    <tr>\n",
       "      <th>15</th>\n",
       "      <td>Missing</td>\n",
       "      <td>0</td>\n",
       "      <td>0.000000</td>\n",
       "      <td>0</td>\n",
       "      <td>0</td>\n",
       "      <td>0.000000</td>\n",
       "      <td>0.0</td>\n",
       "      <td>0.000000</td>\n",
       "      <td>0.000000</td>\n",
       "    </tr>\n",
       "    <tr>\n",
       "      <th>Totals</th>\n",
       "      <td></td>\n",
       "      <td>24591</td>\n",
       "      <td>1.000000</td>\n",
       "      <td>19920</td>\n",
       "      <td>4671</td>\n",
       "      <td>0.189948</td>\n",
       "      <td></td>\n",
       "      <td>0.018071</td>\n",
       "      <td>0.002254</td>\n",
       "    </tr>\n",
       "  </tbody>\n",
       "</table>\n",
       "</div>"
      ],
      "text/plain": [
       "                                         Bin  Count  Count (%)  Non-event  \\\n",
       "0               [78, 73, 35, 30, 76, 69, 71]   1516   0.061649       1295   \n",
       "1                           [74, 27, 32, 49]   1460   0.059371       1216   \n",
       "2                                   [41, 47]   1262   0.051320       1048   \n",
       "3                               [70, 46, 51]   2318   0.094262       1912   \n",
       "4                               [75, 48, 45]   2951   0.120003       2429   \n",
       "5                           [63, 52, 67, 33]   1944   0.079053       1589   \n",
       "6                           [68, 62, 56, 72]   2291   0.093164       1852   \n",
       "7                                   [42, 55]   1271   0.051686       1021   \n",
       "8                               [54, 59, 58]   2296   0.093367       1830   \n",
       "9                                   [65, 57]   1233   0.050140        979   \n",
       "10                              [43, 61, 64]   1735   0.070554       1375   \n",
       "11                                  [53, 60]   1568   0.063763       1239   \n",
       "12                              [37, 44, 66]   1272   0.051726       1000   \n",
       "13      [50, 36, 40, 39, 77, 34, 38, 31, 29]   1474   0.059941       1135   \n",
       "14                                   Special      0   0.000000          0   \n",
       "15                                   Missing      0   0.000000          0   \n",
       "Totals                                        24591   1.000000      19920   \n",
       "\n",
       "        Event  Event rate       WoE        IV        JS  \n",
       "0         221    0.145778  0.317752  0.005623  0.000700  \n",
       "1         244    0.167123  0.155803  0.001372  0.000171  \n",
       "2         214    0.169572  0.138312  0.000940  0.000117  \n",
       "3         406    0.175151  0.099201  0.000899  0.000112  \n",
       "4         522    0.176889  0.087216  0.000888  0.000111  \n",
       "5         355    0.182613  0.048391  0.000182  0.000023  \n",
       "6         439    0.191619 -0.010829  0.000011  0.000001  \n",
       "7         250    0.196696 -0.043274  0.000098  0.000012  \n",
       "8         466    0.202962 -0.082465  0.000651  0.000081  \n",
       "9         254    0.206002 -0.101154  0.000529  0.000066  \n",
       "10        360    0.207493 -0.110246  0.000887  0.000111  \n",
       "11        329    0.209821 -0.124349  0.001024  0.000128  \n",
       "12        272    0.213836 -0.148398  0.001192  0.000149  \n",
       "13        339    0.229986 -0.241963  0.003774  0.000471  \n",
       "14          0    0.000000       0.0  0.000000  0.000000  \n",
       "15          0    0.000000       0.0  0.000000  0.000000  \n",
       "Totals   4671    0.189948            0.018071  0.002254  "
      ]
     },
     "metadata": {},
     "output_type": "display_data"
    },
    {
     "data": {
      "text/html": [
       "<div>\n",
       "<style scoped>\n",
       "    .dataframe tbody tr th:only-of-type {\n",
       "        vertical-align: middle;\n",
       "    }\n",
       "\n",
       "    .dataframe tbody tr th {\n",
       "        vertical-align: top;\n",
       "    }\n",
       "\n",
       "    .dataframe thead th {\n",
       "        text-align: right;\n",
       "    }\n",
       "</style>\n",
       "<table border=\"1\" class=\"dataframe\">\n",
       "  <thead>\n",
       "    <tr style=\"text-align: right;\">\n",
       "      <th></th>\n",
       "      <th>Bin</th>\n",
       "      <th>Count</th>\n",
       "      <th>Count (%)</th>\n",
       "      <th>Non-event</th>\n",
       "      <th>Event</th>\n",
       "      <th>Event rate</th>\n",
       "      <th>WoE</th>\n",
       "      <th>IV</th>\n",
       "      <th>JS</th>\n",
       "    </tr>\n",
       "  </thead>\n",
       "  <tbody>\n",
       "    <tr>\n",
       "      <th>0</th>\n",
       "      <td>[3]</td>\n",
       "      <td>5353</td>\n",
       "      <td>0.217681</td>\n",
       "      <td>4442</td>\n",
       "      <td>911</td>\n",
       "      <td>0.170185</td>\n",
       "      <td>0.133966</td>\n",
       "      <td>0.003746</td>\n",
       "      <td>0.000468</td>\n",
       "    </tr>\n",
       "    <tr>\n",
       "      <th>1</th>\n",
       "      <td>[2, 4, 5]</td>\n",
       "      <td>7839</td>\n",
       "      <td>0.318775</td>\n",
       "      <td>6466</td>\n",
       "      <td>1373</td>\n",
       "      <td>0.175150</td>\n",
       "      <td>0.099208</td>\n",
       "      <td>0.003041</td>\n",
       "      <td>0.000380</td>\n",
       "    </tr>\n",
       "    <tr>\n",
       "      <th>2</th>\n",
       "      <td>[1, 6]</td>\n",
       "      <td>11399</td>\n",
       "      <td>0.463544</td>\n",
       "      <td>9012</td>\n",
       "      <td>2387</td>\n",
       "      <td>0.209404</td>\n",
       "      <td>-0.121831</td>\n",
       "      <td>0.007141</td>\n",
       "      <td>0.000892</td>\n",
       "    </tr>\n",
       "    <tr>\n",
       "      <th>3</th>\n",
       "      <td>Special</td>\n",
       "      <td>0</td>\n",
       "      <td>0.000000</td>\n",
       "      <td>0</td>\n",
       "      <td>0</td>\n",
       "      <td>0.000000</td>\n",
       "      <td>0.0</td>\n",
       "      <td>0.000000</td>\n",
       "      <td>0.000000</td>\n",
       "    </tr>\n",
       "    <tr>\n",
       "      <th>4</th>\n",
       "      <td>Missing</td>\n",
       "      <td>0</td>\n",
       "      <td>0.000000</td>\n",
       "      <td>0</td>\n",
       "      <td>0</td>\n",
       "      <td>0.000000</td>\n",
       "      <td>0.0</td>\n",
       "      <td>0.000000</td>\n",
       "      <td>0.000000</td>\n",
       "    </tr>\n",
       "    <tr>\n",
       "      <th>Totals</th>\n",
       "      <td></td>\n",
       "      <td>24591</td>\n",
       "      <td>1.000000</td>\n",
       "      <td>19920</td>\n",
       "      <td>4671</td>\n",
       "      <td>0.189948</td>\n",
       "      <td></td>\n",
       "      <td>0.013928</td>\n",
       "      <td>0.001740</td>\n",
       "    </tr>\n",
       "  </tbody>\n",
       "</table>\n",
       "</div>"
      ],
      "text/plain": [
       "              Bin  Count  Count (%)  Non-event  Event  Event rate       WoE  \\\n",
       "0             [3]   5353   0.217681       4442    911    0.170185  0.133966   \n",
       "1       [2, 4, 5]   7839   0.318775       6466   1373    0.175150  0.099208   \n",
       "2          [1, 6]  11399   0.463544       9012   2387    0.209404 -0.121831   \n",
       "3         Special      0   0.000000          0      0    0.000000       0.0   \n",
       "4         Missing      0   0.000000          0      0    0.000000       0.0   \n",
       "Totals             24591   1.000000      19920   4671    0.189948             \n",
       "\n",
       "              IV        JS  \n",
       "0       0.003746  0.000468  \n",
       "1       0.003041  0.000380  \n",
       "2       0.007141  0.000892  \n",
       "3       0.000000  0.000000  \n",
       "4       0.000000  0.000000  \n",
       "Totals  0.013928  0.001740  "
      ]
     },
     "metadata": {},
     "output_type": "display_data"
    },
    {
     "data": {
      "text/html": [
       "<div>\n",
       "<style scoped>\n",
       "    .dataframe tbody tr th:only-of-type {\n",
       "        vertical-align: middle;\n",
       "    }\n",
       "\n",
       "    .dataframe tbody tr th {\n",
       "        vertical-align: top;\n",
       "    }\n",
       "\n",
       "    .dataframe thead th {\n",
       "        text-align: right;\n",
       "    }\n",
       "</style>\n",
       "<table border=\"1\" class=\"dataframe\">\n",
       "  <thead>\n",
       "    <tr style=\"text-align: right;\">\n",
       "      <th></th>\n",
       "      <th>Bin</th>\n",
       "      <th>Count</th>\n",
       "      <th>Count (%)</th>\n",
       "      <th>Non-event</th>\n",
       "      <th>Event</th>\n",
       "      <th>Event rate</th>\n",
       "      <th>WoE</th>\n",
       "      <th>IV</th>\n",
       "      <th>JS</th>\n",
       "    </tr>\n",
       "  </thead>\n",
       "  <tbody>\n",
       "    <tr>\n",
       "      <th>0</th>\n",
       "      <td>[177, 147, 148]</td>\n",
       "      <td>1434</td>\n",
       "      <td>0.058314</td>\n",
       "      <td>1204</td>\n",
       "      <td>230</td>\n",
       "      <td>0.160391</td>\n",
       "      <td>0.204974</td>\n",
       "      <td>0.002296</td>\n",
       "      <td>0.000287</td>\n",
       "    </tr>\n",
       "    <tr>\n",
       "      <th>1</th>\n",
       "      <td>[161, 164]</td>\n",
       "      <td>3732</td>\n",
       "      <td>0.151763</td>\n",
       "      <td>3090</td>\n",
       "      <td>642</td>\n",
       "      <td>0.172026</td>\n",
       "      <td>0.120987</td>\n",
       "      <td>0.002139</td>\n",
       "      <td>0.000267</td>\n",
       "    </tr>\n",
       "    <tr>\n",
       "      <th>2</th>\n",
       "      <td>[156, 159]</td>\n",
       "      <td>3546</td>\n",
       "      <td>0.144199</td>\n",
       "      <td>2931</td>\n",
       "      <td>615</td>\n",
       "      <td>0.173435</td>\n",
       "      <td>0.111126</td>\n",
       "      <td>0.001720</td>\n",
       "      <td>0.000215</td>\n",
       "    </tr>\n",
       "    <tr>\n",
       "      <th>3</th>\n",
       "      <td>[146, 167]</td>\n",
       "      <td>4370</td>\n",
       "      <td>0.177707</td>\n",
       "      <td>3601</td>\n",
       "      <td>769</td>\n",
       "      <td>0.175973</td>\n",
       "      <td>0.093525</td>\n",
       "      <td>0.001510</td>\n",
       "      <td>0.000189</td>\n",
       "    </tr>\n",
       "    <tr>\n",
       "      <th>4</th>\n",
       "      <td>[163, 170, 176, 171, 153, 165]</td>\n",
       "      <td>2484</td>\n",
       "      <td>0.101013</td>\n",
       "      <td>2032</td>\n",
       "      <td>452</td>\n",
       "      <td>0.181965</td>\n",
       "      <td>0.052743</td>\n",
       "      <td>0.000276</td>\n",
       "      <td>0.000035</td>\n",
       "    </tr>\n",
       "    <tr>\n",
       "      <th>5</th>\n",
       "      <td>[157, 166, 151, 149, 154]</td>\n",
       "      <td>2920</td>\n",
       "      <td>0.118743</td>\n",
       "      <td>2329</td>\n",
       "      <td>591</td>\n",
       "      <td>0.202397</td>\n",
       "      <td>-0.078973</td>\n",
       "      <td>0.000759</td>\n",
       "      <td>0.000095</td>\n",
       "    </tr>\n",
       "    <tr>\n",
       "      <th>6</th>\n",
       "      <td>[160]</td>\n",
       "      <td>1906</td>\n",
       "      <td>0.077508</td>\n",
       "      <td>1503</td>\n",
       "      <td>403</td>\n",
       "      <td>0.211438</td>\n",
       "      <td>-0.134069</td>\n",
       "      <td>0.001451</td>\n",
       "      <td>0.000181</td>\n",
       "    </tr>\n",
       "    <tr>\n",
       "      <th>7</th>\n",
       "      <td>[169, 173]</td>\n",
       "      <td>1428</td>\n",
       "      <td>0.058070</td>\n",
       "      <td>1124</td>\n",
       "      <td>304</td>\n",
       "      <td>0.212885</td>\n",
       "      <td>-0.14273</td>\n",
       "      <td>0.001236</td>\n",
       "      <td>0.000154</td>\n",
       "    </tr>\n",
       "    <tr>\n",
       "      <th>8</th>\n",
       "      <td>[155, 168, 150, 162]</td>\n",
       "      <td>1409</td>\n",
       "      <td>0.057297</td>\n",
       "      <td>1097</td>\n",
       "      <td>312</td>\n",
       "      <td>0.221434</td>\n",
       "      <td>-0.19302</td>\n",
       "      <td>0.002263</td>\n",
       "      <td>0.000282</td>\n",
       "    </tr>\n",
       "    <tr>\n",
       "      <th>9</th>\n",
       "      <td>[172, 175, 152, 158, 174]</td>\n",
       "      <td>1362</td>\n",
       "      <td>0.055386</td>\n",
       "      <td>1009</td>\n",
       "      <td>353</td>\n",
       "      <td>0.259178</td>\n",
       "      <td>-0.400104</td>\n",
       "      <td>0.009971</td>\n",
       "      <td>0.001238</td>\n",
       "    </tr>\n",
       "    <tr>\n",
       "      <th>10</th>\n",
       "      <td>Special</td>\n",
       "      <td>0</td>\n",
       "      <td>0.000000</td>\n",
       "      <td>0</td>\n",
       "      <td>0</td>\n",
       "      <td>0.000000</td>\n",
       "      <td>0.0</td>\n",
       "      <td>0.000000</td>\n",
       "      <td>0.000000</td>\n",
       "    </tr>\n",
       "    <tr>\n",
       "      <th>11</th>\n",
       "      <td>Missing</td>\n",
       "      <td>0</td>\n",
       "      <td>0.000000</td>\n",
       "      <td>0</td>\n",
       "      <td>0</td>\n",
       "      <td>0.000000</td>\n",
       "      <td>0.0</td>\n",
       "      <td>0.000000</td>\n",
       "      <td>0.000000</td>\n",
       "    </tr>\n",
       "    <tr>\n",
       "      <th>Totals</th>\n",
       "      <td></td>\n",
       "      <td>24591</td>\n",
       "      <td>1.000000</td>\n",
       "      <td>19920</td>\n",
       "      <td>4671</td>\n",
       "      <td>0.189948</td>\n",
       "      <td></td>\n",
       "      <td>0.023620</td>\n",
       "      <td>0.002943</td>\n",
       "    </tr>\n",
       "  </tbody>\n",
       "</table>\n",
       "</div>"
      ],
      "text/plain": [
       "                                   Bin  Count  Count (%)  Non-event  Event  \\\n",
       "0                      [177, 147, 148]   1434   0.058314       1204    230   \n",
       "1                           [161, 164]   3732   0.151763       3090    642   \n",
       "2                           [156, 159]   3546   0.144199       2931    615   \n",
       "3                           [146, 167]   4370   0.177707       3601    769   \n",
       "4       [163, 170, 176, 171, 153, 165]   2484   0.101013       2032    452   \n",
       "5            [157, 166, 151, 149, 154]   2920   0.118743       2329    591   \n",
       "6                                [160]   1906   0.077508       1503    403   \n",
       "7                           [169, 173]   1428   0.058070       1124    304   \n",
       "8                 [155, 168, 150, 162]   1409   0.057297       1097    312   \n",
       "9            [172, 175, 152, 158, 174]   1362   0.055386       1009    353   \n",
       "10                             Special      0   0.000000          0      0   \n",
       "11                             Missing      0   0.000000          0      0   \n",
       "Totals                                  24591   1.000000      19920   4671   \n",
       "\n",
       "        Event rate       WoE        IV        JS  \n",
       "0         0.160391  0.204974  0.002296  0.000287  \n",
       "1         0.172026  0.120987  0.002139  0.000267  \n",
       "2         0.173435  0.111126  0.001720  0.000215  \n",
       "3         0.175973  0.093525  0.001510  0.000189  \n",
       "4         0.181965  0.052743  0.000276  0.000035  \n",
       "5         0.202397 -0.078973  0.000759  0.000095  \n",
       "6         0.211438 -0.134069  0.001451  0.000181  \n",
       "7         0.212885  -0.14273  0.001236  0.000154  \n",
       "8         0.221434  -0.19302  0.002263  0.000282  \n",
       "9         0.259178 -0.400104  0.009971  0.001238  \n",
       "10        0.000000       0.0  0.000000  0.000000  \n",
       "11        0.000000       0.0  0.000000  0.000000  \n",
       "Totals    0.189948            0.023620  0.002943  "
      ]
     },
     "metadata": {},
     "output_type": "display_data"
    },
    {
     "data": {
      "text/html": [
       "<div>\n",
       "<style scoped>\n",
       "    .dataframe tbody tr th:only-of-type {\n",
       "        vertical-align: middle;\n",
       "    }\n",
       "\n",
       "    .dataframe tbody tr th {\n",
       "        vertical-align: top;\n",
       "    }\n",
       "\n",
       "    .dataframe thead th {\n",
       "        text-align: right;\n",
       "    }\n",
       "</style>\n",
       "<table border=\"1\" class=\"dataframe\">\n",
       "  <thead>\n",
       "    <tr style=\"text-align: right;\">\n",
       "      <th></th>\n",
       "      <th>Bin</th>\n",
       "      <th>Count</th>\n",
       "      <th>Count (%)</th>\n",
       "      <th>Non-event</th>\n",
       "      <th>Event</th>\n",
       "      <th>Event rate</th>\n",
       "      <th>WoE</th>\n",
       "      <th>IV</th>\n",
       "      <th>JS</th>\n",
       "    </tr>\n",
       "  </thead>\n",
       "  <tbody>\n",
       "    <tr>\n",
       "      <th>0</th>\n",
       "      <td>[-inf, 0.29)</td>\n",
       "      <td>3077</td>\n",
       "      <td>0.125127</td>\n",
       "      <td>2610</td>\n",
       "      <td>467</td>\n",
       "      <td>0.151771</td>\n",
       "      <td>0.270425</td>\n",
       "      <td>0.008395</td>\n",
       "      <td>0.001046</td>\n",
       "    </tr>\n",
       "    <tr>\n",
       "      <th>1</th>\n",
       "      <td>[0.29, 0.31)</td>\n",
       "      <td>1689</td>\n",
       "      <td>0.068684</td>\n",
       "      <td>1462</td>\n",
       "      <td>227</td>\n",
       "      <td>0.134399</td>\n",
       "      <td>0.41226</td>\n",
       "      <td>0.010222</td>\n",
       "      <td>0.001269</td>\n",
       "    </tr>\n",
       "    <tr>\n",
       "      <th>2</th>\n",
       "      <td>[0.31, 0.34)</td>\n",
       "      <td>4544</td>\n",
       "      <td>0.184783</td>\n",
       "      <td>3735</td>\n",
       "      <td>809</td>\n",
       "      <td>0.178037</td>\n",
       "      <td>0.079353</td>\n",
       "      <td>0.001135</td>\n",
       "      <td>0.000142</td>\n",
       "    </tr>\n",
       "    <tr>\n",
       "      <th>3</th>\n",
       "      <td>[0.34, 0.36)</td>\n",
       "      <td>5281</td>\n",
       "      <td>0.214753</td>\n",
       "      <td>4291</td>\n",
       "      <td>990</td>\n",
       "      <td>0.187464</td>\n",
       "      <td>0.016219</td>\n",
       "      <td>0.000056</td>\n",
       "      <td>0.000007</td>\n",
       "    </tr>\n",
       "    <tr>\n",
       "      <th>4</th>\n",
       "      <td>[0.36, 0.37)</td>\n",
       "      <td>2089</td>\n",
       "      <td>0.084950</td>\n",
       "      <td>1640</td>\n",
       "      <td>449</td>\n",
       "      <td>0.214935</td>\n",
       "      <td>-0.154922</td>\n",
       "      <td>0.002137</td>\n",
       "      <td>0.000267</td>\n",
       "    </tr>\n",
       "    <tr>\n",
       "      <th>5</th>\n",
       "      <td>[0.37, inf)</td>\n",
       "      <td>7911</td>\n",
       "      <td>0.321703</td>\n",
       "      <td>6182</td>\n",
       "      <td>1729</td>\n",
       "      <td>0.218556</td>\n",
       "      <td>-0.176252</td>\n",
       "      <td>0.010543</td>\n",
       "      <td>0.001316</td>\n",
       "    </tr>\n",
       "    <tr>\n",
       "      <th>6</th>\n",
       "      <td>Special</td>\n",
       "      <td>0</td>\n",
       "      <td>0.000000</td>\n",
       "      <td>0</td>\n",
       "      <td>0</td>\n",
       "      <td>0.000000</td>\n",
       "      <td>0.0</td>\n",
       "      <td>0.000000</td>\n",
       "      <td>0.000000</td>\n",
       "    </tr>\n",
       "    <tr>\n",
       "      <th>7</th>\n",
       "      <td>Missing</td>\n",
       "      <td>0</td>\n",
       "      <td>0.000000</td>\n",
       "      <td>0</td>\n",
       "      <td>0</td>\n",
       "      <td>0.000000</td>\n",
       "      <td>0.0</td>\n",
       "      <td>0.000000</td>\n",
       "      <td>0.000000</td>\n",
       "    </tr>\n",
       "    <tr>\n",
       "      <th>Totals</th>\n",
       "      <td></td>\n",
       "      <td>24591</td>\n",
       "      <td>1.000000</td>\n",
       "      <td>19920</td>\n",
       "      <td>4671</td>\n",
       "      <td>0.189948</td>\n",
       "      <td></td>\n",
       "      <td>0.032489</td>\n",
       "      <td>0.004047</td>\n",
       "    </tr>\n",
       "  </tbody>\n",
       "</table>\n",
       "</div>"
      ],
      "text/plain": [
       "                 Bin  Count  Count (%)  Non-event  Event  Event rate  \\\n",
       "0       [-inf, 0.29)   3077   0.125127       2610    467    0.151771   \n",
       "1       [0.29, 0.31)   1689   0.068684       1462    227    0.134399   \n",
       "2       [0.31, 0.34)   4544   0.184783       3735    809    0.178037   \n",
       "3       [0.34, 0.36)   5281   0.214753       4291    990    0.187464   \n",
       "4       [0.36, 0.37)   2089   0.084950       1640    449    0.214935   \n",
       "5        [0.37, inf)   7911   0.321703       6182   1729    0.218556   \n",
       "6            Special      0   0.000000          0      0    0.000000   \n",
       "7            Missing      0   0.000000          0      0    0.000000   \n",
       "Totals                24591   1.000000      19920   4671    0.189948   \n",
       "\n",
       "             WoE        IV        JS  \n",
       "0       0.270425  0.008395  0.001046  \n",
       "1        0.41226  0.010222  0.001269  \n",
       "2       0.079353  0.001135  0.000142  \n",
       "3       0.016219  0.000056  0.000007  \n",
       "4      -0.154922  0.002137  0.000267  \n",
       "5      -0.176252  0.010543  0.001316  \n",
       "6            0.0  0.000000  0.000000  \n",
       "7            0.0  0.000000  0.000000  \n",
       "Totals            0.032489  0.004047  "
      ]
     },
     "metadata": {},
     "output_type": "display_data"
    },
    {
     "data": {
      "text/html": [
       "<div>\n",
       "<style scoped>\n",
       "    .dataframe tbody tr th:only-of-type {\n",
       "        vertical-align: middle;\n",
       "    }\n",
       "\n",
       "    .dataframe tbody tr th {\n",
       "        vertical-align: top;\n",
       "    }\n",
       "\n",
       "    .dataframe thead th {\n",
       "        text-align: right;\n",
       "    }\n",
       "</style>\n",
       "<table border=\"1\" class=\"dataframe\">\n",
       "  <thead>\n",
       "    <tr style=\"text-align: right;\">\n",
       "      <th></th>\n",
       "      <th>Bin</th>\n",
       "      <th>Count</th>\n",
       "      <th>Count (%)</th>\n",
       "      <th>Non-event</th>\n",
       "      <th>Event</th>\n",
       "      <th>Event rate</th>\n",
       "      <th>WoE</th>\n",
       "      <th>IV</th>\n",
       "      <th>JS</th>\n",
       "    </tr>\n",
       "  </thead>\n",
       "  <tbody>\n",
       "    <tr>\n",
       "      <th>0</th>\n",
       "      <td>[-inf, 34.35)</td>\n",
       "      <td>1255</td>\n",
       "      <td>0.051035</td>\n",
       "      <td>939</td>\n",
       "      <td>316</td>\n",
       "      <td>0.251793</td>\n",
       "      <td>-0.361278</td>\n",
       "      <td>0.007411</td>\n",
       "      <td>0.000921</td>\n",
       "    </tr>\n",
       "    <tr>\n",
       "      <th>1</th>\n",
       "      <td>[34.35, 127.99)</td>\n",
       "      <td>5173</td>\n",
       "      <td>0.210362</td>\n",
       "      <td>4046</td>\n",
       "      <td>1127</td>\n",
       "      <td>0.217862</td>\n",
       "      <td>-0.172182</td>\n",
       "      <td>0.006571</td>\n",
       "      <td>0.000820</td>\n",
       "    </tr>\n",
       "    <tr>\n",
       "      <th>2</th>\n",
       "      <td>[127.99, 172.03)</td>\n",
       "      <td>2400</td>\n",
       "      <td>0.097597</td>\n",
       "      <td>1896</td>\n",
       "      <td>504</td>\n",
       "      <td>0.210000</td>\n",
       "      <td>-0.125426</td>\n",
       "      <td>0.001595</td>\n",
       "      <td>0.000199</td>\n",
       "    </tr>\n",
       "    <tr>\n",
       "      <th>3</th>\n",
       "      <td>[172.03, 219.49)</td>\n",
       "      <td>2313</td>\n",
       "      <td>0.094059</td>\n",
       "      <td>1853</td>\n",
       "      <td>460</td>\n",
       "      <td>0.198876</td>\n",
       "      <td>-0.057016</td>\n",
       "      <td>0.000311</td>\n",
       "      <td>0.000039</td>\n",
       "    </tr>\n",
       "    <tr>\n",
       "      <th>4</th>\n",
       "      <td>[219.49, 265.94)</td>\n",
       "      <td>1583</td>\n",
       "      <td>0.064373</td>\n",
       "      <td>1301</td>\n",
       "      <td>282</td>\n",
       "      <td>0.178143</td>\n",
       "      <td>0.07863</td>\n",
       "      <td>0.000388</td>\n",
       "      <td>0.000049</td>\n",
       "    </tr>\n",
       "    <tr>\n",
       "      <th>5</th>\n",
       "      <td>[265.94, 506.19)</td>\n",
       "      <td>5202</td>\n",
       "      <td>0.211541</td>\n",
       "      <td>4342</td>\n",
       "      <td>860</td>\n",
       "      <td>0.165321</td>\n",
       "      <td>0.168807</td>\n",
       "      <td>0.005715</td>\n",
       "      <td>0.000714</td>\n",
       "    </tr>\n",
       "    <tr>\n",
       "      <th>6</th>\n",
       "      <td>[506.19, 1114.64)</td>\n",
       "      <td>4152</td>\n",
       "      <td>0.168842</td>\n",
       "      <td>3481</td>\n",
       "      <td>671</td>\n",
       "      <td>0.161609</td>\n",
       "      <td>0.195955</td>\n",
       "      <td>0.006094</td>\n",
       "      <td>0.000760</td>\n",
       "    </tr>\n",
       "    <tr>\n",
       "      <th>7</th>\n",
       "      <td>[1114.64, inf)</td>\n",
       "      <td>1294</td>\n",
       "      <td>0.052621</td>\n",
       "      <td>1105</td>\n",
       "      <td>189</td>\n",
       "      <td>0.146059</td>\n",
       "      <td>0.315503</td>\n",
       "      <td>0.004736</td>\n",
       "      <td>0.000589</td>\n",
       "    </tr>\n",
       "    <tr>\n",
       "      <th>8</th>\n",
       "      <td>Special</td>\n",
       "      <td>0</td>\n",
       "      <td>0.000000</td>\n",
       "      <td>0</td>\n",
       "      <td>0</td>\n",
       "      <td>0.000000</td>\n",
       "      <td>0.0</td>\n",
       "      <td>0.000000</td>\n",
       "      <td>0.000000</td>\n",
       "    </tr>\n",
       "    <tr>\n",
       "      <th>9</th>\n",
       "      <td>Missing</td>\n",
       "      <td>1219</td>\n",
       "      <td>0.049571</td>\n",
       "      <td>957</td>\n",
       "      <td>262</td>\n",
       "      <td>0.214930</td>\n",
       "      <td>-0.154892</td>\n",
       "      <td>0.001247</td>\n",
       "      <td>0.000156</td>\n",
       "    </tr>\n",
       "    <tr>\n",
       "      <th>Totals</th>\n",
       "      <td></td>\n",
       "      <td>24591</td>\n",
       "      <td>1.000000</td>\n",
       "      <td>19920</td>\n",
       "      <td>4671</td>\n",
       "      <td>0.189948</td>\n",
       "      <td></td>\n",
       "      <td>0.034068</td>\n",
       "      <td>0.004248</td>\n",
       "    </tr>\n",
       "  </tbody>\n",
       "</table>\n",
       "</div>"
      ],
      "text/plain": [
       "                      Bin  Count  Count (%)  Non-event  Event  Event rate  \\\n",
       "0           [-inf, 34.35)   1255   0.051035        939    316    0.251793   \n",
       "1         [34.35, 127.99)   5173   0.210362       4046   1127    0.217862   \n",
       "2        [127.99, 172.03)   2400   0.097597       1896    504    0.210000   \n",
       "3        [172.03, 219.49)   2313   0.094059       1853    460    0.198876   \n",
       "4        [219.49, 265.94)   1583   0.064373       1301    282    0.178143   \n",
       "5        [265.94, 506.19)   5202   0.211541       4342    860    0.165321   \n",
       "6       [506.19, 1114.64)   4152   0.168842       3481    671    0.161609   \n",
       "7          [1114.64, inf)   1294   0.052621       1105    189    0.146059   \n",
       "8                 Special      0   0.000000          0      0    0.000000   \n",
       "9                 Missing   1219   0.049571        957    262    0.214930   \n",
       "Totals                     24591   1.000000      19920   4671    0.189948   \n",
       "\n",
       "             WoE        IV        JS  \n",
       "0      -0.361278  0.007411  0.000921  \n",
       "1      -0.172182  0.006571  0.000820  \n",
       "2      -0.125426  0.001595  0.000199  \n",
       "3      -0.057016  0.000311  0.000039  \n",
       "4        0.07863  0.000388  0.000049  \n",
       "5       0.168807  0.005715  0.000714  \n",
       "6       0.195955  0.006094  0.000760  \n",
       "7       0.315503  0.004736  0.000589  \n",
       "8            0.0  0.000000  0.000000  \n",
       "9      -0.154892  0.001247  0.000156  \n",
       "Totals            0.034068  0.004248  "
      ]
     },
     "metadata": {},
     "output_type": "display_data"
    },
    {
     "data": {
      "text/html": [
       "<div>\n",
       "<style scoped>\n",
       "    .dataframe tbody tr th:only-of-type {\n",
       "        vertical-align: middle;\n",
       "    }\n",
       "\n",
       "    .dataframe tbody tr th {\n",
       "        vertical-align: top;\n",
       "    }\n",
       "\n",
       "    .dataframe thead th {\n",
       "        text-align: right;\n",
       "    }\n",
       "</style>\n",
       "<table border=\"1\" class=\"dataframe\">\n",
       "  <thead>\n",
       "    <tr style=\"text-align: right;\">\n",
       "      <th></th>\n",
       "      <th>Bin</th>\n",
       "      <th>Count</th>\n",
       "      <th>Count (%)</th>\n",
       "      <th>Non-event</th>\n",
       "      <th>Event</th>\n",
       "      <th>Event rate</th>\n",
       "      <th>WoE</th>\n",
       "      <th>IV</th>\n",
       "      <th>JS</th>\n",
       "    </tr>\n",
       "  </thead>\n",
       "  <tbody>\n",
       "    <tr>\n",
       "      <th>0</th>\n",
       "      <td>[-inf, 4.57)</td>\n",
       "      <td>1742</td>\n",
       "      <td>0.070839</td>\n",
       "      <td>1318</td>\n",
       "      <td>424</td>\n",
       "      <td>0.243398</td>\n",
       "      <td>-0.316214</td>\n",
       "      <td>0.007781</td>\n",
       "      <td>0.000969</td>\n",
       "    </tr>\n",
       "    <tr>\n",
       "      <th>1</th>\n",
       "      <td>[4.57, 12.68)</td>\n",
       "      <td>4722</td>\n",
       "      <td>0.192021</td>\n",
       "      <td>3677</td>\n",
       "      <td>1045</td>\n",
       "      <td>0.221305</td>\n",
       "      <td>-0.192271</td>\n",
       "      <td>0.007524</td>\n",
       "      <td>0.000939</td>\n",
       "    </tr>\n",
       "    <tr>\n",
       "      <th>2</th>\n",
       "      <td>[12.68, 16.66)</td>\n",
       "      <td>2219</td>\n",
       "      <td>0.090236</td>\n",
       "      <td>1768</td>\n",
       "      <td>451</td>\n",
       "      <td>0.203245</td>\n",
       "      <td>-0.084214</td>\n",
       "      <td>0.000657</td>\n",
       "      <td>0.000082</td>\n",
       "    </tr>\n",
       "    <tr>\n",
       "      <th>3</th>\n",
       "      <td>[16.66, 21.91)</td>\n",
       "      <td>2491</td>\n",
       "      <td>0.101297</td>\n",
       "      <td>2010</td>\n",
       "      <td>481</td>\n",
       "      <td>0.193095</td>\n",
       "      <td>-0.020328</td>\n",
       "      <td>0.000042</td>\n",
       "      <td>0.000005</td>\n",
       "    </tr>\n",
       "    <tr>\n",
       "      <th>4</th>\n",
       "      <td>[21.91, 27.68)</td>\n",
       "      <td>1714</td>\n",
       "      <td>0.069700</td>\n",
       "      <td>1415</td>\n",
       "      <td>299</td>\n",
       "      <td>0.174446</td>\n",
       "      <td>0.10409</td>\n",
       "      <td>0.000731</td>\n",
       "      <td>0.000091</td>\n",
       "    </tr>\n",
       "    <tr>\n",
       "      <th>5</th>\n",
       "      <td>[27.68, 55.83)</td>\n",
       "      <td>4918</td>\n",
       "      <td>0.199992</td>\n",
       "      <td>4118</td>\n",
       "      <td>800</td>\n",
       "      <td>0.162668</td>\n",
       "      <td>0.18816</td>\n",
       "      <td>0.006672</td>\n",
       "      <td>0.000833</td>\n",
       "    </tr>\n",
       "    <tr>\n",
       "      <th>6</th>\n",
       "      <td>[55.83, inf)</td>\n",
       "      <td>3787</td>\n",
       "      <td>0.153999</td>\n",
       "      <td>3218</td>\n",
       "      <td>569</td>\n",
       "      <td>0.150251</td>\n",
       "      <td>0.282284</td>\n",
       "      <td>0.011215</td>\n",
       "      <td>0.001397</td>\n",
       "    </tr>\n",
       "    <tr>\n",
       "      <th>7</th>\n",
       "      <td>Special</td>\n",
       "      <td>0</td>\n",
       "      <td>0.000000</td>\n",
       "      <td>0</td>\n",
       "      <td>0</td>\n",
       "      <td>0.000000</td>\n",
       "      <td>0.0</td>\n",
       "      <td>0.000000</td>\n",
       "      <td>0.000000</td>\n",
       "    </tr>\n",
       "    <tr>\n",
       "      <th>8</th>\n",
       "      <td>Missing</td>\n",
       "      <td>2998</td>\n",
       "      <td>0.121915</td>\n",
       "      <td>2396</td>\n",
       "      <td>602</td>\n",
       "      <td>0.200801</td>\n",
       "      <td>-0.069053</td>\n",
       "      <td>0.000594</td>\n",
       "      <td>0.000074</td>\n",
       "    </tr>\n",
       "    <tr>\n",
       "      <th>Totals</th>\n",
       "      <td></td>\n",
       "      <td>24591</td>\n",
       "      <td>1.000000</td>\n",
       "      <td>19920</td>\n",
       "      <td>4671</td>\n",
       "      <td>0.189948</td>\n",
       "      <td></td>\n",
       "      <td>0.035216</td>\n",
       "      <td>0.004391</td>\n",
       "    </tr>\n",
       "  </tbody>\n",
       "</table>\n",
       "</div>"
      ],
      "text/plain": [
       "                   Bin  Count  Count (%)  Non-event  Event  Event rate  \\\n",
       "0         [-inf, 4.57)   1742   0.070839       1318    424    0.243398   \n",
       "1        [4.57, 12.68)   4722   0.192021       3677   1045    0.221305   \n",
       "2       [12.68, 16.66)   2219   0.090236       1768    451    0.203245   \n",
       "3       [16.66, 21.91)   2491   0.101297       2010    481    0.193095   \n",
       "4       [21.91, 27.68)   1714   0.069700       1415    299    0.174446   \n",
       "5       [27.68, 55.83)   4918   0.199992       4118    800    0.162668   \n",
       "6         [55.83, inf)   3787   0.153999       3218    569    0.150251   \n",
       "7              Special      0   0.000000          0      0    0.000000   \n",
       "8              Missing   2998   0.121915       2396    602    0.200801   \n",
       "Totals                  24591   1.000000      19920   4671    0.189948   \n",
       "\n",
       "             WoE        IV        JS  \n",
       "0      -0.316214  0.007781  0.000969  \n",
       "1      -0.192271  0.007524  0.000939  \n",
       "2      -0.084214  0.000657  0.000082  \n",
       "3      -0.020328  0.000042  0.000005  \n",
       "4        0.10409  0.000731  0.000091  \n",
       "5        0.18816  0.006672  0.000833  \n",
       "6       0.282284  0.011215  0.001397  \n",
       "7            0.0  0.000000  0.000000  \n",
       "8      -0.069053  0.000594  0.000074  \n",
       "Totals            0.035216  0.004391  "
      ]
     },
     "metadata": {},
     "output_type": "display_data"
    },
    {
     "data": {
      "text/html": [
       "<div>\n",
       "<style scoped>\n",
       "    .dataframe tbody tr th:only-of-type {\n",
       "        vertical-align: middle;\n",
       "    }\n",
       "\n",
       "    .dataframe tbody tr th {\n",
       "        vertical-align: top;\n",
       "    }\n",
       "\n",
       "    .dataframe thead th {\n",
       "        text-align: right;\n",
       "    }\n",
       "</style>\n",
       "<table border=\"1\" class=\"dataframe\">\n",
       "  <thead>\n",
       "    <tr style=\"text-align: right;\">\n",
       "      <th></th>\n",
       "      <th>Bin</th>\n",
       "      <th>Count</th>\n",
       "      <th>Count (%)</th>\n",
       "      <th>Non-event</th>\n",
       "      <th>Event</th>\n",
       "      <th>Event rate</th>\n",
       "      <th>WoE</th>\n",
       "      <th>IV</th>\n",
       "      <th>JS</th>\n",
       "    </tr>\n",
       "  </thead>\n",
       "  <tbody>\n",
       "    <tr>\n",
       "      <th>0</th>\n",
       "      <td>[-inf, 54.50)</td>\n",
       "      <td>4081</td>\n",
       "      <td>0.165955</td>\n",
       "      <td>2967</td>\n",
       "      <td>1114</td>\n",
       "      <td>0.272972</td>\n",
       "      <td>-0.470757</td>\n",
       "      <td>0.042155</td>\n",
       "      <td>0.005221</td>\n",
       "    </tr>\n",
       "    <tr>\n",
       "      <th>1</th>\n",
       "      <td>[54.50, 63.50)</td>\n",
       "      <td>1288</td>\n",
       "      <td>0.052377</td>\n",
       "      <td>963</td>\n",
       "      <td>325</td>\n",
       "      <td>0.252329</td>\n",
       "      <td>-0.364123</td>\n",
       "      <td>0.007732</td>\n",
       "      <td>0.000961</td>\n",
       "    </tr>\n",
       "    <tr>\n",
       "      <th>2</th>\n",
       "      <td>[63.50, 73.50)</td>\n",
       "      <td>1866</td>\n",
       "      <td>0.075881</td>\n",
       "      <td>1416</td>\n",
       "      <td>450</td>\n",
       "      <td>0.241158</td>\n",
       "      <td>-0.304007</td>\n",
       "      <td>0.007678</td>\n",
       "      <td>0.000956</td>\n",
       "    </tr>\n",
       "    <tr>\n",
       "      <th>3</th>\n",
       "      <td>[73.50, 79.50)</td>\n",
       "      <td>1361</td>\n",
       "      <td>0.055345</td>\n",
       "      <td>1048</td>\n",
       "      <td>313</td>\n",
       "      <td>0.229978</td>\n",
       "      <td>-0.241915</td>\n",
       "      <td>0.003483</td>\n",
       "      <td>0.000434</td>\n",
       "    </tr>\n",
       "    <tr>\n",
       "      <th>4</th>\n",
       "      <td>[79.50, 98.50)</td>\n",
       "      <td>4541</td>\n",
       "      <td>0.184661</td>\n",
       "      <td>3663</td>\n",
       "      <td>878</td>\n",
       "      <td>0.193349</td>\n",
       "      <td>-0.02196</td>\n",
       "      <td>0.000090</td>\n",
       "      <td>0.000011</td>\n",
       "    </tr>\n",
       "    <tr>\n",
       "      <th>5</th>\n",
       "      <td>[98.50, 105.50)</td>\n",
       "      <td>1682</td>\n",
       "      <td>0.068399</td>\n",
       "      <td>1377</td>\n",
       "      <td>305</td>\n",
       "      <td>0.181332</td>\n",
       "      <td>0.057</td>\n",
       "      <td>0.000218</td>\n",
       "      <td>0.000027</td>\n",
       "    </tr>\n",
       "    <tr>\n",
       "      <th>6</th>\n",
       "      <td>[105.50, 120.50)</td>\n",
       "      <td>4861</td>\n",
       "      <td>0.197674</td>\n",
       "      <td>4162</td>\n",
       "      <td>699</td>\n",
       "      <td>0.143798</td>\n",
       "      <td>0.333749</td>\n",
       "      <td>0.019788</td>\n",
       "      <td>0.002462</td>\n",
       "    </tr>\n",
       "    <tr>\n",
       "      <th>7</th>\n",
       "      <td>[120.50, 124.50)</td>\n",
       "      <td>1466</td>\n",
       "      <td>0.059615</td>\n",
       "      <td>1307</td>\n",
       "      <td>159</td>\n",
       "      <td>0.108458</td>\n",
       "      <td>0.656234</td>\n",
       "      <td>0.020719</td>\n",
       "      <td>0.002544</td>\n",
       "    </tr>\n",
       "    <tr>\n",
       "      <th>8</th>\n",
       "      <td>[124.50, 130.50)</td>\n",
       "      <td>2131</td>\n",
       "      <td>0.086658</td>\n",
       "      <td>1887</td>\n",
       "      <td>244</td>\n",
       "      <td>0.114500</td>\n",
       "      <td>0.595224</td>\n",
       "      <td>0.025292</td>\n",
       "      <td>0.003116</td>\n",
       "    </tr>\n",
       "    <tr>\n",
       "      <th>9</th>\n",
       "      <td>[130.50, inf)</td>\n",
       "      <td>1311</td>\n",
       "      <td>0.053312</td>\n",
       "      <td>1127</td>\n",
       "      <td>184</td>\n",
       "      <td>0.140351</td>\n",
       "      <td>0.362028</td>\n",
       "      <td>0.006221</td>\n",
       "      <td>0.000773</td>\n",
       "    </tr>\n",
       "    <tr>\n",
       "      <th>10</th>\n",
       "      <td>Special</td>\n",
       "      <td>0</td>\n",
       "      <td>0.000000</td>\n",
       "      <td>0</td>\n",
       "      <td>0</td>\n",
       "      <td>0.000000</td>\n",
       "      <td>0.0</td>\n",
       "      <td>0.000000</td>\n",
       "      <td>0.000000</td>\n",
       "    </tr>\n",
       "    <tr>\n",
       "      <th>11</th>\n",
       "      <td>Missing</td>\n",
       "      <td>3</td>\n",
       "      <td>0.000122</td>\n",
       "      <td>3</td>\n",
       "      <td>0</td>\n",
       "      <td>0.000000</td>\n",
       "      <td>0.0</td>\n",
       "      <td>0.000000</td>\n",
       "      <td>0.000000</td>\n",
       "    </tr>\n",
       "    <tr>\n",
       "      <th>Totals</th>\n",
       "      <td></td>\n",
       "      <td>24591</td>\n",
       "      <td>1.000000</td>\n",
       "      <td>19920</td>\n",
       "      <td>4671</td>\n",
       "      <td>0.189948</td>\n",
       "      <td></td>\n",
       "      <td>0.133376</td>\n",
       "      <td>0.016507</td>\n",
       "    </tr>\n",
       "  </tbody>\n",
       "</table>\n",
       "</div>"
      ],
      "text/plain": [
       "                     Bin  Count  Count (%)  Non-event  Event  Event rate  \\\n",
       "0          [-inf, 54.50)   4081   0.165955       2967   1114    0.272972   \n",
       "1         [54.50, 63.50)   1288   0.052377        963    325    0.252329   \n",
       "2         [63.50, 73.50)   1866   0.075881       1416    450    0.241158   \n",
       "3         [73.50, 79.50)   1361   0.055345       1048    313    0.229978   \n",
       "4         [79.50, 98.50)   4541   0.184661       3663    878    0.193349   \n",
       "5        [98.50, 105.50)   1682   0.068399       1377    305    0.181332   \n",
       "6       [105.50, 120.50)   4861   0.197674       4162    699    0.143798   \n",
       "7       [120.50, 124.50)   1466   0.059615       1307    159    0.108458   \n",
       "8       [124.50, 130.50)   2131   0.086658       1887    244    0.114500   \n",
       "9          [130.50, inf)   1311   0.053312       1127    184    0.140351   \n",
       "10               Special      0   0.000000          0      0    0.000000   \n",
       "11               Missing      3   0.000122          3      0    0.000000   \n",
       "Totals                    24591   1.000000      19920   4671    0.189948   \n",
       "\n",
       "             WoE        IV        JS  \n",
       "0      -0.470757  0.042155  0.005221  \n",
       "1      -0.364123  0.007732  0.000961  \n",
       "2      -0.304007  0.007678  0.000956  \n",
       "3      -0.241915  0.003483  0.000434  \n",
       "4       -0.02196  0.000090  0.000011  \n",
       "5          0.057  0.000218  0.000027  \n",
       "6       0.333749  0.019788  0.002462  \n",
       "7       0.656234  0.020719  0.002544  \n",
       "8       0.595224  0.025292  0.003116  \n",
       "9       0.362028  0.006221  0.000773  \n",
       "10           0.0  0.000000  0.000000  \n",
       "11           0.0  0.000000  0.000000  \n",
       "Totals            0.133376  0.016507  "
      ]
     },
     "metadata": {},
     "output_type": "display_data"
    }
   ],
   "source": [
    "display(comp_interno1_table.build())\n",
    "display(comp_interno2_table.build())\n",
    "display(comp_interno4_table.build())\n",
    "display(categoria1_table.build())\n",
    "display(categoria3_table.build())\n",
    "display(comp_mixto1_table.build())\n",
    "display(comp_externo1_table.build())\n",
    "display(comp_externo2_table.build())\n",
    "display(comp_externo3_table.build())"
   ]
  },
  {
   "cell_type": "code",
   "execution_count": 216,
   "id": "358a3e5f",
   "metadata": {},
   "outputs": [
    {
     "ename": "NameError",
     "evalue": "name 'optb' is not defined",
     "output_type": "error",
     "traceback": [
      "\u001b[1;31m---------------------------------------------------------------------------\u001b[0m",
      "\u001b[1;31mNameError\u001b[0m                                 Traceback (most recent call last)",
      "\u001b[1;32m<ipython-input-216-c0d03d7417ab>\u001b[0m in \u001b[0;36m<module>\u001b[1;34m\u001b[0m\n\u001b[1;32m----> 1\u001b[1;33m \u001b[0mbinning_table\u001b[0m \u001b[1;33m=\u001b[0m \u001b[0moptb\u001b[0m\u001b[1;33m.\u001b[0m\u001b[0mbinning_table\u001b[0m\u001b[1;33m\u001b[0m\u001b[1;33m\u001b[0m\u001b[0m\n\u001b[0m",
      "\u001b[1;31mNameError\u001b[0m: name 'optb' is not defined"
     ]
    }
   ],
   "source": [
    "binning_table = optb.binning_table"
   ]
  },
  {
   "cell_type": "code",
   "execution_count": 30,
   "id": "99926a0e",
   "metadata": {},
   "outputs": [
    {
     "data": {
      "image/png": "[encoded data removed]",
      "text/plain": [
       "<Figure size 432x288 with 2 Axes>"
      ]
     },
     "metadata": {
      "needs_background": "light"
     },
     "output_type": "display_data"
    },
    {
     "data": {
      "image/png": "[encoded data removed]",
      "text/plain": [
       "<Figure size 432x288 with 2 Axes>"
      ]
     },
     "metadata": {
      "needs_background": "light"
     },
     "output_type": "display_data"
    }
   ],
   "source": [
    "comp_interno1_table.plot(metric=\"event_rate\")\n",
    "comp_interno1_table.plot(metric=\"woe\")"
   ]
  },
  {
   "cell_type": "code",
   "execution_count": 230,
   "id": "4d288303",
   "metadata": {},
   "outputs": [
    {
     "data": {
      "image/png": "[encoded data removed]",
      "text/plain": [
       "<Figure size 432x288 with 2 Axes>"
      ]
     },
     "metadata": {
      "needs_background": "light"
     },
     "output_type": "display_data"
    },
    {
     "data": {
      "image/png": "[encoded data removed]",
      "text/plain": [
       "<Figure size 432x288 with 2 Axes>"
      ]
     },
     "metadata": {
      "needs_background": "light"
     },
     "output_type": "display_data"
    }
   ],
   "source": [
    "comp_interno2_table.plot(metric=\"event_rate\")\n",
    "comp_interno2_table.plot(metric=\"woe\")"
   ]
  },
  {
   "cell_type": "code",
   "execution_count": 39,
   "id": "c2a1bbde",
   "metadata": {},
   "outputs": [
    {
     "data": {
      "image/png": "[encoded data removed]",
      "text/plain": [
       "<Figure size 432x288 with 2 Axes>"
      ]
     },
     "metadata": {
      "needs_background": "light"
     },
     "output_type": "display_data"
    },
    {
     "data": {
      "image/png": "[encoded data removed]",
      "text/plain": [
       "<Figure size 432x288 with 2 Axes>"
      ]
     },
     "metadata": {
      "needs_background": "light"
     },
     "output_type": "display_data"
    }
   ],
   "source": [
    "comp_interno4_table.plot(metric=\"event_rate\")\n",
    "comp_interno4_table.plot(metric=\"woe\")"
   ]
  },
  {
   "cell_type": "code",
   "execution_count": 231,
   "id": "4b0dd78a",
   "metadata": {},
   "outputs": [
    {
     "data": {
      "image/png": "[encoded data removed]",
      "text/plain": [
       "<Figure size 432x288 with 2 Axes>"
      ]
     },
     "metadata": {
      "needs_background": "light"
     },
     "output_type": "display_data"
    },
    {
     "data": {
      "image/png": "[encoded data removed]",
      "text/plain": [
       "<Figure size 432x288 with 2 Axes>"
      ]
     },
     "metadata": {
      "needs_background": "light"
     },
     "output_type": "display_data"
    }
   ],
   "source": [
    "categoria1_table.plot(metric=\"event_rate\")\n",
    "categoria1_table.plot(metric=\"woe\")"
   ]
  },
  {
   "cell_type": "code",
   "execution_count": 40,
   "id": "a1cd3a24",
   "metadata": {},
   "outputs": [
    {
     "data": {
      "image/png": "[encoded data removed]",
      "text/plain": [
       "<Figure size 432x288 with 2 Axes>"
      ]
     },
     "metadata": {
      "needs_background": "light"
     },
     "output_type": "display_data"
    },
    {
     "data": {
      "image/png": "[encoded data removed]",
      "text/plain": [
       "<Figure size 432x288 with 2 Axes>"
      ]
     },
     "metadata": {
      "needs_background": "light"
     },
     "output_type": "display_data"
    }
   ],
   "source": [
    "categoria3_table.plot(metric=\"event_rate\")\n",
    "categoria3_table.plot(metric=\"woe\")"
   ]
  },
  {
   "cell_type": "code",
   "execution_count": 41,
   "id": "4d600d01",
   "metadata": {},
   "outputs": [
    {
     "data": {
      "image/png": "[encoded data removed]",
      "text/plain": [
       "<Figure size 432x288 with 2 Axes>"
      ]
     },
     "metadata": {
      "needs_background": "light"
     },
     "output_type": "display_data"
    },
    {
     "data": {
      "image/png": "[encoded data removed]",
      "text/plain": [
       "<Figure size 432x288 with 2 Axes>"
      ]
     },
     "metadata": {
      "needs_background": "light"
     },
     "output_type": "display_data"
    }
   ],
   "source": [
    "comp_mixto1_table.plot(metric=\"event_rate\")\n",
    "comp_mixto1_table.plot(metric=\"woe\")"
   ]
  },
  {
   "cell_type": "code",
   "execution_count": 42,
   "id": "6b72d0f2",
   "metadata": {},
   "outputs": [
    {
     "data": {
      "image/png": "[encoded data removed]",
      "text/plain": [
       "<Figure size 432x288 with 2 Axes>"
      ]
     },
     "metadata": {
      "needs_background": "light"
     },
     "output_type": "display_data"
    },
    {
     "data": {
      "image/png": "[encoded data removed]",
      "text/plain": [
       "<Figure size 432x288 with 2 Axes>"
      ]
     },
     "metadata": {
      "needs_background": "light"
     },
     "output_type": "display_data"
    }
   ],
   "source": [
    "comp_externo1_table.plot(metric=\"event_rate\")\n",
    "comp_externo1_table.plot(metric=\"woe\")"
   ]
  },
  {
   "cell_type": "code",
   "execution_count": 43,
   "id": "c48c7919",
   "metadata": {},
   "outputs": [
    {
     "data": {
      "image/png": "[encoded data removed]",
      "text/plain": [
       "<Figure size 432x288 with 2 Axes>"
      ]
     },
     "metadata": {
      "needs_background": "light"
     },
     "output_type": "display_data"
    },
    {
     "data": {
      "image/png": "[encoded data removed]",
      "text/plain": [
       "<Figure size 432x288 with 2 Axes>"
      ]
     },
     "metadata": {
      "needs_background": "light"
     },
     "output_type": "display_data"
    }
   ],
   "source": [
    "comp_externo2_table.plot(metric=\"event_rate\")\n",
    "comp_externo2_table.plot(metric=\"woe\")"
   ]
  },
  {
   "cell_type": "code",
   "execution_count": 44,
   "id": "a712e7ba",
   "metadata": {},
   "outputs": [
    {
     "data": {
      "image/png": "[encoded data removed]",
      "text/plain": [
       "<Figure size 432x288 with 2 Axes>"
      ]
     },
     "metadata": {
      "needs_background": "light"
     },
     "output_type": "display_data"
    },
    {
     "data": {
      "image/png": "[encoded data removed]",
      "text/plain": [
       "<Figure size 432x288 with 2 Axes>"
      ]
     },
     "metadata": {
      "needs_background": "light"
     },
     "output_type": "display_data"
    }
   ],
   "source": [
    "comp_externo3_table.plot(metric=\"event_rate\")\n",
    "comp_externo3_table.plot(metric=\"woe\")"
   ]
  },
  {
   "cell_type": "code",
   "execution_count": 298,
   "id": "f1004ece",
   "metadata": {},
   "outputs": [],
   "source": [
    "#Transformamos las variables a woe\n",
    "\n",
    "train[\"woe_comp_interno1\"] = optb_comp_interno1.transform(train[\"comp_interno1\"], metric=\"woe\")\n",
    "train[\"woe_comp_interno2\"] = optb_comp_interno4.transform(train[\"comp_interno2\"], metric=\"woe\")\n",
    "train[\"woe_comp_interno4\"] = optb_comp_interno4.transform(train[\"comp_interno4\"], metric=\"woe\")\n",
    "train[\"woe_categoria1\"] = optb_categoria1.transform(train[\"categoria1\"], metric=\"woe\")\n",
    "train[\"woe_categoria3\"] = optb_categoria3.transform(train[\"categoria3\"], metric=\"woe\")\n",
    "train[\"woe_comp_mixto1\"] = optb_comp_mixto1.transform(train[\"comp_mixto1\"], metric=\"woe\")\n",
    "train[\"woe_comp_externo1\"] = optb_comp_externo1.transform(train[\"comp_externo1\"], metric=\"woe\")\n",
    "train[\"woe_comp_externo2\"] = optb_comp_externo2.transform(train[\"comp_externo2\"], metric=\"woe\")\n",
    "train[\"woe_comp_externo3\"] = optb_comp_externo3.transform(train[\"comp_externo3\"], metric=\"woe\")"
   ]
  },
  {
   "cell_type": "code",
   "execution_count": 299,
   "id": "482a878f",
   "metadata": {},
   "outputs": [
    {
     "data": {
      "text/html": [
       "<div>\n",
       "<style scoped>\n",
       "    .dataframe tbody tr th:only-of-type {\n",
       "        vertical-align: middle;\n",
       "    }\n",
       "\n",
       "    .dataframe tbody tr th {\n",
       "        vertical-align: top;\n",
       "    }\n",
       "\n",
       "    .dataframe thead th {\n",
       "        text-align: right;\n",
       "    }\n",
       "</style>\n",
       "<table border=\"1\" class=\"dataframe\">\n",
       "  <thead>\n",
       "    <tr style=\"text-align: right;\">\n",
       "      <th></th>\n",
       "      <th>Unnamed: 0</th>\n",
       "      <th>comp_interno1</th>\n",
       "      <th>comp_interno2</th>\n",
       "      <th>comp_interno4</th>\n",
       "      <th>categoria1</th>\n",
       "      <th>categoria3</th>\n",
       "      <th>comp_mixto1</th>\n",
       "      <th>comp_externo1</th>\n",
       "      <th>comp_externo2</th>\n",
       "      <th>comp_externo3</th>\n",
       "      <th>Comp_final</th>\n",
       "      <th>woe_comp_interno1</th>\n",
       "      <th>woe_comp_interno2</th>\n",
       "      <th>woe_comp_interno4</th>\n",
       "      <th>woe_categoria3</th>\n",
       "      <th>woe_categoria1</th>\n",
       "      <th>woe_comp_mixto1</th>\n",
       "      <th>woe_comp_externo1</th>\n",
       "      <th>woe_comp_externo2</th>\n",
       "      <th>woe_comp_externo3</th>\n",
       "    </tr>\n",
       "  </thead>\n",
       "  <tbody>\n",
       "    <tr>\n",
       "      <th>29340</th>\n",
       "      <td>41381</td>\n",
       "      <td>1215.805471</td>\n",
       "      <td>1</td>\n",
       "      <td>50</td>\n",
       "      <td>2</td>\n",
       "      <td>166</td>\n",
       "      <td>0.29190</td>\n",
       "      <td>90.463768</td>\n",
       "      <td>8.965814</td>\n",
       "      <td>131.0</td>\n",
       "      <td>0</td>\n",
       "      <td>-0.012953</td>\n",
       "      <td>0.0</td>\n",
       "      <td>-0.241963</td>\n",
       "      <td>-0.078973</td>\n",
       "      <td>0.099208</td>\n",
       "      <td>0.412260</td>\n",
       "      <td>-0.172182</td>\n",
       "      <td>-0.192271</td>\n",
       "      <td>0.362028</td>\n",
       "    </tr>\n",
       "    <tr>\n",
       "      <th>11727</th>\n",
       "      <td>16549</td>\n",
       "      <td>0.000000</td>\n",
       "      <td>1</td>\n",
       "      <td>57</td>\n",
       "      <td>2</td>\n",
       "      <td>159</td>\n",
       "      <td>0.34000</td>\n",
       "      <td>236.231884</td>\n",
       "      <td>23.412812</td>\n",
       "      <td>122.0</td>\n",
       "      <td>0</td>\n",
       "      <td>0.003511</td>\n",
       "      <td>0.0</td>\n",
       "      <td>-0.101154</td>\n",
       "      <td>0.111126</td>\n",
       "      <td>0.099208</td>\n",
       "      <td>0.016219</td>\n",
       "      <td>0.078630</td>\n",
       "      <td>0.104090</td>\n",
       "      <td>0.656234</td>\n",
       "    </tr>\n",
       "    <tr>\n",
       "      <th>1578</th>\n",
       "      <td>2247</td>\n",
       "      <td>0.000000</td>\n",
       "      <td>1</td>\n",
       "      <td>55</td>\n",
       "      <td>2</td>\n",
       "      <td>146</td>\n",
       "      <td>0.31240</td>\n",
       "      <td>434.779710</td>\n",
       "      <td>42.401609</td>\n",
       "      <td>79.0</td>\n",
       "      <td>0</td>\n",
       "      <td>0.003511</td>\n",
       "      <td>0.0</td>\n",
       "      <td>-0.043274</td>\n",
       "      <td>0.093525</td>\n",
       "      <td>0.099208</td>\n",
       "      <td>0.079353</td>\n",
       "      <td>0.168807</td>\n",
       "      <td>0.188160</td>\n",
       "      <td>-0.241915</td>\n",
       "    </tr>\n",
       "    <tr>\n",
       "      <th>11317</th>\n",
       "      <td>15993</td>\n",
       "      <td>0.000000</td>\n",
       "      <td>1</td>\n",
       "      <td>41</td>\n",
       "      <td>1</td>\n",
       "      <td>146</td>\n",
       "      <td>0.31842</td>\n",
       "      <td>220.289855</td>\n",
       "      <td>21.832807</td>\n",
       "      <td>50.0</td>\n",
       "      <td>0</td>\n",
       "      <td>0.003511</td>\n",
       "      <td>0.0</td>\n",
       "      <td>0.138312</td>\n",
       "      <td>0.093525</td>\n",
       "      <td>-0.121831</td>\n",
       "      <td>0.079353</td>\n",
       "      <td>0.078630</td>\n",
       "      <td>-0.020328</td>\n",
       "      <td>-0.470757</td>\n",
       "    </tr>\n",
       "    <tr>\n",
       "      <th>29490</th>\n",
       "      <td>41587</td>\n",
       "      <td>0.000000</td>\n",
       "      <td>0</td>\n",
       "      <td>55</td>\n",
       "      <td>1</td>\n",
       "      <td>171</td>\n",
       "      <td>0.37442</td>\n",
       "      <td>162.318841</td>\n",
       "      <td>16.087331</td>\n",
       "      <td>123.0</td>\n",
       "      <td>0</td>\n",
       "      <td>0.003511</td>\n",
       "      <td>0.0</td>\n",
       "      <td>-0.043274</td>\n",
       "      <td>0.052743</td>\n",
       "      <td>-0.121831</td>\n",
       "      <td>-0.176252</td>\n",
       "      <td>-0.125426</td>\n",
       "      <td>-0.084214</td>\n",
       "      <td>0.656234</td>\n",
       "    </tr>\n",
       "  </tbody>\n",
       "</table>\n",
       "</div>"
      ],
      "text/plain": [
       "       Unnamed: 0  comp_interno1  comp_interno2  comp_interno4  categoria1  \\\n",
       "29340       41381    1215.805471              1             50           2   \n",
       "11727       16549       0.000000              1             57           2   \n",
       "1578         2247       0.000000              1             55           2   \n",
       "11317       15993       0.000000              1             41           1   \n",
       "29490       41587       0.000000              0             55           1   \n",
       "\n",
       "       categoria3  comp_mixto1  comp_externo1  comp_externo2  comp_externo3  \\\n",
       "29340         166      0.29190      90.463768       8.965814          131.0   \n",
       "11727         159      0.34000     236.231884      23.412812          122.0   \n",
       "1578          146      0.31240     434.779710      42.401609           79.0   \n",
       "11317         146      0.31842     220.289855      21.832807           50.0   \n",
       "29490         171      0.37442     162.318841      16.087331          123.0   \n",
       "\n",
       "       Comp_final  woe_comp_interno1  woe_comp_interno2  woe_comp_interno4  \\\n",
       "29340           0          -0.012953                0.0          -0.241963   \n",
       "11727           0           0.003511                0.0          -0.101154   \n",
       "1578            0           0.003511                0.0          -0.043274   \n",
       "11317           0           0.003511                0.0           0.138312   \n",
       "29490           0           0.003511                0.0          -0.043274   \n",
       "\n",
       "       woe_categoria3  woe_categoria1  woe_comp_mixto1  woe_comp_externo1  \\\n",
       "29340       -0.078973        0.099208         0.412260          -0.172182   \n",
       "11727        0.111126        0.099208         0.016219           0.078630   \n",
       "1578         0.093525        0.099208         0.079353           0.168807   \n",
       "11317        0.093525       -0.121831         0.079353           0.078630   \n",
       "29490        0.052743       -0.121831        -0.176252          -0.125426   \n",
       "\n",
       "       woe_comp_externo2  woe_comp_externo3  \n",
       "29340          -0.192271           0.362028  \n",
       "11727           0.104090           0.656234  \n",
       "1578            0.188160          -0.241915  \n",
       "11317          -0.020328          -0.470757  \n",
       "29490          -0.084214           0.656234  "
      ]
     },
     "execution_count": 299,
     "metadata": {},
     "output_type": "execute_result"
    }
   ],
   "source": [
    "train.head()"
   ]
  },
  {
   "cell_type": "code",
   "execution_count": 300,
   "id": "5e2f4dc7",
   "metadata": {},
   "outputs": [
    {
     "name": "stdout",
     "output_type": "stream",
     "text": [
      "<class 'pandas.core.frame.DataFrame'>\n",
      "Int64Index: 24591 entries, 29340 to 14147\n",
      "Data columns (total 20 columns):\n",
      " #   Column             Non-Null Count  Dtype  \n",
      "---  ------             --------------  -----  \n",
      " 0   Unnamed: 0         24591 non-null  int64  \n",
      " 1   comp_interno1      24591 non-null  float64\n",
      " 2   comp_interno2      24591 non-null  int64  \n",
      " 3   comp_interno4      24591 non-null  int64  \n",
      " 4   categoria1         24591 non-null  int64  \n",
      " 5   categoria3         24591 non-null  int64  \n",
      " 6   comp_mixto1        24591 non-null  float64\n",
      " 7   comp_externo1      23372 non-null  float64\n",
      " 8   comp_externo2      21593 non-null  float64\n",
      " 9   comp_externo3      24588 non-null  float64\n",
      " 10  Comp_final         24591 non-null  int64  \n",
      " 11  woe_comp_interno1  24591 non-null  float64\n",
      " 12  woe_comp_interno2  24591 non-null  float64\n",
      " 13  woe_comp_interno4  24591 non-null  float64\n",
      " 14  woe_categoria3     24591 non-null  float64\n",
      " 15  woe_categoria1     24591 non-null  float64\n",
      " 16  woe_comp_mixto1    24591 non-null  float64\n",
      " 17  woe_comp_externo1  24591 non-null  float64\n",
      " 18  woe_comp_externo2  24591 non-null  float64\n",
      " 19  woe_comp_externo3  24591 non-null  float64\n",
      "dtypes: float64(14), int64(6)\n",
      "memory usage: 3.9 MB\n"
     ]
    }
   ],
   "source": [
    "train.info()"
   ]
  },
  {
   "cell_type": "code",
   "execution_count": 301,
   "id": "7451d4c3",
   "metadata": {},
   "outputs": [
    {
     "data": {
      "image/png": "[encoded data removed]",
      "text/plain": [
       "<Figure size 720x720 with 2 Axes>"
      ]
     },
     "metadata": {
      "needs_background": "light"
     },
     "output_type": "display_data"
    }
   ],
   "source": [
    "corr = train.iloc[:,11:].corr()\n",
    "\n",
    "\n",
    "xticks = list(corr.index)  \n",
    "yticks = list(corr.index)  \n",
    "fig = plt.figure(figsize=(10,10))\n",
    "ax1 = fig.add_subplot(1, 1, 1)\n",
    "\n",
    "sns.heatmap(corr,annot=True,cmap=\"rainbow\",ax=ax1,linewidths=.5,annot_kws={'size':9,'weight':'bold', 'color':'k'})\n",
    "ax1.set_xticklabels(xticks, rotation=30, fontsize=10)\n",
    "ax1.set_yticklabels(yticks, rotation=0, fontsize=10)\n",
    "plt.show()"
   ]
  },
  {
   "cell_type": "code",
   "execution_count": 304,
   "id": "73d98254",
   "metadata": {},
   "outputs": [],
   "source": [
    "#train=train[[\"Comp_final\",\"woe_comp_interno1\",\"woe_comp_interno2\",\"woe_comp_interno4\",\"woe_categoria1\",\"woe_categoria3\",\"woe_comp_mixto1\",\"woe_comp_externo1\",\"woe_comp_externo2\",\"woe_comp_externo3\"]]"
   ]
  },
  {
   "cell_type": "code",
   "execution_count": 302,
   "id": "f810164c",
   "metadata": {},
   "outputs": [
    {
     "data": {
      "text/html": [
       "<div>\n",
       "<style scoped>\n",
       "    .dataframe tbody tr th:only-of-type {\n",
       "        vertical-align: middle;\n",
       "    }\n",
       "\n",
       "    .dataframe tbody tr th {\n",
       "        vertical-align: top;\n",
       "    }\n",
       "\n",
       "    .dataframe thead th {\n",
       "        text-align: right;\n",
       "    }\n",
       "</style>\n",
       "<table border=\"1\" class=\"dataframe\">\n",
       "  <thead>\n",
       "    <tr style=\"text-align: right;\">\n",
       "      <th></th>\n",
       "      <th>woe_comp_interno1</th>\n",
       "      <th>woe_comp_interno2</th>\n",
       "      <th>woe_comp_interno4</th>\n",
       "      <th>woe_categoria3</th>\n",
       "      <th>woe_categoria1</th>\n",
       "      <th>woe_comp_mixto1</th>\n",
       "      <th>woe_comp_externo1</th>\n",
       "      <th>woe_comp_externo2</th>\n",
       "      <th>woe_comp_externo3</th>\n",
       "    </tr>\n",
       "  </thead>\n",
       "  <tbody>\n",
       "    <tr>\n",
       "      <th>29340</th>\n",
       "      <td>-0.012953</td>\n",
       "      <td>0.0</td>\n",
       "      <td>-0.241963</td>\n",
       "      <td>-0.078973</td>\n",
       "      <td>0.099208</td>\n",
       "      <td>0.412260</td>\n",
       "      <td>-0.172182</td>\n",
       "      <td>-0.192271</td>\n",
       "      <td>0.362028</td>\n",
       "    </tr>\n",
       "    <tr>\n",
       "      <th>11727</th>\n",
       "      <td>0.003511</td>\n",
       "      <td>0.0</td>\n",
       "      <td>-0.101154</td>\n",
       "      <td>0.111126</td>\n",
       "      <td>0.099208</td>\n",
       "      <td>0.016219</td>\n",
       "      <td>0.078630</td>\n",
       "      <td>0.104090</td>\n",
       "      <td>0.656234</td>\n",
       "    </tr>\n",
       "    <tr>\n",
       "      <th>1578</th>\n",
       "      <td>0.003511</td>\n",
       "      <td>0.0</td>\n",
       "      <td>-0.043274</td>\n",
       "      <td>0.093525</td>\n",
       "      <td>0.099208</td>\n",
       "      <td>0.079353</td>\n",
       "      <td>0.168807</td>\n",
       "      <td>0.188160</td>\n",
       "      <td>-0.241915</td>\n",
       "    </tr>\n",
       "    <tr>\n",
       "      <th>11317</th>\n",
       "      <td>0.003511</td>\n",
       "      <td>0.0</td>\n",
       "      <td>0.138312</td>\n",
       "      <td>0.093525</td>\n",
       "      <td>-0.121831</td>\n",
       "      <td>0.079353</td>\n",
       "      <td>0.078630</td>\n",
       "      <td>-0.020328</td>\n",
       "      <td>-0.470757</td>\n",
       "    </tr>\n",
       "    <tr>\n",
       "      <th>29490</th>\n",
       "      <td>0.003511</td>\n",
       "      <td>0.0</td>\n",
       "      <td>-0.043274</td>\n",
       "      <td>0.052743</td>\n",
       "      <td>-0.121831</td>\n",
       "      <td>-0.176252</td>\n",
       "      <td>-0.125426</td>\n",
       "      <td>-0.084214</td>\n",
       "      <td>0.656234</td>\n",
       "    </tr>\n",
       "  </tbody>\n",
       "</table>\n",
       "</div>"
      ],
      "text/plain": [
       "       woe_comp_interno1  woe_comp_interno2  woe_comp_interno4  \\\n",
       "29340          -0.012953                0.0          -0.241963   \n",
       "11727           0.003511                0.0          -0.101154   \n",
       "1578            0.003511                0.0          -0.043274   \n",
       "11317           0.003511                0.0           0.138312   \n",
       "29490           0.003511                0.0          -0.043274   \n",
       "\n",
       "       woe_categoria3  woe_categoria1  woe_comp_mixto1  woe_comp_externo1  \\\n",
       "29340       -0.078973        0.099208         0.412260          -0.172182   \n",
       "11727        0.111126        0.099208         0.016219           0.078630   \n",
       "1578         0.093525        0.099208         0.079353           0.168807   \n",
       "11317        0.093525       -0.121831         0.079353           0.078630   \n",
       "29490        0.052743       -0.121831        -0.176252          -0.125426   \n",
       "\n",
       "       woe_comp_externo2  woe_comp_externo3  \n",
       "29340          -0.192271           0.362028  \n",
       "11727           0.104090           0.656234  \n",
       "1578            0.188160          -0.241915  \n",
       "11317          -0.020328          -0.470757  \n",
       "29490          -0.084214           0.656234  "
      ]
     },
     "execution_count": 302,
     "metadata": {},
     "output_type": "execute_result"
    }
   ],
   "source": [
    "X_woe_train=train.iloc[:,11:]\n",
    "y_train=train.iloc[:,10]\n",
    "X_woe_train.head()"
   ]
  },
  {
   "cell_type": "code",
   "execution_count": 305,
   "id": "a1e66bdd",
   "metadata": {},
   "outputs": [
    {
     "data": {
      "image/png": "[encoded data removed]",
      "text/plain": [
       "<Figure size 720x720 with 2 Axes>"
      ]
     },
     "metadata": {
      "needs_background": "light"
     },
     "output_type": "display_data"
    }
   ],
   "source": [
    "corr = train.iloc[:,1:].corr()\n",
    "corr\n",
    "\n",
    "xticks = list(corr.index)  \n",
    "yticks = list(corr.index)  \n",
    "fig = plt.figure(figsize=(10,10))\n",
    "ax1 = fig.add_subplot(1, 1, 1)\n",
    "\n",
    "sns.heatmap(corr,annot=True,cmap=\"rainbow\",ax=ax1,linewidths=.5,annot_kws={'size':9,'weight':'bold', 'color':'k'})\n",
    "ax1.set_xticklabels(xticks, rotation=30, fontsize=10)\n",
    "ax1.set_yticklabels(yticks, rotation=0, fontsize=10)\n",
    "plt.show()"
   ]
  },
  {
   "cell_type": "code",
   "execution_count": 428,
   "id": "c93c8ddc",
   "metadata": {},
   "outputs": [],
   "source": [
    "model=LogisticRegression()\n",
    "clf=model.fit(X_woe_train,y_train)"
   ]
  },
  {
   "cell_type": "code",
   "execution_count": 307,
   "id": "a3da9dd6",
   "metadata": {},
   "outputs": [
    {
     "name": "stdout",
     "output_type": "stream",
     "text": [
      "y_pred\n",
      " [0 0 0 ... 0 0 0]\n",
      "y_pred1\n",
      " [-1.74509357 -2.16277512 -1.50153177 ... -0.94362476 -1.47110473\n",
      " -0.96039099]\n"
     ]
    },
    {
     "data": {
      "image/png": "[encoded data removed]",
      "text/plain": [
       "<Figure size 432x288 with 1 Axes>"
      ]
     },
     "metadata": {
      "needs_background": "light"
     },
     "output_type": "display_data"
    }
   ],
   "source": [
    "y_pred=clf.predict(X_woe_train)\n",
    "y_pred1=clf.decision_function(X_woe_train)\n",
    "print('y_pred\\n',y_pred)\n",
    "print('y_pred1\\n',y_pred1)\n",
    "\n",
    "#Draw ROC curve and calculate AUC value\n",
    "fpr,tpr,threshold = roc_curve(y_train, y_pred1)\n",
    "roc_auc = auc(fpr,tpr)\n",
    "plot(fpr,tpr,color='darkorange',\n",
    "         label='ROC curve (area = %0.2f)' % roc_auc)\n",
    "plt.plot([0, 1], [0, 1], color='navy', linestyle='--')\n",
    "plt.xlim([0.0, 1.0])\n",
    "plt.ylim([0.0, 1.0])\n",
    "plt.xlabel('False Positive Rate')\n",
    "plt.ylabel('True Positive Rate')\n",
    "plt.title('ROC_curve')\n",
    "plt.legend(loc=\"lower right\")\n",
    "plt.show()"
   ]
  },
  {
   "cell_type": "code",
   "execution_count": 308,
   "id": "87e0d705",
   "metadata": {},
   "outputs": [
    {
     "data": {
      "text/plain": [
       "array([ 0.16441759,  0.        , -0.84160059, -0.78983176, -0.50806175,\n",
       "       -0.76995639, -0.31049121, -0.38806906, -0.89660714])"
      ]
     },
     "execution_count": 308,
     "metadata": {},
     "output_type": "execute_result"
    }
   ],
   "source": [
    "coe=model.coef_\n",
    "coe[0]"
   ]
  },
  {
   "cell_type": "code",
   "execution_count": 416,
   "id": "6abb9384",
   "metadata": {},
   "outputs": [],
   "source": [
    "#Como las variables woe_interno1 y woe_externo2 tienen mucha correlación con las demás las quitamos\n",
    "f_train=train[[\"Comp_final\",\"woe_comp_interno4\",\"woe_categoria3\",\"woe_comp_mixto1\",\"woe_comp_externo1\",\"woe_comp_externo3\"]]\n",
    "X_woe_train=f_train.iloc[:,1:]\n",
    "y_train=f_train.iloc[:,0]\n",
    "X_woe_train.head()\n",
    "model=LogisticRegression()\n",
    "clf=model.fit(X_woe_train,y_train)"
   ]
  },
  {
   "cell_type": "code",
   "execution_count": 310,
   "id": "0f8fbbae",
   "metadata": {},
   "outputs": [
    {
     "name": "stdout",
     "output_type": "stream",
     "text": [
      "y_pred\n",
      " [0 0 0 ... 0 0 0]\n",
      "y_pred1\n",
      " [-1.7201195  -2.11004901 -1.44031833 ... -0.95446316 -1.57048889\n",
      " -1.03520453]\n"
     ]
    },
    {
     "data": {
      "image/png": "[encoded data removed]",
      "text/plain": [
       "<Figure size 432x288 with 1 Axes>"
      ]
     },
     "metadata": {
      "needs_background": "light"
     },
     "output_type": "display_data"
    }
   ],
   "source": [
    "y_pred=clf.predict(X_woe_train)\n",
    "y_pred1=clf.decision_function(X_woe_train)\n",
    "print('y_pred\\n',y_pred)\n",
    "print('y_pred1\\n',y_pred1)\n",
    "\n",
    "#Draw ROC curve and calculate AUC value\n",
    "fpr,tpr,threshold = roc_curve(y_train, y_pred1)\n",
    "roc_auc = auc(fpr,tpr)\n",
    "plot(fpr,tpr,color='darkorange',\n",
    "         label='ROC curve (area = %0.2f)' % roc_auc)\n",
    "plt.plot([0, 1], [0, 1], color='navy', linestyle='--')\n",
    "plt.xlim([0.0, 1.0])\n",
    "plt.ylim([0.0, 1.0])\n",
    "plt.xlabel('False Positive Rate')\n",
    "plt.ylabel('True Positive Rate')\n",
    "plt.title('ROC_curve')\n",
    "plt.legend(loc=\"lower right\")\n",
    "plt.show()"
   ]
  },
  {
   "cell_type": "code",
   "execution_count": 311,
   "id": "30f3dc8a",
   "metadata": {},
   "outputs": [
    {
     "data": {
      "text/plain": [
       "array([-0.8532767 , -0.83022505, -0.80261421, -0.65079086, -0.90615579])"
      ]
     },
     "execution_count": 311,
     "metadata": {},
     "output_type": "execute_result"
    }
   ],
   "source": [
    "coe=model.coef_\n",
    "coe[0]"
   ]
  },
  {
   "cell_type": "code",
   "execution_count": 312,
   "id": "32e75cc9",
   "metadata": {},
   "outputs": [
    {
     "data": {
      "text/plain": [
       "(array([  1.,   1.,   4.,   0.,   4.,   5.,   5.,   7.,   5.,  16.,  25.,\n",
       "         31.,  31.,  30.,  46.,  49.,  72.,  85.,  98., 136., 127., 166.,\n",
       "        167., 190., 213., 254., 298., 245., 324., 365., 301., 394., 372.,\n",
       "        332., 401., 493., 474., 427., 464., 418., 440., 434., 520., 480.,\n",
       "        527., 459., 478., 477., 548., 521., 512., 504., 503., 508., 510.,\n",
       "        575., 491., 488., 499., 505., 512., 528., 511., 538., 464., 466.,\n",
       "        388., 426., 410., 392., 348., 337., 276., 271., 268., 226., 204.,\n",
       "        159., 133., 112., 127.,  78.,  86.,  54.,  47.,  46.,  34.,  21.,\n",
       "         21.,  10.,  15.,   6.,   7.,   1.,   2.,  10.,   1.,   0.,   0.,\n",
       "          1.]),\n",
       " array([-2.93951363, -2.91115315, -2.88279266, -2.85443218, -2.8260717 ,\n",
       "        -2.79771122, -2.76935074, -2.74099026, -2.71262978, -2.6842693 ,\n",
       "        -2.65590882, -2.62754834, -2.59918785, -2.57082737, -2.54246689,\n",
       "        -2.51410641, -2.48574593, -2.45738545, -2.42902497, -2.40066449,\n",
       "        -2.37230401, -2.34394353, -2.31558304, -2.28722256, -2.25886208,\n",
       "        -2.2305016 , -2.20214112, -2.17378064, -2.14542016, -2.11705968,\n",
       "        -2.0886992 , -2.06033872, -2.03197823, -2.00361775, -1.97525727,\n",
       "        -1.94689679, -1.91853631, -1.89017583, -1.86181535, -1.83345487,\n",
       "        -1.80509439, -1.77673391, -1.74837343, -1.72001294, -1.69165246,\n",
       "        -1.66329198, -1.6349315 , -1.60657102, -1.57821054, -1.54985006,\n",
       "        -1.52148958, -1.4931291 , -1.46476862, -1.43640813, -1.40804765,\n",
       "        -1.37968717, -1.35132669, -1.32296621, -1.29460573, -1.26624525,\n",
       "        -1.23788477, -1.20952429, -1.18116381, -1.15280332, -1.12444284,\n",
       "        -1.09608236, -1.06772188, -1.0393614 , -1.01100092, -0.98264044,\n",
       "        -0.95427996, -0.92591948, -0.897559  , -0.86919851, -0.84083803,\n",
       "        -0.81247755, -0.78411707, -0.75575659, -0.72739611, -0.69903563,\n",
       "        -0.67067515, -0.64231467, -0.61395419, -0.5855937 , -0.55723322,\n",
       "        -0.52887274, -0.50051226, -0.47215178, -0.4437913 , -0.41543082,\n",
       "        -0.38707034, -0.35870986, -0.33034938, -0.3019889 , -0.27362841,\n",
       "        -0.24526793, -0.21690745, -0.18854697, -0.16018649, -0.13182601,\n",
       "        -0.10346553]),\n",
       " <BarContainer object of 100 artists>)"
      ]
     },
     "execution_count": 312,
     "metadata": {},
     "output_type": "execute_result"
    },
    {
     "data": {
      "image/png": "[encoded data removed]",
      "text/plain": [
       "<Figure size 432x288 with 1 Axes>"
      ]
     },
     "metadata": {
      "needs_background": "light"
     },
     "output_type": "display_data"
    }
   ],
   "source": [
    "hist(y_pred1,bins=100)"
   ]
  },
  {
   "cell_type": "code",
   "execution_count": 249,
   "id": "08e1331a",
   "metadata": {},
   "outputs": [
    {
     "data": {
      "text/plain": [
       "'C:\\\\Users\\\\DELL\\\\OneDrive\\\\Documentos\\\\Seminario Rodrigo\\\\Clases Rodrigo\\\\Códigos de clases'"
      ]
     },
     "execution_count": 249,
     "metadata": {},
     "output_type": "execute_result"
    }
   ],
   "source": [
    "import os\n",
    "os.getcwd()"
   ]
  },
  {
   "cell_type": "code",
   "execution_count": 250,
   "id": "8d793ed3",
   "metadata": {},
   "outputs": [],
   "source": [
    "train.to_csv(\"bd_train2.csv\",index=None)"
   ]
  },
  {
   "cell_type": "code",
   "execution_count": 67,
   "id": "eb53c222",
   "metadata": {},
   "outputs": [
    {
     "data": {
      "text/plain": [
       "-0.853276702304719"
      ]
     },
     "execution_count": 67,
     "metadata": {},
     "output_type": "execute_result"
    }
   ],
   "source": [
    "coe[0][0]"
   ]
  },
  {
   "cell_type": "code",
   "execution_count": 417,
   "id": "ebb97f9a",
   "metadata": {},
   "outputs": [],
   "source": [
    "#Según nuestra validación en R es mejor si sacamos la variable woe_comp_externo1 en vez de la variable comp_externo2 por el\n",
    "#AIC, también el IV de las variables nos sugiere esto pues el IV de comp_externo2 es mayor\n",
    "#Hagamoslo así entonces:\n",
    "#Como las variables woe_interno1 y woe_externo2 tienen mucha correlación con las demás las quitamos\n",
    "f_train=train[[\"Comp_final\",\"woe_comp_interno2\",\"woe_comp_interno4\",\"woe_categoria1\",\"woe_categoria3\",\"woe_comp_mixto1\",\"woe_comp_externo2\",\"woe_comp_externo3\"]]\n",
    "X_woe_train=f_train.iloc[:,1:]\n",
    "y_train=f_train.iloc[:,0]\n",
    "X_woe_train.head()\n",
    "model=LogisticRegression()\n",
    "clf=model.fit(X_woe_train,y_train)"
   ]
  },
  {
   "cell_type": "code",
   "execution_count": 418,
   "id": "43cbecba",
   "metadata": {},
   "outputs": [
    {
     "name": "stdout",
     "output_type": "stream",
     "text": [
      "y_pred\n",
      " [0 0 0 ... 0 0 0]\n",
      "y_pred1\n",
      " [-1.75254307 -2.1665333  -1.49301829 ... -0.94654033 -1.40022274\n",
      " -0.9673632 ]\n"
     ]
    },
    {
     "data": {
      "image/png": "[encoded data removed]",
      "text/plain": [
       "<Figure size 432x288 with 1 Axes>"
      ]
     },
     "metadata": {
      "needs_background": "light"
     },
     "output_type": "display_data"
    }
   ],
   "source": [
    "y_pred=clf.predict(X_woe_train)\n",
    "y_pred1=clf.decision_function(X_woe_train)\n",
    "print('y_pred\\n',y_pred)\n",
    "print('y_pred1\\n',y_pred1)\n",
    "\n",
    "#Draw ROC curve and calculate AUC value\n",
    "fpr,tpr,threshold = roc_curve(y_train, y_pred1)\n",
    "roc_auc = auc(fpr,tpr)\n",
    "plot(fpr,tpr,color='darkorange',\n",
    "         label='ROC curve (area = %0.2f)' % roc_auc)\n",
    "plt.plot([0, 1], [0, 1], color='navy', linestyle='--')\n",
    "plt.xlim([0.0, 1.0])\n",
    "plt.ylim([0.0, 1.0])\n",
    "plt.xlabel('False Positive Rate')\n",
    "plt.ylabel('True Positive Rate')\n",
    "plt.title('ROC_curve')\n",
    "plt.legend(loc=\"lower right\")\n",
    "plt.show()"
   ]
  },
  {
   "cell_type": "code",
   "execution_count": 253,
   "id": "1e64e617",
   "metadata": {},
   "outputs": [
    {
     "data": {
      "text/plain": [
       "array([ 0.        , -0.84578039, -0.51690191, -0.78313248, -0.76688383,\n",
       "       -0.6228398 , -0.9012563 ])"
      ]
     },
     "execution_count": 253,
     "metadata": {},
     "output_type": "execute_result"
    }
   ],
   "source": [
    "coe=model.coef_\n",
    "coe[0]"
   ]
  },
  {
   "cell_type": "code",
   "execution_count": 254,
   "id": "d0db5eae",
   "metadata": {},
   "outputs": [
    {
     "data": {
      "text/plain": [
       "(array([  2.,   0.,   2.,   9.,   2.,   9.,   9.,   5.,  11.,  14.,  15.,\n",
       "         23.,  44.,  57.,  51.,  60.,  72.,  97., 109., 111., 125., 165.,\n",
       "        199., 183., 220., 237., 280., 295., 313., 335., 335., 366., 390.,\n",
       "        418., 423., 393., 408., 460., 476., 433., 459., 437., 478., 502.,\n",
       "        468., 516., 476., 466., 482., 533., 525., 502., 498., 517., 511.,\n",
       "        513., 500., 495., 516., 510., 517., 480., 506., 485., 481., 470.,\n",
       "        435., 402., 397., 389., 335., 338., 281., 275., 262., 239., 193.,\n",
       "        166., 137., 119., 117.,  93.,  88.,  66.,  54.,  47.,  32.,  32.,\n",
       "         30.,  20.,  12.,  10.,   3.,   8.,   3.,   0.,   5.,   3.,   0.,\n",
       "          1.]),\n",
       " array([-2.93553884, -2.90726074, -2.87898265, -2.85070456, -2.82242646,\n",
       "        -2.79414837, -2.76587027, -2.73759218, -2.70931409, -2.68103599,\n",
       "        -2.6527579 , -2.62447981, -2.59620171, -2.56792362, -2.53964552,\n",
       "        -2.51136743, -2.48308934, -2.45481124, -2.42653315, -2.39825506,\n",
       "        -2.36997696, -2.34169887, -2.31342078, -2.28514268, -2.25686459,\n",
       "        -2.22858649, -2.2003084 , -2.17203031, -2.14375221, -2.11547412,\n",
       "        -2.08719603, -2.05891793, -2.03063984, -2.00236175, -1.97408365,\n",
       "        -1.94580556, -1.91752746, -1.88924937, -1.86097128, -1.83269318,\n",
       "        -1.80441509, -1.776137  , -1.7478589 , -1.71958081, -1.69130272,\n",
       "        -1.66302462, -1.63474653, -1.60646843, -1.57819034, -1.54991225,\n",
       "        -1.52163415, -1.49335606, -1.46507797, -1.43679987, -1.40852178,\n",
       "        -1.38024368, -1.35196559, -1.3236875 , -1.2954094 , -1.26713131,\n",
       "        -1.23885322, -1.21057512, -1.18229703, -1.15401894, -1.12574084,\n",
       "        -1.09746275, -1.06918465, -1.04090656, -1.01262847, -0.98435037,\n",
       "        -0.95607228, -0.92779419, -0.89951609, -0.871238  , -0.84295991,\n",
       "        -0.81468181, -0.78640372, -0.75812562, -0.72984753, -0.70156944,\n",
       "        -0.67329134, -0.64501325, -0.61673516, -0.58845706, -0.56017897,\n",
       "        -0.53190088, -0.50362278, -0.47534469, -0.44706659, -0.4187885 ,\n",
       "        -0.39051041, -0.36223231, -0.33395422, -0.30567613, -0.27739803,\n",
       "        -0.24911994, -0.22084185, -0.19256375, -0.16428566, -0.13600756,\n",
       "        -0.10772947]),\n",
       " <BarContainer object of 100 artists>)"
      ]
     },
     "execution_count": 254,
     "metadata": {},
     "output_type": "execute_result"
    },
    {
     "data": {
      "image/png": "[encoded data removed]",
      "text/plain": [
       "<Figure size 432x288 with 1 Axes>"
      ]
     },
     "metadata": {
      "needs_background": "light"
     },
     "output_type": "display_data"
    }
   ],
   "source": [
    "hist(y_pred1,bins=100)"
   ]
  },
  {
   "cell_type": "code",
   "execution_count": 313,
   "id": "47b2c0a6",
   "metadata": {},
   "outputs": [
    {
     "data": {
      "text/plain": [
       "array([[-0.8532767 , -0.83022505, -0.80261421, -0.65079086, -0.90615579]])"
      ]
     },
     "execution_count": 313,
     "metadata": {},
     "output_type": "execute_result"
    }
   ],
   "source": [
    "coe=model.coef_\n",
    "coe"
   ]
  },
  {
   "cell_type": "code",
   "execution_count": 314,
   "id": "027d4132",
   "metadata": {},
   "outputs": [
    {
     "data": {
      "text/plain": [
       "array([-1.44526164])"
      ]
     },
     "execution_count": 314,
     "metadata": {},
     "output_type": "execute_result"
    }
   ],
   "source": [
    "model.intercept_"
   ]
  },
  {
   "cell_type": "markdown",
   "id": "25d60bdb",
   "metadata": {},
   "source": [
    "#¿Qué pasó con el test?  \n",
    "##Una vez que tenemos la base calificada, pasamos a sacar algunas características de interés"
   ]
  },
  {
   "cell_type": "code",
   "execution_count": 315,
   "id": "40e2a646",
   "metadata": {},
   "outputs": [
    {
     "data": {
      "text/plain": [
       "24591"
      ]
     },
     "execution_count": 315,
     "metadata": {},
     "output_type": "execute_result"
    }
   ],
   "source": [
    "#Obtenemos el predict\n",
    "y_pr_fit=clf.predict_proba(X_woe_train)\n",
    "len(y_pr_fit[:,0])"
   ]
  },
  {
   "cell_type": "code",
   "execution_count": 316,
   "id": "321387a1",
   "metadata": {},
   "outputs": [
    {
     "data": {
      "text/plain": [
       "array([[0.84814423, 0.15185577],\n",
       "       [0.89187606, 0.10812394],\n",
       "       [0.80850394, 0.19149606],\n",
       "       ...,\n",
       "       [0.72201187, 0.27798813],\n",
       "       [0.82785329, 0.17214671],\n",
       "       [0.73792366, 0.26207634]])"
      ]
     },
     "execution_count": 316,
     "metadata": {},
     "output_type": "execute_result"
    }
   ],
   "source": [
    "y_pr_fit"
   ]
  },
  {
   "cell_type": "code",
   "execution_count": 317,
   "id": "ddf4ba12",
   "metadata": {},
   "outputs": [
    {
     "data": {
      "text/plain": [
       "pandas.core.series.Series"
      ]
     },
     "execution_count": 317,
     "metadata": {},
     "output_type": "execute_result"
    }
   ],
   "source": [
    "type(y_train)"
   ]
  },
  {
   "cell_type": "code",
   "execution_count": 318,
   "id": "1ce52fb5",
   "metadata": {},
   "outputs": [],
   "source": [
    "df=y_train.to_frame()\n",
    "#df[\"estimado\"]=y_pr_fit\n",
    "#df[\"estimado\"]=y_pr_fit"
   ]
  },
  {
   "cell_type": "code",
   "execution_count": 319,
   "id": "fc1ffac7",
   "metadata": {},
   "outputs": [
    {
     "data": {
      "text/html": [
       "<div>\n",
       "<style scoped>\n",
       "    .dataframe tbody tr th:only-of-type {\n",
       "        vertical-align: middle;\n",
       "    }\n",
       "\n",
       "    .dataframe tbody tr th {\n",
       "        vertical-align: top;\n",
       "    }\n",
       "\n",
       "    .dataframe thead th {\n",
       "        text-align: right;\n",
       "    }\n",
       "</style>\n",
       "<table border=\"1\" class=\"dataframe\">\n",
       "  <thead>\n",
       "    <tr style=\"text-align: right;\">\n",
       "      <th></th>\n",
       "      <th>Comp_final</th>\n",
       "      <th>estimado</th>\n",
       "    </tr>\n",
       "  </thead>\n",
       "  <tbody>\n",
       "    <tr>\n",
       "      <th>29340</th>\n",
       "      <td>0</td>\n",
       "      <td>0.151856</td>\n",
       "    </tr>\n",
       "    <tr>\n",
       "      <th>11727</th>\n",
       "      <td>0</td>\n",
       "      <td>0.108124</td>\n",
       "    </tr>\n",
       "    <tr>\n",
       "      <th>1578</th>\n",
       "      <td>0</td>\n",
       "      <td>0.191496</td>\n",
       "    </tr>\n",
       "    <tr>\n",
       "      <th>11317</th>\n",
       "      <td>0</td>\n",
       "      <td>0.209290</td>\n",
       "    </tr>\n",
       "    <tr>\n",
       "      <th>29490</th>\n",
       "      <td>0</td>\n",
       "      <td>0.138992</td>\n",
       "    </tr>\n",
       "    <tr>\n",
       "      <th>...</th>\n",
       "      <td>...</td>\n",
       "      <td>...</td>\n",
       "    </tr>\n",
       "    <tr>\n",
       "      <th>16734</th>\n",
       "      <td>1</td>\n",
       "      <td>0.261954</td>\n",
       "    </tr>\n",
       "    <tr>\n",
       "      <th>16304</th>\n",
       "      <td>0</td>\n",
       "      <td>0.187038</td>\n",
       "    </tr>\n",
       "    <tr>\n",
       "      <th>79</th>\n",
       "      <td>0</td>\n",
       "      <td>0.277988</td>\n",
       "    </tr>\n",
       "    <tr>\n",
       "      <th>12119</th>\n",
       "      <td>0</td>\n",
       "      <td>0.172147</td>\n",
       "    </tr>\n",
       "    <tr>\n",
       "      <th>14147</th>\n",
       "      <td>0</td>\n",
       "      <td>0.262076</td>\n",
       "    </tr>\n",
       "  </tbody>\n",
       "</table>\n",
       "<p>24591 rows × 2 columns</p>\n",
       "</div>"
      ],
      "text/plain": [
       "       Comp_final  estimado\n",
       "29340           0  0.151856\n",
       "11727           0  0.108124\n",
       "1578            0  0.191496\n",
       "11317           0  0.209290\n",
       "29490           0  0.138992\n",
       "...           ...       ...\n",
       "16734           1  0.261954\n",
       "16304           0  0.187038\n",
       "79              0  0.277988\n",
       "12119           0  0.172147\n",
       "14147           0  0.262076\n",
       "\n",
       "[24591 rows x 2 columns]"
      ]
     },
     "execution_count": 319,
     "metadata": {},
     "output_type": "execute_result"
    }
   ],
   "source": [
    "df[\"estimado\"]=y_pr_fit[:,1]\n",
    "df"
   ]
  },
  {
   "cell_type": "code",
   "execution_count": 89,
   "id": "98ab1dd5",
   "metadata": {},
   "outputs": [],
   "source": [
    "from pylab import*"
   ]
  },
  {
   "cell_type": "code",
   "execution_count": 90,
   "id": "3ed0a8ea",
   "metadata": {},
   "outputs": [
    {
     "data": {
      "image/png": "[encoded data removed]",
      "text/plain": [
       "<Figure size 432x288 with 1 Axes>"
      ]
     },
     "metadata": {
      "needs_background": "light"
     },
     "output_type": "display_data"
    }
   ],
   "source": [
    "hist(df[df[\"Comp_final\"]==1.0][\"estimado\"],color=\"red\")\n",
    "#hist(df[df[\"Comp_final\"]==0.0][\"estimado\"],color=\"blue\")\n",
    "show()"
   ]
  },
  {
   "cell_type": "code",
   "execution_count": 109,
   "id": "3377c5c4",
   "metadata": {},
   "outputs": [
    {
     "ename": "KeyError",
     "evalue": "\"None of [Int64Index([0, 0, 0, 0, 0, 1, 1, 0, 0, 0,\\n            ...\\n            0, 0, 0, 0, 1, 1, 0, 0, 0, 0],\\n           dtype='int64', length=24591)] are in the [columns]\"",
     "output_type": "error",
     "traceback": [
      "\u001b[1;31m---------------------------------------------------------------------------\u001b[0m",
      "\u001b[1;31mKeyError\u001b[0m                                  Traceback (most recent call last)",
      "\u001b[1;32m<ipython-input-109-c4d9696850d1>\u001b[0m in \u001b[0;36m<module>\u001b[1;34m\u001b[0m\n\u001b[0;32m      1\u001b[0m \u001b[0mfig\u001b[0m\u001b[1;33m,\u001b[0m \u001b[0max\u001b[0m\u001b[1;33m=\u001b[0m\u001b[0mplt\u001b[0m\u001b[1;33m.\u001b[0m\u001b[0msubplots\u001b[0m\u001b[1;33m(\u001b[0m\u001b[0mfigsize\u001b[0m\u001b[1;33m=\u001b[0m\u001b[1;33m(\u001b[0m\u001b[1;36m10\u001b[0m\u001b[1;33m,\u001b[0m\u001b[1;36m5\u001b[0m\u001b[1;33m)\u001b[0m\u001b[1;33m)\u001b[0m\u001b[1;33m\u001b[0m\u001b[1;33m\u001b[0m\u001b[0m\n\u001b[1;32m----> 2\u001b[1;33m \u001b[0mhist\u001b[0m\u001b[1;33m(\u001b[0m\u001b[0mdf\u001b[0m\u001b[1;33m[\u001b[0m\u001b[0mdf\u001b[0m\u001b[1;33m[\u001b[0m\u001b[1;34m\"Comp_final\"\u001b[0m\u001b[1;33m]\u001b[0m\u001b[1;33m==\u001b[0m\u001b[1;36m1.0\u001b[0m\u001b[1;33m]\u001b[0m\u001b[1;33m[\u001b[0m\u001b[1;34m\"estimado\"\u001b[0m\u001b[1;33m]\u001b[0m\u001b[1;33m,\u001b[0m\u001b[0mweights\u001b[0m\u001b[1;33m=\u001b[0m\u001b[0mnp\u001b[0m\u001b[1;33m.\u001b[0m\u001b[0mones\u001b[0m\u001b[1;33m(\u001b[0m\u001b[0mlen\u001b[0m\u001b[1;33m(\u001b[0m\u001b[0mdf\u001b[0m\u001b[1;33m[\u001b[0m\u001b[0mdf\u001b[0m\u001b[1;33m[\u001b[0m\u001b[1;34m\"Comp_final\"\u001b[0m\u001b[1;33m]\u001b[0m\u001b[1;33m==\u001b[0m\u001b[1;36m1.0\u001b[0m\u001b[1;33m]\u001b[0m\u001b[1;33m[\u001b[0m\u001b[1;34m\"estimado\"\u001b[0m\u001b[1;33m]\u001b[0m\u001b[1;33m)\u001b[0m\u001b[1;33m)\u001b[0m\u001b[1;33m/\u001b[0m \u001b[0mlen\u001b[0m\u001b[1;33m(\u001b[0m\u001b[0mdf\u001b[0m\u001b[1;33m[\u001b[0m\u001b[0mdf\u001b[0m\u001b[1;33m[\u001b[0m\u001b[1;34m\"Comp_final\"\u001b[0m\u001b[1;33m]\u001b[0m\u001b[1;33m]\u001b[0m\u001b[1;33m[\u001b[0m\u001b[1;34m\"estimado\"\u001b[0m\u001b[1;33m]\u001b[0m\u001b[1;33m)\u001b[0m \u001b[1;33m,\u001b[0m\u001b[0mcolor\u001b[0m\u001b[1;33m=\u001b[0m\u001b[1;34m\"red\"\u001b[0m\u001b[1;33m)\u001b[0m\u001b[1;33m\u001b[0m\u001b[1;33m\u001b[0m\u001b[0m\n\u001b[0m\u001b[0;32m      3\u001b[0m \u001b[0mshow\u001b[0m\u001b[1;33m(\u001b[0m\u001b[1;33m)\u001b[0m\u001b[1;33m\u001b[0m\u001b[1;33m\u001b[0m\u001b[0m\n",
      "\u001b[1;32m~\\miniconda3\\lib\\site-packages\\pandas\\core\\frame.py\u001b[0m in \u001b[0;36m__getitem__\u001b[1;34m(self, key)\u001b[0m\n\u001b[0;32m   3459\u001b[0m             \u001b[1;32mif\u001b[0m \u001b[0mis_iterator\u001b[0m\u001b[1;33m(\u001b[0m\u001b[0mkey\u001b[0m\u001b[1;33m)\u001b[0m\u001b[1;33m:\u001b[0m\u001b[1;33m\u001b[0m\u001b[1;33m\u001b[0m\u001b[0m\n\u001b[0;32m   3460\u001b[0m                 \u001b[0mkey\u001b[0m \u001b[1;33m=\u001b[0m \u001b[0mlist\u001b[0m\u001b[1;33m(\u001b[0m\u001b[0mkey\u001b[0m\u001b[1;33m)\u001b[0m\u001b[1;33m\u001b[0m\u001b[1;33m\u001b[0m\u001b[0m\n\u001b[1;32m-> 3461\u001b[1;33m             \u001b[0mindexer\u001b[0m \u001b[1;33m=\u001b[0m \u001b[0mself\u001b[0m\u001b[1;33m.\u001b[0m\u001b[0mloc\u001b[0m\u001b[1;33m.\u001b[0m\u001b[0m_get_listlike_indexer\u001b[0m\u001b[1;33m(\u001b[0m\u001b[0mkey\u001b[0m\u001b[1;33m,\u001b[0m \u001b[0maxis\u001b[0m\u001b[1;33m=\u001b[0m\u001b[1;36m1\u001b[0m\u001b[1;33m)\u001b[0m\u001b[1;33m[\u001b[0m\u001b[1;36m1\u001b[0m\u001b[1;33m]\u001b[0m\u001b[1;33m\u001b[0m\u001b[1;33m\u001b[0m\u001b[0m\n\u001b[0m\u001b[0;32m   3462\u001b[0m \u001b[1;33m\u001b[0m\u001b[0m\n\u001b[0;32m   3463\u001b[0m         \u001b[1;31m# take() does not accept boolean indexers\u001b[0m\u001b[1;33m\u001b[0m\u001b[1;33m\u001b[0m\u001b[1;33m\u001b[0m\u001b[0m\n",
      "\u001b[1;32m~\\miniconda3\\lib\\site-packages\\pandas\\core\\indexing.py\u001b[0m in \u001b[0;36m_get_listlike_indexer\u001b[1;34m(self, key, axis)\u001b[0m\n\u001b[0;32m   1312\u001b[0m             \u001b[0mkeyarr\u001b[0m\u001b[1;33m,\u001b[0m \u001b[0mindexer\u001b[0m\u001b[1;33m,\u001b[0m \u001b[0mnew_indexer\u001b[0m \u001b[1;33m=\u001b[0m \u001b[0max\u001b[0m\u001b[1;33m.\u001b[0m\u001b[0m_reindex_non_unique\u001b[0m\u001b[1;33m(\u001b[0m\u001b[0mkeyarr\u001b[0m\u001b[1;33m)\u001b[0m\u001b[1;33m\u001b[0m\u001b[1;33m\u001b[0m\u001b[0m\n\u001b[0;32m   1313\u001b[0m \u001b[1;33m\u001b[0m\u001b[0m\n\u001b[1;32m-> 1314\u001b[1;33m         \u001b[0mself\u001b[0m\u001b[1;33m.\u001b[0m\u001b[0m_validate_read_indexer\u001b[0m\u001b[1;33m(\u001b[0m\u001b[0mkeyarr\u001b[0m\u001b[1;33m,\u001b[0m \u001b[0mindexer\u001b[0m\u001b[1;33m,\u001b[0m \u001b[0maxis\u001b[0m\u001b[1;33m)\u001b[0m\u001b[1;33m\u001b[0m\u001b[1;33m\u001b[0m\u001b[0m\n\u001b[0m\u001b[0;32m   1315\u001b[0m \u001b[1;33m\u001b[0m\u001b[0m\n\u001b[0;32m   1316\u001b[0m         if needs_i8_conversion(ax.dtype) or isinstance(\n",
      "\u001b[1;32m~\\miniconda3\\lib\\site-packages\\pandas\\core\\indexing.py\u001b[0m in \u001b[0;36m_validate_read_indexer\u001b[1;34m(self, key, indexer, axis)\u001b[0m\n\u001b[0;32m   1372\u001b[0m                 \u001b[1;32mif\u001b[0m \u001b[0muse_interval_msg\u001b[0m\u001b[1;33m:\u001b[0m\u001b[1;33m\u001b[0m\u001b[1;33m\u001b[0m\u001b[0m\n\u001b[0;32m   1373\u001b[0m                     \u001b[0mkey\u001b[0m \u001b[1;33m=\u001b[0m \u001b[0mlist\u001b[0m\u001b[1;33m(\u001b[0m\u001b[0mkey\u001b[0m\u001b[1;33m)\u001b[0m\u001b[1;33m\u001b[0m\u001b[1;33m\u001b[0m\u001b[0m\n\u001b[1;32m-> 1374\u001b[1;33m                 \u001b[1;32mraise\u001b[0m \u001b[0mKeyError\u001b[0m\u001b[1;33m(\u001b[0m\u001b[1;34mf\"None of [{key}] are in the [{axis_name}]\"\u001b[0m\u001b[1;33m)\u001b[0m\u001b[1;33m\u001b[0m\u001b[1;33m\u001b[0m\u001b[0m\n\u001b[0m\u001b[0;32m   1375\u001b[0m \u001b[1;33m\u001b[0m\u001b[0m\n\u001b[0;32m   1376\u001b[0m             \u001b[0mnot_found\u001b[0m \u001b[1;33m=\u001b[0m \u001b[0mlist\u001b[0m\u001b[1;33m(\u001b[0m\u001b[0mensure_index\u001b[0m\u001b[1;33m(\u001b[0m\u001b[0mkey\u001b[0m\u001b[1;33m)\u001b[0m\u001b[1;33m[\u001b[0m\u001b[0mmissing_mask\u001b[0m\u001b[1;33m.\u001b[0m\u001b[0mnonzero\u001b[0m\u001b[1;33m(\u001b[0m\u001b[1;33m)\u001b[0m\u001b[1;33m[\u001b[0m\u001b[1;36m0\u001b[0m\u001b[1;33m]\u001b[0m\u001b[1;33m]\u001b[0m\u001b[1;33m.\u001b[0m\u001b[0munique\u001b[0m\u001b[1;33m(\u001b[0m\u001b[1;33m)\u001b[0m\u001b[1;33m)\u001b[0m\u001b[1;33m\u001b[0m\u001b[1;33m\u001b[0m\u001b[0m\n",
      "\u001b[1;31mKeyError\u001b[0m: \"None of [Int64Index([0, 0, 0, 0, 0, 1, 1, 0, 0, 0,\\n            ...\\n            0, 0, 0, 0, 1, 1, 0, 0, 0, 0],\\n           dtype='int64', length=24591)] are in the [columns]\""
     ]
    },
    {
     "data": {
      "image/png": "[encoded data removed]",
      "text/plain": [
       "<Figure size 720x360 with 1 Axes>"
      ]
     },
     "metadata": {
      "needs_background": "light"
     },
     "output_type": "display_data"
    }
   ],
   "source": [
    "fig, ax=plt.subplots(figsize=(10,5))\n",
    "hist(df[df[\"Comp_final\"]==1.0][\"estimado\"],weights=np.ones(len(df[df[\"Comp_final\"]==1.0][\"estimado\"]))/ len(df[df[\"Comp_final\"]][\"estimado\"]) ,color=\"red\")\n",
    "show()"
   ]
  },
  {
   "cell_type": "code",
   "execution_count": 320,
   "id": "68fc2f3f",
   "metadata": {},
   "outputs": [
    {
     "data": {
      "text/html": [
       "<div>\n",
       "<style scoped>\n",
       "    .dataframe tbody tr th:only-of-type {\n",
       "        vertical-align: middle;\n",
       "    }\n",
       "\n",
       "    .dataframe tbody tr th {\n",
       "        vertical-align: top;\n",
       "    }\n",
       "\n",
       "    .dataframe thead th {\n",
       "        text-align: right;\n",
       "    }\n",
       "</style>\n",
       "<table border=\"1\" class=\"dataframe\">\n",
       "  <thead>\n",
       "    <tr style=\"text-align: right;\">\n",
       "      <th></th>\n",
       "      <th>Comp_final</th>\n",
       "      <th>estimado</th>\n",
       "      <th>Rango_prob</th>\n",
       "    </tr>\n",
       "  </thead>\n",
       "  <tbody>\n",
       "    <tr>\n",
       "      <th>29340</th>\n",
       "      <td>0</td>\n",
       "      <td>0.151856</td>\n",
       "      <td>(0.15, 0.162]</td>\n",
       "    </tr>\n",
       "    <tr>\n",
       "      <th>11727</th>\n",
       "      <td>0</td>\n",
       "      <td>0.108124</td>\n",
       "      <td>(0.0982, 0.113]</td>\n",
       "    </tr>\n",
       "    <tr>\n",
       "      <th>1578</th>\n",
       "      <td>0</td>\n",
       "      <td>0.191496</td>\n",
       "      <td>(0.189, 0.203]</td>\n",
       "    </tr>\n",
       "    <tr>\n",
       "      <th>11317</th>\n",
       "      <td>0</td>\n",
       "      <td>0.209290</td>\n",
       "      <td>(0.203, 0.218]</td>\n",
       "    </tr>\n",
       "    <tr>\n",
       "      <th>29490</th>\n",
       "      <td>0</td>\n",
       "      <td>0.138992</td>\n",
       "      <td>(0.137, 0.15]</td>\n",
       "    </tr>\n",
       "  </tbody>\n",
       "</table>\n",
       "</div>"
      ],
      "text/plain": [
       "       Comp_final  estimado       Rango_prob\n",
       "29340           0  0.151856    (0.15, 0.162]\n",
       "11727           0  0.108124  (0.0982, 0.113]\n",
       "1578            0  0.191496   (0.189, 0.203]\n",
       "11317           0  0.209290   (0.203, 0.218]\n",
       "29490           0  0.138992    (0.137, 0.15]"
      ]
     },
     "execution_count": 320,
     "metadata": {},
     "output_type": "execute_result"
    }
   ],
   "source": [
    "df[\"Rango_prob\"]=pd.qcut(df.estimado, 15)\n",
    "df.head()"
   ]
  },
  {
   "cell_type": "code",
   "execution_count": 321,
   "id": "a6377dc2",
   "metadata": {},
   "outputs": [
    {
     "data": {
      "text/html": [
       "<div>\n",
       "<style scoped>\n",
       "    .dataframe tbody tr th:only-of-type {\n",
       "        vertical-align: middle;\n",
       "    }\n",
       "\n",
       "    .dataframe tbody tr th {\n",
       "        vertical-align: top;\n",
       "    }\n",
       "\n",
       "    .dataframe thead th {\n",
       "        text-align: right;\n",
       "    }\n",
       "</style>\n",
       "<table border=\"1\" class=\"dataframe\">\n",
       "  <thead>\n",
       "    <tr style=\"text-align: right;\">\n",
       "      <th></th>\n",
       "      <th></th>\n",
       "      <th>estimado</th>\n",
       "    </tr>\n",
       "    <tr>\n",
       "      <th>Comp_final</th>\n",
       "      <th>Rango_prob</th>\n",
       "      <th></th>\n",
       "    </tr>\n",
       "  </thead>\n",
       "  <tbody>\n",
       "    <tr>\n",
       "      <th rowspan=\"15\" valign=\"top\">0</th>\n",
       "      <th>(0.0492, 0.0982]</th>\n",
       "      <td>1483</td>\n",
       "    </tr>\n",
       "    <tr>\n",
       "      <th>(0.0982, 0.113]</th>\n",
       "      <td>1443</td>\n",
       "    </tr>\n",
       "    <tr>\n",
       "      <th>(0.113, 0.126]</th>\n",
       "      <td>1453</td>\n",
       "    </tr>\n",
       "    <tr>\n",
       "      <th>(0.126, 0.137]</th>\n",
       "      <td>1431</td>\n",
       "    </tr>\n",
       "    <tr>\n",
       "      <th>(0.137, 0.15]</th>\n",
       "      <td>1406</td>\n",
       "    </tr>\n",
       "    <tr>\n",
       "      <th>(0.15, 0.162]</th>\n",
       "      <td>1398</td>\n",
       "    </tr>\n",
       "    <tr>\n",
       "      <th>(0.162, 0.175]</th>\n",
       "      <td>1364</td>\n",
       "    </tr>\n",
       "    <tr>\n",
       "      <th>(0.175, 0.189]</th>\n",
       "      <td>1356</td>\n",
       "    </tr>\n",
       "    <tr>\n",
       "      <th>(0.189, 0.203]</th>\n",
       "      <td>1320</td>\n",
       "    </tr>\n",
       "    <tr>\n",
       "      <th>(0.203, 0.218]</th>\n",
       "      <td>1297</td>\n",
       "    </tr>\n",
       "    <tr>\n",
       "      <th>(0.218, 0.234]</th>\n",
       "      <td>1276</td>\n",
       "    </tr>\n",
       "    <tr>\n",
       "      <th>(0.234, 0.251]</th>\n",
       "      <td>1243</td>\n",
       "    </tr>\n",
       "    <tr>\n",
       "      <th>(0.251, 0.273]</th>\n",
       "      <td>1218</td>\n",
       "    </tr>\n",
       "    <tr>\n",
       "      <th>(0.273, 0.302]</th>\n",
       "      <td>1192</td>\n",
       "    </tr>\n",
       "    <tr>\n",
       "      <th>(0.302, 0.474]</th>\n",
       "      <td>1040</td>\n",
       "    </tr>\n",
       "    <tr>\n",
       "      <th rowspan=\"15\" valign=\"top\">1</th>\n",
       "      <th>(0.0492, 0.0982]</th>\n",
       "      <td>157</td>\n",
       "    </tr>\n",
       "    <tr>\n",
       "      <th>(0.0982, 0.113]</th>\n",
       "      <td>196</td>\n",
       "    </tr>\n",
       "    <tr>\n",
       "      <th>(0.113, 0.126]</th>\n",
       "      <td>187</td>\n",
       "    </tr>\n",
       "    <tr>\n",
       "      <th>(0.126, 0.137]</th>\n",
       "      <td>208</td>\n",
       "    </tr>\n",
       "    <tr>\n",
       "      <th>(0.137, 0.15]</th>\n",
       "      <td>233</td>\n",
       "    </tr>\n",
       "    <tr>\n",
       "      <th>(0.15, 0.162]</th>\n",
       "      <td>245</td>\n",
       "    </tr>\n",
       "    <tr>\n",
       "      <th>(0.162, 0.175]</th>\n",
       "      <td>272</td>\n",
       "    </tr>\n",
       "    <tr>\n",
       "      <th>(0.175, 0.189]</th>\n",
       "      <td>283</td>\n",
       "    </tr>\n",
       "    <tr>\n",
       "      <th>(0.189, 0.203]</th>\n",
       "      <td>321</td>\n",
       "    </tr>\n",
       "    <tr>\n",
       "      <th>(0.203, 0.218]</th>\n",
       "      <td>341</td>\n",
       "    </tr>\n",
       "    <tr>\n",
       "      <th>(0.218, 0.234]</th>\n",
       "      <td>363</td>\n",
       "    </tr>\n",
       "    <tr>\n",
       "      <th>(0.234, 0.251]</th>\n",
       "      <td>397</td>\n",
       "    </tr>\n",
       "    <tr>\n",
       "      <th>(0.251, 0.273]</th>\n",
       "      <td>421</td>\n",
       "    </tr>\n",
       "    <tr>\n",
       "      <th>(0.273, 0.302]</th>\n",
       "      <td>447</td>\n",
       "    </tr>\n",
       "    <tr>\n",
       "      <th>(0.302, 0.474]</th>\n",
       "      <td>600</td>\n",
       "    </tr>\n",
       "  </tbody>\n",
       "</table>\n",
       "</div>"
      ],
      "text/plain": [
       "                             estimado\n",
       "Comp_final Rango_prob                \n",
       "0          (0.0492, 0.0982]      1483\n",
       "           (0.0982, 0.113]       1443\n",
       "           (0.113, 0.126]        1453\n",
       "           (0.126, 0.137]        1431\n",
       "           (0.137, 0.15]         1406\n",
       "           (0.15, 0.162]         1398\n",
       "           (0.162, 0.175]        1364\n",
       "           (0.175, 0.189]        1356\n",
       "           (0.189, 0.203]        1320\n",
       "           (0.203, 0.218]        1297\n",
       "           (0.218, 0.234]        1276\n",
       "           (0.234, 0.251]        1243\n",
       "           (0.251, 0.273]        1218\n",
       "           (0.273, 0.302]        1192\n",
       "           (0.302, 0.474]        1040\n",
       "1          (0.0492, 0.0982]       157\n",
       "           (0.0982, 0.113]        196\n",
       "           (0.113, 0.126]         187\n",
       "           (0.126, 0.137]         208\n",
       "           (0.137, 0.15]          233\n",
       "           (0.15, 0.162]          245\n",
       "           (0.162, 0.175]         272\n",
       "           (0.175, 0.189]         283\n",
       "           (0.189, 0.203]         321\n",
       "           (0.203, 0.218]         341\n",
       "           (0.218, 0.234]         363\n",
       "           (0.234, 0.251]         397\n",
       "           (0.251, 0.273]         421\n",
       "           (0.273, 0.302]         447\n",
       "           (0.302, 0.474]         600"
      ]
     },
     "execution_count": 321,
     "metadata": {},
     "output_type": "execute_result"
    }
   ],
   "source": [
    "df.groupby(['Comp_final', \"Rango_prob\"]).count()"
   ]
  },
  {
   "cell_type": "code",
   "execution_count": 322,
   "id": "cfc09f83",
   "metadata": {},
   "outputs": [],
   "source": [
    "#Construcción de Scorecard"
   ]
  },
  {
   "cell_type": "code",
   "execution_count": 323,
   "id": "748b93e4",
   "metadata": {},
   "outputs": [],
   "source": [
    "from statsmodels.distributions.empirical_distribution import ECDF\n",
    "from scipy.stats import ks_2samp"
   ]
  },
  {
   "cell_type": "code",
   "execution_count": 445,
   "id": "525594ca",
   "metadata": {},
   "outputs": [],
   "source": [
    "#KS\n",
    "ecdf_malos=ECDF(df.loc[df.Comp_final==1.0,'estimado'])\n",
    "ecdf_buenos=ECDF(df.loc[df.Comp_final==0.0,'estimado'])\n",
    "grid_score=np.sort(df.estimado.unique())\n",
    "prob_acum_buenos=ecdf_buenos(grid_score)\n",
    "prob_acum_malos=ecdf_malos(grid_score)"
   ]
  },
  {
   "cell_type": "code",
   "execution_count": 446,
   "id": "75be8044",
   "metadata": {},
   "outputs": [
    {
     "data": {
      "text/plain": [
       "0.18818462675364267"
      ]
     },
     "execution_count": 446,
     "metadata": {},
     "output_type": "execute_result"
    }
   ],
   "source": [
    "abs_dif=np.abs(prob_acum_buenos-prob_acum_malos)\n",
    "KS=np.max(abs_dif)\n",
    "KS"
   ]
  },
  {
   "cell_type": "code",
   "execution_count": 326,
   "id": "cc4fc959",
   "metadata": {},
   "outputs": [
    {
     "data": {
      "image/png": "[encoded data removed]",
      "text/plain": [
       "<Figure size 576x360 with 1 Axes>"
      ]
     },
     "metadata": {
      "needs_background": "light"
     },
     "output_type": "display_data"
    }
   ],
   "source": [
    "fig, ax=plt.subplots(figsize=(8,5))\n",
    "\n",
    "ax.set_title(f\"Kolmogorov_Smirnov:{KS:}\", fontsize=16)\n",
    "plot(grid_score,prob_acum_buenos, color=\"blue\",linewidth=3)\n",
    "plot(grid_score,prob_acum_malos, color=\"red\",linewidth=3)\n",
    "show()"
   ]
  },
  {
   "cell_type": "code",
   "execution_count": 327,
   "id": "93e0578c",
   "metadata": {},
   "outputs": [
    {
     "data": {
      "text/plain": [
       "KstestResult(statistic=0.1899475417835793, pvalue=0.0)"
      ]
     },
     "execution_count": 327,
     "metadata": {},
     "output_type": "execute_result"
    }
   ],
   "source": [
    "ks_2samp(y_pred,y_train)"
   ]
  },
  {
   "cell_type": "code",
   "execution_count": 328,
   "id": "6c257521",
   "metadata": {},
   "outputs": [
    {
     "name": "stdout",
     "output_type": "stream",
     "text": [
      "<class 'pandas.core.frame.DataFrame'>\n",
      "Int64Index: 10540 entries, 11397 to 33289\n",
      "Data columns (total 11 columns):\n",
      " #   Column         Non-Null Count  Dtype  \n",
      "---  ------         --------------  -----  \n",
      " 0   Unnamed: 0     10540 non-null  int64  \n",
      " 1   comp_interno1  10540 non-null  float64\n",
      " 2   comp_interno2  10540 non-null  int64  \n",
      " 3   comp_interno4  10540 non-null  int64  \n",
      " 4   categoria1     10540 non-null  int64  \n",
      " 5   categoria3     10540 non-null  int64  \n",
      " 6   comp_mixto1    10540 non-null  float64\n",
      " 7   comp_externo1  10044 non-null  float64\n",
      " 8   comp_externo2  9233 non-null   float64\n",
      " 9   comp_externo3  10539 non-null  float64\n",
      " 10  Comp_final     10540 non-null  int64  \n",
      "dtypes: float64(5), int64(6)\n",
      "memory usage: 988.1 KB\n"
     ]
    }
   ],
   "source": [
    "test.info()"
   ]
  },
  {
   "cell_type": "code",
   "execution_count": 329,
   "id": "1e36fdcb",
   "metadata": {},
   "outputs": [
    {
     "data": {
      "text/plain": [
       "11397    0\n",
       "34320    0\n",
       "34034    0\n",
       "10470    1\n",
       "32915    1\n",
       "        ..\n",
       "10607    0\n",
       "28824    0\n",
       "3960     0\n",
       "18558    0\n",
       "33289    0\n",
       "Name: Comp_final, Length: 10540, dtype: int64"
      ]
     },
     "execution_count": 329,
     "metadata": {},
     "output_type": "execute_result"
    }
   ],
   "source": [
    "y_te=test.Comp_final\n",
    "y_te"
   ]
  },
  {
   "cell_type": "code",
   "execution_count": 423,
   "id": "0c1bd887",
   "metadata": {},
   "outputs": [
    {
     "data": {
      "text/plain": [
       "OptimalBinning(name='comp_externo3')"
      ]
     },
     "execution_count": 423,
     "metadata": {},
     "output_type": "execute_result"
    }
   ],
   "source": [
    "optb_comp_interno1.fit(test[\"comp_interno1\"].values, y_te)\n",
    "optb_comp_interno2.fit(test[\"comp_interno2\"].values, y_te)\n",
    "optb_comp_interno4.fit(test[\"comp_interno4\"].values, y_te)\n",
    "optb_categoria1.fit(test[\"categoria1\"].values, y_te)\n",
    "optb_categoria3.fit(test[\"categoria3\"].values, y_te)\n",
    "optb_comp_mixto1.fit(test[\"comp_mixto1\"].values, y_te)\n",
    "optb_comp_externo1.fit(test[\"comp_externo1\"].values, y_te)\n",
    "optb_comp_externo2.fit(test[\"comp_externo2\"].values, y_te)\n",
    "optb_comp_externo3.fit(test[\"comp_externo3\"].values, y_te)"
   ]
  },
  {
   "cell_type": "code",
   "execution_count": 424,
   "id": "9a6cea00",
   "metadata": {},
   "outputs": [],
   "source": [
    "#Transformamos las variables a woe para el conjunto de prueba\n",
    "\n",
    "test[\"woe_comp_interno1\"] = optb_comp_interno1.transform(test[\"comp_interno1\"], metric=\"woe\")\n",
    "test[\"woe_comp_interno2\"] = optb_comp_interno2.transform(test[\"comp_interno2\"], metric=\"woe\")\n",
    "test[\"woe_comp_interno4\"] = optb_comp_interno4.transform(test[\"comp_interno4\"], metric=\"woe\")\n",
    "test[\"woe_categoria1\"] = optb_categoria1.transform(test[\"categoria1\"], metric=\"woe\")\n",
    "test[\"woe_categoria3\"] = optb_categoria3.transform(test[\"categoria3\"], metric=\"woe\")\n",
    "test[\"woe_comp_mixto1\"] = optb_comp_mixto1.transform(test[\"comp_mixto1\"], metric=\"woe\")\n",
    "test[\"woe_comp_externo1\"] = optb_comp_externo1.transform(test[\"comp_externo1\"], metric=\"woe\")\n",
    "test[\"woe_comp_externo2\"] = optb_comp_externo2.transform(test[\"comp_externo2\"], metric=\"woe\")\n",
    "test[\"woe_comp_externo3\"] = optb_comp_externo3.transform(test[\"comp_externo3\"], metric=\"woe\")"
   ]
  },
  {
   "cell_type": "code",
   "execution_count": 430,
   "id": "c1939e36",
   "metadata": {},
   "outputs": [
    {
     "data": {
      "text/html": [
       "<div>\n",
       "<style scoped>\n",
       "    .dataframe tbody tr th:only-of-type {\n",
       "        vertical-align: middle;\n",
       "    }\n",
       "\n",
       "    .dataframe tbody tr th {\n",
       "        vertical-align: top;\n",
       "    }\n",
       "\n",
       "    .dataframe thead th {\n",
       "        text-align: right;\n",
       "    }\n",
       "</style>\n",
       "<table border=\"1\" class=\"dataframe\">\n",
       "  <thead>\n",
       "    <tr style=\"text-align: right;\">\n",
       "      <th></th>\n",
       "      <th>woe_comp_interno2</th>\n",
       "      <th>woe_comp_interno4</th>\n",
       "      <th>woe_categoria1</th>\n",
       "      <th>woe_categoria3</th>\n",
       "      <th>woe_comp_mixto1</th>\n",
       "      <th>woe_comp_externo2</th>\n",
       "      <th>woe_comp_externo3</th>\n",
       "    </tr>\n",
       "  </thead>\n",
       "  <tbody>\n",
       "    <tr>\n",
       "      <th>11397</th>\n",
       "      <td>0.003091</td>\n",
       "      <td>0.088502</td>\n",
       "      <td>-0.182524</td>\n",
       "      <td>-0.130927</td>\n",
       "      <td>-0.160304</td>\n",
       "      <td>-0.032154</td>\n",
       "      <td>0.476494</td>\n",
       "    </tr>\n",
       "    <tr>\n",
       "      <th>34320</th>\n",
       "      <td>-0.007462</td>\n",
       "      <td>-0.103023</td>\n",
       "      <td>0.262039</td>\n",
       "      <td>0.129954</td>\n",
       "      <td>-0.160304</td>\n",
       "      <td>-0.032154</td>\n",
       "      <td>0.724491</td>\n",
       "    </tr>\n",
       "    <tr>\n",
       "      <th>34034</th>\n",
       "      <td>0.003091</td>\n",
       "      <td>0.446697</td>\n",
       "      <td>0.142014</td>\n",
       "      <td>0.129954</td>\n",
       "      <td>0.357247</td>\n",
       "      <td>-0.323349</td>\n",
       "      <td>0.724491</td>\n",
       "    </tr>\n",
       "    <tr>\n",
       "      <th>10470</th>\n",
       "      <td>0.003091</td>\n",
       "      <td>-0.237989</td>\n",
       "      <td>-0.182524</td>\n",
       "      <td>-0.130927</td>\n",
       "      <td>0.173580</td>\n",
       "      <td>-0.323349</td>\n",
       "      <td>0.206481</td>\n",
       "    </tr>\n",
       "    <tr>\n",
       "      <th>32915</th>\n",
       "      <td>-0.007462</td>\n",
       "      <td>0.088502</td>\n",
       "      <td>0.262039</td>\n",
       "      <td>0.096397</td>\n",
       "      <td>-0.219970</td>\n",
       "      <td>-0.323349</td>\n",
       "      <td>-0.017173</td>\n",
       "    </tr>\n",
       "  </tbody>\n",
       "</table>\n",
       "</div>"
      ],
      "text/plain": [
       "       woe_comp_interno2  woe_comp_interno4  woe_categoria1  woe_categoria3  \\\n",
       "11397           0.003091           0.088502       -0.182524       -0.130927   \n",
       "34320          -0.007462          -0.103023        0.262039        0.129954   \n",
       "34034           0.003091           0.446697        0.142014        0.129954   \n",
       "10470           0.003091          -0.237989       -0.182524       -0.130927   \n",
       "32915          -0.007462           0.088502        0.262039        0.096397   \n",
       "\n",
       "       woe_comp_mixto1  woe_comp_externo2  woe_comp_externo3  \n",
       "11397        -0.160304          -0.032154           0.476494  \n",
       "34320        -0.160304          -0.032154           0.724491  \n",
       "34034         0.357247          -0.323349           0.724491  \n",
       "10470         0.173580          -0.323349           0.206481  \n",
       "32915        -0.219970          -0.323349          -0.017173  "
      ]
     },
     "execution_count": 430,
     "metadata": {},
     "output_type": "execute_result"
    }
   ],
   "source": [
    "#Como las variables woe_interno1 y woe_externo1 tienen mucha correlación con las demás las quitamos\n",
    "f_test=test[[\"Comp_final\",\"woe_comp_interno2\",\"woe_comp_interno4\",\"woe_categoria1\",\"woe_categoria3\",\"woe_comp_mixto1\",\"woe_comp_externo2\",\"woe_comp_externo3\"]]\n",
    "X_woe_test=f_test.iloc[:,1:]\n",
    "y_test=f_test.iloc[:,0]\n",
    "X_woe_test.head()"
   ]
  },
  {
   "cell_type": "code",
   "execution_count": 436,
   "id": "11622458",
   "metadata": {},
   "outputs": [],
   "source": [
    "import sklearn.metrics as metrics"
   ]
  },
  {
   "cell_type": "code",
   "execution_count": 441,
   "id": "02679d5f",
   "metadata": {},
   "outputs": [],
   "source": [
    "def performance_evaluation_report(model, X_test, y_test, show_plot=False, labels=None, show_pr_curve=False):\n",
    "    '''\n",
    "    Function for creating a performance report of a classification model.\n",
    "    \n",
    "    Parameters\n",
    "    ----------\n",
    "    model : scikit-learn estimator\n",
    "        A fitted estimator for classification problems.\n",
    "    X_test : pd.DataFrame\n",
    "        DataFrame with features matching y_test\n",
    "    y_test : array/pd.Series\n",
    "        Target of a classification problem.\n",
    "    show_plot : bool\n",
    "        Flag whether to show the plot\n",
    "    labels : list\n",
    "        List with the class names.\n",
    "    show_pr_curve : bool\n",
    "        Flag whether to also show the PR-curve. For this to take effect, \n",
    "        show_plot must be True.\n",
    "        \n",
    "    Return\n",
    "    ------\n",
    "    stats : pd.Series\n",
    "        A series with the most important evaluation metrics\n",
    "    '''\n",
    "\n",
    "    y_pred = model.predict(X_test)\n",
    "    y_pred_prob = model.predict_proba(X_test)[:, 1]\n",
    "\n",
    "    cm = metrics.confusion_matrix(y_test, y_pred)\n",
    "    tn, fp, fn, tp = cm.ravel()\n",
    "\n",
    "    fpr, tpr, threshold = metrics.roc_curve(y_test, y_pred_prob)\n",
    "    roc_auc = metrics.auc(fpr, tpr)\n",
    "\n",
    "    precision, recall, thresholds = metrics.precision_recall_curve(\n",
    "        y_test, y_pred_prob)\n",
    "    pr_auc = metrics.auc(recall, precision)\n",
    "\n",
    "    if show_plot:\n",
    "\n",
    "        if labels is None:\n",
    "            labels = ['Negative', 'Positive']\n",
    "            \n",
    "            N_SUBPLOTS = 3 if show_pr_curve else 2\n",
    "        PLOT_WIDTH = 15 if show_pr_curve else 12\n",
    "        PLOT_HEIGHT = 5 if show_pr_curve else 6\n",
    "\n",
    "        fig, ax = plt.subplots(\n",
    "            1, N_SUBPLOTS, figsize=(PLOT_WIDTH, PLOT_HEIGHT))\n",
    "        fig.suptitle('Performance Evaluation', fontsize=16)\n",
    "\n",
    "        sns.heatmap(cm, annot=True, fmt=\"d\", linewidths=.5, cmap='BuGn_r', square=True, cbar=False, ax=ax[0],\n",
    "                    annot_kws={\"ha\": 'center', \"va\": 'center'})\n",
    "        ax[0].set(xlabel='Predicted label',\n",
    "                  ylabel='Actual label', title='Confusion Matrix')\n",
    "        ax[0].xaxis.set_ticklabels(labels)\n",
    "        ax[0].yaxis.set_ticklabels(labels)\n",
    "\n",
    "        ax[1].plot(fpr, tpr, 'b-', label=f'ROC-AUC = {roc_auc:.2f}')\n",
    "        ax[1].set(xlabel='False Positive Rate',\n",
    "                  ylabel='True Positive Rate', title='ROC Curve')\n",
    "        ax[1].plot(fp/(fp+tn), tp/(tp+fn), 'ro',\n",
    "                   markersize=8, label='Decision Point')\n",
    "        ax[1].plot([0, 1], [0, 1], 'r--')\n",
    "        ax[1].legend(loc='lower right')\n",
    "\n",
    "        if show_pr_curve:\n",
    "\n",
    "            ax[2].plot(recall, precision, label=f'PR-AUC = {pr_auc:.2f}')\n",
    "            ax[2].set(xlabel='Recall', ylabel='Precision',\n",
    "                      title='Precision-Recall Curve')\n",
    "            ax[2].legend()\n",
    "\n",
    "#         print('#######################')\n",
    "#         print('Evaluation metrics ####')\n",
    "#         print('#######################')\n",
    "#         print(f'Accuracy: {metrics.accuracy_score(y_test, y_pred):.4f}')\n",
    "#         print(f'Precision: {metrics.precision_score(y_test, y_pred):.4f}')\n",
    "#         print(f'Recall (Sensitivity): {metrics.recall_score(y_test, y_pred):.4f}')\n",
    "#         print(f'Specificity: {(tn / (tn + fp)):.4f}')\n",
    "#         print(f'F1-Score: {metrics.f1_score(y_test, y_pred):.4f}')\n",
    "#         print(f\"Cohen's Kappa: {metrics.cohen_kappa_score(y_test, y_pred):.4f}\")\n",
    "\n",
    "    stats = {'accuracy': metrics.accuracy_score(y_test, y_pred),\n",
    "             'precision': metrics.precision_score(y_test, y_pred),\n",
    "             'recall': metrics.recall_score(y_test, y_pred),\n",
    "             'specificity': (tn / (tn + fp)),\n",
    "             'f1_score': metrics.f1_score(y_test, y_pred),\n",
    "             'cohens_kappa': metrics.cohen_kappa_score(y_test, y_pred),\n",
    "             'roc_auc': roc_auc,\n",
    "             'pr_auc': pr_auc}\n",
    "\n",
    "    return stats"
   ]
  },
  {
   "cell_type": "code",
   "execution_count": 454,
   "id": "27e22dce",
   "metadata": {},
   "outputs": [
    {
     "data": {
      "text/plain": [
       "{'accuracy': 0.813472485768501,\n",
       " 'precision': 0.5,\n",
       " 'recall': 0.002034587995930824,\n",
       " 'specificity': 0.9995334732913459,\n",
       " 'f1_score': 0.004052684903748734,\n",
       " 'cohens_kappa': 0.002544657624557467,\n",
       " 'roc_auc': 0.6448238553188197,\n",
       " 'pr_auc': 0.29815125045994717}"
      ]
     },
     "execution_count": 454,
     "metadata": {},
     "output_type": "execute_result"
    },
    {
     "data": {
      "image/png": "[encoded data removed]",
      "text/plain": [
       "<Figure size 864x432 with 2 Axes>"
      ]
     },
     "metadata": {
      "needs_background": "light"
     },
     "output_type": "display_data"
    }
   ],
   "source": [
    "performance_evaluation_report(clf, X_woe_test, y_test,  show_plot=True)"
   ]
  },
  {
   "cell_type": "code",
   "execution_count": 421,
   "id": "9644f9e8",
   "metadata": {},
   "outputs": [
    {
     "data": {
      "text/plain": [
       "LogisticRegression()"
      ]
     },
     "execution_count": 421,
     "metadata": {},
     "output_type": "execute_result"
    }
   ],
   "source": [
    "clf"
   ]
  },
  {
   "cell_type": "code",
   "execution_count": 426,
   "id": "4bc0a437",
   "metadata": {},
   "outputs": [
    {
     "data": {
      "text/html": [
       "<div>\n",
       "<style scoped>\n",
       "    .dataframe tbody tr th:only-of-type {\n",
       "        vertical-align: middle;\n",
       "    }\n",
       "\n",
       "    .dataframe tbody tr th {\n",
       "        vertical-align: top;\n",
       "    }\n",
       "\n",
       "    .dataframe thead th {\n",
       "        text-align: right;\n",
       "    }\n",
       "</style>\n",
       "<table border=\"1\" class=\"dataframe\">\n",
       "  <thead>\n",
       "    <tr style=\"text-align: right;\">\n",
       "      <th></th>\n",
       "      <th>woe_comp_interno2</th>\n",
       "      <th>woe_comp_interno4</th>\n",
       "      <th>woe_categoria3</th>\n",
       "      <th>woe_categoria1</th>\n",
       "      <th>woe_comp_mixto1</th>\n",
       "      <th>woe_comp_externo2</th>\n",
       "      <th>woe_comp_externo3</th>\n",
       "    </tr>\n",
       "  </thead>\n",
       "  <tbody>\n",
       "    <tr>\n",
       "      <th>11397</th>\n",
       "      <td>0.003091</td>\n",
       "      <td>0.088502</td>\n",
       "      <td>-0.130927</td>\n",
       "      <td>-0.182524</td>\n",
       "      <td>-0.160304</td>\n",
       "      <td>-0.032154</td>\n",
       "      <td>0.476494</td>\n",
       "    </tr>\n",
       "    <tr>\n",
       "      <th>34320</th>\n",
       "      <td>-0.007462</td>\n",
       "      <td>-0.103023</td>\n",
       "      <td>0.129954</td>\n",
       "      <td>0.262039</td>\n",
       "      <td>-0.160304</td>\n",
       "      <td>-0.032154</td>\n",
       "      <td>0.724491</td>\n",
       "    </tr>\n",
       "    <tr>\n",
       "      <th>34034</th>\n",
       "      <td>0.003091</td>\n",
       "      <td>0.446697</td>\n",
       "      <td>0.129954</td>\n",
       "      <td>0.142014</td>\n",
       "      <td>0.357247</td>\n",
       "      <td>-0.323349</td>\n",
       "      <td>0.724491</td>\n",
       "    </tr>\n",
       "    <tr>\n",
       "      <th>10470</th>\n",
       "      <td>0.003091</td>\n",
       "      <td>-0.237989</td>\n",
       "      <td>-0.130927</td>\n",
       "      <td>-0.182524</td>\n",
       "      <td>0.173580</td>\n",
       "      <td>-0.323349</td>\n",
       "      <td>0.206481</td>\n",
       "    </tr>\n",
       "    <tr>\n",
       "      <th>32915</th>\n",
       "      <td>-0.007462</td>\n",
       "      <td>0.088502</td>\n",
       "      <td>0.096397</td>\n",
       "      <td>0.262039</td>\n",
       "      <td>-0.219970</td>\n",
       "      <td>-0.323349</td>\n",
       "      <td>-0.017173</td>\n",
       "    </tr>\n",
       "    <tr>\n",
       "      <th>...</th>\n",
       "      <td>...</td>\n",
       "      <td>...</td>\n",
       "      <td>...</td>\n",
       "      <td>...</td>\n",
       "      <td>...</td>\n",
       "      <td>...</td>\n",
       "      <td>...</td>\n",
       "    </tr>\n",
       "    <tr>\n",
       "      <th>10607</th>\n",
       "      <td>-0.007462</td>\n",
       "      <td>0.121309</td>\n",
       "      <td>0.497319</td>\n",
       "      <td>-0.182524</td>\n",
       "      <td>0.173580</td>\n",
       "      <td>0.000000</td>\n",
       "      <td>-0.564475</td>\n",
       "    </tr>\n",
       "    <tr>\n",
       "      <th>28824</th>\n",
       "      <td>0.003091</td>\n",
       "      <td>0.173912</td>\n",
       "      <td>0.096397</td>\n",
       "      <td>-0.182524</td>\n",
       "      <td>-0.011802</td>\n",
       "      <td>0.185163</td>\n",
       "      <td>0.450954</td>\n",
       "    </tr>\n",
       "    <tr>\n",
       "      <th>3960</th>\n",
       "      <td>0.003091</td>\n",
       "      <td>0.121309</td>\n",
       "      <td>0.096397</td>\n",
       "      <td>-0.182524</td>\n",
       "      <td>-0.020982</td>\n",
       "      <td>-0.032154</td>\n",
       "      <td>-0.060833</td>\n",
       "    </tr>\n",
       "    <tr>\n",
       "      <th>18558</th>\n",
       "      <td>0.003091</td>\n",
       "      <td>-0.182309</td>\n",
       "      <td>0.129954</td>\n",
       "      <td>0.142014</td>\n",
       "      <td>0.357247</td>\n",
       "      <td>0.162219</td>\n",
       "      <td>0.206481</td>\n",
       "    </tr>\n",
       "    <tr>\n",
       "      <th>33289</th>\n",
       "      <td>0.003091</td>\n",
       "      <td>0.010809</td>\n",
       "      <td>0.129954</td>\n",
       "      <td>0.262039</td>\n",
       "      <td>0.173580</td>\n",
       "      <td>-0.032154</td>\n",
       "      <td>-0.279934</td>\n",
       "    </tr>\n",
       "  </tbody>\n",
       "</table>\n",
       "<p>10540 rows × 7 columns</p>\n",
       "</div>"
      ],
      "text/plain": [
       "       woe_comp_interno2  woe_comp_interno4  woe_categoria3  woe_categoria1  \\\n",
       "11397           0.003091           0.088502       -0.130927       -0.182524   \n",
       "34320          -0.007462          -0.103023        0.129954        0.262039   \n",
       "34034           0.003091           0.446697        0.129954        0.142014   \n",
       "10470           0.003091          -0.237989       -0.130927       -0.182524   \n",
       "32915          -0.007462           0.088502        0.096397        0.262039   \n",
       "...                  ...                ...             ...             ...   \n",
       "10607          -0.007462           0.121309        0.497319       -0.182524   \n",
       "28824           0.003091           0.173912        0.096397       -0.182524   \n",
       "3960            0.003091           0.121309        0.096397       -0.182524   \n",
       "18558           0.003091          -0.182309        0.129954        0.142014   \n",
       "33289           0.003091           0.010809        0.129954        0.262039   \n",
       "\n",
       "       woe_comp_mixto1  woe_comp_externo2  woe_comp_externo3  \n",
       "11397        -0.160304          -0.032154           0.476494  \n",
       "34320        -0.160304          -0.032154           0.724491  \n",
       "34034         0.357247          -0.323349           0.724491  \n",
       "10470         0.173580          -0.323349           0.206481  \n",
       "32915        -0.219970          -0.323349          -0.017173  \n",
       "...                ...                ...                ...  \n",
       "10607         0.173580           0.000000          -0.564475  \n",
       "28824        -0.011802           0.185163           0.450954  \n",
       "3960         -0.020982          -0.032154          -0.060833  \n",
       "18558         0.357247           0.162219           0.206481  \n",
       "33289         0.173580          -0.032154          -0.279934  \n",
       "\n",
       "[10540 rows x 7 columns]"
      ]
     },
     "execution_count": 426,
     "metadata": {},
     "output_type": "execute_result"
    }
   ],
   "source": [
    "X_woe_test"
   ]
  },
  {
   "cell_type": "code",
   "execution_count": 429,
   "id": "dc74dc14",
   "metadata": {},
   "outputs": [
    {
     "data": {
      "text/html": [
       "<div>\n",
       "<style scoped>\n",
       "    .dataframe tbody tr th:only-of-type {\n",
       "        vertical-align: middle;\n",
       "    }\n",
       "\n",
       "    .dataframe tbody tr th {\n",
       "        vertical-align: top;\n",
       "    }\n",
       "\n",
       "    .dataframe thead th {\n",
       "        text-align: right;\n",
       "    }\n",
       "</style>\n",
       "<table border=\"1\" class=\"dataframe\">\n",
       "  <thead>\n",
       "    <tr style=\"text-align: right;\">\n",
       "      <th></th>\n",
       "      <th>woe_comp_interno2</th>\n",
       "      <th>woe_comp_interno4</th>\n",
       "      <th>woe_categoria1</th>\n",
       "      <th>woe_categoria3</th>\n",
       "      <th>woe_comp_mixto1</th>\n",
       "      <th>woe_comp_externo2</th>\n",
       "      <th>woe_comp_externo3</th>\n",
       "    </tr>\n",
       "  </thead>\n",
       "  <tbody>\n",
       "    <tr>\n",
       "      <th>29340</th>\n",
       "      <td>0.0</td>\n",
       "      <td>-0.241963</td>\n",
       "      <td>0.099208</td>\n",
       "      <td>-0.078973</td>\n",
       "      <td>0.412260</td>\n",
       "      <td>-0.192271</td>\n",
       "      <td>0.362028</td>\n",
       "    </tr>\n",
       "    <tr>\n",
       "      <th>11727</th>\n",
       "      <td>0.0</td>\n",
       "      <td>-0.101154</td>\n",
       "      <td>0.099208</td>\n",
       "      <td>0.111126</td>\n",
       "      <td>0.016219</td>\n",
       "      <td>0.104090</td>\n",
       "      <td>0.656234</td>\n",
       "    </tr>\n",
       "    <tr>\n",
       "      <th>1578</th>\n",
       "      <td>0.0</td>\n",
       "      <td>-0.043274</td>\n",
       "      <td>0.099208</td>\n",
       "      <td>0.093525</td>\n",
       "      <td>0.079353</td>\n",
       "      <td>0.188160</td>\n",
       "      <td>-0.241915</td>\n",
       "    </tr>\n",
       "    <tr>\n",
       "      <th>11317</th>\n",
       "      <td>0.0</td>\n",
       "      <td>0.138312</td>\n",
       "      <td>-0.121831</td>\n",
       "      <td>0.093525</td>\n",
       "      <td>0.079353</td>\n",
       "      <td>-0.020328</td>\n",
       "      <td>-0.470757</td>\n",
       "    </tr>\n",
       "    <tr>\n",
       "      <th>29490</th>\n",
       "      <td>0.0</td>\n",
       "      <td>-0.043274</td>\n",
       "      <td>-0.121831</td>\n",
       "      <td>0.052743</td>\n",
       "      <td>-0.176252</td>\n",
       "      <td>-0.084214</td>\n",
       "      <td>0.656234</td>\n",
       "    </tr>\n",
       "  </tbody>\n",
       "</table>\n",
       "</div>"
      ],
      "text/plain": [
       "       woe_comp_interno2  woe_comp_interno4  woe_categoria1  woe_categoria3  \\\n",
       "29340                0.0          -0.241963        0.099208       -0.078973   \n",
       "11727                0.0          -0.101154        0.099208        0.111126   \n",
       "1578                 0.0          -0.043274        0.099208        0.093525   \n",
       "11317                0.0           0.138312       -0.121831        0.093525   \n",
       "29490                0.0          -0.043274       -0.121831        0.052743   \n",
       "\n",
       "       woe_comp_mixto1  woe_comp_externo2  woe_comp_externo3  \n",
       "29340         0.412260          -0.192271           0.362028  \n",
       "11727         0.016219           0.104090           0.656234  \n",
       "1578          0.079353           0.188160          -0.241915  \n",
       "11317         0.079353          -0.020328          -0.470757  \n",
       "29490        -0.176252          -0.084214           0.656234  "
      ]
     },
     "execution_count": 429,
     "metadata": {},
     "output_type": "execute_result"
    }
   ],
   "source": [
    "X_woe_train.head()"
   ]
  },
  {
   "cell_type": "code",
   "execution_count": 435,
   "id": "1ca4005e",
   "metadata": {},
   "outputs": [
    {
     "data": {
      "text/plain": [
       "array([0, 0, 0, ..., 0, 0, 0], dtype=int64)"
      ]
     },
     "execution_count": 435,
     "metadata": {},
     "output_type": "execute_result"
    }
   ],
   "source": [
    "y_pr = clf.predict(X_woe_test)\n",
    "y_pr"
   ]
  },
  {
   "cell_type": "code",
   "execution_count": 443,
   "id": "f0ac579d",
   "metadata": {},
   "outputs": [],
   "source": [
    "from sklearn.model_selection import (GridSearchCV, cross_val_score,\n",
    "                                                 RandomizedSearchCV,\n",
    "                                                 cross_validate,\n",
    "                                                 StratifiedKFold)"
   ]
  },
  {
   "cell_type": "code",
   "execution_count": 444,
   "id": "b351aaf9",
   "metadata": {},
   "outputs": [
    {
     "data": {
      "text/plain": [
       "KstestResult(statistic=0.0034200275520802625, pvalue=0.9999936967251417)"
      ]
     },
     "execution_count": 444,
     "metadata": {},
     "output_type": "execute_result"
    }
   ],
   "source": [
    "from scipy.stats import ks_2samp\n",
    "Ks=ks_2samp(y_train,y_test)\n",
    "Ks"
   ]
  },
  {
   "cell_type": "code",
   "execution_count": 448,
   "id": "4b9458c8",
   "metadata": {},
   "outputs": [
    {
     "data": {
      "text/plain": [
       "0.2896477106376394"
      ]
     },
     "execution_count": 448,
     "metadata": {},
     "output_type": "execute_result"
    }
   ],
   "source": [
    "gini=2*0.6448238553188197-1\n",
    "gini"
   ]
  },
  {
   "cell_type": "code",
   "execution_count": 450,
   "id": "656e90e7",
   "metadata": {},
   "outputs": [
    {
     "name": "stderr",
     "output_type": "stream",
     "text": [
      "C:\\Users\\DELL\\miniconda3\\lib\\site-packages\\sklearn\\metrics\\_classification.py:1308: UndefinedMetricWarning: Precision is ill-defined and being set to 0.0 due to no predicted samples. Use `zero_division` parameter to control this behavior.\n",
      "  _warn_prf(average, modifier, msg_start, len(result))\n",
      "C:\\Users\\DELL\\miniconda3\\lib\\site-packages\\sklearn\\metrics\\_classification.py:1308: UndefinedMetricWarning: Precision is ill-defined and being set to 0.0 due to no predicted samples. Use `zero_division` parameter to control this behavior.\n",
      "  _warn_prf(average, modifier, msg_start, len(result))\n",
      "C:\\Users\\DELL\\miniconda3\\lib\\site-packages\\sklearn\\metrics\\_classification.py:1308: UndefinedMetricWarning: Precision is ill-defined and being set to 0.0 due to no predicted samples. Use `zero_division` parameter to control this behavior.\n",
      "  _warn_prf(average, modifier, msg_start, len(result))\n",
      "C:\\Users\\DELL\\miniconda3\\lib\\site-packages\\sklearn\\metrics\\_classification.py:1308: UndefinedMetricWarning: Precision is ill-defined and being set to 0.0 due to no predicted samples. Use `zero_division` parameter to control this behavior.\n",
      "  _warn_prf(average, modifier, msg_start, len(result))\n",
      "C:\\Users\\DELL\\miniconda3\\lib\\site-packages\\sklearn\\metrics\\_classification.py:1308: UndefinedMetricWarning: Precision is ill-defined and being set to 0.0 due to no predicted samples. Use `zero_division` parameter to control this behavior.\n",
      "  _warn_prf(average, modifier, msg_start, len(result))\n"
     ]
    },
    {
     "data": {
      "text/plain": [
       "{'fit_time': array([0.32198668, 0.151057  , 0.09864163, 0.10064936, 0.08053684]),\n",
       " 'score_time': array([0.50328755, 0.09054995, 0.07253146, 0.02015734, 0.02015543]),\n",
       " 'test_accuracy': array([0.80992072, 0.8100854 , 0.8100854 , 0.8100854 , 0.8100854 ]),\n",
       " 'test_precision': array([0., 0., 0., 0., 0.]),\n",
       " 'test_recall': array([0., 0., 0., 0., 0.]),\n",
       " 'test_roc_auc': array([0.63068584, 0.63102987, 0.6272589 , 0.62352381, 0.62459272])}"
      ]
     },
     "execution_count": 450,
     "metadata": {},
     "output_type": "execute_result"
    }
   ],
   "source": [
    "k_fold = StratifiedKFold(5, shuffle=True, random_state=42)\n",
    "cross_validate(clf, X_woe_train, y_train, cv=k_fold,\n",
    "                           scoring=['accuracy', 'precision', 'recall','roc_auc'])"
   ]
  },
  {
   "cell_type": "code",
   "execution_count": 452,
   "id": "3aabd3aa",
   "metadata": {},
   "outputs": [],
   "source": [
    "LABELS=np.array([\"bueno\",\"malo\"])"
   ]
  },
  {
   "cell_type": "code",
   "execution_count": 458,
   "id": "778be396",
   "metadata": {},
   "outputs": [
    {
     "ename": "UnboundLocalError",
     "evalue": "local variable 'N_SUBPLOTS' referenced before assignment",
     "output_type": "error",
     "traceback": [
      "\u001b[1;31m---------------------------------------------------------------------------\u001b[0m",
      "\u001b[1;31mUnboundLocalError\u001b[0m                         Traceback (most recent call last)",
      "\u001b[1;32m<ipython-input-458-42e6559b0a5a>\u001b[0m in \u001b[0;36m<module>\u001b[1;34m\u001b[0m\n\u001b[1;32m----> 1\u001b[1;33m desemp_reglog = performance_evaluation_report(clf, X_woe_test, \n\u001b[0m\u001b[0;32m      2\u001b[0m                                              \u001b[0my_test\u001b[0m\u001b[1;33m,\u001b[0m \u001b[0mlabels\u001b[0m\u001b[1;33m=\u001b[0m\u001b[0mLABELS\u001b[0m\u001b[1;33m,\u001b[0m\u001b[1;33m\u001b[0m\u001b[1;33m\u001b[0m\u001b[0m\n\u001b[0;32m      3\u001b[0m                                              show_plot=True)\n",
      "\u001b[1;32m<ipython-input-441-8523210f988b>\u001b[0m in \u001b[0;36mperformance_evaluation_report\u001b[1;34m(model, X_test, y_test, show_plot, labels, show_pr_curve)\u001b[0m\n\u001b[0;32m     48\u001b[0m \u001b[1;33m\u001b[0m\u001b[0m\n\u001b[0;32m     49\u001b[0m         fig, ax = plt.subplots(\n\u001b[1;32m---> 50\u001b[1;33m             1, N_SUBPLOTS, figsize=(PLOT_WIDTH, PLOT_HEIGHT))\n\u001b[0m\u001b[0;32m     51\u001b[0m         \u001b[0mfig\u001b[0m\u001b[1;33m.\u001b[0m\u001b[0msuptitle\u001b[0m\u001b[1;33m(\u001b[0m\u001b[1;34m'Performance Evaluation'\u001b[0m\u001b[1;33m,\u001b[0m \u001b[0mfontsize\u001b[0m\u001b[1;33m=\u001b[0m\u001b[1;36m16\u001b[0m\u001b[1;33m)\u001b[0m\u001b[1;33m\u001b[0m\u001b[1;33m\u001b[0m\u001b[0m\n\u001b[0;32m     52\u001b[0m \u001b[1;33m\u001b[0m\u001b[0m\n",
      "\u001b[1;31mUnboundLocalError\u001b[0m: local variable 'N_SUBPLOTS' referenced before assignment"
     ]
    }
   ],
   "source": [
    "desemp_reglog = performance_evaluation_report(clf, X_woe_test, \n",
    "                                             y_test, labels=LABELS, \n",
    "                                             show_plot=True)"
   ]
  },
  {
   "cell_type": "code",
   "execution_count": null,
   "id": "a35b401a",
   "metadata": {},
   "outputs": [],
   "source": []
  }
 ],
 "metadata": {
  "kernelspec": {
   "display_name": "Python 3",
   "language": "python",
   "name": "python3"
  },
  "language_info": {
   "codemirror_mode": {
    "name": "ipython",
    "version": 3
   },
   "file_extension": ".py",
   "mimetype": "text/x-python",
   "name": "python",
   "nbconvert_exporter": "python",
   "pygments_lexer": "ipython3",
   "version": "3.9.4"
  }
 },
 "nbformat": 4,
 "nbformat_minor": 5
}
