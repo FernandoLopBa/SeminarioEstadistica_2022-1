{
 "cells": [
  {
   "cell_type": "code",
   "execution_count": 1,
   "id": "8de4f384",
   "metadata": {},
   "outputs": [],
   "source": [
    "import pandas as pd\n",
    "from sklearn.model_selection import train_test_split \n",
    "from sklearn.linear_model import LogisticRegression\n",
    "from sklearn.metrics import roc_curve, auc\n",
    "from pylab import*\n",
    "import seaborn as sns"
   ]
  },
  {
   "cell_type": "code",
   "execution_count": 2,
   "id": "9a34eec9",
   "metadata": {},
   "outputs": [],
   "source": [
    "ruta=\"./\"\n",
    "base=\"ini_final.csv\"\n",
    "bd=pd.read_csv(ruta+base)\n",
    "bd.Comp_final=bd.Comp_final.replace((0,1),(1,0))"
   ]
  },
  {
   "cell_type": "code",
   "execution_count": 3,
   "id": "e3fa67ba",
   "metadata": {},
   "outputs": [
    {
     "data": {
      "text/html": [
       "<div>\n",
       "<style scoped>\n",
       "    .dataframe tbody tr th:only-of-type {\n",
       "        vertical-align: middle;\n",
       "    }\n",
       "\n",
       "    .dataframe tbody tr th {\n",
       "        vertical-align: top;\n",
       "    }\n",
       "\n",
       "    .dataframe thead th {\n",
       "        text-align: right;\n",
       "    }\n",
       "</style>\n",
       "<table border=\"1\" class=\"dataframe\">\n",
       "  <thead>\n",
       "    <tr style=\"text-align: right;\">\n",
       "      <th></th>\n",
       "      <th>comp_interno1</th>\n",
       "      <th>comp_interno2</th>\n",
       "      <th>comp_interno4</th>\n",
       "      <th>categoria1</th>\n",
       "      <th>categoria3</th>\n",
       "      <th>comp_mixto1</th>\n",
       "      <th>comp_externo1</th>\n",
       "      <th>comp_externo2</th>\n",
       "      <th>comp_externo3</th>\n",
       "      <th>Comp_final</th>\n",
       "    </tr>\n",
       "  </thead>\n",
       "  <tbody>\n",
       "    <tr>\n",
       "      <th>0</th>\n",
       "      <td>0.000000</td>\n",
       "      <td>b'1'</td>\n",
       "      <td>45</td>\n",
       "      <td>1</td>\n",
       "      <td>173</td>\n",
       "      <td>0.33334</td>\n",
       "      <td>40.579710</td>\n",
       "      <td>2.872738</td>\n",
       "      <td>62</td>\n",
       "      <td>0</td>\n",
       "    </tr>\n",
       "    <tr>\n",
       "      <th>1</th>\n",
       "      <td>0.000000</td>\n",
       "      <td>b'1'</td>\n",
       "      <td>45</td>\n",
       "      <td>1</td>\n",
       "      <td>170</td>\n",
       "      <td>0.29186</td>\n",
       "      <td>-10.000000</td>\n",
       "      <td>-10.000000</td>\n",
       "      <td>119</td>\n",
       "      <td>0</td>\n",
       "    </tr>\n",
       "    <tr>\n",
       "      <th>2</th>\n",
       "      <td>0.000000</td>\n",
       "      <td>b'1'</td>\n",
       "      <td>59</td>\n",
       "      <td>3</td>\n",
       "      <td>159</td>\n",
       "      <td>0.29112</td>\n",
       "      <td>349.275362</td>\n",
       "      <td>34.616490</td>\n",
       "      <td>94</td>\n",
       "      <td>0</td>\n",
       "    </tr>\n",
       "    <tr>\n",
       "      <th>3</th>\n",
       "      <td>2026.342452</td>\n",
       "      <td>b'1'</td>\n",
       "      <td>67</td>\n",
       "      <td>2</td>\n",
       "      <td>146</td>\n",
       "      <td>0.27318</td>\n",
       "      <td>276.811594</td>\n",
       "      <td>27.434645</td>\n",
       "      <td>125</td>\n",
       "      <td>0</td>\n",
       "    </tr>\n",
       "    <tr>\n",
       "      <th>4</th>\n",
       "      <td>3546.099291</td>\n",
       "      <td>b'1'</td>\n",
       "      <td>70</td>\n",
       "      <td>1</td>\n",
       "      <td>160</td>\n",
       "      <td>0.32988</td>\n",
       "      <td>640.579710</td>\n",
       "      <td>63.487504</td>\n",
       "      <td>81</td>\n",
       "      <td>0</td>\n",
       "    </tr>\n",
       "  </tbody>\n",
       "</table>\n",
       "</div>"
      ],
      "text/plain": [
       "   comp_interno1 comp_interno2  comp_interno4  categoria1  categoria3  \\\n",
       "0       0.000000          b'1'             45           1         173   \n",
       "1       0.000000          b'1'             45           1         170   \n",
       "2       0.000000          b'1'             59           3         159   \n",
       "3    2026.342452          b'1'             67           2         146   \n",
       "4    3546.099291          b'1'             70           1         160   \n",
       "\n",
       "   comp_mixto1  comp_externo1  comp_externo2  comp_externo3  Comp_final  \n",
       "0      0.33334      40.579710       2.872738             62           0  \n",
       "1      0.29186     -10.000000     -10.000000            119           0  \n",
       "2      0.29112     349.275362      34.616490             94           0  \n",
       "3      0.27318     276.811594      27.434645            125           0  \n",
       "4      0.32988     640.579710      63.487504             81           0  "
      ]
     },
     "execution_count": 3,
     "metadata": {},
     "output_type": "execute_result"
    }
   ],
   "source": [
    "bd.head()"
   ]
  },
  {
   "cell_type": "code",
   "execution_count": 4,
   "id": "38e8a7e8",
   "metadata": {},
   "outputs": [
    {
     "name": "stdout",
     "output_type": "stream",
     "text": [
      "<class 'pandas.core.frame.DataFrame'>\n",
      "RangeIndex: 35131 entries, 0 to 35130\n",
      "Data columns (total 10 columns):\n",
      " #   Column         Non-Null Count  Dtype  \n",
      "---  ------         --------------  -----  \n",
      " 0   comp_interno1  35131 non-null  float64\n",
      " 1   comp_interno2  35131 non-null  object \n",
      " 2   comp_interno4  35131 non-null  int64  \n",
      " 3   categoria1     35131 non-null  int64  \n",
      " 4   categoria3     35131 non-null  int64  \n",
      " 5   comp_mixto1    35131 non-null  float64\n",
      " 6   comp_externo1  35131 non-null  float64\n",
      " 7   comp_externo2  35131 non-null  float64\n",
      " 8   comp_externo3  35131 non-null  int64  \n",
      " 9   Comp_final     35131 non-null  int64  \n",
      "dtypes: float64(4), int64(5), object(1)\n",
      "memory usage: 2.7+ MB\n"
     ]
    }
   ],
   "source": [
    "bd.info()"
   ]
  },
  {
   "cell_type": "code",
   "execution_count": 5,
   "id": "3a011bc9",
   "metadata": {},
   "outputs": [
    {
     "data": {
      "text/plain": [
       "0    0.993425\n",
       "1    0.006575\n",
       "Name: Comp_final, dtype: float64"
      ]
     },
     "execution_count": 5,
     "metadata": {},
     "output_type": "execute_result"
    }
   ],
   "source": [
    "bd['Comp_final'].value_counts(normalize=True)"
   ]
  },
  {
   "cell_type": "code",
   "execution_count": 6,
   "id": "f22ca697",
   "metadata": {},
   "outputs": [
    {
     "data": {
      "text/plain": [
       "b'1'    0.701546\n",
       "b'0'    0.298454\n",
       "Name: comp_interno2, dtype: float64"
      ]
     },
     "execution_count": 6,
     "metadata": {},
     "output_type": "execute_result"
    }
   ],
   "source": [
    "bd['comp_interno2'].value_counts(normalize=True)"
   ]
  },
  {
   "cell_type": "code",
   "execution_count": 7,
   "id": "50cf3fa4",
   "metadata": {},
   "outputs": [
    {
     "data": {
      "text/plain": [
       "75    0.046882\n",
       "48    0.039709\n",
       "51    0.039282\n",
       "50    0.038883\n",
       "47    0.038200\n",
       "49    0.037972\n",
       "52    0.037915\n",
       "53    0.036606\n",
       "46    0.035923\n",
       "54    0.034585\n",
       "55    0.033418\n",
       "45    0.032991\n",
       "56    0.030827\n",
       "57    0.030144\n",
       "58    0.029660\n",
       "44    0.029575\n",
       "59    0.027981\n",
       "60    0.026273\n",
       "62    0.024964\n",
       "43    0.024366\n",
       "61    0.024138\n",
       "64    0.022971\n",
       "63    0.021662\n",
       "74    0.021320\n",
       "71    0.021292\n",
       "65    0.020751\n",
       "66    0.020523\n",
       "67    0.019726\n",
       "73    0.019071\n",
       "72    0.019043\n",
       "70    0.018502\n",
       "42    0.018161\n",
       "68    0.018018\n",
       "69    0.017791\n",
       "41    0.013521\n",
       "40    0.009080\n",
       "39    0.006405\n",
       "38    0.003160\n",
       "37    0.002363\n",
       "36    0.001651\n",
       "76    0.001309\n",
       "35    0.000854\n",
       "34    0.000655\n",
       "33    0.000541\n",
       "32    0.000285\n",
       "77    0.000285\n",
       "30    0.000256\n",
       "31    0.000199\n",
       "27    0.000171\n",
       "78    0.000057\n",
       "29    0.000028\n",
       "79    0.000028\n",
       "28    0.000028\n",
       "Name: comp_interno4, dtype: float64"
      ]
     },
     "execution_count": 7,
     "metadata": {},
     "output_type": "execute_result"
    }
   ],
   "source": [
    "bd['comp_interno4'].value_counts(normalize=True)"
   ]
  },
  {
   "cell_type": "code",
   "execution_count": 8,
   "id": "895d6c92",
   "metadata": {},
   "outputs": [
    {
     "data": {
      "text/plain": [
       "1    0.455410\n",
       "2    0.294839\n",
       "3    0.217472\n",
       "4    0.017506\n",
       "6    0.008938\n",
       "5    0.005835\n",
       "Name: categoria1, dtype: float64"
      ]
     },
     "execution_count": 8,
     "metadata": {},
     "output_type": "execute_result"
    }
   ],
   "source": [
    "bd['categoria1'].value_counts(normalize=True)"
   ]
  },
  {
   "cell_type": "code",
   "execution_count": 9,
   "id": "cc00afeb",
   "metadata": {},
   "outputs": [
    {
     "data": {
      "text/plain": [
       "146    0.145086\n",
       "164    0.137286\n",
       "159    0.102758\n",
       "160    0.076741\n",
       "156    0.043124\n",
       "151    0.036122\n",
       "169    0.035951\n",
       "170    0.035951\n",
       "166    0.033446\n",
       "154    0.033133\n",
       "167    0.031482\n",
       "175    0.030173\n",
       "148    0.025561\n",
       "147    0.025448\n",
       "168    0.025220\n",
       "173    0.021235\n",
       "176    0.019527\n",
       "171    0.019299\n",
       "162    0.017791\n",
       "161    0.015143\n",
       "163    0.011187\n",
       "158    0.010560\n",
       "155    0.010020\n",
       "153    0.009621\n",
       "149    0.008966\n",
       "152    0.008397\n",
       "177    0.008027\n",
       "157    0.007145\n",
       "172    0.005864\n",
       "165    0.005095\n",
       "150    0.003103\n",
       "174    0.001537\n",
       "Name: categoria3, dtype: float64"
      ]
     },
     "execution_count": 9,
     "metadata": {},
     "output_type": "execute_result"
    }
   ],
   "source": [
    "bd['categoria3'].value_counts(normalize=True)"
   ]
  },
  {
   "cell_type": "code",
   "execution_count": 10,
   "id": "d38b5561",
   "metadata": {},
   "outputs": [
    {
     "data": {
      "text/plain": [
       "-609    0.026131\n",
       " 132    0.024764\n",
       " 128    0.020751\n",
       " 129    0.019954\n",
       " 131    0.019214\n",
       "          ...   \n",
       "-89     0.000028\n",
       "-76     0.000028\n",
       " 159    0.000028\n",
       "-73     0.000028\n",
       "-80     0.000028\n",
       "Name: comp_externo3, Length: 232, dtype: float64"
      ]
     },
     "execution_count": 10,
     "metadata": {},
     "output_type": "execute_result"
    }
   ],
   "source": [
    "bd['comp_externo3'].value_counts(normalize=True)"
   ]
  },
  {
   "cell_type": "code",
   "execution_count": 11,
   "id": "77e079cb",
   "metadata": {},
   "outputs": [
    {
     "name": "stdout",
     "output_type": "stream",
     "text": [
      "<class 'pandas.core.frame.DataFrame'>\n",
      "RangeIndex: 35131 entries, 0 to 35130\n",
      "Data columns (total 10 columns):\n",
      " #   Column         Non-Null Count  Dtype  \n",
      "---  ------         --------------  -----  \n",
      " 0   comp_interno1  35131 non-null  float64\n",
      " 1   comp_interno2  35131 non-null  object \n",
      " 2   comp_interno4  35131 non-null  int64  \n",
      " 3   categoria1     35131 non-null  int64  \n",
      " 4   categoria3     35131 non-null  int64  \n",
      " 5   comp_mixto1    35131 non-null  float64\n",
      " 6   comp_externo1  35131 non-null  float64\n",
      " 7   comp_externo2  35131 non-null  float64\n",
      " 8   comp_externo3  35131 non-null  int64  \n",
      " 9   Comp_final     35131 non-null  int64  \n",
      "dtypes: float64(4), int64(5), object(1)\n",
      "memory usage: 2.7+ MB\n"
     ]
    }
   ],
   "source": [
    "bd.info()"
   ]
  },
  {
   "cell_type": "code",
   "execution_count": 12,
   "id": "7f2c8d6a",
   "metadata": {},
   "outputs": [],
   "source": [
    "#Hacemos validación y test\n",
    "X = bd.iloc[:,0:8].values\n",
    "y = bd.iloc[:,9].values"
   ]
  },
  {
   "cell_type": "code",
   "execution_count": 13,
   "id": "257c63da",
   "metadata": {},
   "outputs": [
    {
     "data": {
      "text/plain": [
       "array([0, 0, 0, ..., 0, 0, 0])"
      ]
     },
     "execution_count": 13,
     "metadata": {},
     "output_type": "execute_result"
    }
   ],
   "source": [
    "y"
   ]
  },
  {
   "cell_type": "code",
   "execution_count": 14,
   "id": "aca0a938",
   "metadata": {},
   "outputs": [],
   "source": [
    "from optbinning import OptimalBinning"
   ]
  },
  {
   "cell_type": "code",
   "execution_count": 15,
   "id": "ff91ebdc",
   "metadata": {},
   "outputs": [],
   "source": [
    "train, test = train_test_split(bd, test_size = 0.30, random_state = 100) "
   ]
  },
  {
   "cell_type": "code",
   "execution_count": 16,
   "id": "0f1b80b4",
   "metadata": {},
   "outputs": [
    {
     "name": "stdout",
     "output_type": "stream",
     "text": [
      "<class 'pandas.core.frame.DataFrame'>\n",
      "Int64Index: 24591 entries, 29340 to 14147\n",
      "Data columns (total 10 columns):\n",
      " #   Column         Non-Null Count  Dtype  \n",
      "---  ------         --------------  -----  \n",
      " 0   comp_interno1  24591 non-null  float64\n",
      " 1   comp_interno2  24591 non-null  object \n",
      " 2   comp_interno4  24591 non-null  int64  \n",
      " 3   categoria1     24591 non-null  int64  \n",
      " 4   categoria3     24591 non-null  int64  \n",
      " 5   comp_mixto1    24591 non-null  float64\n",
      " 6   comp_externo1  24591 non-null  float64\n",
      " 7   comp_externo2  24591 non-null  float64\n",
      " 8   comp_externo3  24591 non-null  int64  \n",
      " 9   Comp_final     24591 non-null  int64  \n",
      "dtypes: float64(4), int64(5), object(1)\n",
      "memory usage: 2.1+ MB\n"
     ]
    }
   ],
   "source": [
    "train.info()"
   ]
  },
  {
   "cell_type": "code",
   "execution_count": 17,
   "id": "a62a6805",
   "metadata": {},
   "outputs": [
    {
     "name": "stdout",
     "output_type": "stream",
     "text": [
      "<class 'pandas.core.frame.DataFrame'>\n",
      "Int64Index: 10540 entries, 11397 to 33289\n",
      "Data columns (total 10 columns):\n",
      " #   Column         Non-Null Count  Dtype  \n",
      "---  ------         --------------  -----  \n",
      " 0   comp_interno1  10540 non-null  float64\n",
      " 1   comp_interno2  10540 non-null  object \n",
      " 2   comp_interno4  10540 non-null  int64  \n",
      " 3   categoria1     10540 non-null  int64  \n",
      " 4   categoria3     10540 non-null  int64  \n",
      " 5   comp_mixto1    10540 non-null  float64\n",
      " 6   comp_externo1  10540 non-null  float64\n",
      " 7   comp_externo2  10540 non-null  float64\n",
      " 8   comp_externo3  10540 non-null  int64  \n",
      " 9   Comp_final     10540 non-null  int64  \n",
      "dtypes: float64(4), int64(5), object(1)\n",
      "memory usage: 905.8+ KB\n"
     ]
    }
   ],
   "source": [
    "test.info()"
   ]
  },
  {
   "cell_type": "code",
   "execution_count": 18,
   "id": "e5949321",
   "metadata": {},
   "outputs": [],
   "source": [
    "y = train.Comp_final"
   ]
  },
  {
   "cell_type": "code",
   "execution_count": 19,
   "id": "9c49f71b",
   "metadata": {},
   "outputs": [],
   "source": [
    "optb_comp_interno1 = OptimalBinning(name=\"comp_interno1\", dtype=\"numerical\", solver=\"cp\")\n",
    "optb_comp_interno2 = OptimalBinning(name=\"comp_interno2\", dtype=\"categorical\", solver=\"mip\")\n",
    "optb_comp_interno4 = OptimalBinning(name=\"comp_interno4\", dtype=\"categorical\", solver=\"mip\")\n",
    "optb_categoria3 = OptimalBinning(name=\"categoria3\", dtype=\"categorical\", solver=\"mip\")\n",
    "optb_categoria1 = OptimalBinning(name=\"categoria1\", dtype=\"categorical\", solver=\"mip\")\n",
    "optb_comp_mixto1 = OptimalBinning(name=\"comp_mixto1\", dtype=\"numerical\", solver=\"cp\")\n",
    "optb_comp_externo1 = OptimalBinning(name=\"comp_externo1\", dtype=\"numerical\", solver=\"cp\")\n",
    "optb_comp_externo2 = OptimalBinning(name=\"comp_externo2\", dtype=\"numerical\", solver=\"cp\")\n",
    "optb_comp_externo3 = OptimalBinning(name=\"comp_externo3\", dtype=\"numerical\", solver=\"cp\")"
   ]
  },
  {
   "cell_type": "code",
   "execution_count": 20,
   "id": "8a766819",
   "metadata": {},
   "outputs": [
    {
     "data": {
      "text/plain": [
       "OptimalBinning(name='comp_externo3')"
      ]
     },
     "execution_count": 20,
     "metadata": {},
     "output_type": "execute_result"
    }
   ],
   "source": [
    "optb_comp_interno1.fit(train[\"comp_interno1\"].values, y)\n",
    "optb_comp_interno2.fit(train[\"comp_interno2\"].values, y)\n",
    "optb_comp_interno4.fit(train[\"comp_interno4\"].values, y)\n",
    "optb_categoria3.fit(train[\"categoria3\"].values, y)\n",
    "optb_categoria1.fit(train[\"categoria1\"].values, y)\n",
    "optb_comp_mixto1.fit(train[\"comp_mixto1\"].values, y)\n",
    "optb_comp_externo1.fit(train[\"comp_externo1\"].values, y)\n",
    "optb_comp_externo2.fit(train[\"comp_externo2\"].values, y)\n",
    "optb_comp_externo3.fit(train[\"comp_externo3\"].values, y)"
   ]
  },
  {
   "cell_type": "code",
   "execution_count": 21,
   "id": "773b2b06",
   "metadata": {},
   "outputs": [
    {
     "data": {
      "text/plain": [
       "'Binning de comp_interno1:'"
      ]
     },
     "metadata": {},
     "output_type": "display_data"
    },
    {
     "data": {
      "text/plain": [
       "array([  98.78419495, 1306.99084473, 2059.77716064])"
      ]
     },
     "metadata": {},
     "output_type": "display_data"
    }
   ],
   "source": [
    "display(\"Binning de comp_interno1:\",optb_comp_interno1.splits)"
   ]
  },
  {
   "cell_type": "code",
   "execution_count": 22,
   "id": "092d41ed",
   "metadata": {},
   "outputs": [
    {
     "data": {
      "text/plain": [
       "'Binning de comp_interno2:'"
      ]
     },
     "metadata": {},
     "output_type": "display_data"
    },
    {
     "data": {
      "text/plain": [
       "[array([27, 77, 37, 36, 34, 78, 32, 30, 33, 29, 74, 73, 58]),\n",
       " array([46, 43]),\n",
       " array([65, 48]),\n",
       " array([49, 53, 72, 69]),\n",
       " array([55, 75]),\n",
       " array([47, 71]),\n",
       " array([63, 66, 41]),\n",
       " array([51, 67]),\n",
       " array([56, 62, 70, 44]),\n",
       " array([50, 60, 54]),\n",
       " array([57, 59]),\n",
       " array([52, 42]),\n",
       " array([61, 64, 45, 40, 68, 38, 76, 39, 35, 31])]"
      ]
     },
     "metadata": {},
     "output_type": "display_data"
    }
   ],
   "source": [
    "display(\"Binning de comp_interno2:\",optb_comp_interno4.splits)"
   ]
  },
  {
   "cell_type": "code",
   "execution_count": 23,
   "id": "604d9fbf",
   "metadata": {},
   "outputs": [
    {
     "data": {
      "text/plain": [
       "'Binning de comp_interno4:'"
      ]
     },
     "metadata": {},
     "output_type": "display_data"
    },
    {
     "data": {
      "text/plain": [
       "[array([27, 77, 37, 36, 34, 78, 32, 30, 33, 29, 74, 73, 58]),\n",
       " array([46, 43]),\n",
       " array([65, 48]),\n",
       " array([49, 53, 72, 69]),\n",
       " array([55, 75]),\n",
       " array([47, 71]),\n",
       " array([63, 66, 41]),\n",
       " array([51, 67]),\n",
       " array([56, 62, 70, 44]),\n",
       " array([50, 60, 54]),\n",
       " array([57, 59]),\n",
       " array([52, 42]),\n",
       " array([61, 64, 45, 40, 68, 38, 76, 39, 35, 31])]"
      ]
     },
     "metadata": {},
     "output_type": "display_data"
    }
   ],
   "source": [
    "display(\"Binning de comp_interno4:\",optb_comp_interno4.splits)"
   ]
  },
  {
   "cell_type": "code",
   "execution_count": 24,
   "id": "226e0a65",
   "metadata": {},
   "outputs": [
    {
     "data": {
      "text/plain": [
       "'Binning de categoria1:'"
      ]
     },
     "metadata": {},
     "output_type": "display_data"
    },
    {
     "data": {
      "text/plain": [
       "[array([3]), array([6, 2, 4]), array([1, 5])]"
      ]
     },
     "metadata": {},
     "output_type": "display_data"
    }
   ],
   "source": [
    "display(\"Binning de categoria1:\",optb_categoria1.splits)"
   ]
  },
  {
   "cell_type": "code",
   "execution_count": 25,
   "id": "72780cca",
   "metadata": {},
   "outputs": [
    {
     "data": {
      "text/plain": [
       "'Binning de categoria3:'"
      ]
     },
     "metadata": {},
     "output_type": "display_data"
    },
    {
     "data": {
      "text/plain": [
       "[array([161, 174, 172, 150, 177, 170, 151]),\n",
       " array([147, 153, 155, 146, 171]),\n",
       " array([149, 156]),\n",
       " array([148, 166]),\n",
       " array([164]),\n",
       " array([167, 176]),\n",
       " array([159, 169]),\n",
       " array([154, 162]),\n",
       " array([163, 175, 168, 157, 173]),\n",
       " array([160, 165, 158, 152])]"
      ]
     },
     "metadata": {},
     "output_type": "display_data"
    }
   ],
   "source": [
    "display(\"Binning de categoria3:\",optb_categoria3.splits)"
   ]
  },
  {
   "cell_type": "code",
   "execution_count": 26,
   "id": "94811e60",
   "metadata": {},
   "outputs": [
    {
     "data": {
      "text/plain": [
       "'Binning de comp_mixto1:'"
      ]
     },
     "metadata": {},
     "output_type": "display_data"
    },
    {
     "data": {
      "text/plain": [
       "array([0.32001999, 0.33009   , 0.33709   , 0.35287   , 0.35999   ])"
      ]
     },
     "metadata": {},
     "output_type": "display_data"
    }
   ],
   "source": [
    "display(\"Binning de comp_mixto1:\",optb_comp_mixto1.splits)"
   ]
  },
  {
   "cell_type": "code",
   "execution_count": 27,
   "id": "6eda47de",
   "metadata": {},
   "outputs": [
    {
     "data": {
      "text/plain": [
       "'Binning de comp_externo1:'"
      ]
     },
     "metadata": {},
     "output_type": "display_data"
    },
    {
     "data": {
      "text/plain": [
       "array([ 51.53913116, 115.94782639, 217.53623199, 398.59275818,\n",
       "       469.85507202, 585.21740723])"
      ]
     },
     "metadata": {},
     "output_type": "display_data"
    }
   ],
   "source": [
    "display(\"Binning de comp_externo1:\",optb_comp_externo1.splits)"
   ]
  },
  {
   "cell_type": "code",
   "execution_count": 28,
   "id": "ae59e47a",
   "metadata": {},
   "outputs": [
    {
     "data": {
      "text/plain": [
       "'Binning de comp_externo2:'"
      ]
     },
     "metadata": {},
     "output_type": "display_data"
    },
    {
     "data": {
      "text/plain": [
       "array([3.30364797e-03, 5.89457059e+00, 1.14913816e+01, 1.60876188e+01,\n",
       "       2.15598965e+01, 3.95288715e+01, 5.54222908e+01, 7.18182983e+01])"
      ]
     },
     "metadata": {},
     "output_type": "display_data"
    }
   ],
   "source": [
    "display(\"Binning de comp_externo2:\",optb_comp_externo2.splits)"
   ]
  },
  {
   "cell_type": "code",
   "execution_count": 29,
   "id": "d0683b79",
   "metadata": {},
   "outputs": [
    {
     "data": {
      "text/plain": [
       "'Binning de comp_externo3:'"
      ]
     },
     "metadata": {},
     "output_type": "display_data"
    },
    {
     "data": {
      "text/plain": [
       "array([ 50.5,  63.5,  78.5,  90.5, 103.5, 119.5, 124.5])"
      ]
     },
     "metadata": {},
     "output_type": "display_data"
    }
   ],
   "source": [
    "display(\"Binning de comp_externo3:\",optb_comp_externo3.splits)"
   ]
  },
  {
   "cell_type": "code",
   "execution_count": 30,
   "id": "25569a0e",
   "metadata": {},
   "outputs": [],
   "source": [
    "comp_interno1_table = optb_comp_interno1.binning_table\n",
    "comp_interno2_table = optb_comp_interno2.binning_table\n",
    "comp_interno4_table = optb_comp_interno4.binning_table\n",
    "categoria1_table = optb_categoria1.binning_table\n",
    "categoria3_table = optb_categoria3.binning_table\n",
    "comp_mixto1_table = optb_comp_mixto1.binning_table\n",
    "comp_externo1_table = optb_comp_externo1.binning_table\n",
    "comp_externo2_table = optb_comp_externo2.binning_table\n",
    "comp_externo3_table = optb_comp_externo3.binning_table"
   ]
  },
  {
   "cell_type": "code",
   "execution_count": 31,
   "id": "b2a23163",
   "metadata": {},
   "outputs": [
    {
     "data": {
      "text/html": [
       "<div>\n",
       "<style scoped>\n",
       "    .dataframe tbody tr th:only-of-type {\n",
       "        vertical-align: middle;\n",
       "    }\n",
       "\n",
       "    .dataframe tbody tr th {\n",
       "        vertical-align: top;\n",
       "    }\n",
       "\n",
       "    .dataframe thead th {\n",
       "        text-align: right;\n",
       "    }\n",
       "</style>\n",
       "<table border=\"1\" class=\"dataframe\">\n",
       "  <thead>\n",
       "    <tr style=\"text-align: right;\">\n",
       "      <th></th>\n",
       "      <th>Bin</th>\n",
       "      <th>Count</th>\n",
       "      <th>Count (%)</th>\n",
       "      <th>Non-event</th>\n",
       "      <th>Event</th>\n",
       "      <th>Event rate</th>\n",
       "      <th>WoE</th>\n",
       "      <th>IV</th>\n",
       "      <th>JS</th>\n",
       "    </tr>\n",
       "  </thead>\n",
       "  <tbody>\n",
       "    <tr>\n",
       "      <th>0</th>\n",
       "      <td>[-inf, 98.78)</td>\n",
       "      <td>15725</td>\n",
       "      <td>0.639462</td>\n",
       "      <td>15624</td>\n",
       "      <td>101</td>\n",
       "      <td>0.006423</td>\n",
       "      <td>0.025513</td>\n",
       "      <td>0.000411</td>\n",
       "      <td>0.000051</td>\n",
       "    </tr>\n",
       "    <tr>\n",
       "      <th>1</th>\n",
       "      <td>[98.78, 1306.99)</td>\n",
       "      <td>4397</td>\n",
       "      <td>0.178805</td>\n",
       "      <td>4365</td>\n",
       "      <td>32</td>\n",
       "      <td>0.007278</td>\n",
       "      <td>-0.100292</td>\n",
       "      <td>0.001890</td>\n",
       "      <td>0.000236</td>\n",
       "    </tr>\n",
       "    <tr>\n",
       "      <th>2</th>\n",
       "      <td>[1306.99, 2059.78)</td>\n",
       "      <td>1889</td>\n",
       "      <td>0.076817</td>\n",
       "      <td>1872</td>\n",
       "      <td>17</td>\n",
       "      <td>0.008999</td>\n",
       "      <td>-0.314381</td>\n",
       "      <td>0.008899</td>\n",
       "      <td>0.001108</td>\n",
       "    </tr>\n",
       "    <tr>\n",
       "      <th>3</th>\n",
       "      <td>[2059.78, inf)</td>\n",
       "      <td>2580</td>\n",
       "      <td>0.104916</td>\n",
       "      <td>2568</td>\n",
       "      <td>12</td>\n",
       "      <td>0.004651</td>\n",
       "      <td>0.350046</td>\n",
       "      <td>0.010868</td>\n",
       "      <td>0.001352</td>\n",
       "    </tr>\n",
       "    <tr>\n",
       "      <th>4</th>\n",
       "      <td>Special</td>\n",
       "      <td>0</td>\n",
       "      <td>0.000000</td>\n",
       "      <td>0</td>\n",
       "      <td>0</td>\n",
       "      <td>0.000000</td>\n",
       "      <td>0.0</td>\n",
       "      <td>0.000000</td>\n",
       "      <td>0.000000</td>\n",
       "    </tr>\n",
       "    <tr>\n",
       "      <th>5</th>\n",
       "      <td>Missing</td>\n",
       "      <td>0</td>\n",
       "      <td>0.000000</td>\n",
       "      <td>0</td>\n",
       "      <td>0</td>\n",
       "      <td>0.000000</td>\n",
       "      <td>0.0</td>\n",
       "      <td>0.000000</td>\n",
       "      <td>0.000000</td>\n",
       "    </tr>\n",
       "    <tr>\n",
       "      <th>Totals</th>\n",
       "      <td></td>\n",
       "      <td>24591</td>\n",
       "      <td>1.000000</td>\n",
       "      <td>24429</td>\n",
       "      <td>162</td>\n",
       "      <td>0.006588</td>\n",
       "      <td></td>\n",
       "      <td>0.022069</td>\n",
       "      <td>0.002747</td>\n",
       "    </tr>\n",
       "  </tbody>\n",
       "</table>\n",
       "</div>"
      ],
      "text/plain": [
       "                       Bin  Count  Count (%)  Non-event  Event  Event rate  \\\n",
       "0            [-inf, 98.78)  15725   0.639462      15624    101    0.006423   \n",
       "1         [98.78, 1306.99)   4397   0.178805       4365     32    0.007278   \n",
       "2       [1306.99, 2059.78)   1889   0.076817       1872     17    0.008999   \n",
       "3           [2059.78, inf)   2580   0.104916       2568     12    0.004651   \n",
       "4                  Special      0   0.000000          0      0    0.000000   \n",
       "5                  Missing      0   0.000000          0      0    0.000000   \n",
       "Totals                      24591   1.000000      24429    162    0.006588   \n",
       "\n",
       "             WoE        IV        JS  \n",
       "0       0.025513  0.000411  0.000051  \n",
       "1      -0.100292  0.001890  0.000236  \n",
       "2      -0.314381  0.008899  0.001108  \n",
       "3       0.350046  0.010868  0.001352  \n",
       "4            0.0  0.000000  0.000000  \n",
       "5            0.0  0.000000  0.000000  \n",
       "Totals            0.022069  0.002747  "
      ]
     },
     "metadata": {},
     "output_type": "display_data"
    }
   ],
   "source": [
    "display(comp_interno1_table.build())"
   ]
  },
  {
   "cell_type": "code",
   "execution_count": 32,
   "id": "0d51b130",
   "metadata": {},
   "outputs": [
    {
     "data": {
      "text/html": [
       "<div>\n",
       "<style scoped>\n",
       "    .dataframe tbody tr th:only-of-type {\n",
       "        vertical-align: middle;\n",
       "    }\n",
       "\n",
       "    .dataframe tbody tr th {\n",
       "        vertical-align: top;\n",
       "    }\n",
       "\n",
       "    .dataframe thead th {\n",
       "        text-align: right;\n",
       "    }\n",
       "</style>\n",
       "<table border=\"1\" class=\"dataframe\">\n",
       "  <thead>\n",
       "    <tr style=\"text-align: right;\">\n",
       "      <th></th>\n",
       "      <th>Bin</th>\n",
       "      <th>Count</th>\n",
       "      <th>Count (%)</th>\n",
       "      <th>Non-event</th>\n",
       "      <th>Event</th>\n",
       "      <th>Event rate</th>\n",
       "      <th>WoE</th>\n",
       "      <th>IV</th>\n",
       "      <th>JS</th>\n",
       "    </tr>\n",
       "  </thead>\n",
       "  <tbody>\n",
       "    <tr>\n",
       "      <th>0</th>\n",
       "      <td>[-inf, 98.78)</td>\n",
       "      <td>15725</td>\n",
       "      <td>0.639462</td>\n",
       "      <td>15624</td>\n",
       "      <td>101</td>\n",
       "      <td>0.006423</td>\n",
       "      <td>0.025513</td>\n",
       "      <td>0.000411</td>\n",
       "      <td>0.000051</td>\n",
       "    </tr>\n",
       "    <tr>\n",
       "      <th>1</th>\n",
       "      <td>[98.78, 1306.99)</td>\n",
       "      <td>4397</td>\n",
       "      <td>0.178805</td>\n",
       "      <td>4365</td>\n",
       "      <td>32</td>\n",
       "      <td>0.007278</td>\n",
       "      <td>-0.100292</td>\n",
       "      <td>0.001890</td>\n",
       "      <td>0.000236</td>\n",
       "    </tr>\n",
       "    <tr>\n",
       "      <th>2</th>\n",
       "      <td>[1306.99, 2059.78)</td>\n",
       "      <td>1889</td>\n",
       "      <td>0.076817</td>\n",
       "      <td>1872</td>\n",
       "      <td>17</td>\n",
       "      <td>0.008999</td>\n",
       "      <td>-0.314381</td>\n",
       "      <td>0.008899</td>\n",
       "      <td>0.001108</td>\n",
       "    </tr>\n",
       "    <tr>\n",
       "      <th>3</th>\n",
       "      <td>[2059.78, inf)</td>\n",
       "      <td>2580</td>\n",
       "      <td>0.104916</td>\n",
       "      <td>2568</td>\n",
       "      <td>12</td>\n",
       "      <td>0.004651</td>\n",
       "      <td>0.350046</td>\n",
       "      <td>0.010868</td>\n",
       "      <td>0.001352</td>\n",
       "    </tr>\n",
       "    <tr>\n",
       "      <th>4</th>\n",
       "      <td>Special</td>\n",
       "      <td>0</td>\n",
       "      <td>0.000000</td>\n",
       "      <td>0</td>\n",
       "      <td>0</td>\n",
       "      <td>0.000000</td>\n",
       "      <td>0.0</td>\n",
       "      <td>0.000000</td>\n",
       "      <td>0.000000</td>\n",
       "    </tr>\n",
       "    <tr>\n",
       "      <th>5</th>\n",
       "      <td>Missing</td>\n",
       "      <td>0</td>\n",
       "      <td>0.000000</td>\n",
       "      <td>0</td>\n",
       "      <td>0</td>\n",
       "      <td>0.000000</td>\n",
       "      <td>0.0</td>\n",
       "      <td>0.000000</td>\n",
       "      <td>0.000000</td>\n",
       "    </tr>\n",
       "    <tr>\n",
       "      <th>Totals</th>\n",
       "      <td></td>\n",
       "      <td>24591</td>\n",
       "      <td>1.000000</td>\n",
       "      <td>24429</td>\n",
       "      <td>162</td>\n",
       "      <td>0.006588</td>\n",
       "      <td></td>\n",
       "      <td>0.022069</td>\n",
       "      <td>0.002747</td>\n",
       "    </tr>\n",
       "  </tbody>\n",
       "</table>\n",
       "</div>"
      ],
      "text/plain": [
       "                       Bin  Count  Count (%)  Non-event  Event  Event rate  \\\n",
       "0            [-inf, 98.78)  15725   0.639462      15624    101    0.006423   \n",
       "1         [98.78, 1306.99)   4397   0.178805       4365     32    0.007278   \n",
       "2       [1306.99, 2059.78)   1889   0.076817       1872     17    0.008999   \n",
       "3           [2059.78, inf)   2580   0.104916       2568     12    0.004651   \n",
       "4                  Special      0   0.000000          0      0    0.000000   \n",
       "5                  Missing      0   0.000000          0      0    0.000000   \n",
       "Totals                      24591   1.000000      24429    162    0.006588   \n",
       "\n",
       "             WoE        IV        JS  \n",
       "0       0.025513  0.000411  0.000051  \n",
       "1      -0.100292  0.001890  0.000236  \n",
       "2      -0.314381  0.008899  0.001108  \n",
       "3       0.350046  0.010868  0.001352  \n",
       "4            0.0  0.000000  0.000000  \n",
       "5            0.0  0.000000  0.000000  \n",
       "Totals            0.022069  0.002747  "
      ]
     },
     "metadata": {},
     "output_type": "display_data"
    },
    {
     "data": {
      "text/html": [
       "<div>\n",
       "<style scoped>\n",
       "    .dataframe tbody tr th:only-of-type {\n",
       "        vertical-align: middle;\n",
       "    }\n",
       "\n",
       "    .dataframe tbody tr th {\n",
       "        vertical-align: top;\n",
       "    }\n",
       "\n",
       "    .dataframe thead th {\n",
       "        text-align: right;\n",
       "    }\n",
       "</style>\n",
       "<table border=\"1\" class=\"dataframe\">\n",
       "  <thead>\n",
       "    <tr style=\"text-align: right;\">\n",
       "      <th></th>\n",
       "      <th>Bin</th>\n",
       "      <th>Count</th>\n",
       "      <th>Count (%)</th>\n",
       "      <th>Non-event</th>\n",
       "      <th>Event</th>\n",
       "      <th>Event rate</th>\n",
       "      <th>WoE</th>\n",
       "      <th>IV</th>\n",
       "      <th>JS</th>\n",
       "    </tr>\n",
       "  </thead>\n",
       "  <tbody>\n",
       "    <tr>\n",
       "      <th>0</th>\n",
       "      <td>[b'1']</td>\n",
       "      <td>17186</td>\n",
       "      <td>0.698874</td>\n",
       "      <td>17074</td>\n",
       "      <td>112</td>\n",
       "      <td>0.006517</td>\n",
       "      <td>0.010883</td>\n",
       "      <td>0.000082</td>\n",
       "      <td>0.000010</td>\n",
       "    </tr>\n",
       "    <tr>\n",
       "      <th>1</th>\n",
       "      <td>[b'0']</td>\n",
       "      <td>7405</td>\n",
       "      <td>0.301126</td>\n",
       "      <td>7355</td>\n",
       "      <td>50</td>\n",
       "      <td>0.006752</td>\n",
       "      <td>-0.024817</td>\n",
       "      <td>0.000188</td>\n",
       "      <td>0.000023</td>\n",
       "    </tr>\n",
       "    <tr>\n",
       "      <th>2</th>\n",
       "      <td>Special</td>\n",
       "      <td>0</td>\n",
       "      <td>0.000000</td>\n",
       "      <td>0</td>\n",
       "      <td>0</td>\n",
       "      <td>0.000000</td>\n",
       "      <td>0.0</td>\n",
       "      <td>0.000000</td>\n",
       "      <td>0.000000</td>\n",
       "    </tr>\n",
       "    <tr>\n",
       "      <th>3</th>\n",
       "      <td>Missing</td>\n",
       "      <td>0</td>\n",
       "      <td>0.000000</td>\n",
       "      <td>0</td>\n",
       "      <td>0</td>\n",
       "      <td>0.000000</td>\n",
       "      <td>0.0</td>\n",
       "      <td>0.000000</td>\n",
       "      <td>0.000000</td>\n",
       "    </tr>\n",
       "    <tr>\n",
       "      <th>Totals</th>\n",
       "      <td></td>\n",
       "      <td>24591</td>\n",
       "      <td>1.000000</td>\n",
       "      <td>24429</td>\n",
       "      <td>162</td>\n",
       "      <td>0.006588</td>\n",
       "      <td></td>\n",
       "      <td>0.000270</td>\n",
       "      <td>0.000034</td>\n",
       "    </tr>\n",
       "  </tbody>\n",
       "</table>\n",
       "</div>"
      ],
      "text/plain": [
       "            Bin  Count  Count (%)  Non-event  Event  Event rate       WoE  \\\n",
       "0        [b'1']  17186   0.698874      17074    112    0.006517  0.010883   \n",
       "1        [b'0']   7405   0.301126       7355     50    0.006752 -0.024817   \n",
       "2       Special      0   0.000000          0      0    0.000000       0.0   \n",
       "3       Missing      0   0.000000          0      0    0.000000       0.0   \n",
       "Totals           24591   1.000000      24429    162    0.006588             \n",
       "\n",
       "              IV        JS  \n",
       "0       0.000082  0.000010  \n",
       "1       0.000188  0.000023  \n",
       "2       0.000000  0.000000  \n",
       "3       0.000000  0.000000  \n",
       "Totals  0.000270  0.000034  "
      ]
     },
     "metadata": {},
     "output_type": "display_data"
    },
    {
     "data": {
      "text/html": [
       "<div>\n",
       "<style scoped>\n",
       "    .dataframe tbody tr th:only-of-type {\n",
       "        vertical-align: middle;\n",
       "    }\n",
       "\n",
       "    .dataframe tbody tr th {\n",
       "        vertical-align: top;\n",
       "    }\n",
       "\n",
       "    .dataframe thead th {\n",
       "        text-align: right;\n",
       "    }\n",
       "</style>\n",
       "<table border=\"1\" class=\"dataframe\">\n",
       "  <thead>\n",
       "    <tr style=\"text-align: right;\">\n",
       "      <th></th>\n",
       "      <th>Bin</th>\n",
       "      <th>Count</th>\n",
       "      <th>Count (%)</th>\n",
       "      <th>Non-event</th>\n",
       "      <th>Event</th>\n",
       "      <th>Event rate</th>\n",
       "      <th>WoE</th>\n",
       "      <th>IV</th>\n",
       "      <th>JS</th>\n",
       "    </tr>\n",
       "  </thead>\n",
       "  <tbody>\n",
       "    <tr>\n",
       "      <th>0</th>\n",
       "      <td>[27, 77, 37, 36, 34, 78, 32, 30, 33, 29, 74, 7...</td>\n",
       "      <td>1874</td>\n",
       "      <td>0.076207</td>\n",
       "      <td>1870</td>\n",
       "      <td>4</td>\n",
       "      <td>0.002134</td>\n",
       "      <td>1.131469</td>\n",
       "      <td>0.058675</td>\n",
       "      <td>0.006967</td>\n",
       "    </tr>\n",
       "    <tr>\n",
       "      <th>1</th>\n",
       "      <td>[46, 43]</td>\n",
       "      <td>1499</td>\n",
       "      <td>0.060957</td>\n",
       "      <td>1494</td>\n",
       "      <td>5</td>\n",
       "      <td>0.003336</td>\n",
       "      <td>0.683845</td>\n",
       "      <td>0.020715</td>\n",
       "      <td>0.002540</td>\n",
       "    </tr>\n",
       "    <tr>\n",
       "      <th>2</th>\n",
       "      <td>[65, 48]</td>\n",
       "      <td>1486</td>\n",
       "      <td>0.060429</td>\n",
       "      <td>1480</td>\n",
       "      <td>6</td>\n",
       "      <td>0.004038</td>\n",
       "      <td>0.492108</td>\n",
       "      <td>0.011588</td>\n",
       "      <td>0.001434</td>\n",
       "    </tr>\n",
       "    <tr>\n",
       "      <th>3</th>\n",
       "      <td>[49, 53, 72, 69]</td>\n",
       "      <td>2740</td>\n",
       "      <td>0.111423</td>\n",
       "      <td>2728</td>\n",
       "      <td>12</td>\n",
       "      <td>0.004380</td>\n",
       "      <td>0.410487</td>\n",
       "      <td>0.015433</td>\n",
       "      <td>0.001916</td>\n",
       "    </tr>\n",
       "    <tr>\n",
       "      <th>4</th>\n",
       "      <td>[55, 75]</td>\n",
       "      <td>1978</td>\n",
       "      <td>0.080436</td>\n",
       "      <td>1968</td>\n",
       "      <td>10</td>\n",
       "      <td>0.005056</td>\n",
       "      <td>0.266258</td>\n",
       "      <td>0.005014</td>\n",
       "      <td>0.000625</td>\n",
       "    </tr>\n",
       "    <tr>\n",
       "      <th>5</th>\n",
       "      <td>[47, 71]</td>\n",
       "      <td>1471</td>\n",
       "      <td>0.059819</td>\n",
       "      <td>1463</td>\n",
       "      <td>8</td>\n",
       "      <td>0.005438</td>\n",
       "      <td>0.192873</td>\n",
       "      <td>0.002026</td>\n",
       "      <td>0.000253</td>\n",
       "    </tr>\n",
       "    <tr>\n",
       "      <th>6</th>\n",
       "      <td>[63, 66, 41]</td>\n",
       "      <td>1335</td>\n",
       "      <td>0.054288</td>\n",
       "      <td>1327</td>\n",
       "      <td>8</td>\n",
       "      <td>0.005993</td>\n",
       "      <td>0.095305</td>\n",
       "      <td>0.000471</td>\n",
       "      <td>0.000059</td>\n",
       "    </tr>\n",
       "    <tr>\n",
       "      <th>7</th>\n",
       "      <td>[51, 67]</td>\n",
       "      <td>1452</td>\n",
       "      <td>0.059046</td>\n",
       "      <td>1443</td>\n",
       "      <td>9</td>\n",
       "      <td>0.006198</td>\n",
       "      <td>0.061325</td>\n",
       "      <td>0.000215</td>\n",
       "      <td>0.000027</td>\n",
       "    </tr>\n",
       "    <tr>\n",
       "      <th>8</th>\n",
       "      <td>[56, 62, 70, 44]</td>\n",
       "      <td>2544</td>\n",
       "      <td>0.103452</td>\n",
       "      <td>2527</td>\n",
       "      <td>17</td>\n",
       "      <td>0.006682</td>\n",
       "      <td>-0.014355</td>\n",
       "      <td>0.000021</td>\n",
       "      <td>0.000003</td>\n",
       "    </tr>\n",
       "    <tr>\n",
       "      <th>9</th>\n",
       "      <td>[50, 60, 54]</td>\n",
       "      <td>2463</td>\n",
       "      <td>0.100159</td>\n",
       "      <td>2444</td>\n",
       "      <td>19</td>\n",
       "      <td>0.007714</td>\n",
       "      <td>-0.158978</td>\n",
       "      <td>0.002741</td>\n",
       "      <td>0.000342</td>\n",
       "    </tr>\n",
       "    <tr>\n",
       "      <th>10</th>\n",
       "      <td>[57, 59]</td>\n",
       "      <td>1435</td>\n",
       "      <td>0.058355</td>\n",
       "      <td>1423</td>\n",
       "      <td>12</td>\n",
       "      <td>0.008362</td>\n",
       "      <td>-0.240314</td>\n",
       "      <td>0.003803</td>\n",
       "      <td>0.000474</td>\n",
       "    </tr>\n",
       "    <tr>\n",
       "      <th>11</th>\n",
       "      <td>[52, 42]</td>\n",
       "      <td>1401</td>\n",
       "      <td>0.056972</td>\n",
       "      <td>1389</td>\n",
       "      <td>12</td>\n",
       "      <td>0.008565</td>\n",
       "      <td>-0.264497</td>\n",
       "      <td>0.004553</td>\n",
       "      <td>0.000568</td>\n",
       "    </tr>\n",
       "    <tr>\n",
       "      <th>12</th>\n",
       "      <td>[61, 64, 45, 40, 68, 38, 76, 39, 35, 31]</td>\n",
       "      <td>2913</td>\n",
       "      <td>0.118458</td>\n",
       "      <td>2873</td>\n",
       "      <td>40</td>\n",
       "      <td>0.013732</td>\n",
       "      <td>-0.741697</td>\n",
       "      <td>0.095907</td>\n",
       "      <td>0.011721</td>\n",
       "    </tr>\n",
       "    <tr>\n",
       "      <th>13</th>\n",
       "      <td>Special</td>\n",
       "      <td>0</td>\n",
       "      <td>0.000000</td>\n",
       "      <td>0</td>\n",
       "      <td>0</td>\n",
       "      <td>0.000000</td>\n",
       "      <td>0.0</td>\n",
       "      <td>0.000000</td>\n",
       "      <td>0.000000</td>\n",
       "    </tr>\n",
       "    <tr>\n",
       "      <th>14</th>\n",
       "      <td>Missing</td>\n",
       "      <td>0</td>\n",
       "      <td>0.000000</td>\n",
       "      <td>0</td>\n",
       "      <td>0</td>\n",
       "      <td>0.000000</td>\n",
       "      <td>0.0</td>\n",
       "      <td>0.000000</td>\n",
       "      <td>0.000000</td>\n",
       "    </tr>\n",
       "    <tr>\n",
       "      <th>Totals</th>\n",
       "      <td></td>\n",
       "      <td>24591</td>\n",
       "      <td>1.000000</td>\n",
       "      <td>24429</td>\n",
       "      <td>162</td>\n",
       "      <td>0.006588</td>\n",
       "      <td></td>\n",
       "      <td>0.221162</td>\n",
       "      <td>0.026927</td>\n",
       "    </tr>\n",
       "  </tbody>\n",
       "</table>\n",
       "</div>"
      ],
      "text/plain": [
       "                                                      Bin  Count  Count (%)  \\\n",
       "0       [27, 77, 37, 36, 34, 78, 32, 30, 33, 29, 74, 7...   1874   0.076207   \n",
       "1                                                [46, 43]   1499   0.060957   \n",
       "2                                                [65, 48]   1486   0.060429   \n",
       "3                                        [49, 53, 72, 69]   2740   0.111423   \n",
       "4                                                [55, 75]   1978   0.080436   \n",
       "5                                                [47, 71]   1471   0.059819   \n",
       "6                                            [63, 66, 41]   1335   0.054288   \n",
       "7                                                [51, 67]   1452   0.059046   \n",
       "8                                        [56, 62, 70, 44]   2544   0.103452   \n",
       "9                                            [50, 60, 54]   2463   0.100159   \n",
       "10                                               [57, 59]   1435   0.058355   \n",
       "11                                               [52, 42]   1401   0.056972   \n",
       "12               [61, 64, 45, 40, 68, 38, 76, 39, 35, 31]   2913   0.118458   \n",
       "13                                                Special      0   0.000000   \n",
       "14                                                Missing      0   0.000000   \n",
       "Totals                                                     24591   1.000000   \n",
       "\n",
       "        Non-event  Event  Event rate       WoE        IV        JS  \n",
       "0            1870      4    0.002134  1.131469  0.058675  0.006967  \n",
       "1            1494      5    0.003336  0.683845  0.020715  0.002540  \n",
       "2            1480      6    0.004038  0.492108  0.011588  0.001434  \n",
       "3            2728     12    0.004380  0.410487  0.015433  0.001916  \n",
       "4            1968     10    0.005056  0.266258  0.005014  0.000625  \n",
       "5            1463      8    0.005438  0.192873  0.002026  0.000253  \n",
       "6            1327      8    0.005993  0.095305  0.000471  0.000059  \n",
       "7            1443      9    0.006198  0.061325  0.000215  0.000027  \n",
       "8            2527     17    0.006682 -0.014355  0.000021  0.000003  \n",
       "9            2444     19    0.007714 -0.158978  0.002741  0.000342  \n",
       "10           1423     12    0.008362 -0.240314  0.003803  0.000474  \n",
       "11           1389     12    0.008565 -0.264497  0.004553  0.000568  \n",
       "12           2873     40    0.013732 -0.741697  0.095907  0.011721  \n",
       "13              0      0    0.000000       0.0  0.000000  0.000000  \n",
       "14              0      0    0.000000       0.0  0.000000  0.000000  \n",
       "Totals      24429    162    0.006588            0.221162  0.026927  "
      ]
     },
     "metadata": {},
     "output_type": "display_data"
    },
    {
     "data": {
      "text/html": [
       "<div>\n",
       "<style scoped>\n",
       "    .dataframe tbody tr th:only-of-type {\n",
       "        vertical-align: middle;\n",
       "    }\n",
       "\n",
       "    .dataframe tbody tr th {\n",
       "        vertical-align: top;\n",
       "    }\n",
       "\n",
       "    .dataframe thead th {\n",
       "        text-align: right;\n",
       "    }\n",
       "</style>\n",
       "<table border=\"1\" class=\"dataframe\">\n",
       "  <thead>\n",
       "    <tr style=\"text-align: right;\">\n",
       "      <th></th>\n",
       "      <th>Bin</th>\n",
       "      <th>Count</th>\n",
       "      <th>Count (%)</th>\n",
       "      <th>Non-event</th>\n",
       "      <th>Event</th>\n",
       "      <th>Event rate</th>\n",
       "      <th>WoE</th>\n",
       "      <th>IV</th>\n",
       "      <th>JS</th>\n",
       "    </tr>\n",
       "  </thead>\n",
       "  <tbody>\n",
       "    <tr>\n",
       "      <th>0</th>\n",
       "      <td>[3]</td>\n",
       "      <td>5353</td>\n",
       "      <td>0.217681</td>\n",
       "      <td>5333</td>\n",
       "      <td>20</td>\n",
       "      <td>0.003736</td>\n",
       "      <td>0.570007</td>\n",
       "      <td>0.054065</td>\n",
       "      <td>0.006668</td>\n",
       "    </tr>\n",
       "    <tr>\n",
       "      <th>1</th>\n",
       "      <td>[6, 2, 4]</td>\n",
       "      <td>7916</td>\n",
       "      <td>0.321906</td>\n",
       "      <td>7881</td>\n",
       "      <td>35</td>\n",
       "      <td>0.004421</td>\n",
       "      <td>0.400932</td>\n",
       "      <td>0.042723</td>\n",
       "      <td>0.005305</td>\n",
       "    </tr>\n",
       "    <tr>\n",
       "      <th>2</th>\n",
       "      <td>[1, 5]</td>\n",
       "      <td>11322</td>\n",
       "      <td>0.460412</td>\n",
       "      <td>11215</td>\n",
       "      <td>107</td>\n",
       "      <td>0.009451</td>\n",
       "      <td>-0.363751</td>\n",
       "      <td>0.073263</td>\n",
       "      <td>0.009108</td>\n",
       "    </tr>\n",
       "    <tr>\n",
       "      <th>3</th>\n",
       "      <td>Special</td>\n",
       "      <td>0</td>\n",
       "      <td>0.000000</td>\n",
       "      <td>0</td>\n",
       "      <td>0</td>\n",
       "      <td>0.000000</td>\n",
       "      <td>0.0</td>\n",
       "      <td>0.000000</td>\n",
       "      <td>0.000000</td>\n",
       "    </tr>\n",
       "    <tr>\n",
       "      <th>4</th>\n",
       "      <td>Missing</td>\n",
       "      <td>0</td>\n",
       "      <td>0.000000</td>\n",
       "      <td>0</td>\n",
       "      <td>0</td>\n",
       "      <td>0.000000</td>\n",
       "      <td>0.0</td>\n",
       "      <td>0.000000</td>\n",
       "      <td>0.000000</td>\n",
       "    </tr>\n",
       "    <tr>\n",
       "      <th>Totals</th>\n",
       "      <td></td>\n",
       "      <td>24591</td>\n",
       "      <td>1.000000</td>\n",
       "      <td>24429</td>\n",
       "      <td>162</td>\n",
       "      <td>0.006588</td>\n",
       "      <td></td>\n",
       "      <td>0.170050</td>\n",
       "      <td>0.021081</td>\n",
       "    </tr>\n",
       "  </tbody>\n",
       "</table>\n",
       "</div>"
      ],
      "text/plain": [
       "              Bin  Count  Count (%)  Non-event  Event  Event rate       WoE  \\\n",
       "0             [3]   5353   0.217681       5333     20    0.003736  0.570007   \n",
       "1       [6, 2, 4]   7916   0.321906       7881     35    0.004421  0.400932   \n",
       "2          [1, 5]  11322   0.460412      11215    107    0.009451 -0.363751   \n",
       "3         Special      0   0.000000          0      0    0.000000       0.0   \n",
       "4         Missing      0   0.000000          0      0    0.000000       0.0   \n",
       "Totals             24591   1.000000      24429    162    0.006588             \n",
       "\n",
       "              IV        JS  \n",
       "0       0.054065  0.006668  \n",
       "1       0.042723  0.005305  \n",
       "2       0.073263  0.009108  \n",
       "3       0.000000  0.000000  \n",
       "4       0.000000  0.000000  \n",
       "Totals  0.170050  0.021081  "
      ]
     },
     "metadata": {},
     "output_type": "display_data"
    },
    {
     "data": {
      "text/html": [
       "<div>\n",
       "<style scoped>\n",
       "    .dataframe tbody tr th:only-of-type {\n",
       "        vertical-align: middle;\n",
       "    }\n",
       "\n",
       "    .dataframe tbody tr th {\n",
       "        vertical-align: top;\n",
       "    }\n",
       "\n",
       "    .dataframe thead th {\n",
       "        text-align: right;\n",
       "    }\n",
       "</style>\n",
       "<table border=\"1\" class=\"dataframe\">\n",
       "  <thead>\n",
       "    <tr style=\"text-align: right;\">\n",
       "      <th></th>\n",
       "      <th>Bin</th>\n",
       "      <th>Count</th>\n",
       "      <th>Count (%)</th>\n",
       "      <th>Non-event</th>\n",
       "      <th>Event</th>\n",
       "      <th>Event rate</th>\n",
       "      <th>WoE</th>\n",
       "      <th>IV</th>\n",
       "      <th>JS</th>\n",
       "    </tr>\n",
       "  </thead>\n",
       "  <tbody>\n",
       "    <tr>\n",
       "      <th>0</th>\n",
       "      <td>[161, 174, 172, 150, 177, 170, 151]</td>\n",
       "      <td>2597</td>\n",
       "      <td>0.105608</td>\n",
       "      <td>2593</td>\n",
       "      <td>4</td>\n",
       "      <td>0.001540</td>\n",
       "      <td>1.458347</td>\n",
       "      <td>0.118787</td>\n",
       "      <td>0.013658</td>\n",
       "    </tr>\n",
       "    <tr>\n",
       "      <th>1</th>\n",
       "      <td>[147, 153, 155, 146, 171]</td>\n",
       "      <td>5164</td>\n",
       "      <td>0.209996</td>\n",
       "      <td>5143</td>\n",
       "      <td>21</td>\n",
       "      <td>0.004067</td>\n",
       "      <td>0.48494</td>\n",
       "      <td>0.039231</td>\n",
       "      <td>0.004856</td>\n",
       "    </tr>\n",
       "    <tr>\n",
       "      <th>2</th>\n",
       "      <td>[149, 156]</td>\n",
       "      <td>1262</td>\n",
       "      <td>0.051320</td>\n",
       "      <td>1256</td>\n",
       "      <td>6</td>\n",
       "      <td>0.004754</td>\n",
       "      <td>0.327998</td>\n",
       "      <td>0.004716</td>\n",
       "      <td>0.000587</td>\n",
       "    </tr>\n",
       "    <tr>\n",
       "      <th>3</th>\n",
       "      <td>[148, 166]</td>\n",
       "      <td>1437</td>\n",
       "      <td>0.058436</td>\n",
       "      <td>1430</td>\n",
       "      <td>7</td>\n",
       "      <td>0.004871</td>\n",
       "      <td>0.30359</td>\n",
       "      <td>0.004653</td>\n",
       "      <td>0.000579</td>\n",
       "    </tr>\n",
       "    <tr>\n",
       "      <th>4</th>\n",
       "      <td>[164]</td>\n",
       "      <td>3358</td>\n",
       "      <td>0.136554</td>\n",
       "      <td>3339</td>\n",
       "      <td>19</td>\n",
       "      <td>0.005658</td>\n",
       "      <td>0.153058</td>\n",
       "      <td>0.002969</td>\n",
       "      <td>0.000371</td>\n",
       "    </tr>\n",
       "    <tr>\n",
       "      <th>5</th>\n",
       "      <td>[167, 176]</td>\n",
       "      <td>1254</td>\n",
       "      <td>0.050994</td>\n",
       "      <td>1246</td>\n",
       "      <td>8</td>\n",
       "      <td>0.006380</td>\n",
       "      <td>0.032322</td>\n",
       "      <td>0.000052</td>\n",
       "      <td>0.000007</td>\n",
       "    </tr>\n",
       "    <tr>\n",
       "      <th>6</th>\n",
       "      <td>[159, 169]</td>\n",
       "      <td>3393</td>\n",
       "      <td>0.137977</td>\n",
       "      <td>3371</td>\n",
       "      <td>22</td>\n",
       "      <td>0.006484</td>\n",
       "      <td>0.015992</td>\n",
       "      <td>0.000035</td>\n",
       "      <td>0.000004</td>\n",
       "    </tr>\n",
       "    <tr>\n",
       "      <th>7</th>\n",
       "      <td>[154, 162]</td>\n",
       "      <td>1293</td>\n",
       "      <td>0.052580</td>\n",
       "      <td>1283</td>\n",
       "      <td>10</td>\n",
       "      <td>0.007734</td>\n",
       "      <td>-0.161559</td>\n",
       "      <td>0.001488</td>\n",
       "      <td>0.000186</td>\n",
       "    </tr>\n",
       "    <tr>\n",
       "      <th>8</th>\n",
       "      <td>[163, 175, 168, 157, 173]</td>\n",
       "      <td>2357</td>\n",
       "      <td>0.095848</td>\n",
       "      <td>2330</td>\n",
       "      <td>27</td>\n",
       "      <td>0.011455</td>\n",
       "      <td>-0.558143</td>\n",
       "      <td>0.039789</td>\n",
       "      <td>0.004910</td>\n",
       "    </tr>\n",
       "    <tr>\n",
       "      <th>9</th>\n",
       "      <td>[160, 165, 158, 152]</td>\n",
       "      <td>2476</td>\n",
       "      <td>0.100687</td>\n",
       "      <td>2438</td>\n",
       "      <td>38</td>\n",
       "      <td>0.015347</td>\n",
       "      <td>-0.854583</td>\n",
       "      <td>0.115171</td>\n",
       "      <td>0.013974</td>\n",
       "    </tr>\n",
       "    <tr>\n",
       "      <th>10</th>\n",
       "      <td>Special</td>\n",
       "      <td>0</td>\n",
       "      <td>0.000000</td>\n",
       "      <td>0</td>\n",
       "      <td>0</td>\n",
       "      <td>0.000000</td>\n",
       "      <td>0.0</td>\n",
       "      <td>0.000000</td>\n",
       "      <td>0.000000</td>\n",
       "    </tr>\n",
       "    <tr>\n",
       "      <th>11</th>\n",
       "      <td>Missing</td>\n",
       "      <td>0</td>\n",
       "      <td>0.000000</td>\n",
       "      <td>0</td>\n",
       "      <td>0</td>\n",
       "      <td>0.000000</td>\n",
       "      <td>0.0</td>\n",
       "      <td>0.000000</td>\n",
       "      <td>0.000000</td>\n",
       "    </tr>\n",
       "    <tr>\n",
       "      <th>Totals</th>\n",
       "      <td></td>\n",
       "      <td>24591</td>\n",
       "      <td>1.000000</td>\n",
       "      <td>24429</td>\n",
       "      <td>162</td>\n",
       "      <td>0.006588</td>\n",
       "      <td></td>\n",
       "      <td>0.326891</td>\n",
       "      <td>0.039132</td>\n",
       "    </tr>\n",
       "  </tbody>\n",
       "</table>\n",
       "</div>"
      ],
      "text/plain": [
       "                                        Bin  Count  Count (%)  Non-event  \\\n",
       "0       [161, 174, 172, 150, 177, 170, 151]   2597   0.105608       2593   \n",
       "1                 [147, 153, 155, 146, 171]   5164   0.209996       5143   \n",
       "2                                [149, 156]   1262   0.051320       1256   \n",
       "3                                [148, 166]   1437   0.058436       1430   \n",
       "4                                     [164]   3358   0.136554       3339   \n",
       "5                                [167, 176]   1254   0.050994       1246   \n",
       "6                                [159, 169]   3393   0.137977       3371   \n",
       "7                                [154, 162]   1293   0.052580       1283   \n",
       "8                 [163, 175, 168, 157, 173]   2357   0.095848       2330   \n",
       "9                      [160, 165, 158, 152]   2476   0.100687       2438   \n",
       "10                                  Special      0   0.000000          0   \n",
       "11                                  Missing      0   0.000000          0   \n",
       "Totals                                       24591   1.000000      24429   \n",
       "\n",
       "        Event  Event rate       WoE        IV        JS  \n",
       "0           4    0.001540  1.458347  0.118787  0.013658  \n",
       "1          21    0.004067   0.48494  0.039231  0.004856  \n",
       "2           6    0.004754  0.327998  0.004716  0.000587  \n",
       "3           7    0.004871   0.30359  0.004653  0.000579  \n",
       "4          19    0.005658  0.153058  0.002969  0.000371  \n",
       "5           8    0.006380  0.032322  0.000052  0.000007  \n",
       "6          22    0.006484  0.015992  0.000035  0.000004  \n",
       "7          10    0.007734 -0.161559  0.001488  0.000186  \n",
       "8          27    0.011455 -0.558143  0.039789  0.004910  \n",
       "9          38    0.015347 -0.854583  0.115171  0.013974  \n",
       "10          0    0.000000       0.0  0.000000  0.000000  \n",
       "11          0    0.000000       0.0  0.000000  0.000000  \n",
       "Totals    162    0.006588            0.326891  0.039132  "
      ]
     },
     "metadata": {},
     "output_type": "display_data"
    },
    {
     "data": {
      "text/html": [
       "<div>\n",
       "<style scoped>\n",
       "    .dataframe tbody tr th:only-of-type {\n",
       "        vertical-align: middle;\n",
       "    }\n",
       "\n",
       "    .dataframe tbody tr th {\n",
       "        vertical-align: top;\n",
       "    }\n",
       "\n",
       "    .dataframe thead th {\n",
       "        text-align: right;\n",
       "    }\n",
       "</style>\n",
       "<table border=\"1\" class=\"dataframe\">\n",
       "  <thead>\n",
       "    <tr style=\"text-align: right;\">\n",
       "      <th></th>\n",
       "      <th>Bin</th>\n",
       "      <th>Count</th>\n",
       "      <th>Count (%)</th>\n",
       "      <th>Non-event</th>\n",
       "      <th>Event</th>\n",
       "      <th>Event rate</th>\n",
       "      <th>WoE</th>\n",
       "      <th>IV</th>\n",
       "      <th>JS</th>\n",
       "    </tr>\n",
       "  </thead>\n",
       "  <tbody>\n",
       "    <tr>\n",
       "      <th>0</th>\n",
       "      <td>[-inf, 0.32)</td>\n",
       "      <td>6596</td>\n",
       "      <td>0.268228</td>\n",
       "      <td>6579</td>\n",
       "      <td>17</td>\n",
       "      <td>0.002577</td>\n",
       "      <td>0.942495</td>\n",
       "      <td>0.154921</td>\n",
       "      <td>0.018679</td>\n",
       "    </tr>\n",
       "    <tr>\n",
       "      <th>1</th>\n",
       "      <td>[0.32, 0.33)</td>\n",
       "      <td>1523</td>\n",
       "      <td>0.061933</td>\n",
       "      <td>1521</td>\n",
       "      <td>2</td>\n",
       "      <td>0.001313</td>\n",
       "      <td>1.618046</td>\n",
       "      <td>0.080767</td>\n",
       "      <td>0.009121</td>\n",
       "    </tr>\n",
       "    <tr>\n",
       "      <th>2</th>\n",
       "      <td>[0.33, 0.34)</td>\n",
       "      <td>1230</td>\n",
       "      <td>0.050018</td>\n",
       "      <td>1226</td>\n",
       "      <td>4</td>\n",
       "      <td>0.003252</td>\n",
       "      <td>0.709288</td>\n",
       "      <td>0.018083</td>\n",
       "      <td>0.002214</td>\n",
       "    </tr>\n",
       "    <tr>\n",
       "      <th>3</th>\n",
       "      <td>[0.34, 0.35)</td>\n",
       "      <td>3915</td>\n",
       "      <td>0.159205</td>\n",
       "      <td>3892</td>\n",
       "      <td>23</td>\n",
       "      <td>0.005875</td>\n",
       "      <td>0.115254</td>\n",
       "      <td>0.001999</td>\n",
       "      <td>0.000250</td>\n",
       "    </tr>\n",
       "    <tr>\n",
       "      <th>4</th>\n",
       "      <td>[0.35, 0.36)</td>\n",
       "      <td>1327</td>\n",
       "      <td>0.053963</td>\n",
       "      <td>1316</td>\n",
       "      <td>11</td>\n",
       "      <td>0.008289</td>\n",
       "      <td>-0.231473</td>\n",
       "      <td>0.003248</td>\n",
       "      <td>0.000405</td>\n",
       "    </tr>\n",
       "    <tr>\n",
       "      <th>5</th>\n",
       "      <td>[0.36, inf)</td>\n",
       "      <td>10000</td>\n",
       "      <td>0.406653</td>\n",
       "      <td>9895</td>\n",
       "      <td>105</td>\n",
       "      <td>0.010500</td>\n",
       "      <td>-0.470105</td>\n",
       "      <td>0.114281</td>\n",
       "      <td>0.014155</td>\n",
       "    </tr>\n",
       "    <tr>\n",
       "      <th>6</th>\n",
       "      <td>Special</td>\n",
       "      <td>0</td>\n",
       "      <td>0.000000</td>\n",
       "      <td>0</td>\n",
       "      <td>0</td>\n",
       "      <td>0.000000</td>\n",
       "      <td>0.0</td>\n",
       "      <td>0.000000</td>\n",
       "      <td>0.000000</td>\n",
       "    </tr>\n",
       "    <tr>\n",
       "      <th>7</th>\n",
       "      <td>Missing</td>\n",
       "      <td>0</td>\n",
       "      <td>0.000000</td>\n",
       "      <td>0</td>\n",
       "      <td>0</td>\n",
       "      <td>0.000000</td>\n",
       "      <td>0.0</td>\n",
       "      <td>0.000000</td>\n",
       "      <td>0.000000</td>\n",
       "    </tr>\n",
       "    <tr>\n",
       "      <th>Totals</th>\n",
       "      <td></td>\n",
       "      <td>24591</td>\n",
       "      <td>1.000000</td>\n",
       "      <td>24429</td>\n",
       "      <td>162</td>\n",
       "      <td>0.006588</td>\n",
       "      <td></td>\n",
       "      <td>0.373299</td>\n",
       "      <td>0.044824</td>\n",
       "    </tr>\n",
       "  </tbody>\n",
       "</table>\n",
       "</div>"
      ],
      "text/plain": [
       "                 Bin  Count  Count (%)  Non-event  Event  Event rate  \\\n",
       "0       [-inf, 0.32)   6596   0.268228       6579     17    0.002577   \n",
       "1       [0.32, 0.33)   1523   0.061933       1521      2    0.001313   \n",
       "2       [0.33, 0.34)   1230   0.050018       1226      4    0.003252   \n",
       "3       [0.34, 0.35)   3915   0.159205       3892     23    0.005875   \n",
       "4       [0.35, 0.36)   1327   0.053963       1316     11    0.008289   \n",
       "5        [0.36, inf)  10000   0.406653       9895    105    0.010500   \n",
       "6            Special      0   0.000000          0      0    0.000000   \n",
       "7            Missing      0   0.000000          0      0    0.000000   \n",
       "Totals                24591   1.000000      24429    162    0.006588   \n",
       "\n",
       "             WoE        IV        JS  \n",
       "0       0.942495  0.154921  0.018679  \n",
       "1       1.618046  0.080767  0.009121  \n",
       "2       0.709288  0.018083  0.002214  \n",
       "3       0.115254  0.001999  0.000250  \n",
       "4      -0.231473  0.003248  0.000405  \n",
       "5      -0.470105  0.114281  0.014155  \n",
       "6            0.0  0.000000  0.000000  \n",
       "7            0.0  0.000000  0.000000  \n",
       "Totals            0.373299  0.044824  "
      ]
     },
     "metadata": {},
     "output_type": "display_data"
    },
    {
     "data": {
      "text/html": [
       "<div>\n",
       "<style scoped>\n",
       "    .dataframe tbody tr th:only-of-type {\n",
       "        vertical-align: middle;\n",
       "    }\n",
       "\n",
       "    .dataframe tbody tr th {\n",
       "        vertical-align: top;\n",
       "    }\n",
       "\n",
       "    .dataframe thead th {\n",
       "        text-align: right;\n",
       "    }\n",
       "</style>\n",
       "<table border=\"1\" class=\"dataframe\">\n",
       "  <thead>\n",
       "    <tr style=\"text-align: right;\">\n",
       "      <th></th>\n",
       "      <th>Bin</th>\n",
       "      <th>Count</th>\n",
       "      <th>Count (%)</th>\n",
       "      <th>Non-event</th>\n",
       "      <th>Event</th>\n",
       "      <th>Event rate</th>\n",
       "      <th>WoE</th>\n",
       "      <th>IV</th>\n",
       "      <th>JS</th>\n",
       "    </tr>\n",
       "  </thead>\n",
       "  <tbody>\n",
       "    <tr>\n",
       "      <th>0</th>\n",
       "      <td>[-inf, 51.54)</td>\n",
       "      <td>3278</td>\n",
       "      <td>0.133301</td>\n",
       "      <td>3233</td>\n",
       "      <td>45</td>\n",
       "      <td>0.013728</td>\n",
       "      <td>-0.741427</td>\n",
       "      <td>0.107829</td>\n",
       "      <td>0.013178</td>\n",
       "    </tr>\n",
       "    <tr>\n",
       "      <th>1</th>\n",
       "      <td>[51.54, 115.95)</td>\n",
       "      <td>3734</td>\n",
       "      <td>0.151844</td>\n",
       "      <td>3699</td>\n",
       "      <td>35</td>\n",
       "      <td>0.009373</td>\n",
       "      <td>-0.35546</td>\n",
       "      <td>0.022974</td>\n",
       "      <td>0.002857</td>\n",
       "    </tr>\n",
       "    <tr>\n",
       "      <th>2</th>\n",
       "      <td>[115.95, 217.54)</td>\n",
       "      <td>5311</td>\n",
       "      <td>0.215973</td>\n",
       "      <td>5273</td>\n",
       "      <td>38</td>\n",
       "      <td>0.007155</td>\n",
       "      <td>-0.083161</td>\n",
       "      <td>0.001557</td>\n",
       "      <td>0.000195</td>\n",
       "    </tr>\n",
       "    <tr>\n",
       "      <th>3</th>\n",
       "      <td>[217.54, 398.59)</td>\n",
       "      <td>4935</td>\n",
       "      <td>0.200683</td>\n",
       "      <td>4913</td>\n",
       "      <td>22</td>\n",
       "      <td>0.004458</td>\n",
       "      <td>0.392668</td>\n",
       "      <td>0.025646</td>\n",
       "      <td>0.003185</td>\n",
       "    </tr>\n",
       "    <tr>\n",
       "      <th>4</th>\n",
       "      <td>[398.59, 469.86)</td>\n",
       "      <td>1417</td>\n",
       "      <td>0.057623</td>\n",
       "      <td>1414</td>\n",
       "      <td>3</td>\n",
       "      <td>0.002117</td>\n",
       "      <td>1.139636</td>\n",
       "      <td>0.044860</td>\n",
       "      <td>0.005322</td>\n",
       "    </tr>\n",
       "    <tr>\n",
       "      <th>5</th>\n",
       "      <td>[469.86, 585.22)</td>\n",
       "      <td>1687</td>\n",
       "      <td>0.068602</td>\n",
       "      <td>1686</td>\n",
       "      <td>1</td>\n",
       "      <td>0.000593</td>\n",
       "      <td>2.414184</td>\n",
       "      <td>0.151716</td>\n",
       "      <td>0.015387</td>\n",
       "    </tr>\n",
       "    <tr>\n",
       "      <th>6</th>\n",
       "      <td>[585.22, inf)</td>\n",
       "      <td>4229</td>\n",
       "      <td>0.171973</td>\n",
       "      <td>4211</td>\n",
       "      <td>18</td>\n",
       "      <td>0.004256</td>\n",
       "      <td>0.439154</td>\n",
       "      <td>0.026905</td>\n",
       "      <td>0.003336</td>\n",
       "    </tr>\n",
       "    <tr>\n",
       "      <th>7</th>\n",
       "      <td>Special</td>\n",
       "      <td>0</td>\n",
       "      <td>0.000000</td>\n",
       "      <td>0</td>\n",
       "      <td>0</td>\n",
       "      <td>0.000000</td>\n",
       "      <td>0.0</td>\n",
       "      <td>0.000000</td>\n",
       "      <td>0.000000</td>\n",
       "    </tr>\n",
       "    <tr>\n",
       "      <th>8</th>\n",
       "      <td>Missing</td>\n",
       "      <td>0</td>\n",
       "      <td>0.000000</td>\n",
       "      <td>0</td>\n",
       "      <td>0</td>\n",
       "      <td>0.000000</td>\n",
       "      <td>0.0</td>\n",
       "      <td>0.000000</td>\n",
       "      <td>0.000000</td>\n",
       "    </tr>\n",
       "    <tr>\n",
       "      <th>Totals</th>\n",
       "      <td></td>\n",
       "      <td>24591</td>\n",
       "      <td>1.000000</td>\n",
       "      <td>24429</td>\n",
       "      <td>162</td>\n",
       "      <td>0.006588</td>\n",
       "      <td></td>\n",
       "      <td>0.381486</td>\n",
       "      <td>0.043460</td>\n",
       "    </tr>\n",
       "  </tbody>\n",
       "</table>\n",
       "</div>"
      ],
      "text/plain": [
       "                     Bin  Count  Count (%)  Non-event  Event  Event rate  \\\n",
       "0          [-inf, 51.54)   3278   0.133301       3233     45    0.013728   \n",
       "1        [51.54, 115.95)   3734   0.151844       3699     35    0.009373   \n",
       "2       [115.95, 217.54)   5311   0.215973       5273     38    0.007155   \n",
       "3       [217.54, 398.59)   4935   0.200683       4913     22    0.004458   \n",
       "4       [398.59, 469.86)   1417   0.057623       1414      3    0.002117   \n",
       "5       [469.86, 585.22)   1687   0.068602       1686      1    0.000593   \n",
       "6          [585.22, inf)   4229   0.171973       4211     18    0.004256   \n",
       "7                Special      0   0.000000          0      0    0.000000   \n",
       "8                Missing      0   0.000000          0      0    0.000000   \n",
       "Totals                    24591   1.000000      24429    162    0.006588   \n",
       "\n",
       "             WoE        IV        JS  \n",
       "0      -0.741427  0.107829  0.013178  \n",
       "1       -0.35546  0.022974  0.002857  \n",
       "2      -0.083161  0.001557  0.000195  \n",
       "3       0.392668  0.025646  0.003185  \n",
       "4       1.139636  0.044860  0.005322  \n",
       "5       2.414184  0.151716  0.015387  \n",
       "6       0.439154  0.026905  0.003336  \n",
       "7            0.0  0.000000  0.000000  \n",
       "8            0.0  0.000000  0.000000  \n",
       "Totals            0.381486  0.043460  "
      ]
     },
     "metadata": {},
     "output_type": "display_data"
    },
    {
     "data": {
      "text/html": [
       "<div>\n",
       "<style scoped>\n",
       "    .dataframe tbody tr th:only-of-type {\n",
       "        vertical-align: middle;\n",
       "    }\n",
       "\n",
       "    .dataframe tbody tr th {\n",
       "        vertical-align: top;\n",
       "    }\n",
       "\n",
       "    .dataframe thead th {\n",
       "        text-align: right;\n",
       "    }\n",
       "</style>\n",
       "<table border=\"1\" class=\"dataframe\">\n",
       "  <thead>\n",
       "    <tr style=\"text-align: right;\">\n",
       "      <th></th>\n",
       "      <th>Bin</th>\n",
       "      <th>Count</th>\n",
       "      <th>Count (%)</th>\n",
       "      <th>Non-event</th>\n",
       "      <th>Event</th>\n",
       "      <th>Event rate</th>\n",
       "      <th>WoE</th>\n",
       "      <th>IV</th>\n",
       "      <th>JS</th>\n",
       "    </tr>\n",
       "  </thead>\n",
       "  <tbody>\n",
       "    <tr>\n",
       "      <th>0</th>\n",
       "      <td>[-inf, 0.00)</td>\n",
       "      <td>3033</td>\n",
       "      <td>0.123338</td>\n",
       "      <td>3000</td>\n",
       "      <td>33</td>\n",
       "      <td>0.010880</td>\n",
       "      <td>-0.50607</td>\n",
       "      <td>4.094047e-02</td>\n",
       "      <td>5.063638e-03</td>\n",
       "    </tr>\n",
       "    <tr>\n",
       "      <th>1</th>\n",
       "      <td>[0.00, 5.89)</td>\n",
       "      <td>2570</td>\n",
       "      <td>0.104510</td>\n",
       "      <td>2543</td>\n",
       "      <td>27</td>\n",
       "      <td>0.010506</td>\n",
       "      <td>-0.470667</td>\n",
       "      <td>2.944920e-02</td>\n",
       "      <td>3.647544e-03</td>\n",
       "    </tr>\n",
       "    <tr>\n",
       "      <th>2</th>\n",
       "      <td>[5.89, 11.49)</td>\n",
       "      <td>3191</td>\n",
       "      <td>0.129763</td>\n",
       "      <td>3158</td>\n",
       "      <td>33</td>\n",
       "      <td>0.010342</td>\n",
       "      <td>-0.454743</td>\n",
       "      <td>3.384705e-02</td>\n",
       "      <td>4.194799e-03</td>\n",
       "    </tr>\n",
       "    <tr>\n",
       "      <th>3</th>\n",
       "      <td>[11.49, 16.09)</td>\n",
       "      <td>2737</td>\n",
       "      <td>0.111301</td>\n",
       "      <td>2719</td>\n",
       "      <td>18</td>\n",
       "      <td>0.006577</td>\n",
       "      <td>0.001718</td>\n",
       "      <td>3.281494e-07</td>\n",
       "      <td>4.101867e-08</td>\n",
       "    </tr>\n",
       "    <tr>\n",
       "      <th>4</th>\n",
       "      <td>[16.09, 21.56)</td>\n",
       "      <td>2521</td>\n",
       "      <td>0.102517</td>\n",
       "      <td>2505</td>\n",
       "      <td>16</td>\n",
       "      <td>0.006347</td>\n",
       "      <td>0.037525</td>\n",
       "      <td>1.417195e-04</td>\n",
       "      <td>1.771390e-05</td>\n",
       "    </tr>\n",
       "    <tr>\n",
       "      <th>5</th>\n",
       "      <td>[21.56, 39.53)</td>\n",
       "      <td>4546</td>\n",
       "      <td>0.184864</td>\n",
       "      <td>4530</td>\n",
       "      <td>16</td>\n",
       "      <td>0.003520</td>\n",
       "      <td>0.629959</td>\n",
       "      <td>5.459846e-02</td>\n",
       "      <td>6.714149e-03</td>\n",
       "    </tr>\n",
       "    <tr>\n",
       "      <th>6</th>\n",
       "      <td>[39.53, 55.42)</td>\n",
       "      <td>2171</td>\n",
       "      <td>0.088284</td>\n",
       "      <td>2169</td>\n",
       "      <td>2</td>\n",
       "      <td>0.000921</td>\n",
       "      <td>1.972944</td>\n",
       "      <td>1.508163e-01</td>\n",
       "      <td>1.628818e-02</td>\n",
       "    </tr>\n",
       "    <tr>\n",
       "      <th>7</th>\n",
       "      <td>[55.42, 71.82)</td>\n",
       "      <td>1378</td>\n",
       "      <td>0.056037</td>\n",
       "      <td>1374</td>\n",
       "      <td>4</td>\n",
       "      <td>0.002903</td>\n",
       "      <td>0.823257</td>\n",
       "      <td>2.597646e-02</td>\n",
       "      <td>3.158360e-03</td>\n",
       "    </tr>\n",
       "    <tr>\n",
       "      <th>8</th>\n",
       "      <td>[71.82, inf)</td>\n",
       "      <td>2444</td>\n",
       "      <td>0.099386</td>\n",
       "      <td>2431</td>\n",
       "      <td>13</td>\n",
       "      <td>0.005319</td>\n",
       "      <td>0.215179</td>\n",
       "      <td>4.145625e-03</td>\n",
       "      <td>5.172057e-04</td>\n",
       "    </tr>\n",
       "    <tr>\n",
       "      <th>9</th>\n",
       "      <td>Special</td>\n",
       "      <td>0</td>\n",
       "      <td>0.000000</td>\n",
       "      <td>0</td>\n",
       "      <td>0</td>\n",
       "      <td>0.000000</td>\n",
       "      <td>0.0</td>\n",
       "      <td>0.000000e+00</td>\n",
       "      <td>0.000000e+00</td>\n",
       "    </tr>\n",
       "    <tr>\n",
       "      <th>10</th>\n",
       "      <td>Missing</td>\n",
       "      <td>0</td>\n",
       "      <td>0.000000</td>\n",
       "      <td>0</td>\n",
       "      <td>0</td>\n",
       "      <td>0.000000</td>\n",
       "      <td>0.0</td>\n",
       "      <td>0.000000e+00</td>\n",
       "      <td>0.000000e+00</td>\n",
       "    </tr>\n",
       "    <tr>\n",
       "      <th>Totals</th>\n",
       "      <td></td>\n",
       "      <td>24591</td>\n",
       "      <td>1.000000</td>\n",
       "      <td>24429</td>\n",
       "      <td>162</td>\n",
       "      <td>0.006588</td>\n",
       "      <td></td>\n",
       "      <td>3.399156e-01</td>\n",
       "      <td>3.960163e-02</td>\n",
       "    </tr>\n",
       "  </tbody>\n",
       "</table>\n",
       "</div>"
      ],
      "text/plain": [
       "                   Bin  Count  Count (%)  Non-event  Event  Event rate  \\\n",
       "0         [-inf, 0.00)   3033   0.123338       3000     33    0.010880   \n",
       "1         [0.00, 5.89)   2570   0.104510       2543     27    0.010506   \n",
       "2        [5.89, 11.49)   3191   0.129763       3158     33    0.010342   \n",
       "3       [11.49, 16.09)   2737   0.111301       2719     18    0.006577   \n",
       "4       [16.09, 21.56)   2521   0.102517       2505     16    0.006347   \n",
       "5       [21.56, 39.53)   4546   0.184864       4530     16    0.003520   \n",
       "6       [39.53, 55.42)   2171   0.088284       2169      2    0.000921   \n",
       "7       [55.42, 71.82)   1378   0.056037       1374      4    0.002903   \n",
       "8         [71.82, inf)   2444   0.099386       2431     13    0.005319   \n",
       "9              Special      0   0.000000          0      0    0.000000   \n",
       "10             Missing      0   0.000000          0      0    0.000000   \n",
       "Totals                  24591   1.000000      24429    162    0.006588   \n",
       "\n",
       "             WoE            IV            JS  \n",
       "0       -0.50607  4.094047e-02  5.063638e-03  \n",
       "1      -0.470667  2.944920e-02  3.647544e-03  \n",
       "2      -0.454743  3.384705e-02  4.194799e-03  \n",
       "3       0.001718  3.281494e-07  4.101867e-08  \n",
       "4       0.037525  1.417195e-04  1.771390e-05  \n",
       "5       0.629959  5.459846e-02  6.714149e-03  \n",
       "6       1.972944  1.508163e-01  1.628818e-02  \n",
       "7       0.823257  2.597646e-02  3.158360e-03  \n",
       "8       0.215179  4.145625e-03  5.172057e-04  \n",
       "9            0.0  0.000000e+00  0.000000e+00  \n",
       "10           0.0  0.000000e+00  0.000000e+00  \n",
       "Totals            3.399156e-01  3.960163e-02  "
      ]
     },
     "metadata": {},
     "output_type": "display_data"
    },
    {
     "data": {
      "text/html": [
       "<div>\n",
       "<style scoped>\n",
       "    .dataframe tbody tr th:only-of-type {\n",
       "        vertical-align: middle;\n",
       "    }\n",
       "\n",
       "    .dataframe tbody tr th {\n",
       "        vertical-align: top;\n",
       "    }\n",
       "\n",
       "    .dataframe thead th {\n",
       "        text-align: right;\n",
       "    }\n",
       "</style>\n",
       "<table border=\"1\" class=\"dataframe\">\n",
       "  <thead>\n",
       "    <tr style=\"text-align: right;\">\n",
       "      <th></th>\n",
       "      <th>Bin</th>\n",
       "      <th>Count</th>\n",
       "      <th>Count (%)</th>\n",
       "      <th>Non-event</th>\n",
       "      <th>Event</th>\n",
       "      <th>Event rate</th>\n",
       "      <th>WoE</th>\n",
       "      <th>IV</th>\n",
       "      <th>JS</th>\n",
       "    </tr>\n",
       "  </thead>\n",
       "  <tbody>\n",
       "    <tr>\n",
       "      <th>0</th>\n",
       "      <td>[-inf, 50.50)</td>\n",
       "      <td>3638</td>\n",
       "      <td>0.147940</td>\n",
       "      <td>3567</td>\n",
       "      <td>71</td>\n",
       "      <td>0.019516</td>\n",
       "      <td>-1.09913</td>\n",
       "      <td>0.321228</td>\n",
       "      <td>0.038247</td>\n",
       "    </tr>\n",
       "    <tr>\n",
       "      <th>1</th>\n",
       "      <td>[50.50, 63.50)</td>\n",
       "      <td>1734</td>\n",
       "      <td>0.070514</td>\n",
       "      <td>1709</td>\n",
       "      <td>25</td>\n",
       "      <td>0.014418</td>\n",
       "      <td>-0.791142</td>\n",
       "      <td>0.066743</td>\n",
       "      <td>0.008132</td>\n",
       "    </tr>\n",
       "    <tr>\n",
       "      <th>2</th>\n",
       "      <td>[63.50, 78.50)</td>\n",
       "      <td>2970</td>\n",
       "      <td>0.120776</td>\n",
       "      <td>2949</td>\n",
       "      <td>21</td>\n",
       "      <td>0.007071</td>\n",
       "      <td>-0.071231</td>\n",
       "      <td>0.000635</td>\n",
       "      <td>0.000079</td>\n",
       "    </tr>\n",
       "    <tr>\n",
       "      <th>3</th>\n",
       "      <td>[78.50, 90.50)</td>\n",
       "      <td>2809</td>\n",
       "      <td>0.114229</td>\n",
       "      <td>2793</td>\n",
       "      <td>16</td>\n",
       "      <td>0.005696</td>\n",
       "      <td>0.146353</td>\n",
       "      <td>0.002278</td>\n",
       "      <td>0.000285</td>\n",
       "    </tr>\n",
       "    <tr>\n",
       "      <th>4</th>\n",
       "      <td>[90.50, 103.50)</td>\n",
       "      <td>3156</td>\n",
       "      <td>0.128340</td>\n",
       "      <td>3142</td>\n",
       "      <td>14</td>\n",
       "      <td>0.004436</td>\n",
       "      <td>0.397628</td>\n",
       "      <td>0.016779</td>\n",
       "      <td>0.002084</td>\n",
       "    </tr>\n",
       "    <tr>\n",
       "      <th>5</th>\n",
       "      <td>[103.50, 119.50)</td>\n",
       "      <td>4953</td>\n",
       "      <td>0.201415</td>\n",
       "      <td>4942</td>\n",
       "      <td>11</td>\n",
       "      <td>0.002221</td>\n",
       "      <td>1.0917</td>\n",
       "      <td>0.146724</td>\n",
       "      <td>0.017481</td>\n",
       "    </tr>\n",
       "    <tr>\n",
       "      <th>6</th>\n",
       "      <td>[119.50, 124.50)</td>\n",
       "      <td>1889</td>\n",
       "      <td>0.076817</td>\n",
       "      <td>1886</td>\n",
       "      <td>3</td>\n",
       "      <td>0.001588</td>\n",
       "      <td>1.427671</td>\n",
       "      <td>0.083783</td>\n",
       "      <td>0.009665</td>\n",
       "    </tr>\n",
       "    <tr>\n",
       "      <th>7</th>\n",
       "      <td>[124.50, inf)</td>\n",
       "      <td>3442</td>\n",
       "      <td>0.139970</td>\n",
       "      <td>3441</td>\n",
       "      <td>1</td>\n",
       "      <td>0.000291</td>\n",
       "      <td>3.127588</td>\n",
       "      <td>0.421237</td>\n",
       "      <td>0.038151</td>\n",
       "    </tr>\n",
       "    <tr>\n",
       "      <th>8</th>\n",
       "      <td>Special</td>\n",
       "      <td>0</td>\n",
       "      <td>0.000000</td>\n",
       "      <td>0</td>\n",
       "      <td>0</td>\n",
       "      <td>0.000000</td>\n",
       "      <td>0.0</td>\n",
       "      <td>0.000000</td>\n",
       "      <td>0.000000</td>\n",
       "    </tr>\n",
       "    <tr>\n",
       "      <th>9</th>\n",
       "      <td>Missing</td>\n",
       "      <td>0</td>\n",
       "      <td>0.000000</td>\n",
       "      <td>0</td>\n",
       "      <td>0</td>\n",
       "      <td>0.000000</td>\n",
       "      <td>0.0</td>\n",
       "      <td>0.000000</td>\n",
       "      <td>0.000000</td>\n",
       "    </tr>\n",
       "    <tr>\n",
       "      <th>Totals</th>\n",
       "      <td></td>\n",
       "      <td>24591</td>\n",
       "      <td>1.000000</td>\n",
       "      <td>24429</td>\n",
       "      <td>162</td>\n",
       "      <td>0.006588</td>\n",
       "      <td></td>\n",
       "      <td>1.059407</td>\n",
       "      <td>0.114123</td>\n",
       "    </tr>\n",
       "  </tbody>\n",
       "</table>\n",
       "</div>"
      ],
      "text/plain": [
       "                     Bin  Count  Count (%)  Non-event  Event  Event rate  \\\n",
       "0          [-inf, 50.50)   3638   0.147940       3567     71    0.019516   \n",
       "1         [50.50, 63.50)   1734   0.070514       1709     25    0.014418   \n",
       "2         [63.50, 78.50)   2970   0.120776       2949     21    0.007071   \n",
       "3         [78.50, 90.50)   2809   0.114229       2793     16    0.005696   \n",
       "4        [90.50, 103.50)   3156   0.128340       3142     14    0.004436   \n",
       "5       [103.50, 119.50)   4953   0.201415       4942     11    0.002221   \n",
       "6       [119.50, 124.50)   1889   0.076817       1886      3    0.001588   \n",
       "7          [124.50, inf)   3442   0.139970       3441      1    0.000291   \n",
       "8                Special      0   0.000000          0      0    0.000000   \n",
       "9                Missing      0   0.000000          0      0    0.000000   \n",
       "Totals                    24591   1.000000      24429    162    0.006588   \n",
       "\n",
       "             WoE        IV        JS  \n",
       "0       -1.09913  0.321228  0.038247  \n",
       "1      -0.791142  0.066743  0.008132  \n",
       "2      -0.071231  0.000635  0.000079  \n",
       "3       0.146353  0.002278  0.000285  \n",
       "4       0.397628  0.016779  0.002084  \n",
       "5         1.0917  0.146724  0.017481  \n",
       "6       1.427671  0.083783  0.009665  \n",
       "7       3.127588  0.421237  0.038151  \n",
       "8            0.0  0.000000  0.000000  \n",
       "9            0.0  0.000000  0.000000  \n",
       "Totals            1.059407  0.114123  "
      ]
     },
     "metadata": {},
     "output_type": "display_data"
    }
   ],
   "source": [
    "display(comp_interno1_table.build())\n",
    "display(comp_interno2_table.build())\n",
    "display(comp_interno4_table.build())\n",
    "display(categoria1_table.build())\n",
    "display(categoria3_table.build())\n",
    "display(comp_mixto1_table.build())\n",
    "display(comp_externo1_table.build())\n",
    "display(comp_externo2_table.build())\n",
    "display(comp_externo3_table.build())"
   ]
  },
  {
   "cell_type": "code",
   "execution_count": 33,
   "id": "358a3e5f",
   "metadata": {},
   "outputs": [],
   "source": [
    "#binning_table = optb.binning_table"
   ]
  },
  {
   "cell_type": "code",
   "execution_count": 34,
   "id": "99926a0e",
   "metadata": {},
   "outputs": [
    {
     "data": {
      "image/png": "[encoded data removed]",
      "text/plain": [
       "<Figure size 432x288 with 2 Axes>"
      ]
     },
     "metadata": {
      "needs_background": "light"
     },
     "output_type": "display_data"
    },
    {
     "data": {
      "image/png": "[encoded data removed]",
      "text/plain": [
       "<Figure size 432x288 with 2 Axes>"
      ]
     },
     "metadata": {
      "needs_background": "light"
     },
     "output_type": "display_data"
    }
   ],
   "source": [
    "comp_interno1_table.plot(metric=\"event_rate\")\n",
    "comp_interno1_table.plot(metric=\"woe\")"
   ]
  },
  {
   "cell_type": "code",
   "execution_count": 35,
   "id": "4d288303",
   "metadata": {},
   "outputs": [
    {
     "data": {
      "image/png": "[encoded data removed]",
      "text/plain": [
       "<Figure size 432x288 with 2 Axes>"
      ]
     },
     "metadata": {
      "needs_background": "light"
     },
     "output_type": "display_data"
    },
    {
     "data": {
      "image/png": "[encoded data removed]",
      "text/plain": [
       "<Figure size 432x288 with 2 Axes>"
      ]
     },
     "metadata": {
      "needs_background": "light"
     },
     "output_type": "display_data"
    }
   ],
   "source": [
    "comp_interno2_table.plot(metric=\"event_rate\")\n",
    "comp_interno2_table.plot(metric=\"woe\")"
   ]
  },
  {
   "cell_type": "code",
   "execution_count": 36,
   "id": "c2a1bbde",
   "metadata": {},
   "outputs": [
    {
     "data": {
      "image/png": "[encoded data removed]",
      "text/plain": [
       "<Figure size 432x288 with 2 Axes>"
      ]
     },
     "metadata": {
      "needs_background": "light"
     },
     "output_type": "display_data"
    },
    {
     "data": {
      "image/png": "[encoded data removed]",
      "text/plain": [
       "<Figure size 432x288 with 2 Axes>"
      ]
     },
     "metadata": {
      "needs_background": "light"
     },
     "output_type": "display_data"
    }
   ],
   "source": [
    "comp_interno4_table.plot(metric=\"event_rate\")\n",
    "comp_interno4_table.plot(metric=\"woe\")"
   ]
  },
  {
   "cell_type": "code",
   "execution_count": 37,
   "id": "4b0dd78a",
   "metadata": {},
   "outputs": [
    {
     "data": {
      "image/png": "[encoded data removed]",
      "text/plain": [
       "<Figure size 432x288 with 2 Axes>"
      ]
     },
     "metadata": {
      "needs_background": "light"
     },
     "output_type": "display_data"
    },
    {
     "data": {
      "image/png": "[encoded data removed]",
      "text/plain": [
       "<Figure size 432x288 with 2 Axes>"
      ]
     },
     "metadata": {
      "needs_background": "light"
     },
     "output_type": "display_data"
    }
   ],
   "source": [
    "categoria1_table.plot(metric=\"event_rate\")\n",
    "categoria1_table.plot(metric=\"woe\")"
   ]
  },
  {
   "cell_type": "code",
   "execution_count": 38,
   "id": "a1cd3a24",
   "metadata": {},
   "outputs": [
    {
     "data": {
      "image/png": "[encoded data removed]",
      "text/plain": [
       "<Figure size 432x288 with 2 Axes>"
      ]
     },
     "metadata": {
      "needs_background": "light"
     },
     "output_type": "display_data"
    },
    {
     "data": {
      "image/png": "[encoded data removed]",
      "text/plain": [
       "<Figure size 432x288 with 2 Axes>"
      ]
     },
     "metadata": {
      "needs_background": "light"
     },
     "output_type": "display_data"
    }
   ],
   "source": [
    "categoria3_table.plot(metric=\"event_rate\")\n",
    "categoria3_table.plot(metric=\"woe\")"
   ]
  },
  {
   "cell_type": "code",
   "execution_count": 39,
   "id": "4d600d01",
   "metadata": {},
   "outputs": [
    {
     "data": {
      "image/png": "[encoded data removed]",
      "text/plain": [
       "<Figure size 432x288 with 2 Axes>"
      ]
     },
     "metadata": {
      "needs_background": "light"
     },
     "output_type": "display_data"
    },
    {
     "data": {
      "image/png": "[encoded data removed]",
      "text/plain": [
       "<Figure size 432x288 with 2 Axes>"
      ]
     },
     "metadata": {
      "needs_background": "light"
     },
     "output_type": "display_data"
    }
   ],
   "source": [
    "comp_mixto1_table.plot(metric=\"event_rate\")\n",
    "comp_mixto1_table.plot(metric=\"woe\")"
   ]
  },
  {
   "cell_type": "code",
   "execution_count": 40,
   "id": "6b72d0f2",
   "metadata": {},
   "outputs": [
    {
     "data": {
      "image/png": "[encoded data removed]",
      "text/plain": [
       "<Figure size 432x288 with 2 Axes>"
      ]
     },
     "metadata": {
      "needs_background": "light"
     },
     "output_type": "display_data"
    },
    {
     "data": {
      "image/png": "[encoded data removed]",
      "text/plain": [
       "<Figure size 432x288 with 2 Axes>"
      ]
     },
     "metadata": {
      "needs_background": "light"
     },
     "output_type": "display_data"
    }
   ],
   "source": [
    "comp_externo1_table.plot(metric=\"event_rate\")\n",
    "comp_externo1_table.plot(metric=\"woe\")"
   ]
  },
  {
   "cell_type": "code",
   "execution_count": 41,
   "id": "c48c7919",
   "metadata": {},
   "outputs": [
    {
     "data": {
      "image/png": "[encoded data removed]",
      "text/plain": [
       "<Figure size 432x288 with 2 Axes>"
      ]
     },
     "metadata": {
      "needs_background": "light"
     },
     "output_type": "display_data"
    },
    {
     "data": {
      "image/png": "[encoded data removed]",
      "text/plain": [
       "<Figure size 432x288 with 2 Axes>"
      ]
     },
     "metadata": {
      "needs_background": "light"
     },
     "output_type": "display_data"
    }
   ],
   "source": [
    "comp_externo2_table.plot(metric=\"event_rate\")\n",
    "comp_externo2_table.plot(metric=\"woe\")"
   ]
  },
  {
   "cell_type": "code",
   "execution_count": 42,
   "id": "a712e7ba",
   "metadata": {},
   "outputs": [
    {
     "data": {
      "image/png": "[encoded data removed]",
      "text/plain": [
       "<Figure size 432x288 with 2 Axes>"
      ]
     },
     "metadata": {
      "needs_background": "light"
     },
     "output_type": "display_data"
    },
    {
     "data": {
      "image/png": "[encoded data removed]",
      "text/plain": [
       "<Figure size 432x288 with 2 Axes>"
      ]
     },
     "metadata": {
      "needs_background": "light"
     },
     "output_type": "display_data"
    }
   ],
   "source": [
    "comp_externo3_table.plot(metric=\"event_rate\")\n",
    "comp_externo3_table.plot(metric=\"woe\")"
   ]
  },
  {
   "cell_type": "code",
   "execution_count": 43,
   "id": "f1004ece",
   "metadata": {},
   "outputs": [],
   "source": [
    "#Transformamos las variables a woe\n",
    "\n",
    "train[\"woe_comp_interno1\"] = optb_comp_interno1.transform(train[\"comp_interno1\"], metric=\"woe\")\n",
    "train[\"woe_comp_interno2\"] = optb_comp_interno4.transform(train[\"comp_interno2\"], metric=\"woe\")\n",
    "train[\"woe_comp_interno4\"] = optb_comp_interno4.transform(train[\"comp_interno4\"], metric=\"woe\")\n",
    "train[\"woe_categoria1\"] = optb_categoria1.transform(train[\"categoria1\"], metric=\"woe\")\n",
    "train[\"woe_categoria3\"] = optb_categoria3.transform(train[\"categoria3\"], metric=\"woe\")\n",
    "train[\"woe_comp_mixto1\"] = optb_comp_mixto1.transform(train[\"comp_mixto1\"], metric=\"woe\")\n",
    "train[\"woe_comp_externo1\"] = optb_comp_externo1.transform(train[\"comp_externo1\"], metric=\"woe\")\n",
    "train[\"woe_comp_externo2\"] = optb_comp_externo2.transform(train[\"comp_externo2\"], metric=\"woe\")\n",
    "train[\"woe_comp_externo3\"] = optb_comp_externo3.transform(train[\"comp_externo3\"], metric=\"woe\")"
   ]
  },
  {
   "cell_type": "code",
   "execution_count": 44,
   "id": "482a878f",
   "metadata": {},
   "outputs": [
    {
     "data": {
      "text/html": [
       "<div>\n",
       "<style scoped>\n",
       "    .dataframe tbody tr th:only-of-type {\n",
       "        vertical-align: middle;\n",
       "    }\n",
       "\n",
       "    .dataframe tbody tr th {\n",
       "        vertical-align: top;\n",
       "    }\n",
       "\n",
       "    .dataframe thead th {\n",
       "        text-align: right;\n",
       "    }\n",
       "</style>\n",
       "<table border=\"1\" class=\"dataframe\">\n",
       "  <thead>\n",
       "    <tr style=\"text-align: right;\">\n",
       "      <th></th>\n",
       "      <th>comp_interno1</th>\n",
       "      <th>comp_interno2</th>\n",
       "      <th>comp_interno4</th>\n",
       "      <th>categoria1</th>\n",
       "      <th>categoria3</th>\n",
       "      <th>comp_mixto1</th>\n",
       "      <th>comp_externo1</th>\n",
       "      <th>comp_externo2</th>\n",
       "      <th>comp_externo3</th>\n",
       "      <th>Comp_final</th>\n",
       "      <th>woe_comp_interno1</th>\n",
       "      <th>woe_comp_interno2</th>\n",
       "      <th>woe_comp_interno4</th>\n",
       "      <th>woe_categoria1</th>\n",
       "      <th>woe_categoria3</th>\n",
       "      <th>woe_comp_mixto1</th>\n",
       "      <th>woe_comp_externo1</th>\n",
       "      <th>woe_comp_externo2</th>\n",
       "      <th>woe_comp_externo3</th>\n",
       "    </tr>\n",
       "  </thead>\n",
       "  <tbody>\n",
       "    <tr>\n",
       "      <th>29340</th>\n",
       "      <td>1215.805471</td>\n",
       "      <td>b'1'</td>\n",
       "      <td>50</td>\n",
       "      <td>2</td>\n",
       "      <td>166</td>\n",
       "      <td>0.29190</td>\n",
       "      <td>90.463768</td>\n",
       "      <td>8.965814</td>\n",
       "      <td>131</td>\n",
       "      <td>0</td>\n",
       "      <td>-0.100292</td>\n",
       "      <td>0.0</td>\n",
       "      <td>-0.158978</td>\n",
       "      <td>0.400932</td>\n",
       "      <td>0.303590</td>\n",
       "      <td>0.942495</td>\n",
       "      <td>-0.355460</td>\n",
       "      <td>-0.454743</td>\n",
       "      <td>3.127588</td>\n",
       "    </tr>\n",
       "    <tr>\n",
       "      <th>11727</th>\n",
       "      <td>0.000000</td>\n",
       "      <td>b'1'</td>\n",
       "      <td>57</td>\n",
       "      <td>2</td>\n",
       "      <td>159</td>\n",
       "      <td>0.34000</td>\n",
       "      <td>236.231884</td>\n",
       "      <td>23.412812</td>\n",
       "      <td>122</td>\n",
       "      <td>0</td>\n",
       "      <td>0.025513</td>\n",
       "      <td>0.0</td>\n",
       "      <td>-0.240314</td>\n",
       "      <td>0.400932</td>\n",
       "      <td>0.015992</td>\n",
       "      <td>0.115254</td>\n",
       "      <td>0.392668</td>\n",
       "      <td>0.629959</td>\n",
       "      <td>1.427671</td>\n",
       "    </tr>\n",
       "    <tr>\n",
       "      <th>1578</th>\n",
       "      <td>0.000000</td>\n",
       "      <td>b'1'</td>\n",
       "      <td>55</td>\n",
       "      <td>2</td>\n",
       "      <td>146</td>\n",
       "      <td>0.31240</td>\n",
       "      <td>434.779710</td>\n",
       "      <td>42.401609</td>\n",
       "      <td>79</td>\n",
       "      <td>0</td>\n",
       "      <td>0.025513</td>\n",
       "      <td>0.0</td>\n",
       "      <td>0.266258</td>\n",
       "      <td>0.400932</td>\n",
       "      <td>0.484940</td>\n",
       "      <td>0.942495</td>\n",
       "      <td>1.139636</td>\n",
       "      <td>1.972944</td>\n",
       "      <td>0.146353</td>\n",
       "    </tr>\n",
       "    <tr>\n",
       "      <th>11317</th>\n",
       "      <td>0.000000</td>\n",
       "      <td>b'1'</td>\n",
       "      <td>41</td>\n",
       "      <td>1</td>\n",
       "      <td>146</td>\n",
       "      <td>0.31842</td>\n",
       "      <td>220.289855</td>\n",
       "      <td>21.832807</td>\n",
       "      <td>50</td>\n",
       "      <td>0</td>\n",
       "      <td>0.025513</td>\n",
       "      <td>0.0</td>\n",
       "      <td>0.095305</td>\n",
       "      <td>-0.363751</td>\n",
       "      <td>0.484940</td>\n",
       "      <td>0.942495</td>\n",
       "      <td>0.392668</td>\n",
       "      <td>0.629959</td>\n",
       "      <td>-1.099130</td>\n",
       "    </tr>\n",
       "    <tr>\n",
       "      <th>29490</th>\n",
       "      <td>0.000000</td>\n",
       "      <td>b'0'</td>\n",
       "      <td>55</td>\n",
       "      <td>1</td>\n",
       "      <td>171</td>\n",
       "      <td>0.37442</td>\n",
       "      <td>162.318841</td>\n",
       "      <td>16.087331</td>\n",
       "      <td>123</td>\n",
       "      <td>0</td>\n",
       "      <td>0.025513</td>\n",
       "      <td>0.0</td>\n",
       "      <td>0.266258</td>\n",
       "      <td>-0.363751</td>\n",
       "      <td>0.484940</td>\n",
       "      <td>-0.470105</td>\n",
       "      <td>-0.083161</td>\n",
       "      <td>0.001718</td>\n",
       "      <td>1.427671</td>\n",
       "    </tr>\n",
       "  </tbody>\n",
       "</table>\n",
       "</div>"
      ],
      "text/plain": [
       "       comp_interno1 comp_interno2  comp_interno4  categoria1  categoria3  \\\n",
       "29340    1215.805471          b'1'             50           2         166   \n",
       "11727       0.000000          b'1'             57           2         159   \n",
       "1578        0.000000          b'1'             55           2         146   \n",
       "11317       0.000000          b'1'             41           1         146   \n",
       "29490       0.000000          b'0'             55           1         171   \n",
       "\n",
       "       comp_mixto1  comp_externo1  comp_externo2  comp_externo3  Comp_final  \\\n",
       "29340      0.29190      90.463768       8.965814            131           0   \n",
       "11727      0.34000     236.231884      23.412812            122           0   \n",
       "1578       0.31240     434.779710      42.401609             79           0   \n",
       "11317      0.31842     220.289855      21.832807             50           0   \n",
       "29490      0.37442     162.318841      16.087331            123           0   \n",
       "\n",
       "       woe_comp_interno1  woe_comp_interno2  woe_comp_interno4  \\\n",
       "29340          -0.100292                0.0          -0.158978   \n",
       "11727           0.025513                0.0          -0.240314   \n",
       "1578            0.025513                0.0           0.266258   \n",
       "11317           0.025513                0.0           0.095305   \n",
       "29490           0.025513                0.0           0.266258   \n",
       "\n",
       "       woe_categoria1  woe_categoria3  woe_comp_mixto1  woe_comp_externo1  \\\n",
       "29340        0.400932        0.303590         0.942495          -0.355460   \n",
       "11727        0.400932        0.015992         0.115254           0.392668   \n",
       "1578         0.400932        0.484940         0.942495           1.139636   \n",
       "11317       -0.363751        0.484940         0.942495           0.392668   \n",
       "29490       -0.363751        0.484940        -0.470105          -0.083161   \n",
       "\n",
       "       woe_comp_externo2  woe_comp_externo3  \n",
       "29340          -0.454743           3.127588  \n",
       "11727           0.629959           1.427671  \n",
       "1578            1.972944           0.146353  \n",
       "11317           0.629959          -1.099130  \n",
       "29490           0.001718           1.427671  "
      ]
     },
     "execution_count": 44,
     "metadata": {},
     "output_type": "execute_result"
    }
   ],
   "source": [
    "train.head()"
   ]
  },
  {
   "cell_type": "code",
   "execution_count": 45,
   "id": "5e2f4dc7",
   "metadata": {},
   "outputs": [
    {
     "name": "stdout",
     "output_type": "stream",
     "text": [
      "<class 'pandas.core.frame.DataFrame'>\n",
      "Int64Index: 24591 entries, 29340 to 14147\n",
      "Data columns (total 19 columns):\n",
      " #   Column             Non-Null Count  Dtype  \n",
      "---  ------             --------------  -----  \n",
      " 0   comp_interno1      24591 non-null  float64\n",
      " 1   comp_interno2      24591 non-null  object \n",
      " 2   comp_interno4      24591 non-null  int64  \n",
      " 3   categoria1         24591 non-null  int64  \n",
      " 4   categoria3         24591 non-null  int64  \n",
      " 5   comp_mixto1        24591 non-null  float64\n",
      " 6   comp_externo1      24591 non-null  float64\n",
      " 7   comp_externo2      24591 non-null  float64\n",
      " 8   comp_externo3      24591 non-null  int64  \n",
      " 9   Comp_final         24591 non-null  int64  \n",
      " 10  woe_comp_interno1  24591 non-null  float64\n",
      " 11  woe_comp_interno2  24591 non-null  float64\n",
      " 12  woe_comp_interno4  24591 non-null  float64\n",
      " 13  woe_categoria1     24591 non-null  float64\n",
      " 14  woe_categoria3     24591 non-null  float64\n",
      " 15  woe_comp_mixto1    24591 non-null  float64\n",
      " 16  woe_comp_externo1  24591 non-null  float64\n",
      " 17  woe_comp_externo2  24591 non-null  float64\n",
      " 18  woe_comp_externo3  24591 non-null  float64\n",
      "dtypes: float64(13), int64(5), object(1)\n",
      "memory usage: 3.8+ MB\n"
     ]
    }
   ],
   "source": [
    "train.info()"
   ]
  },
  {
   "cell_type": "code",
   "execution_count": 46,
   "id": "7451d4c3",
   "metadata": {},
   "outputs": [
    {
     "data": {
      "image/png": "[encoded data removed]",
      "text/plain": [
       "<Figure size 720x720 with 2 Axes>"
      ]
     },
     "metadata": {
      "needs_background": "light"
     },
     "output_type": "display_data"
    }
   ],
   "source": [
    "corr = train.iloc[:,10:].corr()\n",
    "\n",
    "\n",
    "xticks = list(corr.index)  \n",
    "yticks = list(corr.index)  \n",
    "fig = plt.figure(figsize=(10,10))\n",
    "ax1 = fig.add_subplot(1, 1, 1)\n",
    "\n",
    "sns.heatmap(corr,annot=True,cmap=\"rainbow\",ax=ax1,linewidths=.5,annot_kws={'size':9,'weight':'bold', 'color':'k'})\n",
    "ax1.set_xticklabels(xticks, rotation=30, fontsize=10)\n",
    "ax1.set_yticklabels(yticks, rotation=0, fontsize=10)\n",
    "plt.show()"
   ]
  },
  {
   "cell_type": "code",
   "execution_count": 47,
   "id": "f810164c",
   "metadata": {},
   "outputs": [
    {
     "data": {
      "text/html": [
       "<div>\n",
       "<style scoped>\n",
       "    .dataframe tbody tr th:only-of-type {\n",
       "        vertical-align: middle;\n",
       "    }\n",
       "\n",
       "    .dataframe tbody tr th {\n",
       "        vertical-align: top;\n",
       "    }\n",
       "\n",
       "    .dataframe thead th {\n",
       "        text-align: right;\n",
       "    }\n",
       "</style>\n",
       "<table border=\"1\" class=\"dataframe\">\n",
       "  <thead>\n",
       "    <tr style=\"text-align: right;\">\n",
       "      <th></th>\n",
       "      <th>woe_comp_interno1</th>\n",
       "      <th>woe_comp_interno2</th>\n",
       "      <th>woe_comp_interno4</th>\n",
       "      <th>woe_categoria1</th>\n",
       "      <th>woe_categoria3</th>\n",
       "      <th>woe_comp_mixto1</th>\n",
       "      <th>woe_comp_externo1</th>\n",
       "      <th>woe_comp_externo2</th>\n",
       "      <th>woe_comp_externo3</th>\n",
       "    </tr>\n",
       "  </thead>\n",
       "  <tbody>\n",
       "    <tr>\n",
       "      <th>29340</th>\n",
       "      <td>-0.100292</td>\n",
       "      <td>0.0</td>\n",
       "      <td>-0.158978</td>\n",
       "      <td>0.400932</td>\n",
       "      <td>0.303590</td>\n",
       "      <td>0.942495</td>\n",
       "      <td>-0.355460</td>\n",
       "      <td>-0.454743</td>\n",
       "      <td>3.127588</td>\n",
       "    </tr>\n",
       "    <tr>\n",
       "      <th>11727</th>\n",
       "      <td>0.025513</td>\n",
       "      <td>0.0</td>\n",
       "      <td>-0.240314</td>\n",
       "      <td>0.400932</td>\n",
       "      <td>0.015992</td>\n",
       "      <td>0.115254</td>\n",
       "      <td>0.392668</td>\n",
       "      <td>0.629959</td>\n",
       "      <td>1.427671</td>\n",
       "    </tr>\n",
       "    <tr>\n",
       "      <th>1578</th>\n",
       "      <td>0.025513</td>\n",
       "      <td>0.0</td>\n",
       "      <td>0.266258</td>\n",
       "      <td>0.400932</td>\n",
       "      <td>0.484940</td>\n",
       "      <td>0.942495</td>\n",
       "      <td>1.139636</td>\n",
       "      <td>1.972944</td>\n",
       "      <td>0.146353</td>\n",
       "    </tr>\n",
       "    <tr>\n",
       "      <th>11317</th>\n",
       "      <td>0.025513</td>\n",
       "      <td>0.0</td>\n",
       "      <td>0.095305</td>\n",
       "      <td>-0.363751</td>\n",
       "      <td>0.484940</td>\n",
       "      <td>0.942495</td>\n",
       "      <td>0.392668</td>\n",
       "      <td>0.629959</td>\n",
       "      <td>-1.099130</td>\n",
       "    </tr>\n",
       "    <tr>\n",
       "      <th>29490</th>\n",
       "      <td>0.025513</td>\n",
       "      <td>0.0</td>\n",
       "      <td>0.266258</td>\n",
       "      <td>-0.363751</td>\n",
       "      <td>0.484940</td>\n",
       "      <td>-0.470105</td>\n",
       "      <td>-0.083161</td>\n",
       "      <td>0.001718</td>\n",
       "      <td>1.427671</td>\n",
       "    </tr>\n",
       "  </tbody>\n",
       "</table>\n",
       "</div>"
      ],
      "text/plain": [
       "       woe_comp_interno1  woe_comp_interno2  woe_comp_interno4  \\\n",
       "29340          -0.100292                0.0          -0.158978   \n",
       "11727           0.025513                0.0          -0.240314   \n",
       "1578            0.025513                0.0           0.266258   \n",
       "11317           0.025513                0.0           0.095305   \n",
       "29490           0.025513                0.0           0.266258   \n",
       "\n",
       "       woe_categoria1  woe_categoria3  woe_comp_mixto1  woe_comp_externo1  \\\n",
       "29340        0.400932        0.303590         0.942495          -0.355460   \n",
       "11727        0.400932        0.015992         0.115254           0.392668   \n",
       "1578         0.400932        0.484940         0.942495           1.139636   \n",
       "11317       -0.363751        0.484940         0.942495           0.392668   \n",
       "29490       -0.363751        0.484940        -0.470105          -0.083161   \n",
       "\n",
       "       woe_comp_externo2  woe_comp_externo3  \n",
       "29340          -0.454743           3.127588  \n",
       "11727           0.629959           1.427671  \n",
       "1578            1.972944           0.146353  \n",
       "11317           0.629959          -1.099130  \n",
       "29490           0.001718           1.427671  "
      ]
     },
     "execution_count": 47,
     "metadata": {},
     "output_type": "execute_result"
    }
   ],
   "source": [
    "X_woe_train=train.iloc[:,10:]\n",
    "y_train=train.iloc[:,9]\n",
    "X_woe_train.head()"
   ]
  },
  {
   "cell_type": "code",
   "execution_count": 48,
   "id": "73d98254",
   "metadata": {},
   "outputs": [],
   "source": [
    "train=train[[\"Comp_final\",\"woe_comp_interno1\",\"woe_comp_interno2\",\"woe_comp_interno4\",\"woe_categoria1\",\"woe_categoria3\",\"woe_comp_mixto1\",\"woe_comp_externo1\",\"woe_comp_externo2\",\"woe_comp_externo3\"]]"
   ]
  },
  {
   "cell_type": "code",
   "execution_count": 49,
   "id": "a1e66bdd",
   "metadata": {},
   "outputs": [
    {
     "data": {
      "image/png": "[encoded data removed]",
      "text/plain": [
       "<Figure size 720x720 with 2 Axes>"
      ]
     },
     "metadata": {
      "needs_background": "light"
     },
     "output_type": "display_data"
    }
   ],
   "source": [
    "corr = train.iloc[:,1:].corr()\n",
    "corr\n",
    "\n",
    "xticks = list(corr.index)  \n",
    "yticks = list(corr.index)  \n",
    "fig = plt.figure(figsize=(10,10))\n",
    "ax1 = fig.add_subplot(1, 1, 1)\n",
    "\n",
    "sns.heatmap(corr,annot=True,cmap=\"rainbow\",ax=ax1,linewidths=.5,annot_kws={'size':9,'weight':'bold', 'color':'k'})\n",
    "ax1.set_xticklabels(xticks, rotation=30, fontsize=10)\n",
    "ax1.set_yticklabels(yticks, rotation=0, fontsize=10)\n",
    "plt.show()"
   ]
  },
  {
   "cell_type": "code",
   "execution_count": 50,
   "id": "c93c8ddc",
   "metadata": {},
   "outputs": [],
   "source": [
    "model=LogisticRegression()\n",
    "clf=model.fit(X_woe_train,y_train)"
   ]
  },
  {
   "cell_type": "code",
   "execution_count": 51,
   "id": "a3da9dd6",
   "metadata": {},
   "outputs": [
    {
     "name": "stdout",
     "output_type": "stream",
     "text": [
      "y_pred\n",
      " [0 0 0 ... 0 0 0]\n",
      "y_pred1\n",
      " [-8.61152044 -6.82858865 -8.11104499 ... -4.3179783  -6.13571336\n",
      " -4.53005574]\n"
     ]
    },
    {
     "data": {
      "image/png": "[encoded data removed]",
      "text/plain": [
       "<Figure size 432x288 with 1 Axes>"
      ]
     },
     "metadata": {
      "needs_background": "light"
     },
     "output_type": "display_data"
    }
   ],
   "source": [
    "y_pred=clf.predict(X_woe_train)\n",
    "y_pred1=clf.decision_function(X_woe_train)\n",
    "print('y_pred\\n',y_pred)\n",
    "print('y_pred1\\n',y_pred1)\n",
    "\n",
    "#Draw ROC curve and calculate AUC value\n",
    "fpr,tpr,threshold = roc_curve(y_train, y_pred1)\n",
    "roc_auc = auc(fpr,tpr)\n",
    "plot(fpr,tpr,color='darkorange',\n",
    "         label='ROC curve (area = %0.2f)' % roc_auc)\n",
    "plt.plot([0, 1], [0, 1], color='navy', linestyle='--')\n",
    "plt.xlim([0.0, 1.0])\n",
    "plt.ylim([0.0, 1.0])\n",
    "plt.xlabel('False Positive Rate')\n",
    "plt.ylabel('True Positive Rate')\n",
    "plt.title('ROC_curve')\n",
    "plt.legend(loc=\"lower right\")\n",
    "plt.show()"
   ]
  },
  {
   "cell_type": "code",
   "execution_count": 52,
   "id": "87e0d705",
   "metadata": {},
   "outputs": [
    {
     "data": {
      "text/plain": [
       "array([-0.57747878,  0.        , -0.92260936, -0.62914318, -0.89037866,\n",
       "       -0.87616133, -0.36791866, -0.39619489, -0.8851477 ])"
      ]
     },
     "execution_count": 52,
     "metadata": {},
     "output_type": "execute_result"
    }
   ],
   "source": [
    "coe=model.coef_\n",
    "coe[0]"
   ]
  },
  {
   "cell_type": "code",
   "execution_count": 53,
   "id": "6abb9384",
   "metadata": {},
   "outputs": [],
   "source": [
    "#Como las variables woe_interno1 y woe_externo2 tienen mucha correlación con las demás las quitamos\n",
    "f_train=train[[\"Comp_final\",\"woe_comp_interno4\",\"woe_categoria3\",\"woe_comp_mixto1\",\"woe_comp_externo1\",\"woe_comp_externo3\"]]\n",
    "X_woe_train=f_train.iloc[:,1:]\n",
    "y_train=f_train.iloc[:,0]\n",
    "X_woe_train.head()\n",
    "model=LogisticRegression()\n",
    "clf=model.fit(X_woe_train,y_train)"
   ]
  },
  {
   "cell_type": "code",
   "execution_count": 54,
   "id": "0f8fbbae",
   "metadata": {},
   "outputs": [
    {
     "name": "stdout",
     "output_type": "stream",
     "text": [
      "y_pred\n",
      " [0 0 0 ... 0 0 0]\n",
      "y_pred1\n",
      " [-8.55122493 -6.45338492 -7.48884205 ... -4.56938766 -7.00095343\n",
      " -4.81091133]\n"
     ]
    },
    {
     "data": {
      "image/png": "[encoded data removed]",
      "text/plain": [
       "<Figure size 432x288 with 1 Axes>"
      ]
     },
     "metadata": {
      "needs_background": "light"
     },
     "output_type": "display_data"
    }
   ],
   "source": [
    "y_pred=clf.predict(X_woe_train)\n",
    "y_pred1=clf.decision_function(X_woe_train)\n",
    "print('y_pred\\n',y_pred)\n",
    "print('y_pred1\\n',y_pred1)\n",
    "\n",
    "#Draw ROC curve and calculate AUC value\n",
    "fpr,tpr,threshold = roc_curve(y_train, y_pred1)\n",
    "roc_auc = auc(fpr,tpr)\n",
    "plot(fpr,tpr,color='darkorange',\n",
    "         label='ROC curve (area = %0.2f)' % roc_auc)\n",
    "plt.plot([0, 1], [0, 1], color='navy', linestyle='--')\n",
    "plt.xlim([0.0, 1.0])\n",
    "plt.ylim([0.0, 1.0])\n",
    "plt.xlabel('False Positive Rate')\n",
    "plt.ylabel('True Positive Rate')\n",
    "plt.title('ROC_curve')\n",
    "plt.legend(loc=\"lower right\")\n",
    "plt.show()"
   ]
  },
  {
   "cell_type": "code",
   "execution_count": 55,
   "id": "30f3dc8a",
   "metadata": {},
   "outputs": [
    {
     "data": {
      "text/plain": [
       "array([-0.92831188, -0.92889289, -0.9139703 , -0.69162515, -0.89212525])"
      ]
     },
     "execution_count": 55,
     "metadata": {},
     "output_type": "execute_result"
    }
   ],
   "source": [
    "coe=model.coef_\n",
    "coe[0]"
   ]
  },
  {
   "cell_type": "code",
   "execution_count": 56,
   "id": "32e75cc9",
   "metadata": {},
   "outputs": [
    {
     "data": {
      "text/plain": [
       "(array([  1.,   0.,   0.,   0.,   0.,   1.,   0.,   1.,   0.,   0.,   3.,\n",
       "          3.,   9.,   2.,   9.,   5.,   5.,  10.,  16.,  15.,  20.,  20.,\n",
       "         30.,  49.,  40.,  42.,  44.,  57.,  63.,  85.,  82., 117., 108.,\n",
       "        128., 167., 163., 181., 180., 203., 199., 240., 237., 271., 271.,\n",
       "        337., 286., 399., 385., 407., 402., 426., 489., 489., 464., 545.,\n",
       "        546., 552., 596., 621., 661., 646., 688., 640., 715., 710., 638.,\n",
       "        657., 598., 730., 608., 673., 576., 591., 585., 498., 480., 433.,\n",
       "        453., 383., 366., 335., 356., 269., 187., 230., 168., 165., 104.,\n",
       "        123.,  78.,  71.,  31.,  38.,  38.,  10.,  19.,   7.,   7.,   1.,\n",
       "          4.]),\n",
       " array([-13.35479732, -13.23730616, -13.119815  , -13.00232384,\n",
       "        -12.88483268, -12.76734152, -12.64985037, -12.53235921,\n",
       "        -12.41486805, -12.29737689, -12.17988573, -12.06239457,\n",
       "        -11.94490341, -11.82741225, -11.70992109, -11.59242993,\n",
       "        -11.47493877, -11.35744761, -11.23995645, -11.12246529,\n",
       "        -11.00497413, -10.88748297, -10.76999181, -10.65250066,\n",
       "        -10.5350095 , -10.41751834, -10.30002718, -10.18253602,\n",
       "        -10.06504486,  -9.9475537 ,  -9.83006254,  -9.71257138,\n",
       "         -9.59508022,  -9.47758906,  -9.3600979 ,  -9.24260674,\n",
       "         -9.12511558,  -9.00762442,  -8.89013326,  -8.7726421 ,\n",
       "         -8.65515095,  -8.53765979,  -8.42016863,  -8.30267747,\n",
       "         -8.18518631,  -8.06769515,  -7.95020399,  -7.83271283,\n",
       "         -7.71522167,  -7.59773051,  -7.48023935,  -7.36274819,\n",
       "         -7.24525703,  -7.12776587,  -7.01027471,  -6.89278355,\n",
       "         -6.77529239,  -6.65780123,  -6.54031008,  -6.42281892,\n",
       "         -6.30532776,  -6.1878366 ,  -6.07034544,  -5.95285428,\n",
       "         -5.83536312,  -5.71787196,  -5.6003808 ,  -5.48288964,\n",
       "         -5.36539848,  -5.24790732,  -5.13041616,  -5.012925  ,\n",
       "         -4.89543384,  -4.77794268,  -4.66045152,  -4.54296037,\n",
       "         -4.42546921,  -4.30797805,  -4.19048689,  -4.07299573,\n",
       "         -3.95550457,  -3.83801341,  -3.72052225,  -3.60303109,\n",
       "         -3.48553993,  -3.36804877,  -3.25055761,  -3.13306645,\n",
       "         -3.01557529,  -2.89808413,  -2.78059297,  -2.66310181,\n",
       "         -2.54561066,  -2.4281195 ,  -2.31062834,  -2.19313718,\n",
       "         -2.07564602,  -1.95815486,  -1.8406637 ,  -1.72317254,\n",
       "         -1.60568138]),\n",
       " <BarContainer object of 100 artists>)"
      ]
     },
     "execution_count": 56,
     "metadata": {},
     "output_type": "execute_result"
    },
    {
     "data": {
      "image/png": "[encoded data removed]",
      "text/plain": [
       "<Figure size 432x288 with 1 Axes>"
      ]
     },
     "metadata": {
      "needs_background": "light"
     },
     "output_type": "display_data"
    }
   ],
   "source": [
    "hist(y_pred1,bins=100)"
   ]
  },
  {
   "cell_type": "code",
   "execution_count": 57,
   "id": "08e1331a",
   "metadata": {},
   "outputs": [
    {
     "data": {
      "text/plain": [
       "'/home/fernandolb/Universidad/Estadística/SeminarioEstadistica/SeminarioEstadistica_2022-1/Tarea 2'"
      ]
     },
     "execution_count": 57,
     "metadata": {},
     "output_type": "execute_result"
    }
   ],
   "source": [
    "import os\n",
    "os.getcwd()"
   ]
  },
  {
   "cell_type": "code",
   "execution_count": 58,
   "id": "8d793ed3",
   "metadata": {},
   "outputs": [],
   "source": [
    "train.to_csv(\"bd_train2.csv\",index=None)"
   ]
  },
  {
   "cell_type": "code",
   "execution_count": 59,
   "id": "eb53c222",
   "metadata": {},
   "outputs": [
    {
     "data": {
      "text/plain": [
       "-0.9283118815248467"
      ]
     },
     "execution_count": 59,
     "metadata": {},
     "output_type": "execute_result"
    }
   ],
   "source": [
    "coe[0][0]"
   ]
  },
  {
   "cell_type": "code",
   "execution_count": 60,
   "id": "ebb97f9a",
   "metadata": {},
   "outputs": [],
   "source": [
    "#Según nuestra validación en R es mejor si sacamos la variable woe_comp_externo1 en vez de la variable comp_externo2 por el\n",
    "#AIC, también el IV de las variables nos sugiere esto pues el IV de comp_externo2 es mayor\n",
    "#Hagamoslo así entonces:\n",
    "#Como las variables woe_interno1 y woe_externo2 tienen mucha correlación con las demás las quitamos\n",
    "f_train=train[[\"Comp_final\",\"woe_comp_interno2\",\"woe_comp_interno4\",\"woe_categoria1\",\"woe_categoria3\",\"woe_comp_mixto1\",\"woe_comp_externo2\",\"woe_comp_externo3\"]]\n",
    "X_woe_train=f_train.iloc[:,1:]\n",
    "y_train=f_train.iloc[:,0]\n",
    "X_woe_train.head()\n",
    "model=LogisticRegression()\n",
    "clf=model.fit(X_woe_train,y_train)"
   ]
  },
  {
   "cell_type": "code",
   "execution_count": 61,
   "id": "43cbecba",
   "metadata": {},
   "outputs": [
    {
     "name": "stdout",
     "output_type": "stream",
     "text": [
      "y_pred\n",
      " [0 0 0 ... 0 0 0]\n",
      "y_pred1\n",
      " [-8.70486393 -6.89945639 -8.30689267 ... -4.19353757 -5.61387112\n",
      " -4.49473533]\n"
     ]
    },
    {
     "data": {
      "image/png": "[encoded data removed]",
      "text/plain": [
       "<Figure size 432x288 with 1 Axes>"
      ]
     },
     "metadata": {
      "needs_background": "light"
     },
     "output_type": "display_data"
    }
   ],
   "source": [
    "y_pred=clf.predict(X_woe_train)\n",
    "y_pred1=clf.decision_function(X_woe_train)\n",
    "print('y_pred\\n',y_pred)\n",
    "print('y_pred1\\n',y_pred1)\n",
    "\n",
    "#Draw ROC curve and calculate AUC value\n",
    "fpr,tpr,threshold = roc_curve(y_train, y_pred1)\n",
    "roc_auc = auc(fpr,tpr)\n",
    "plot(fpr,tpr,color='darkorange',\n",
    "         label='ROC curve (area = %0.2f)' % roc_auc)\n",
    "plt.plot([0, 1], [0, 1], color='navy', linestyle='--')\n",
    "plt.xlim([0.0, 1.0])\n",
    "plt.ylim([0.0, 1.0])\n",
    "plt.xlabel('False Positive Rate')\n",
    "plt.ylabel('True Positive Rate')\n",
    "plt.title('ROC_curve')\n",
    "plt.legend(loc=\"lower right\")\n",
    "plt.show()"
   ]
  },
  {
   "cell_type": "code",
   "execution_count": 62,
   "id": "1e64e617",
   "metadata": {},
   "outputs": [
    {
     "data": {
      "text/plain": [
       "array([ 0.        , -0.92603349, -0.63940195, -0.88029105, -0.87010005,\n",
       "       -0.7164915 , -0.9025831 ])"
      ]
     },
     "execution_count": 62,
     "metadata": {},
     "output_type": "execute_result"
    }
   ],
   "source": [
    "coe=model.coef_\n",
    "coe[0]"
   ]
  },
  {
   "cell_type": "code",
   "execution_count": 63,
   "id": "d0db5eae",
   "metadata": {},
   "outputs": [
    {
     "data": {
      "text/plain": [
       "(array([  1.,   0.,   1.,   1.,   0.,   2.,   5.,   3.,   5.,   4.,   7.,\n",
       "          6.,  13.,   6.,  25.,  26.,  20.,  31.,  46.,  44.,  49.,  58.,\n",
       "         62.,  48.,  72.,  73., 107., 113., 115., 132., 145., 143., 164.,\n",
       "        196., 199., 224., 222., 256., 265., 283., 294., 306., 327., 363.,\n",
       "        371., 382., 385., 472., 432., 443., 438., 492., 552., 542., 590.,\n",
       "        555., 616., 594., 632., 614., 613., 620., 658., 592., 625., 614.,\n",
       "        596., 629., 607., 551., 513., 507., 465., 461., 465., 388., 394.,\n",
       "        378., 314., 296., 257., 237., 195., 147., 185., 134., 126., 113.,\n",
       "         82.,  61.,  61.,  42.,  28.,  21.,  13.,  10.,   5.,   9.,   0.,\n",
       "          7.]),\n",
       " array([-12.65580079, -12.54500214, -12.43420348, -12.32340482,\n",
       "        -12.21260616, -12.10180751, -11.99100885, -11.88021019,\n",
       "        -11.76941153, -11.65861288, -11.54781422, -11.43701556,\n",
       "        -11.3262169 , -11.21541825, -11.10461959, -10.99382093,\n",
       "        -10.88302227, -10.77222362, -10.66142496, -10.5506263 ,\n",
       "        -10.43982764, -10.32902899, -10.21823033, -10.10743167,\n",
       "         -9.99663301,  -9.88583436,  -9.7750357 ,  -9.66423704,\n",
       "         -9.55343838,  -9.44263973,  -9.33184107,  -9.22104241,\n",
       "         -9.11024375,  -8.9994451 ,  -8.88864644,  -8.77784778,\n",
       "         -8.66704912,  -8.55625047,  -8.44545181,  -8.33465315,\n",
       "         -8.22385449,  -8.11305584,  -8.00225718,  -7.89145852,\n",
       "         -7.78065986,  -7.66986121,  -7.55906255,  -7.44826389,\n",
       "         -7.33746523,  -7.22666658,  -7.11586792,  -7.00506926,\n",
       "         -6.8942706 ,  -6.78347195,  -6.67267329,  -6.56187463,\n",
       "         -6.45107597,  -6.34027732,  -6.22947866,  -6.11868   ,\n",
       "         -6.00788134,  -5.89708268,  -5.78628403,  -5.67548537,\n",
       "         -5.56468671,  -5.45388805,  -5.3430894 ,  -5.23229074,\n",
       "         -5.12149208,  -5.01069342,  -4.89989477,  -4.78909611,\n",
       "         -4.67829745,  -4.56749879,  -4.45670014,  -4.34590148,\n",
       "         -4.23510282,  -4.12430416,  -4.01350551,  -3.90270685,\n",
       "         -3.79190819,  -3.68110953,  -3.57031088,  -3.45951222,\n",
       "         -3.34871356,  -3.2379149 ,  -3.12711625,  -3.01631759,\n",
       "         -2.90551893,  -2.79472027,  -2.68392162,  -2.57312296,\n",
       "         -2.4623243 ,  -2.35152564,  -2.24072699,  -2.12992833,\n",
       "         -2.01912967,  -1.90833101,  -1.79753236,  -1.6867337 ,\n",
       "         -1.57593504]),\n",
       " <BarContainer object of 100 artists>)"
      ]
     },
     "execution_count": 63,
     "metadata": {},
     "output_type": "execute_result"
    },
    {
     "data": {
      "image/png": "[encoded data removed]",
      "text/plain": [
       "<Figure size 432x288 with 1 Axes>"
      ]
     },
     "metadata": {
      "needs_background": "light"
     },
     "output_type": "display_data"
    }
   ],
   "source": [
    "hist(y_pred1,bins=100)"
   ]
  },
  {
   "cell_type": "code",
   "execution_count": 64,
   "id": "47b2c0a6",
   "metadata": {},
   "outputs": [
    {
     "data": {
      "text/plain": [
       "array([[ 0.        , -0.92603349, -0.63940195, -0.88029105, -0.87010005,\n",
       "        -0.7164915 , -0.9025831 ]])"
      ]
     },
     "execution_count": 64,
     "metadata": {},
     "output_type": "execute_result"
    }
   ],
   "source": [
    "coe=model.coef_\n",
    "coe"
   ]
  },
  {
   "cell_type": "code",
   "execution_count": 65,
   "id": "027d4132",
   "metadata": {},
   "outputs": [
    {
     "data": {
      "text/plain": [
       "array([-5.01132568])"
      ]
     },
     "execution_count": 65,
     "metadata": {},
     "output_type": "execute_result"
    }
   ],
   "source": [
    "model.intercept_"
   ]
  },
  {
   "cell_type": "markdown",
   "id": "25d60bdb",
   "metadata": {},
   "source": [
    "#¿Qué pasó con el test?  \n",
    "##Una vez que tenemos la base calificada, pasamos a sacar algunas características de interés"
   ]
  },
  {
   "cell_type": "code",
   "execution_count": 66,
   "id": "40e2a646",
   "metadata": {},
   "outputs": [
    {
     "data": {
      "text/plain": [
       "24591"
      ]
     },
     "execution_count": 66,
     "metadata": {},
     "output_type": "execute_result"
    }
   ],
   "source": [
    "#Obtenemos el predict\n",
    "y_pr_fit=clf.predict_proba(X_woe_train)\n",
    "len(y_pr_fit[:,0])"
   ]
  },
  {
   "cell_type": "code",
   "execution_count": 67,
   "id": "321387a1",
   "metadata": {},
   "outputs": [
    {
     "data": {
      "text/plain": [
       "array([[9.99834250e-01, 1.65750040e-04],\n",
       "       [9.98992682e-01, 1.00731771e-03],\n",
       "       [9.99753251e-01, 2.46748872e-04],\n",
       "       ...,\n",
       "       [9.85131607e-01, 1.48683928e-02],\n",
       "       [9.96366327e-01, 3.63367258e-03],\n",
       "       [9.88955703e-01, 1.10442973e-02]])"
      ]
     },
     "execution_count": 67,
     "metadata": {},
     "output_type": "execute_result"
    }
   ],
   "source": [
    "y_pr_fit"
   ]
  },
  {
   "cell_type": "code",
   "execution_count": 68,
   "id": "ddf4ba12",
   "metadata": {},
   "outputs": [
    {
     "data": {
      "text/plain": [
       "pandas.core.series.Series"
      ]
     },
     "execution_count": 68,
     "metadata": {},
     "output_type": "execute_result"
    }
   ],
   "source": [
    "type(y_train)"
   ]
  },
  {
   "cell_type": "code",
   "execution_count": 69,
   "id": "1ce52fb5",
   "metadata": {},
   "outputs": [],
   "source": [
    "df=y_train.to_frame()\n",
    "#df[\"estimado\"]=y_pr_fit\n",
    "#df[\"estimado\"]=y_pr_fit"
   ]
  },
  {
   "cell_type": "code",
   "execution_count": 70,
   "id": "fc1ffac7",
   "metadata": {},
   "outputs": [
    {
     "data": {
      "text/html": [
       "<div>\n",
       "<style scoped>\n",
       "    .dataframe tbody tr th:only-of-type {\n",
       "        vertical-align: middle;\n",
       "    }\n",
       "\n",
       "    .dataframe tbody tr th {\n",
       "        vertical-align: top;\n",
       "    }\n",
       "\n",
       "    .dataframe thead th {\n",
       "        text-align: right;\n",
       "    }\n",
       "</style>\n",
       "<table border=\"1\" class=\"dataframe\">\n",
       "  <thead>\n",
       "    <tr style=\"text-align: right;\">\n",
       "      <th></th>\n",
       "      <th>Comp_final</th>\n",
       "      <th>estimado</th>\n",
       "    </tr>\n",
       "  </thead>\n",
       "  <tbody>\n",
       "    <tr>\n",
       "      <th>29340</th>\n",
       "      <td>0</td>\n",
       "      <td>0.000166</td>\n",
       "    </tr>\n",
       "    <tr>\n",
       "      <th>11727</th>\n",
       "      <td>0</td>\n",
       "      <td>0.001007</td>\n",
       "    </tr>\n",
       "    <tr>\n",
       "      <th>1578</th>\n",
       "      <td>0</td>\n",
       "      <td>0.000247</td>\n",
       "    </tr>\n",
       "    <tr>\n",
       "      <th>11317</th>\n",
       "      <td>0</td>\n",
       "      <td>0.003784</td>\n",
       "    </tr>\n",
       "    <tr>\n",
       "      <th>29490</th>\n",
       "      <td>0</td>\n",
       "      <td>0.001774</td>\n",
       "    </tr>\n",
       "    <tr>\n",
       "      <th>...</th>\n",
       "      <td>...</td>\n",
       "      <td>...</td>\n",
       "    </tr>\n",
       "    <tr>\n",
       "      <th>16734</th>\n",
       "      <td>1</td>\n",
       "      <td>0.014248</td>\n",
       "    </tr>\n",
       "    <tr>\n",
       "      <th>16304</th>\n",
       "      <td>0</td>\n",
       "      <td>0.004200</td>\n",
       "    </tr>\n",
       "    <tr>\n",
       "      <th>79</th>\n",
       "      <td>0</td>\n",
       "      <td>0.014868</td>\n",
       "    </tr>\n",
       "    <tr>\n",
       "      <th>12119</th>\n",
       "      <td>0</td>\n",
       "      <td>0.003634</td>\n",
       "    </tr>\n",
       "    <tr>\n",
       "      <th>14147</th>\n",
       "      <td>0</td>\n",
       "      <td>0.011044</td>\n",
       "    </tr>\n",
       "  </tbody>\n",
       "</table>\n",
       "<p>24591 rows × 2 columns</p>\n",
       "</div>"
      ],
      "text/plain": [
       "       Comp_final  estimado\n",
       "29340           0  0.000166\n",
       "11727           0  0.001007\n",
       "1578            0  0.000247\n",
       "11317           0  0.003784\n",
       "29490           0  0.001774\n",
       "...           ...       ...\n",
       "16734           1  0.014248\n",
       "16304           0  0.004200\n",
       "79              0  0.014868\n",
       "12119           0  0.003634\n",
       "14147           0  0.011044\n",
       "\n",
       "[24591 rows x 2 columns]"
      ]
     },
     "execution_count": 70,
     "metadata": {},
     "output_type": "execute_result"
    }
   ],
   "source": [
    "df[\"estimado\"]=y_pr_fit[:,1]\n",
    "df"
   ]
  },
  {
   "cell_type": "code",
   "execution_count": 71,
   "id": "98ab1dd5",
   "metadata": {},
   "outputs": [],
   "source": [
    "from pylab import*"
   ]
  },
  {
   "cell_type": "code",
   "execution_count": 72,
   "id": "3ed0a8ea",
   "metadata": {},
   "outputs": [
    {
     "data": {
      "image/png": "[encoded data removed]",
      "text/plain": [
       "<Figure size 432x288 with 1 Axes>"
      ]
     },
     "metadata": {
      "needs_background": "light"
     },
     "output_type": "display_data"
    }
   ],
   "source": [
    "hist(df[df[\"Comp_final\"]==1.0][\"estimado\"],color=\"red\")\n",
    "#hist(df[df[\"Comp_final\"]==0.0][\"estimado\"],color=\"blue\")\n",
    "show()"
   ]
  },
  {
   "cell_type": "code",
   "execution_count": 73,
   "id": "3377c5c4",
   "metadata": {},
   "outputs": [],
   "source": [
    "#fig, ax=plt.subplots(figsize=(10,5))\n",
    "#hist(df[df[\"Comp_final\"]==1.0][\"estimado\"],weights=np.ones(len(df[df[\"Comp_final\"]==1.0][\"estimado\"]))/ len(df[df[\"Comp_final\"]][\"estimado\"]) ,color=\"red\")\n",
    "#show()"
   ]
  },
  {
   "cell_type": "code",
   "execution_count": 74,
   "id": "68fc2f3f",
   "metadata": {},
   "outputs": [
    {
     "data": {
      "text/html": [
       "<div>\n",
       "<style scoped>\n",
       "    .dataframe tbody tr th:only-of-type {\n",
       "        vertical-align: middle;\n",
       "    }\n",
       "\n",
       "    .dataframe tbody tr th {\n",
       "        vertical-align: top;\n",
       "    }\n",
       "\n",
       "    .dataframe thead th {\n",
       "        text-align: right;\n",
       "    }\n",
       "</style>\n",
       "<table border=\"1\" class=\"dataframe\">\n",
       "  <thead>\n",
       "    <tr style=\"text-align: right;\">\n",
       "      <th></th>\n",
       "      <th>Comp_final</th>\n",
       "      <th>estimado</th>\n",
       "      <th>Rango_prob</th>\n",
       "    </tr>\n",
       "  </thead>\n",
       "  <tbody>\n",
       "    <tr>\n",
       "      <th>29340</th>\n",
       "      <td>0</td>\n",
       "      <td>0.000166</td>\n",
       "      <td>(0.000132, 0.00028]</td>\n",
       "    </tr>\n",
       "    <tr>\n",
       "      <th>11727</th>\n",
       "      <td>0</td>\n",
       "      <td>0.001007</td>\n",
       "      <td>(0.000734, 0.00108]</td>\n",
       "    </tr>\n",
       "    <tr>\n",
       "      <th>1578</th>\n",
       "      <td>0</td>\n",
       "      <td>0.000247</td>\n",
       "      <td>(0.000132, 0.00028]</td>\n",
       "    </tr>\n",
       "    <tr>\n",
       "      <th>11317</th>\n",
       "      <td>0</td>\n",
       "      <td>0.003784</td>\n",
       "      <td>(0.00361, 0.00487]</td>\n",
       "    </tr>\n",
       "    <tr>\n",
       "      <th>29490</th>\n",
       "      <td>0</td>\n",
       "      <td>0.001774</td>\n",
       "      <td>(0.00149, 0.00202]</td>\n",
       "    </tr>\n",
       "  </tbody>\n",
       "</table>\n",
       "</div>"
      ],
      "text/plain": [
       "       Comp_final  estimado           Rango_prob\n",
       "29340           0  0.000166  (0.000132, 0.00028]\n",
       "11727           0  0.001007  (0.000734, 0.00108]\n",
       "1578            0  0.000247  (0.000132, 0.00028]\n",
       "11317           0  0.003784   (0.00361, 0.00487]\n",
       "29490           0  0.001774   (0.00149, 0.00202]"
      ]
     },
     "execution_count": 74,
     "metadata": {},
     "output_type": "execute_result"
    }
   ],
   "source": [
    "df[\"Rango_prob\"]=pd.qcut(df.estimado, 15)\n",
    "df.head()"
   ]
  },
  {
   "cell_type": "code",
   "execution_count": 75,
   "id": "a6377dc2",
   "metadata": {},
   "outputs": [
    {
     "data": {
      "text/html": [
       "<div>\n",
       "<style scoped>\n",
       "    .dataframe tbody tr th:only-of-type {\n",
       "        vertical-align: middle;\n",
       "    }\n",
       "\n",
       "    .dataframe tbody tr th {\n",
       "        vertical-align: top;\n",
       "    }\n",
       "\n",
       "    .dataframe thead th {\n",
       "        text-align: right;\n",
       "    }\n",
       "</style>\n",
       "<table border=\"1\" class=\"dataframe\">\n",
       "  <thead>\n",
       "    <tr style=\"text-align: right;\">\n",
       "      <th></th>\n",
       "      <th></th>\n",
       "      <th>estimado</th>\n",
       "    </tr>\n",
       "    <tr>\n",
       "      <th>Comp_final</th>\n",
       "      <th>Rango_prob</th>\n",
       "      <th></th>\n",
       "    </tr>\n",
       "  </thead>\n",
       "  <tbody>\n",
       "    <tr>\n",
       "      <th rowspan=\"15\" valign=\"top\">0</th>\n",
       "      <th>(-0.00099681, 0.000132]</th>\n",
       "      <td>1640</td>\n",
       "    </tr>\n",
       "    <tr>\n",
       "      <th>(0.000132, 0.00028]</th>\n",
       "      <td>1639</td>\n",
       "    </tr>\n",
       "    <tr>\n",
       "      <th>(0.00028, 0.000478]</th>\n",
       "      <td>1640</td>\n",
       "    </tr>\n",
       "    <tr>\n",
       "      <th>(0.000478, 0.000734]</th>\n",
       "      <td>1637</td>\n",
       "    </tr>\n",
       "    <tr>\n",
       "      <th>(0.000734, 0.00108]</th>\n",
       "      <td>1638</td>\n",
       "    </tr>\n",
       "    <tr>\n",
       "      <th>(0.00108, 0.00149]</th>\n",
       "      <td>1638</td>\n",
       "    </tr>\n",
       "    <tr>\n",
       "      <th>(0.00149, 0.00202]</th>\n",
       "      <td>1639</td>\n",
       "    </tr>\n",
       "    <tr>\n",
       "      <th>(0.00202, 0.00271]</th>\n",
       "      <td>1637</td>\n",
       "    </tr>\n",
       "    <tr>\n",
       "      <th>(0.00271, 0.00361]</th>\n",
       "      <td>1638</td>\n",
       "    </tr>\n",
       "    <tr>\n",
       "      <th>(0.00361, 0.00487]</th>\n",
       "      <td>1629</td>\n",
       "    </tr>\n",
       "    <tr>\n",
       "      <th>(0.00487, 0.00651]</th>\n",
       "      <td>1629</td>\n",
       "    </tr>\n",
       "    <tr>\n",
       "      <th>(0.00651, 0.00916]</th>\n",
       "      <td>1622</td>\n",
       "    </tr>\n",
       "    <tr>\n",
       "      <th>(0.00916, 0.0136]</th>\n",
       "      <td>1624</td>\n",
       "    </tr>\n",
       "    <tr>\n",
       "      <th>(0.0136, 0.0229]</th>\n",
       "      <td>1611</td>\n",
       "    </tr>\n",
       "    <tr>\n",
       "      <th>(0.0229, 0.171]</th>\n",
       "      <td>1568</td>\n",
       "    </tr>\n",
       "    <tr>\n",
       "      <th rowspan=\"15\" valign=\"top\">1</th>\n",
       "      <th>(-0.00099681, 0.000132]</th>\n",
       "      <td>0</td>\n",
       "    </tr>\n",
       "    <tr>\n",
       "      <th>(0.000132, 0.00028]</th>\n",
       "      <td>0</td>\n",
       "    </tr>\n",
       "    <tr>\n",
       "      <th>(0.00028, 0.000478]</th>\n",
       "      <td>1</td>\n",
       "    </tr>\n",
       "    <tr>\n",
       "      <th>(0.000478, 0.000734]</th>\n",
       "      <td>1</td>\n",
       "    </tr>\n",
       "    <tr>\n",
       "      <th>(0.000734, 0.00108]</th>\n",
       "      <td>1</td>\n",
       "    </tr>\n",
       "    <tr>\n",
       "      <th>(0.00108, 0.00149]</th>\n",
       "      <td>2</td>\n",
       "    </tr>\n",
       "    <tr>\n",
       "      <th>(0.00149, 0.00202]</th>\n",
       "      <td>1</td>\n",
       "    </tr>\n",
       "    <tr>\n",
       "      <th>(0.00202, 0.00271]</th>\n",
       "      <td>1</td>\n",
       "    </tr>\n",
       "    <tr>\n",
       "      <th>(0.00271, 0.00361]</th>\n",
       "      <td>2</td>\n",
       "    </tr>\n",
       "    <tr>\n",
       "      <th>(0.00361, 0.00487]</th>\n",
       "      <td>10</td>\n",
       "    </tr>\n",
       "    <tr>\n",
       "      <th>(0.00487, 0.00651]</th>\n",
       "      <td>10</td>\n",
       "    </tr>\n",
       "    <tr>\n",
       "      <th>(0.00651, 0.00916]</th>\n",
       "      <td>18</td>\n",
       "    </tr>\n",
       "    <tr>\n",
       "      <th>(0.00916, 0.0136]</th>\n",
       "      <td>15</td>\n",
       "    </tr>\n",
       "    <tr>\n",
       "      <th>(0.0136, 0.0229]</th>\n",
       "      <td>28</td>\n",
       "    </tr>\n",
       "    <tr>\n",
       "      <th>(0.0229, 0.171]</th>\n",
       "      <td>72</td>\n",
       "    </tr>\n",
       "  </tbody>\n",
       "</table>\n",
       "</div>"
      ],
      "text/plain": [
       "                                    estimado\n",
       "Comp_final Rango_prob                       \n",
       "0          (-0.00099681, 0.000132]      1640\n",
       "           (0.000132, 0.00028]          1639\n",
       "           (0.00028, 0.000478]          1640\n",
       "           (0.000478, 0.000734]         1637\n",
       "           (0.000734, 0.00108]          1638\n",
       "           (0.00108, 0.00149]           1638\n",
       "           (0.00149, 0.00202]           1639\n",
       "           (0.00202, 0.00271]           1637\n",
       "           (0.00271, 0.00361]           1638\n",
       "           (0.00361, 0.00487]           1629\n",
       "           (0.00487, 0.00651]           1629\n",
       "           (0.00651, 0.00916]           1622\n",
       "           (0.00916, 0.0136]            1624\n",
       "           (0.0136, 0.0229]             1611\n",
       "           (0.0229, 0.171]              1568\n",
       "1          (-0.00099681, 0.000132]         0\n",
       "           (0.000132, 0.00028]             0\n",
       "           (0.00028, 0.000478]             1\n",
       "           (0.000478, 0.000734]            1\n",
       "           (0.000734, 0.00108]             1\n",
       "           (0.00108, 0.00149]              2\n",
       "           (0.00149, 0.00202]              1\n",
       "           (0.00202, 0.00271]              1\n",
       "           (0.00271, 0.00361]              2\n",
       "           (0.00361, 0.00487]             10\n",
       "           (0.00487, 0.00651]             10\n",
       "           (0.00651, 0.00916]             18\n",
       "           (0.00916, 0.0136]              15\n",
       "           (0.0136, 0.0229]               28\n",
       "           (0.0229, 0.171]                72"
      ]
     },
     "execution_count": 75,
     "metadata": {},
     "output_type": "execute_result"
    }
   ],
   "source": [
    "df.groupby(['Comp_final', \"Rango_prob\"]).count()"
   ]
  },
  {
   "cell_type": "markdown",
   "id": "662ac481",
   "metadata": {},
   "source": [
    "### Construcción de Scorecard "
   ]
  },
  {
   "cell_type": "code",
   "execution_count": 76,
   "id": "748b93e4",
   "metadata": {},
   "outputs": [],
   "source": [
    "from statsmodels.distributions.empirical_distribution import ECDF\n",
    "from scipy.stats import ks_2samp"
   ]
  },
  {
   "cell_type": "code",
   "execution_count": 77,
   "id": "525594ca",
   "metadata": {},
   "outputs": [],
   "source": [
    "#KS\n",
    "ecdf_malos=ECDF(df.loc[df.Comp_final==1.0,'estimado'])\n",
    "ecdf_buenos=ECDF(df.loc[df.Comp_final==0.0,'estimado'])\n",
    "grid_score=np.sort(df.estimado.unique())\n",
    "prob_acum_buenos=ecdf_buenos(grid_score)\n",
    "prob_acum_malos=ecdf_malos(grid_score)"
   ]
  },
  {
   "cell_type": "code",
   "execution_count": 78,
   "id": "75be8044",
   "metadata": {},
   "outputs": [
    {
     "data": {
      "text/plain": [
       "0.5693847476360064"
      ]
     },
     "execution_count": 78,
     "metadata": {},
     "output_type": "execute_result"
    }
   ],
   "source": [
    "abs_dif=np.abs(prob_acum_buenos-prob_acum_malos)\n",
    "KS=np.max(abs_dif)\n",
    "KS"
   ]
  },
  {
   "cell_type": "code",
   "execution_count": 79,
   "id": "cc4fc959",
   "metadata": {},
   "outputs": [
    {
     "data": {
      "image/png": "[encoded data removed]",
      "text/plain": [
       "<Figure size 576x360 with 1 Axes>"
      ]
     },
     "metadata": {
      "needs_background": "light"
     },
     "output_type": "display_data"
    }
   ],
   "source": [
    "fig, ax=plt.subplots(figsize=(8,5))\n",
    "\n",
    "ax.set_title(f\"Kolmogorov_Smirnov:{KS:}\", fontsize=16)\n",
    "plot(grid_score,prob_acum_buenos, color=\"blue\",linewidth=3)\n",
    "plot(grid_score,prob_acum_malos, color=\"red\",linewidth=3)\n",
    "show()"
   ]
  },
  {
   "cell_type": "code",
   "execution_count": 80,
   "id": "93e0578c",
   "metadata": {},
   "outputs": [
    {
     "data": {
      "text/plain": [
       "KstestResult(statistic=0.006587776015615443, pvalue=0.6575173443863789)"
      ]
     },
     "execution_count": 80,
     "metadata": {},
     "output_type": "execute_result"
    }
   ],
   "source": [
    "ks_2samp(y_pred,y_train)"
   ]
  },
  {
   "cell_type": "code",
   "execution_count": 81,
   "id": "6c257521",
   "metadata": {},
   "outputs": [
    {
     "name": "stdout",
     "output_type": "stream",
     "text": [
      "<class 'pandas.core.frame.DataFrame'>\n",
      "Int64Index: 10540 entries, 11397 to 33289\n",
      "Data columns (total 10 columns):\n",
      " #   Column         Non-Null Count  Dtype  \n",
      "---  ------         --------------  -----  \n",
      " 0   comp_interno1  10540 non-null  float64\n",
      " 1   comp_interno2  10540 non-null  object \n",
      " 2   comp_interno4  10540 non-null  int64  \n",
      " 3   categoria1     10540 non-null  int64  \n",
      " 4   categoria3     10540 non-null  int64  \n",
      " 5   comp_mixto1    10540 non-null  float64\n",
      " 6   comp_externo1  10540 non-null  float64\n",
      " 7   comp_externo2  10540 non-null  float64\n",
      " 8   comp_externo3  10540 non-null  int64  \n",
      " 9   Comp_final     10540 non-null  int64  \n",
      "dtypes: float64(4), int64(5), object(1)\n",
      "memory usage: 905.8+ KB\n"
     ]
    }
   ],
   "source": [
    "test.info()"
   ]
  },
  {
   "cell_type": "code",
   "execution_count": 82,
   "id": "1e36fdcb",
   "metadata": {},
   "outputs": [
    {
     "data": {
      "text/plain": [
       "11397    0\n",
       "34320    0\n",
       "34034    0\n",
       "10470    0\n",
       "32915    0\n",
       "        ..\n",
       "10607    0\n",
       "28824    0\n",
       "3960     0\n",
       "18558    0\n",
       "33289    0\n",
       "Name: Comp_final, Length: 10540, dtype: int64"
      ]
     },
     "execution_count": 82,
     "metadata": {},
     "output_type": "execute_result"
    }
   ],
   "source": [
    "y_te=test.Comp_final\n",
    "y_te"
   ]
  },
  {
   "cell_type": "code",
   "execution_count": 83,
   "id": "0c1bd887",
   "metadata": {},
   "outputs": [
    {
     "data": {
      "text/plain": [
       "OptimalBinning(name='comp_externo3')"
      ]
     },
     "execution_count": 83,
     "metadata": {},
     "output_type": "execute_result"
    }
   ],
   "source": [
    "optb_comp_interno1.fit(test[\"comp_interno1\"].values, y_te)\n",
    "optb_comp_interno2.fit(test[\"comp_interno2\"].values, y_te)\n",
    "optb_comp_interno4.fit(test[\"comp_interno4\"].values, y_te)\n",
    "optb_categoria1.fit(test[\"categoria1\"].values, y_te)\n",
    "optb_categoria3.fit(test[\"categoria3\"].values, y_te)\n",
    "optb_comp_mixto1.fit(test[\"comp_mixto1\"].values, y_te)\n",
    "optb_comp_externo1.fit(test[\"comp_externo1\"].values, y_te)\n",
    "optb_comp_externo2.fit(test[\"comp_externo2\"].values, y_te)\n",
    "optb_comp_externo3.fit(test[\"comp_externo3\"].values, y_te)"
   ]
  },
  {
   "cell_type": "code",
   "execution_count": 84,
   "id": "9a6cea00",
   "metadata": {},
   "outputs": [],
   "source": [
    "#Transformamos las variables a woe para el conjunto de prueba\n",
    "\n",
    "test[\"woe_comp_interno1\"] = optb_comp_interno1.transform(test[\"comp_interno1\"], metric=\"woe\")\n",
    "test[\"woe_comp_interno2\"] = optb_comp_interno2.transform(test[\"comp_interno2\"], metric=\"woe\")\n",
    "test[\"woe_comp_interno4\"] = optb_comp_interno4.transform(test[\"comp_interno4\"], metric=\"woe\")\n",
    "test[\"woe_categoria1\"] = optb_categoria1.transform(test[\"categoria1\"], metric=\"woe\")\n",
    "test[\"woe_categoria3\"] = optb_categoria3.transform(test[\"categoria3\"], metric=\"woe\")\n",
    "test[\"woe_comp_mixto1\"] = optb_comp_mixto1.transform(test[\"comp_mixto1\"], metric=\"woe\")\n",
    "test[\"woe_comp_externo1\"] = optb_comp_externo1.transform(test[\"comp_externo1\"], metric=\"woe\")\n",
    "test[\"woe_comp_externo2\"] = optb_comp_externo2.transform(test[\"comp_externo2\"], metric=\"woe\")\n",
    "test[\"woe_comp_externo3\"] = optb_comp_externo3.transform(test[\"comp_externo3\"], metric=\"woe\")"
   ]
  },
  {
   "cell_type": "code",
   "execution_count": 85,
   "id": "c1939e36",
   "metadata": {},
   "outputs": [
    {
     "data": {
      "text/html": [
       "<div>\n",
       "<style scoped>\n",
       "    .dataframe tbody tr th:only-of-type {\n",
       "        vertical-align: middle;\n",
       "    }\n",
       "\n",
       "    .dataframe tbody tr th {\n",
       "        vertical-align: top;\n",
       "    }\n",
       "\n",
       "    .dataframe thead th {\n",
       "        text-align: right;\n",
       "    }\n",
       "</style>\n",
       "<table border=\"1\" class=\"dataframe\">\n",
       "  <thead>\n",
       "    <tr style=\"text-align: right;\">\n",
       "      <th></th>\n",
       "      <th>woe_comp_interno2</th>\n",
       "      <th>woe_comp_interno4</th>\n",
       "      <th>woe_categoria1</th>\n",
       "      <th>woe_categoria3</th>\n",
       "      <th>woe_comp_mixto1</th>\n",
       "      <th>woe_comp_externo2</th>\n",
       "      <th>woe_comp_externo3</th>\n",
       "    </tr>\n",
       "  </thead>\n",
       "  <tbody>\n",
       "    <tr>\n",
       "      <th>11397</th>\n",
       "      <td>0.038585</td>\n",
       "      <td>-0.827830</td>\n",
       "      <td>-0.469375</td>\n",
       "      <td>-1.312177</td>\n",
       "      <td>-0.581156</td>\n",
       "      <td>0.394583</td>\n",
       "      <td>2.139105</td>\n",
       "    </tr>\n",
       "    <tr>\n",
       "      <th>34320</th>\n",
       "      <td>-0.087784</td>\n",
       "      <td>0.896636</td>\n",
       "      <td>1.636181</td>\n",
       "      <td>0.318280</td>\n",
       "      <td>-0.581156</td>\n",
       "      <td>0.394583</td>\n",
       "      <td>2.139105</td>\n",
       "    </tr>\n",
       "    <tr>\n",
       "      <th>34034</th>\n",
       "      <td>0.038585</td>\n",
       "      <td>2.169171</td>\n",
       "      <td>0.452917</td>\n",
       "      <td>0.318280</td>\n",
       "      <td>0.397723</td>\n",
       "      <td>-0.830857</td>\n",
       "      <td>2.139105</td>\n",
       "    </tr>\n",
       "    <tr>\n",
       "      <th>10470</th>\n",
       "      <td>0.038585</td>\n",
       "      <td>0.398277</td>\n",
       "      <td>-0.469375</td>\n",
       "      <td>0.243880</td>\n",
       "      <td>0.397723</td>\n",
       "      <td>-0.530257</td>\n",
       "      <td>1.605783</td>\n",
       "    </tr>\n",
       "    <tr>\n",
       "      <th>32915</th>\n",
       "      <td>-0.087784</td>\n",
       "      <td>-0.827830</td>\n",
       "      <td>1.636181</td>\n",
       "      <td>2.029886</td>\n",
       "      <td>0.026529</td>\n",
       "      <td>-0.530257</td>\n",
       "      <td>0.176239</td>\n",
       "    </tr>\n",
       "  </tbody>\n",
       "</table>\n",
       "</div>"
      ],
      "text/plain": [
       "       woe_comp_interno2  woe_comp_interno4  woe_categoria1  woe_categoria3  \\\n",
       "11397           0.038585          -0.827830       -0.469375       -1.312177   \n",
       "34320          -0.087784           0.896636        1.636181        0.318280   \n",
       "34034           0.038585           2.169171        0.452917        0.318280   \n",
       "10470           0.038585           0.398277       -0.469375        0.243880   \n",
       "32915          -0.087784          -0.827830        1.636181        2.029886   \n",
       "\n",
       "       woe_comp_mixto1  woe_comp_externo2  woe_comp_externo3  \n",
       "11397        -0.581156           0.394583           2.139105  \n",
       "34320        -0.581156           0.394583           2.139105  \n",
       "34034         0.397723          -0.830857           2.139105  \n",
       "10470         0.397723          -0.530257           1.605783  \n",
       "32915         0.026529          -0.530257           0.176239  "
      ]
     },
     "execution_count": 85,
     "metadata": {},
     "output_type": "execute_result"
    }
   ],
   "source": [
    "#Como las variables woe_interno1 y woe_externo1 tienen mucha correlación con las demás las quitamos\n",
    "f_test=test[[\"Comp_final\",\"woe_comp_interno2\",\"woe_comp_interno4\",\"woe_categoria1\",\"woe_categoria3\",\"woe_comp_mixto1\",\"woe_comp_externo2\",\"woe_comp_externo3\"]]\n",
    "X_woe_test=f_test.iloc[:,1:]\n",
    "y_test=f_test.iloc[:,0]\n",
    "X_woe_test.head()"
   ]
  },
  {
   "cell_type": "code",
   "execution_count": 86,
   "id": "11622458",
   "metadata": {},
   "outputs": [],
   "source": [
    "import sklearn.metrics as metrics"
   ]
  },
  {
   "cell_type": "code",
   "execution_count": 87,
   "id": "02679d5f",
   "metadata": {},
   "outputs": [],
   "source": [
    "def performance_evaluation_report(model, X_test, y_test, show_plot=False, labels=None, show_pr_curve=False):\n",
    "    '''\n",
    "    Function for creating a performance report of a classification model.\n",
    "    \n",
    "    Parameters\n",
    "    ----------\n",
    "    model : scikit-learn estimator\n",
    "        A fitted estimator for classification problems.\n",
    "    X_test : pd.DataFrame\n",
    "        DataFrame with features matching y_test\n",
    "    y_test : array/pd.Series\n",
    "        Target of a classification problem.\n",
    "    show_plot : bool\n",
    "        Flag whether to show the plot\n",
    "    labels : list\n",
    "        List with the class names.\n",
    "    show_pr_curve : bool\n",
    "        Flag whether to also show the PR-curve. For this to take effect, \n",
    "        show_plot must be True.\n",
    "        \n",
    "    Return\n",
    "    ------\n",
    "    stats : pd.Series\n",
    "        A series with the most important evaluation metrics\n",
    "    '''\n",
    "\n",
    "    y_pred = model.predict(X_test)\n",
    "    y_pred_prob = model.predict_proba(X_test)[:, 1]\n",
    "\n",
    "    cm = metrics.confusion_matrix(y_test, y_pred)\n",
    "    tn, fp, fn, tp = cm.ravel()\n",
    "\n",
    "    fpr, tpr, threshold = metrics.roc_curve(y_test, y_pred_prob)\n",
    "    roc_auc = metrics.auc(fpr, tpr)\n",
    "\n",
    "    precision, recall, thresholds = metrics.precision_recall_curve(\n",
    "        y_test, y_pred_prob)\n",
    "    pr_auc = metrics.auc(recall, precision)\n",
    "\n",
    "    if show_plot:\n",
    "\n",
    "        if labels is None:\n",
    "            labels = ['Negative', 'Positive']\n",
    "            \n",
    "            N_SUBPLOTS = 3 if show_pr_curve else 2\n",
    "        PLOT_WIDTH = 15 if show_pr_curve else 12\n",
    "        PLOT_HEIGHT = 5 if show_pr_curve else 6\n",
    "\n",
    "        fig, ax = plt.subplots(\n",
    "            1, N_SUBPLOTS, figsize=(PLOT_WIDTH, PLOT_HEIGHT))\n",
    "        fig.suptitle('Performance Evaluation', fontsize=16)\n",
    "\n",
    "        sns.heatmap(cm, annot=True, fmt=\"d\", linewidths=.5, cmap='BuGn_r', square=True, cbar=False, ax=ax[0],\n",
    "                    annot_kws={\"ha\": 'center', \"va\": 'center'})\n",
    "        ax[0].set(xlabel='Predicted label',\n",
    "                  ylabel='Actual label', title='Confusion Matrix')\n",
    "        ax[0].xaxis.set_ticklabels(labels)\n",
    "        ax[0].yaxis.set_ticklabels(labels)\n",
    "\n",
    "        ax[1].plot(fpr, tpr, 'b-', label=f'ROC-AUC = {roc_auc:.2f}')\n",
    "        ax[1].set(xlabel='False Positive Rate',\n",
    "                  ylabel='True Positive Rate', title='ROC Curve')\n",
    "        ax[1].plot(fp/(fp+tn), tp/(tp+fn), 'ro',\n",
    "                   markersize=8, label='Decision Point')\n",
    "        ax[1].plot([0, 1], [0, 1], 'r--')\n",
    "        ax[1].legend(loc='lower right')\n",
    "\n",
    "        if show_pr_curve:\n",
    "\n",
    "            ax[2].plot(recall, precision, label=f'PR-AUC = {pr_auc:.2f}')\n",
    "            ax[2].set(xlabel='Recall', ylabel='Precision',\n",
    "                      title='Precision-Recall Curve')\n",
    "            ax[2].legend()\n",
    "\n",
    "#         print('#######################')\n",
    "#         print('Evaluation metrics ####')\n",
    "#         print('#######################')\n",
    "#         print(f'Accuracy: {metrics.accuracy_score(y_test, y_pred):.4f}')\n",
    "#         print(f'Precision: {metrics.precision_score(y_test, y_pred):.4f}')\n",
    "#         print(f'Recall (Sensitivity): {metrics.recall_score(y_test, y_pred):.4f}')\n",
    "#         print(f'Specificity: {(tn / (tn + fp)):.4f}')\n",
    "#         print(f'F1-Score: {metrics.f1_score(y_test, y_pred):.4f}')\n",
    "#         print(f\"Cohen's Kappa: {metrics.cohen_kappa_score(y_test, y_pred):.4f}\")\n",
    "\n",
    "    stats = {'accuracy': metrics.accuracy_score(y_test, y_pred),\n",
    "             'precision': metrics.precision_score(y_test, y_pred),\n",
    "             'recall': metrics.recall_score(y_test, y_pred),\n",
    "             'specificity': (tn / (tn + fp)),\n",
    "             'f1_score': metrics.f1_score(y_test, y_pred),\n",
    "             'cohens_kappa': metrics.cohen_kappa_score(y_test, y_pred),\n",
    "             'roc_auc': roc_auc,\n",
    "             'pr_auc': pr_auc}\n",
    "\n",
    "    return stats"
   ]
  },
  {
   "cell_type": "code",
   "execution_count": 88,
   "id": "97c5cddf",
   "metadata": {},
   "outputs": [],
   "source": [
    "model=LogisticRegression()\n",
    "clf=model.fit(X_woe_train,y_train)"
   ]
  },
  {
   "cell_type": "code",
   "execution_count": 89,
   "id": "27e22dce",
   "metadata": {},
   "outputs": [
    {
     "name": "stderr",
     "output_type": "stream",
     "text": [
      "/home/fernandolb/.local/lib/python3.9/site-packages/sklearn/metrics/_classification.py:1308: UndefinedMetricWarning: Precision is ill-defined and being set to 0.0 due to no predicted samples. Use `zero_division` parameter to control this behavior.\n",
      "  _warn_prf(average, modifier, msg_start, len(result))\n"
     ]
    },
    {
     "data": {
      "text/plain": [
       "{'accuracy': 0.9934535104364326,\n",
       " 'precision': 0.0,\n",
       " 'recall': 0.0,\n",
       " 'specificity': 1.0,\n",
       " 'f1_score': 0.0,\n",
       " 'cohens_kappa': 0.0,\n",
       " 'roc_auc': 0.9422954218621755,\n",
       " 'pr_auc': 0.13778506539020366}"
      ]
     },
     "execution_count": 89,
     "metadata": {},
     "output_type": "execute_result"
    },
    {
     "data": {
      "image/png": "[encoded data removed]",
      "text/plain": [
       "<Figure size 864x432 with 2 Axes>"
      ]
     },
     "metadata": {
      "needs_background": "light"
     },
     "output_type": "display_data"
    }
   ],
   "source": [
    "performance_evaluation_report(clf, X_woe_test, y_test,  show_plot=True)"
   ]
  },
  {
   "cell_type": "code",
   "execution_count": 90,
   "id": "9644f9e8",
   "metadata": {},
   "outputs": [
    {
     "data": {
      "text/plain": [
       "LogisticRegression()"
      ]
     },
     "execution_count": 90,
     "metadata": {},
     "output_type": "execute_result"
    }
   ],
   "source": [
    "clf"
   ]
  },
  {
   "cell_type": "code",
   "execution_count": 91,
   "id": "4bc0a437",
   "metadata": {},
   "outputs": [
    {
     "data": {
      "text/html": [
       "<div>\n",
       "<style scoped>\n",
       "    .dataframe tbody tr th:only-of-type {\n",
       "        vertical-align: middle;\n",
       "    }\n",
       "\n",
       "    .dataframe tbody tr th {\n",
       "        vertical-align: top;\n",
       "    }\n",
       "\n",
       "    .dataframe thead th {\n",
       "        text-align: right;\n",
       "    }\n",
       "</style>\n",
       "<table border=\"1\" class=\"dataframe\">\n",
       "  <thead>\n",
       "    <tr style=\"text-align: right;\">\n",
       "      <th></th>\n",
       "      <th>woe_comp_interno2</th>\n",
       "      <th>woe_comp_interno4</th>\n",
       "      <th>woe_categoria1</th>\n",
       "      <th>woe_categoria3</th>\n",
       "      <th>woe_comp_mixto1</th>\n",
       "      <th>woe_comp_externo2</th>\n",
       "      <th>woe_comp_externo3</th>\n",
       "    </tr>\n",
       "  </thead>\n",
       "  <tbody>\n",
       "    <tr>\n",
       "      <th>11397</th>\n",
       "      <td>0.038585</td>\n",
       "      <td>-0.827830</td>\n",
       "      <td>-0.469375</td>\n",
       "      <td>-1.312177</td>\n",
       "      <td>-0.581156</td>\n",
       "      <td>0.394583</td>\n",
       "      <td>2.139105</td>\n",
       "    </tr>\n",
       "    <tr>\n",
       "      <th>34320</th>\n",
       "      <td>-0.087784</td>\n",
       "      <td>0.896636</td>\n",
       "      <td>1.636181</td>\n",
       "      <td>0.318280</td>\n",
       "      <td>-0.581156</td>\n",
       "      <td>0.394583</td>\n",
       "      <td>2.139105</td>\n",
       "    </tr>\n",
       "    <tr>\n",
       "      <th>34034</th>\n",
       "      <td>0.038585</td>\n",
       "      <td>2.169171</td>\n",
       "      <td>0.452917</td>\n",
       "      <td>0.318280</td>\n",
       "      <td>0.397723</td>\n",
       "      <td>-0.830857</td>\n",
       "      <td>2.139105</td>\n",
       "    </tr>\n",
       "    <tr>\n",
       "      <th>10470</th>\n",
       "      <td>0.038585</td>\n",
       "      <td>0.398277</td>\n",
       "      <td>-0.469375</td>\n",
       "      <td>0.243880</td>\n",
       "      <td>0.397723</td>\n",
       "      <td>-0.530257</td>\n",
       "      <td>1.605783</td>\n",
       "    </tr>\n",
       "    <tr>\n",
       "      <th>32915</th>\n",
       "      <td>-0.087784</td>\n",
       "      <td>-0.827830</td>\n",
       "      <td>1.636181</td>\n",
       "      <td>2.029886</td>\n",
       "      <td>0.026529</td>\n",
       "      <td>-0.530257</td>\n",
       "      <td>0.176239</td>\n",
       "    </tr>\n",
       "    <tr>\n",
       "      <th>...</th>\n",
       "      <td>...</td>\n",
       "      <td>...</td>\n",
       "      <td>...</td>\n",
       "      <td>...</td>\n",
       "      <td>...</td>\n",
       "      <td>...</td>\n",
       "      <td>...</td>\n",
       "    </tr>\n",
       "    <tr>\n",
       "      <th>10607</th>\n",
       "      <td>-0.087784</td>\n",
       "      <td>2.169171</td>\n",
       "      <td>-0.469375</td>\n",
       "      <td>2.029886</td>\n",
       "      <td>0.397723</td>\n",
       "      <td>-0.830857</td>\n",
       "      <td>-1.297904</td>\n",
       "    </tr>\n",
       "    <tr>\n",
       "      <th>28824</th>\n",
       "      <td>0.038585</td>\n",
       "      <td>-1.156755</td>\n",
       "      <td>-0.469375</td>\n",
       "      <td>2.029886</td>\n",
       "      <td>1.642151</td>\n",
       "      <td>1.616746</td>\n",
       "      <td>2.139105</td>\n",
       "    </tr>\n",
       "    <tr>\n",
       "      <th>3960</th>\n",
       "      <td>0.038585</td>\n",
       "      <td>2.169171</td>\n",
       "      <td>-0.469375</td>\n",
       "      <td>2.029886</td>\n",
       "      <td>-0.581156</td>\n",
       "      <td>0.394583</td>\n",
       "      <td>0.176239</td>\n",
       "    </tr>\n",
       "    <tr>\n",
       "      <th>18558</th>\n",
       "      <td>0.038585</td>\n",
       "      <td>0.896636</td>\n",
       "      <td>0.452917</td>\n",
       "      <td>0.318280</td>\n",
       "      <td>0.397723</td>\n",
       "      <td>0.394583</td>\n",
       "      <td>1.605783</td>\n",
       "    </tr>\n",
       "    <tr>\n",
       "      <th>33289</th>\n",
       "      <td>0.038585</td>\n",
       "      <td>-1.156755</td>\n",
       "      <td>1.636181</td>\n",
       "      <td>0.318280</td>\n",
       "      <td>0.397723</td>\n",
       "      <td>0.394583</td>\n",
       "      <td>0.176239</td>\n",
       "    </tr>\n",
       "  </tbody>\n",
       "</table>\n",
       "<p>10540 rows × 7 columns</p>\n",
       "</div>"
      ],
      "text/plain": [
       "       woe_comp_interno2  woe_comp_interno4  woe_categoria1  woe_categoria3  \\\n",
       "11397           0.038585          -0.827830       -0.469375       -1.312177   \n",
       "34320          -0.087784           0.896636        1.636181        0.318280   \n",
       "34034           0.038585           2.169171        0.452917        0.318280   \n",
       "10470           0.038585           0.398277       -0.469375        0.243880   \n",
       "32915          -0.087784          -0.827830        1.636181        2.029886   \n",
       "...                  ...                ...             ...             ...   \n",
       "10607          -0.087784           2.169171       -0.469375        2.029886   \n",
       "28824           0.038585          -1.156755       -0.469375        2.029886   \n",
       "3960            0.038585           2.169171       -0.469375        2.029886   \n",
       "18558           0.038585           0.896636        0.452917        0.318280   \n",
       "33289           0.038585          -1.156755        1.636181        0.318280   \n",
       "\n",
       "       woe_comp_mixto1  woe_comp_externo2  woe_comp_externo3  \n",
       "11397        -0.581156           0.394583           2.139105  \n",
       "34320        -0.581156           0.394583           2.139105  \n",
       "34034         0.397723          -0.830857           2.139105  \n",
       "10470         0.397723          -0.530257           1.605783  \n",
       "32915         0.026529          -0.530257           0.176239  \n",
       "...                ...                ...                ...  \n",
       "10607         0.397723          -0.830857          -1.297904  \n",
       "28824         1.642151           1.616746           2.139105  \n",
       "3960         -0.581156           0.394583           0.176239  \n",
       "18558         0.397723           0.394583           1.605783  \n",
       "33289         0.397723           0.394583           0.176239  \n",
       "\n",
       "[10540 rows x 7 columns]"
      ]
     },
     "execution_count": 91,
     "metadata": {},
     "output_type": "execute_result"
    }
   ],
   "source": [
    "X_woe_test"
   ]
  },
  {
   "cell_type": "code",
   "execution_count": 92,
   "id": "dc74dc14",
   "metadata": {},
   "outputs": [
    {
     "data": {
      "text/html": [
       "<div>\n",
       "<style scoped>\n",
       "    .dataframe tbody tr th:only-of-type {\n",
       "        vertical-align: middle;\n",
       "    }\n",
       "\n",
       "    .dataframe tbody tr th {\n",
       "        vertical-align: top;\n",
       "    }\n",
       "\n",
       "    .dataframe thead th {\n",
       "        text-align: right;\n",
       "    }\n",
       "</style>\n",
       "<table border=\"1\" class=\"dataframe\">\n",
       "  <thead>\n",
       "    <tr style=\"text-align: right;\">\n",
       "      <th></th>\n",
       "      <th>woe_comp_interno2</th>\n",
       "      <th>woe_comp_interno4</th>\n",
       "      <th>woe_categoria1</th>\n",
       "      <th>woe_categoria3</th>\n",
       "      <th>woe_comp_mixto1</th>\n",
       "      <th>woe_comp_externo2</th>\n",
       "      <th>woe_comp_externo3</th>\n",
       "    </tr>\n",
       "  </thead>\n",
       "  <tbody>\n",
       "    <tr>\n",
       "      <th>29340</th>\n",
       "      <td>0.0</td>\n",
       "      <td>-0.158978</td>\n",
       "      <td>0.400932</td>\n",
       "      <td>0.303590</td>\n",
       "      <td>0.942495</td>\n",
       "      <td>-0.454743</td>\n",
       "      <td>3.127588</td>\n",
       "    </tr>\n",
       "    <tr>\n",
       "      <th>11727</th>\n",
       "      <td>0.0</td>\n",
       "      <td>-0.240314</td>\n",
       "      <td>0.400932</td>\n",
       "      <td>0.015992</td>\n",
       "      <td>0.115254</td>\n",
       "      <td>0.629959</td>\n",
       "      <td>1.427671</td>\n",
       "    </tr>\n",
       "    <tr>\n",
       "      <th>1578</th>\n",
       "      <td>0.0</td>\n",
       "      <td>0.266258</td>\n",
       "      <td>0.400932</td>\n",
       "      <td>0.484940</td>\n",
       "      <td>0.942495</td>\n",
       "      <td>1.972944</td>\n",
       "      <td>0.146353</td>\n",
       "    </tr>\n",
       "    <tr>\n",
       "      <th>11317</th>\n",
       "      <td>0.0</td>\n",
       "      <td>0.095305</td>\n",
       "      <td>-0.363751</td>\n",
       "      <td>0.484940</td>\n",
       "      <td>0.942495</td>\n",
       "      <td>0.629959</td>\n",
       "      <td>-1.099130</td>\n",
       "    </tr>\n",
       "    <tr>\n",
       "      <th>29490</th>\n",
       "      <td>0.0</td>\n",
       "      <td>0.266258</td>\n",
       "      <td>-0.363751</td>\n",
       "      <td>0.484940</td>\n",
       "      <td>-0.470105</td>\n",
       "      <td>0.001718</td>\n",
       "      <td>1.427671</td>\n",
       "    </tr>\n",
       "  </tbody>\n",
       "</table>\n",
       "</div>"
      ],
      "text/plain": [
       "       woe_comp_interno2  woe_comp_interno4  woe_categoria1  woe_categoria3  \\\n",
       "29340                0.0          -0.158978        0.400932        0.303590   \n",
       "11727                0.0          -0.240314        0.400932        0.015992   \n",
       "1578                 0.0           0.266258        0.400932        0.484940   \n",
       "11317                0.0           0.095305       -0.363751        0.484940   \n",
       "29490                0.0           0.266258       -0.363751        0.484940   \n",
       "\n",
       "       woe_comp_mixto1  woe_comp_externo2  woe_comp_externo3  \n",
       "29340         0.942495          -0.454743           3.127588  \n",
       "11727         0.115254           0.629959           1.427671  \n",
       "1578          0.942495           1.972944           0.146353  \n",
       "11317         0.942495           0.629959          -1.099130  \n",
       "29490        -0.470105           0.001718           1.427671  "
      ]
     },
     "execution_count": 92,
     "metadata": {},
     "output_type": "execute_result"
    }
   ],
   "source": [
    "X_woe_train.head()"
   ]
  },
  {
   "cell_type": "code",
   "execution_count": 93,
   "id": "1ca4005e",
   "metadata": {},
   "outputs": [
    {
     "data": {
      "text/plain": [
       "array([0, 0, 0, ..., 0, 0, 0])"
      ]
     },
     "execution_count": 93,
     "metadata": {},
     "output_type": "execute_result"
    }
   ],
   "source": [
    "y_pr = clf.predict(X_woe_test)\n",
    "y_pr"
   ]
  },
  {
   "cell_type": "code",
   "execution_count": 94,
   "id": "f0ac579d",
   "metadata": {},
   "outputs": [],
   "source": [
    "from sklearn.model_selection import (GridSearchCV, cross_val_score,\n",
    "                                                 RandomizedSearchCV,\n",
    "                                                 cross_validate,\n",
    "                                                 StratifiedKFold)"
   ]
  },
  {
   "cell_type": "code",
   "execution_count": 95,
   "id": "b351aaf9",
   "metadata": {},
   "outputs": [
    {
     "data": {
      "text/plain": [
       "KstestResult(statistic=4.128645204803938e-05, pvalue=1.0)"
      ]
     },
     "execution_count": 95,
     "metadata": {},
     "output_type": "execute_result"
    }
   ],
   "source": [
    "from scipy.stats import ks_2samp\n",
    "Ks=ks_2samp(y_train,y_test)\n",
    "\n",
    "Ks"
   ]
  },
  {
   "cell_type": "code",
   "execution_count": 96,
   "id": "4b9458c8",
   "metadata": {},
   "outputs": [
    {
     "data": {
      "text/plain": [
       "0.884590843724351"
      ]
     },
     "execution_count": 96,
     "metadata": {},
     "output_type": "execute_result"
    }
   ],
   "source": [
    "# Utilizamos el ROC obtenido anteriormente, en este caso 0.9422954218621755\n",
    "roc = 0.9422954218621755\n",
    "gini=2*roc-1\n",
    "gini"
   ]
  },
  {
   "cell_type": "code",
   "execution_count": 97,
   "id": "656e90e7",
   "metadata": {},
   "outputs": [
    {
     "name": "stderr",
     "output_type": "stream",
     "text": [
      "/home/fernandolb/.local/lib/python3.9/site-packages/sklearn/metrics/_classification.py:1308: UndefinedMetricWarning: Precision is ill-defined and being set to 0.0 due to no predicted samples. Use `zero_division` parameter to control this behavior.\n",
      "  _warn_prf(average, modifier, msg_start, len(result))\n",
      "/home/fernandolb/.local/lib/python3.9/site-packages/sklearn/metrics/_classification.py:1308: UndefinedMetricWarning: Precision is ill-defined and being set to 0.0 due to no predicted samples. Use `zero_division` parameter to control this behavior.\n",
      "  _warn_prf(average, modifier, msg_start, len(result))\n",
      "/home/fernandolb/.local/lib/python3.9/site-packages/sklearn/metrics/_classification.py:1308: UndefinedMetricWarning: Precision is ill-defined and being set to 0.0 due to no predicted samples. Use `zero_division` parameter to control this behavior.\n",
      "  _warn_prf(average, modifier, msg_start, len(result))\n",
      "/home/fernandolb/.local/lib/python3.9/site-packages/sklearn/metrics/_classification.py:1308: UndefinedMetricWarning: Precision is ill-defined and being set to 0.0 due to no predicted samples. Use `zero_division` parameter to control this behavior.\n",
      "  _warn_prf(average, modifier, msg_start, len(result))\n",
      "/home/fernandolb/.local/lib/python3.9/site-packages/sklearn/metrics/_classification.py:1308: UndefinedMetricWarning: Precision is ill-defined and being set to 0.0 due to no predicted samples. Use `zero_division` parameter to control this behavior.\n",
      "  _warn_prf(average, modifier, msg_start, len(result))\n"
     ]
    },
    {
     "data": {
      "text/plain": [
       "{'fit_time': array([0.1559546 , 0.15356922, 0.117275  , 0.06662774, 0.07425237]),\n",
       " 'score_time': array([0.03338599, 0.03324342, 0.02437782, 0.02276945, 0.03046942]),\n",
       " 'test_accuracy': array([0.99329132, 0.99349329, 0.99349329, 0.99349329, 0.99328996]),\n",
       " 'test_precision': array([0., 0., 0., 0., 0.]),\n",
       " 'test_recall': array([0., 0., 0., 0., 0.]),\n",
       " 'test_roc_auc': array([0.8917997 , 0.84365086, 0.82221526, 0.84284819, 0.86316491])}"
      ]
     },
     "execution_count": 97,
     "metadata": {},
     "output_type": "execute_result"
    }
   ],
   "source": [
    "k_fold = StratifiedKFold(5, shuffle=True, random_state=42)\n",
    "cross_validate(clf, X_woe_train, y_train, cv=k_fold,\n",
    "                           scoring=['accuracy', 'precision', 'recall','roc_auc'])"
   ]
  },
  {
   "cell_type": "code",
   "execution_count": 98,
   "id": "778be396",
   "metadata": {},
   "outputs": [
    {
     "name": "stderr",
     "output_type": "stream",
     "text": [
      "/home/fernandolb/.local/lib/python3.9/site-packages/sklearn/metrics/_classification.py:1308: UndefinedMetricWarning: Precision is ill-defined and being set to 0.0 due to no predicted samples. Use `zero_division` parameter to control this behavior.\n",
      "  _warn_prf(average, modifier, msg_start, len(result))\n"
     ]
    },
    {
     "data": {
      "image/png": "[encoded data removed]",
      "text/plain": [
       "<Figure size 864x432 with 2 Axes>"
      ]
     },
     "metadata": {
      "needs_background": "light"
     },
     "output_type": "display_data"
    }
   ],
   "source": [
    "desemp_reglog = performance_evaluation_report(clf, X_woe_test, \n",
    "                                             y_test, show_plot=True)"
   ]
  },
  {
   "cell_type": "code",
   "execution_count": 99,
   "id": "4a9c55ee",
   "metadata": {},
   "outputs": [
    {
     "data": {
      "text/plain": [
       "array([0.99329132, 0.99349329, 0.99349329, 0.99349329, 0.99328996])"
      ]
     },
     "execution_count": 99,
     "metadata": {},
     "output_type": "execute_result"
    }
   ],
   "source": [
    "cross_val_score(clf, X_woe_train, y_train, cv=k_fold)"
   ]
  },
  {
   "cell_type": "code",
   "execution_count": null,
   "id": "27945528",
   "metadata": {},
   "outputs": [],
   "source": []
  }
 ],
 "metadata": {
  "kernelspec": {
   "display_name": "Python 3 (ipykernel)",
   "language": "python",
   "name": "python3"
  },
  "language_info": {
   "codemirror_mode": {
    "name": "ipython",
    "version": 3
   },
   "file_extension": ".py",
   "mimetype": "text/x-python",
   "name": "python",
   "nbconvert_exporter": "python",
   "pygments_lexer": "ipython3",
   "version": "3.9.7"
  }
 },
 "nbformat": 4,
 "nbformat_minor": 5
}
